{
 "cells": [
  {
   "cell_type": "code",
   "execution_count": null,
   "id": "02fe6dac",
   "metadata": {},
   "outputs": [],
   "source": [
    "!nvidia-smi"
   ]
  },
  {
   "cell_type": "code",
   "execution_count": null,
   "id": "e3389575",
   "metadata": {},
   "outputs": [],
   "source": [
    "import sys\n",
    "\n",
    "from os import path\n",
    "import torch\n",
    "from fast_baseline import DIRECT, ActMAD, NORM, DUA, MeanTeacher, WHW, FasterRCNNForObjectDetection, SwinRCNNForObjectDetection\n",
    "from ttadapters.models.rcnn import FasterRCNNForObjectDetection, SwinRCNNForObjectDetection\n",
    "from ttadapters.datasets import SHIFTDataset"
   ]
  },
  {
   "cell_type": "code",
   "execution_count": null,
   "id": "58e4b8d5",
   "metadata": {},
   "outputs": [],
   "source": [
    "# Set CUDA Device Number\n",
    "DEVICE_NUM = 6\n",
    "\n",
    "from os import environ\n",
    "environ[\"CUDA_VISIBLE_DEVICES\"] = str(DEVICE_NUM)\n",
    "environ[\"CUDA_VISIBLE_DEVICES\"]"
   ]
  },
  {
   "cell_type": "code",
   "execution_count": null,
   "id": "36f409f8",
   "metadata": {},
   "outputs": [],
   "source": [
    "device = torch.device(\"cuda\") if torch.cuda.is_available() else torch.device(\"cpu\")\n",
    "print(f\"INFO: Using device - {device}\")"
   ]
  },
  {
   "cell_type": "code",
   "execution_count": null,
   "id": "c7249000",
   "metadata": {},
   "outputs": [],
   "source": [
    "import os\n",
    "os.chdir(\"/workspace/ptta\") # os.chdir(\"/home/ubuntu/test-time-adapters\")"
   ]
  },
  {
   "cell_type": "code",
   "execution_count": null,
   "id": "6a1934e2",
   "metadata": {},
   "outputs": [],
   "source": [
    "DATA_ROOT = path.join(\".\", \"data\")"
   ]
  },
  {
   "cell_type": "markdown",
   "id": "4fe8c2d7",
   "metadata": {},
   "source": [
    "## Model Load"
   ]
  },
  {
   "cell_type": "code",
   "execution_count": null,
   "id": "c587b157",
   "metadata": {},
   "outputs": [],
   "source": [
    "USE_SWIN_T_BACKBONE = False"
   ]
  },
  {
   "cell_type": "code",
   "execution_count": null,
   "id": "2cd3f869",
   "metadata": {},
   "outputs": [],
   "source": [
    "if USE_SWIN_T_BACKBONE:\n",
    "    model = SwinRCNNForObjectDetection(dataset=SHIFTDataset)\n",
    "else:\n",
    "    model = FasterRCNNForObjectDetection(dataset=SHIFTDataset)\n",
    "\n",
    "model.load_from(model.Weights.NATUREYOO, weight_key=\"model\")\n",
    "model.to(device)"
   ]
  },
  {
   "cell_type": "markdown",
   "id": "88b746d9",
   "metadata": {},
   "source": [
    "## Baseline"
   ]
  },
  {
   "cell_type": "code",
   "execution_count": null,
   "id": "865045e9",
   "metadata": {},
   "outputs": [],
   "source": []
  },
  {
   "cell_type": "code",
   "execution_count": null,
   "id": "6d18633b",
   "metadata": {},
   "outputs": [],
   "source": []
  },
  {
   "cell_type": "code",
   "execution_count": null,
   "id": "9e605137",
   "metadata": {},
   "outputs": [],
   "source": [
    "# Direct_method\n",
    "direct = DIRECT.load(\n",
    "    model, \n",
    "    data_root=DATA_ROOT, \n",
    "    batch_size=4\n",
    ")\n",
    "\n",
    "# ActMAD\n",
    "actmad = ActMAD.load(\n",
    "    model=model,\n",
    "    data_root=DATA_ROOT,\n",
    "    device=device,\n",
    "    batch_size=4,\n",
    "    learning_rate=0.001,\n",
    "    clean_bn_extract_batch=8\n",
    ")\n",
    "\n",
    "# NORM\n",
    "norm = NORM.load(\n",
    "    model=model,\n",
    "    data_root=DATA_ROOT,\n",
    "    device=device,\n",
    "    batch_size=4,\n",
    "    source_sum=128  # NORM 특유의 하이퍼파라미터\n",
    ")\n",
    "\n",
    "# DUA\n",
    "dua = DUA.load(\n",
    "    model=model,\n",
    "    data_root=DATA_ROOT,\n",
    "    device=device,\n",
    "    batch_size=4,\n",
    "    decay_factor=0.94,\n",
    "    mom_pre=0.01,\n",
    "    min_momentum_constant=0.0001\n",
    ")\n",
    "\n",
    "# Mean-Teacher\n",
    "mean_teacher = MeanTeacher.load(\n",
    "    model=model,\n",
    "    data_root=DATA_ROOT,\n",
    "    conf_threshold=0.3,          # 낮은 threshold로 더 많은 pseudo labels\n",
    "    augment_strength_n=1,        # 적은 연산\n",
    "    augment_strength_m=5,        # 약한 강도\n",
    "    cutout_size=8,              # 작은 cutout\n",
    "    learning_rate=0.001,       # 학습률\n",
    "    ema_alpha=0.99              # EMA 계수 (높을수록 안정적)\n",
    ")\n",
    "\n",
    "# WHW\n",
    "whw = WHW.load(\n",
    "    model=model,\n",
    "    data_root=DATA_ROOT,  # 데이터 경로\n",
    "    batch_size=4,\n",
    "    learning_rate=0.0001,\n",
    "    weight_decay=1e-4,\n",
    "    momentum=0.9,\n",
    "    adaptation_where=\"adapter\",      # adapter만 학습\n",
    "    adapter_bottleneck_ratio=32,     # bottleneck 비율 (r=32)\n",
    "\n",
    "    fg_align='KL',                   # Foreground alignment (KL divergence)\n",
    "    gl_align='KL',                   # Global alignment (KL divergence)\n",
    "    alpha_fg=1.0,                    # Foreground loss weight\n",
    "    alpha_gl=1.0,                    # Global loss weight\n",
    "    ema_gamma=128,                   # EMA 계수\n",
    "    source_feat_stats='path/to/source_stats.pt'  # Source statistics 경로\n",
    ")"
   ]
  },
  {
   "cell_type": "code",
   "execution_count": null,
   "id": "58c5d121",
   "metadata": {},
   "outputs": [],
   "source": [
    "# Direct_method\n",
    "direct_results = direct.evaluate_all_tasks()\n",
    "\n",
    "# ActMAD\n",
    "actmad_results = actmad.evaluate_all_tasks()\n",
    "\n",
    "# NORM\n",
    "norm_results = norm.evaluate_all_tasks()\n",
    "\n",
    "# DUA\n",
    "dua_results = dua.evaluate_all_tasks()\n",
    "\n",
    "# Mean-Teacher\n",
    "mean_teacher_results = mean_teacher.evaluate_all_tasks()\n",
    "\n",
    "# WHW\n",
    "whw = whw.evaluate_all_tasks()"
   ]
  },
  {
   "cell_type": "code",
   "execution_count": null,
   "id": "c03745c0",
   "metadata": {},
   "outputs": [],
   "source": [
    "results = actmad_results # norm_results, dua_results, mean_teacher_results\n",
    "\n",
    "print(\"=== mAP@0.50:0.95 Summary ===\")\n",
    "for task, metrics in results.items():\n",
    "    print(f\"{task:10s}: {metrics['mAP@0.50:0.95']:.3f}\")"
   ]
  }
 ],
 "metadata": {
  "kernelspec": {
   "display_name": "PTTA (P100 Compatible)",
   "language": "python",
   "name": "ptta-p100"
  },
  "language_info": {
   "codemirror_mode": {
    "name": "ipython",
    "version": 3
   },
   "file_extension": ".py",
   "mimetype": "text/x-python",
   "name": "python",
   "nbconvert_exporter": "python",
   "pygments_lexer": "ipython3",
   "version": "3.12.7"
  }
 },
 "nbformat": 4,
 "nbformat_minor": 5
}
