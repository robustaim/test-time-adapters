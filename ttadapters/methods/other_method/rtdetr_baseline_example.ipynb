{
 "cells": [
  {
   "cell_type": "code",
   "execution_count": null,
   "metadata": {},
   "outputs": [],
   "source": [
    "!nvidia-smi"
   ]
  },
  {
   "cell_type": "code",
   "execution_count": null,
   "metadata": {},
   "outputs": [],
   "source": [
    "from os import path\n",
    "import torch\n",
    "from pathlib import Path\n",
    "from rtdetr_baseline import DirectMethod, ActMAD, NORM, DUA, MeanTeacher\n",
    "from transformers import (\n",
    "    RTDetrForObjectDetection,\n",
    "    RTDetrImageProcessorFast,\n",
    "    RTDetrConfig,\n",
    ")\n",
    "from safetensors.torch import load_file"
   ]
  },
  {
   "cell_type": "code",
   "execution_count": null,
   "metadata": {},
   "outputs": [],
   "source": [
    "# Set CUDA Device Number\n",
    "DEVICE_NUM = 2  # Change to your desired GPU number\n",
    "\n",
    "from os import environ\n",
    "environ[\"CUDA_VISIBLE_DEVICES\"] = str(DEVICE_NUM)\n",
    "environ[\"CUDA_VISIBLE_DEVICES\"]"
   ]
  },
  {
   "cell_type": "code",
   "execution_count": null,
   "metadata": {},
   "outputs": [],
   "source": [
    "device = torch.device(\"cuda\") if torch.cuda.is_available() else torch.device(\"cpu\")\n",
    "print(f\"INFO: Using device - {device}\")"
   ]
  },
  {
   "cell_type": "code",
   "execution_count": null,
   "metadata": {},
   "outputs": [],
   "source": [
    "import os\n",
    "os.chdir(\"/workspace/ptta\")  # Change to your working directory"
   ]
  },
  {
   "cell_type": "code",
   "execution_count": null,
   "metadata": {},
   "outputs": [],
   "source": [
    "DATA_ROOT = path.join(\".\", \"data\")\n",
    "print(f\"Data root: {DATA_ROOT}\")"
   ]
  },
  {
   "cell_type": "markdown",
   "metadata": {},
   "source": [
    "## RT-DETR Model Load"
   ]
  },
  {
   "cell_type": "code",
   "execution_count": null,
   "metadata": {},
   "outputs": [],
   "source": [
    "# RT-DETR Configuration\n",
    "REFERENCE_MODEL_ID = \"PekingU/rtdetr_r50vd\"\n",
    "IMAGE_SIZE = 800\n",
    "CLASS_NUM = 6\n",
    "MODEL_STATES_PATH = \"/workspace/ptta/RT-DETR_R50vd_SHIFT_CLEAR.safetensors\"  # Change to your model path\n",
    "\n",
    "# Load RT-DETR model\n",
    "reference_config = RTDetrConfig.from_pretrained(REFERENCE_MODEL_ID, torch_dtype=torch.float32, return_dict=True)\n",
    "reference_config.num_labels = CLASS_NUM\n",
    "reference_config.image_size = IMAGE_SIZE\n",
    "\n",
    "model = RTDetrForObjectDetection(config=reference_config)\n",
    "\n",
    "# Load pretrained weights if available\n",
    "if os.path.exists(MODEL_STATES_PATH):\n",
    "    model_states = load_file(MODEL_STATES_PATH)\n",
    "    model.load_state_dict(model_states, strict=False)\n",
    "    print(f\"Loaded model weights from {MODEL_STATES_PATH}\")\n",
    "else:\n",
    "    print(f\"Model weights not found at {MODEL_STATES_PATH}, using default weights\")\n",
    "\n",
    "model.to(device)\n",
    "print(f\"Model loaded and moved to {device}\")"
   ]
  },
  {
   "cell_type": "markdown",
   "metadata": {},
   "source": [
    "## RT-DETR Baseline Methods\n",
    "\n",
    "Here we demonstrate how to use different TTA (Test-Time Adaptation) methods with RT-DETR:"
   ]
  },
  {
   "cell_type": "markdown",
   "metadata": {},
   "source": [
    "### 1. Direct Method (No Adaptation)"
   ]
  },
  {
   "cell_type": "code",
   "execution_count": null,
   "metadata": {},
   "outputs": [],
   "source": [
    "# Direct Method - No adaptation, just evaluation\n",
    "direct_method = DirectMethod.load(\n",
    "    model=model,\n",
    "    data_root=DATA_ROOT,\n",
    "    device=device,\n",
    "    batch_size=4,\n",
    "    image_size=IMAGE_SIZE,\n",
    "    reference_model_id=REFERENCE_MODEL_ID,\n",
    "    class_num=CLASS_NUM\n",
    ")\n",
    "\n",
    "print(\"Direct Method initialized successfully!\")"
   ]
  },
  {
   "cell_type": "markdown",
   "metadata": {},
   "source": [
    "### 2. ActMAD (Activation Mean Alignment and Discrepancy)"
   ]
  },
  {
   "cell_type": "code",
   "execution_count": null,
   "metadata": {},
   "outputs": [],
   "source": [
    "# ActMAD - Activation-based adaptation\n",
    "actmad = ActMAD.load(\n",
    "    model=model,\n",
    "    data_root=DATA_ROOT,\n",
    "    device=device,\n",
    "    batch_size=4,\n",
    "    learning_rate=0.001,\n",
    "    clean_bn_extract_batch=8,\n",
    "    image_size=IMAGE_SIZE,\n",
    "    reference_model_id=REFERENCE_MODEL_ID,\n",
    "    class_num=CLASS_NUM\n",
    ")\n",
    "\n",
    "print(\"ActMAD initialized successfully!\")"
   ]
  },
  {
   "cell_type": "markdown",
   "metadata": {},
   "source": [
    "### 3. NORM (Normalization Adaptation)"
   ]
  },
  {
   "cell_type": "code",
   "execution_count": null,
   "metadata": {},
   "outputs": [],
   "source": [
    "# NORM - Normalization layer adaptation\n",
    "norm = NORM.load(\n",
    "    model=model,\n",
    "    data_root=DATA_ROOT,\n",
    "    device=device,\n",
    "    batch_size=4,\n",
    "    source_sum=128,  # NORM-specific hyperparameter\n",
    "    image_size=IMAGE_SIZE,\n",
    "    reference_model_id=REFERENCE_MODEL_ID,\n",
    "    class_num=CLASS_NUM\n",
    ")\n",
    "\n",
    "print(\"NORM initialized successfully!\")"
   ]
  },
  {
   "cell_type": "markdown",
   "metadata": {},
   "source": [
    "### 4. DUA (Dynamic Update Adaptation)"
   ]
  },
  {
   "cell_type": "code",
   "execution_count": null,
   "metadata": {},
   "outputs": [],
   "source": [
    "# DUA - Dynamic momentum-based adaptation\n",
    "dua = DUA.load(\n",
    "    model=model,\n",
    "    data_root=DATA_ROOT,\n",
    "    device=device,\n",
    "    batch_size=4,\n",
    "    decay_factor=0.94,\n",
    "    mom_pre=0.01,\n",
    "    min_momentum_constant=0.0001,\n",
    "    image_size=IMAGE_SIZE,\n",
    "    reference_model_id=REFERENCE_MODEL_ID,\n",
    "    class_num=CLASS_NUM\n",
    ")\n",
    "\n",
    "print(\"DUA initialized successfully!\")"
   ]
  },
  {
   "cell_type": "markdown",
   "metadata": {},
   "source": [
    "### 5. Mean-Teacher"
   ]
  },
  {
   "cell_type": "code",
   "execution_count": null,
   "metadata": {},
   "outputs": [],
   "source": [
    "# Mean-Teacher - Student-teacher framework with pseudo-labeling\n",
    "mean_teacher = MeanTeacher.load(\n",
    "    model=model,\n",
    "    data_root=DATA_ROOT,\n",
    "    device=device,\n",
    "    batch_size=4,\n",
    "    learning_rate=0.0001,\n",
    "    ema_alpha=0.99,          # Teacher model EMA coefficient\n",
    "    conf_threshold=0.5,      # Pseudo-label confidence threshold\n",
    "    image_size=IMAGE_SIZE,\n",
    "    reference_model_id=REFERENCE_MODEL_ID,\n",
    "    class_num=CLASS_NUM\n",
    ")\n",
    "\n",
    "print(\"Mean-Teacher initialized successfully!\")"
   ]
  },
  {
   "cell_type": "markdown",
   "metadata": {},
   "source": [
    "## Evaluation on All Tasks\n",
    "\n",
    "Now let's evaluate all methods on all corruption tasks:"
   ]
  },
  {
   "cell_type": "markdown",
   "metadata": {},
   "source": [
    "### Direct Method Evaluation"
   ]
  },
  {
   "cell_type": "code",
   "execution_count": null,
   "metadata": {},
   "outputs": [],
   "source": [
    "print(\"Running Direct Method evaluation...\")\n",
    "direct_results = direct_method.evaluate_all_tasks()\n",
    "print(\"Direct Method evaluation completed!\")"
   ]
  },
  {
   "cell_type": "markdown",
   "metadata": {},
   "source": [
    "### ActMAD Evaluation"
   ]
  },
  {
   "cell_type": "code",
   "execution_count": null,
   "metadata": {},
   "outputs": [],
   "source": [
    "print(\"Running ActMAD evaluation...\")\n",
    "actmad_results = actmad.evaluate_all_tasks()\n",
    "print(\"ActMAD evaluation completed!\")"
   ]
  },
  {
   "cell_type": "markdown",
   "metadata": {},
   "source": [
    "### NORM Evaluation"
   ]
  },
  {
   "cell_type": "code",
   "execution_count": null,
   "metadata": {},
   "outputs": [],
   "source": [
    "print(\"Running NORM evaluation...\")\n",
    "norm_results = norm.evaluate_all_tasks()\n",
    "print(\"NORM evaluation completed!\")"
   ]
  },
  {
   "cell_type": "markdown",
   "metadata": {},
   "source": [
    "### DUA Evaluation"
   ]
  },
  {
   "cell_type": "code",
   "execution_count": null,
   "metadata": {},
   "outputs": [],
   "source": [
    "print(\"Running DUA evaluation...\")\n",
    "dua_results = dua.evaluate_all_tasks()\n",
    "print(\"DUA evaluation completed!\")"
   ]
  },
  {
   "cell_type": "markdown",
   "metadata": {},
   "source": [
    "### Mean-Teacher Evaluation"
   ]
  },
  {
   "cell_type": "code",
   "execution_count": null,
   "metadata": {},
   "outputs": [],
   "source": [
    "print(\"Running Mean-Teacher evaluation...\")\n",
    "mean_teacher_results = mean_teacher.evaluate_all_tasks()\n",
    "print(\"Mean-Teacher evaluation completed!\")"
   ]
  }
 ],
 "metadata": {
  "kernelspec": {
   "display_name": "PTTA (P100 Compatible)",
   "language": "python",
   "name": "ptta-p100"
  },
  "language_info": {
   "codemirror_mode": {
    "name": "ipython",
    "version": 3
   },
   "file_extension": ".py",
   "mimetype": "text/x-python",
   "name": "python",
   "nbconvert_exporter": "python",
   "pygments_lexer": "ipython3",
   "version": "3.12.7"
  }
 },
 "nbformat": 4,
 "nbformat_minor": 4
}
