{
 "cells": [
  {
   "cell_type": "code",
   "execution_count": null,
   "id": "fd71fbb2",
   "metadata": {},
   "outputs": [],
   "source": [
    "def test(adapter_output, model_output):\n",
    "    \"\"\"\n",
    "    adapter_output : One bounding box is produced for each object, yielding a tensor of shape [B, object_num, 4]. bbox : cxcywh\n",
    "    model_output : One bounding box is produced for each object, yielding a tensor of shape [B, object_num, 4]. bbox : cxcywh\n",
    "    \n",
    "    Return :\n",
    "        mAp \n",
    "    \"\"\"\n",
    "    "
   ]
  }
 ],
 "metadata": {
  "language_info": {
   "name": "python"
  }
 },
 "nbformat": 4,
 "nbformat_minor": 5
}
