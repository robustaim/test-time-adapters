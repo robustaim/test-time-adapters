{
 "cells": [
  {
   "cell_type": "markdown",
   "metadata": {},
   "source": [
    "# YOLO Pretraining with IMAGENET-VID"
   ]
  },
  {
   "cell_type": "markdown",
   "metadata": {},
   "source": [
    "## Imports"
   ]
  },
  {
   "cell_type": "code",
   "execution_count": 2,
   "metadata": {},
   "outputs": [
    {
     "name": "stdout",
     "output_type": "stream",
     "text": [
      "Requirement already satisfied: huggingface_hub in /shared_hdd/brew/anaconda3/lib/python3.12/site-packages (0.29.0)\n",
      "Requirement already satisfied: ultralytics in /shared_hdd/brew/anaconda3/lib/python3.12/site-packages (8.3.77)\n",
      "Requirement already satisfied: torchinfo in /shared_hdd/brew/anaconda3/lib/python3.12/site-packages (1.8.0)\n",
      "Collecting pygwalker\n",
      "  Downloading pygwalker-0.4.9.13-py3-none-any.whl.metadata (20 kB)\n",
      "Requirement already satisfied: comet_ml in /shared_hdd/brew/anaconda3/lib/python3.12/site-packages (3.49.1)\n",
      "Requirement already satisfied: clearml in /shared_hdd/brew/anaconda3/lib/python3.12/site-packages (1.17.1)\n",
      "Requirement already satisfied: filelock in /shared_hdd/brew/anaconda3/lib/python3.12/site-packages (from huggingface_hub) (3.13.1)\n",
      "Requirement already satisfied: fsspec>=2023.5.0 in /shared_hdd/brew/anaconda3/lib/python3.12/site-packages (from huggingface_hub) (2024.6.1)\n",
      "Requirement already satisfied: packaging>=20.9 in /shared_hdd/brew/anaconda3/lib/python3.12/site-packages (from huggingface_hub) (24.1)\n",
      "Requirement already satisfied: pyyaml>=5.1 in /shared_hdd/brew/anaconda3/lib/python3.12/site-packages (from huggingface_hub) (6.0.1)\n",
      "Requirement already satisfied: requests in /shared_hdd/brew/anaconda3/lib/python3.12/site-packages (from huggingface_hub) (2.32.3)\n",
      "Requirement already satisfied: tqdm>=4.42.1 in /shared_hdd/brew/anaconda3/lib/python3.12/site-packages (from huggingface_hub) (4.66.5)\n",
      "Requirement already satisfied: typing-extensions>=3.7.4.3 in /shared_hdd/brew/anaconda3/lib/python3.12/site-packages (from huggingface_hub) (4.11.0)\n",
      "Requirement already satisfied: numpy<=2.1.1,>=1.23.0 in /shared_hdd/brew/anaconda3/lib/python3.12/site-packages (from ultralytics) (1.26.4)\n",
      "Requirement already satisfied: matplotlib>=3.3.0 in /shared_hdd/brew/anaconda3/lib/python3.12/site-packages (from ultralytics) (3.9.2)\n",
      "Requirement already satisfied: opencv-python>=4.6.0 in /shared_hdd/brew/anaconda3/lib/python3.12/site-packages (from ultralytics) (4.11.0.86)\n",
      "Requirement already satisfied: pillow>=7.1.2 in /shared_hdd/brew/anaconda3/lib/python3.12/site-packages (from ultralytics) (10.3.0)\n",
      "Requirement already satisfied: scipy>=1.4.1 in /shared_hdd/brew/anaconda3/lib/python3.12/site-packages (from ultralytics) (1.12.0)\n",
      "Requirement already satisfied: torch>=1.8.0 in /shared_hdd/brew/anaconda3/lib/python3.12/site-packages (from ultralytics) (2.6.0+cu118)\n",
      "Requirement already satisfied: torchvision>=0.9.0 in /shared_hdd/brew/anaconda3/lib/python3.12/site-packages (from ultralytics) (0.21.0+cu118)\n",
      "Requirement already satisfied: psutil in /shared_hdd/brew/anaconda3/lib/python3.12/site-packages (from ultralytics) (5.9.0)\n",
      "Requirement already satisfied: py-cpuinfo in /shared_hdd/brew/anaconda3/lib/python3.12/site-packages (from ultralytics) (9.0.0)\n",
      "Requirement already satisfied: pandas>=1.1.4 in /shared_hdd/brew/anaconda3/lib/python3.12/site-packages (from ultralytics) (2.2.2)\n",
      "Requirement already satisfied: seaborn>=0.11.0 in /shared_hdd/brew/anaconda3/lib/python3.12/site-packages (from ultralytics) (0.13.2)\n",
      "Requirement already satisfied: ultralytics-thop>=2.0.0 in /shared_hdd/brew/anaconda3/lib/python3.12/site-packages (from ultralytics) (2.0.14)\n",
      "Collecting anywidget (from pygwalker)\n",
      "  Downloading anywidget-0.9.13-py3-none-any.whl.metadata (7.2 kB)\n",
      "Requirement already satisfied: appdirs in /shared_hdd/brew/anaconda3/lib/python3.12/site-packages (from pygwalker) (1.4.4)\n",
      "Requirement already satisfied: arrow in /shared_hdd/brew/anaconda3/lib/python3.12/site-packages (from pygwalker) (1.2.3)\n",
      "Collecting astor (from pygwalker)\n",
      "  Downloading astor-0.8.1-py2.py3-none-any.whl.metadata (4.2 kB)\n",
      "Requirement already satisfied: cachetools in /shared_hdd/brew/anaconda3/lib/python3.12/site-packages (from pygwalker) (5.3.3)\n",
      "Collecting duckdb<2.0.0,>=0.10.1 (from pygwalker)\n",
      "  Downloading duckdb-1.2.0-cp312-cp312-manylinux_2_17_x86_64.manylinux2014_x86_64.whl.metadata (966 bytes)\n",
      "Collecting gw-dsl-parser==0.1.49.1 (from pygwalker)\n",
      "  Downloading gw_dsl_parser-0.1.49.1-py3-none-any.whl.metadata (1.2 kB)\n",
      "Collecting ipylab<=1.0.0 (from pygwalker)\n",
      "  Downloading ipylab-1.0.0-py3-none-any.whl.metadata (6.7 kB)\n",
      "Requirement already satisfied: ipython in /shared_hdd/brew/anaconda3/lib/python3.12/site-packages (from pygwalker) (8.27.0)\n",
      "Requirement already satisfied: ipywidgets in /shared_hdd/brew/anaconda3/lib/python3.12/site-packages (from pygwalker) (7.8.1)\n",
      "Requirement already satisfied: jinja2 in /shared_hdd/brew/anaconda3/lib/python3.12/site-packages (from pygwalker) (3.1.4)\n",
      "Collecting kanaries-track==0.0.5 (from pygwalker)\n",
      "  Downloading kanaries_track-0.0.5-py3-none-any.whl.metadata (913 bytes)\n",
      "Requirement already satisfied: pyarrow in /shared_hdd/brew/anaconda3/lib/python3.12/site-packages (from pygwalker) (15.0.2)\n",
      "Requirement already satisfied: pydantic in /shared_hdd/brew/anaconda3/lib/python3.12/site-packages (from pygwalker) (2.8.2)\n",
      "Requirement already satisfied: pytz in /shared_hdd/brew/anaconda3/lib/python3.12/site-packages (from pygwalker) (2024.1)\n",
      "Collecting quickjs (from pygwalker)\n",
      "  Downloading quickjs-1.19.4-cp312-cp312-manylinux_2_17_x86_64.manylinux2014_x86_64.whl.metadata (590 bytes)\n",
      "Collecting segment-analytics-python==2.2.3 (from pygwalker)\n",
      "  Downloading segment_analytics_python-2.2.3-py2.py3-none-any.whl.metadata (1.6 kB)\n",
      "Requirement already satisfied: sqlalchemy in /shared_hdd/brew/anaconda3/lib/python3.12/site-packages (from pygwalker) (2.0.34)\n",
      "Collecting sqlglot>=23.15.8 (from pygwalker)\n",
      "  Downloading sqlglot-26.6.0-py3-none-any.whl.metadata (19 kB)\n",
      "Requirement already satisfied: traitlets in /shared_hdd/brew/anaconda3/lib/python3.12/site-packages (from pygwalker) (5.14.3)\n",
      "Collecting wasmtime>=12.0.0 (from gw-dsl-parser==0.1.49.1->pygwalker)\n",
      "  Downloading wasmtime-29.0.0-py3-none-manylinux1_x86_64.whl.metadata (7.7 kB)\n",
      "Collecting backoff>=2.2.1 (from kanaries-track==0.0.5->pygwalker)\n",
      "  Downloading backoff-2.2.1-py3-none-any.whl.metadata (14 kB)\n",
      "Collecting dateutils>=0.6.12 (from kanaries-track==0.0.5->pygwalker)\n",
      "  Downloading dateutils-0.6.12-py2.py3-none-any.whl.metadata (1.3 kB)\n",
      "Collecting monotonic~=1.5 (from segment-analytics-python==2.2.3->pygwalker)\n",
      "  Downloading monotonic-1.6-py2.py3-none-any.whl.metadata (1.5 kB)\n",
      "Requirement already satisfied: python-dateutil~=2.2 in /shared_hdd/brew/anaconda3/lib/python3.12/site-packages (from segment-analytics-python==2.2.3->pygwalker) (2.9.0.post0)\n",
      "Requirement already satisfied: dulwich!=0.20.33,>=0.20.6 in /shared_hdd/brew/anaconda3/lib/python3.12/site-packages (from comet_ml) (0.22.7)\n",
      "Requirement already satisfied: everett<3.2.0,>=1.0.1 in /shared_hdd/brew/anaconda3/lib/python3.12/site-packages (from everett[ini]<3.2.0,>=1.0.1->comet_ml) (3.1.0)\n",
      "Requirement already satisfied: jsonschema!=3.1.0,>=2.6.0 in /shared_hdd/brew/anaconda3/lib/python3.12/site-packages (from comet_ml) (4.23.0)\n",
      "Requirement already satisfied: python-box<7.0.0 in /shared_hdd/brew/anaconda3/lib/python3.12/site-packages (from comet_ml) (6.1.0)\n",
      "Requirement already satisfied: requests-toolbelt>=0.8.0 in /shared_hdd/brew/anaconda3/lib/python3.12/site-packages (from comet_ml) (1.0.0)\n",
      "Requirement already satisfied: rich>=13.3.2 in /shared_hdd/brew/anaconda3/lib/python3.12/site-packages (from comet_ml) (13.7.1)\n",
      "Requirement already satisfied: semantic-version>=2.8.0 in /shared_hdd/brew/anaconda3/lib/python3.12/site-packages (from comet_ml) (2.10.0)\n",
      "Requirement already satisfied: sentry-sdk>=1.1.0 in /shared_hdd/brew/anaconda3/lib/python3.12/site-packages (from comet_ml) (2.22.0)\n",
      "Requirement already satisfied: setuptools in /shared_hdd/brew/anaconda3/lib/python3.12/site-packages (from comet_ml) (75.1.0)\n",
      "Requirement already satisfied: simplejson in /shared_hdd/brew/anaconda3/lib/python3.12/site-packages (from comet_ml) (3.20.1)\n",
      "Requirement already satisfied: urllib3>=1.21.1 in /shared_hdd/brew/anaconda3/lib/python3.12/site-packages (from comet_ml) (2.2.3)\n",
      "Requirement already satisfied: wrapt>=1.11.2 in /shared_hdd/brew/anaconda3/lib/python3.12/site-packages (from comet_ml) (1.14.1)\n",
      "Requirement already satisfied: wurlitzer>=1.0.2 in /shared_hdd/brew/anaconda3/lib/python3.12/site-packages (from comet_ml) (3.0.2)\n",
      "Requirement already satisfied: attrs>=18.0 in /shared_hdd/brew/anaconda3/lib/python3.12/site-packages (from clearml) (23.1.0)\n",
      "Requirement already satisfied: furl>=2.0.0 in /shared_hdd/brew/anaconda3/lib/python3.12/site-packages (from clearml) (2.1.3)\n",
      "Requirement already satisfied: pathlib2>=2.3.0 in /shared_hdd/brew/anaconda3/lib/python3.12/site-packages (from clearml) (2.3.7.post1)\n",
      "Requirement already satisfied: pyparsing>=2.0.3 in /shared_hdd/brew/anaconda3/lib/python3.12/site-packages (from clearml) (3.1.2)\n",
      "Requirement already satisfied: six>=1.16.0 in /shared_hdd/brew/anaconda3/lib/python3.12/site-packages (from clearml) (1.16.0)\n",
      "Requirement already satisfied: pyjwt<2.10.0,>=2.4.0 in /shared_hdd/brew/anaconda3/lib/python3.12/site-packages (from clearml) (2.8.0)\n",
      "Requirement already satisfied: referencing<0.40 in /shared_hdd/brew/anaconda3/lib/python3.12/site-packages (from clearml) (0.30.2)\n",
      "Requirement already satisfied: configobj in /shared_hdd/brew/anaconda3/lib/python3.12/site-packages (from everett[ini]<3.2.0,>=1.0.1->comet_ml) (5.0.9)\n",
      "Requirement already satisfied: orderedmultidict>=1.0.1 in /shared_hdd/brew/anaconda3/lib/python3.12/site-packages (from furl>=2.0.0->clearml) (1.0.1)\n",
      "Requirement already satisfied: comm>=0.1.3 in /shared_hdd/brew/anaconda3/lib/python3.12/site-packages (from ipywidgets->pygwalker) (0.2.1)\n",
      "Requirement already satisfied: ipython-genutils~=0.2.0 in /shared_hdd/brew/anaconda3/lib/python3.12/site-packages (from ipywidgets->pygwalker) (0.2.0)\n",
      "Requirement already satisfied: widgetsnbextension~=3.6.6 in /shared_hdd/brew/anaconda3/lib/python3.12/site-packages (from ipywidgets->pygwalker) (3.6.6)\n",
      "Requirement already satisfied: jupyterlab-widgets<3,>=1.0.0 in /shared_hdd/brew/anaconda3/lib/python3.12/site-packages (from ipywidgets->pygwalker) (1.0.0)\n",
      "Requirement already satisfied: decorator in /shared_hdd/brew/anaconda3/lib/python3.12/site-packages (from ipython->pygwalker) (5.1.1)\n",
      "Requirement already satisfied: jedi>=0.16 in /shared_hdd/brew/anaconda3/lib/python3.12/site-packages (from ipython->pygwalker) (0.19.1)\n",
      "Requirement already satisfied: matplotlib-inline in /shared_hdd/brew/anaconda3/lib/python3.12/site-packages (from ipython->pygwalker) (0.1.6)\n",
      "Requirement already satisfied: prompt-toolkit<3.1.0,>=3.0.41 in /shared_hdd/brew/anaconda3/lib/python3.12/site-packages (from ipython->pygwalker) (3.0.43)\n",
      "Requirement already satisfied: pygments>=2.4.0 in /shared_hdd/brew/anaconda3/lib/python3.12/site-packages (from ipython->pygwalker) (2.15.1)\n",
      "Requirement already satisfied: stack-data in /shared_hdd/brew/anaconda3/lib/python3.12/site-packages (from ipython->pygwalker) (0.2.0)\n",
      "Requirement already satisfied: pexpect>4.3 in /shared_hdd/brew/anaconda3/lib/python3.12/site-packages (from ipython->pygwalker) (4.8.0)\n",
      "Requirement already satisfied: jsonschema-specifications>=2023.03.6 in /shared_hdd/brew/anaconda3/lib/python3.12/site-packages (from jsonschema!=3.1.0,>=2.6.0->comet_ml) (2023.7.1)\n",
      "Requirement already satisfied: rpds-py>=0.7.1 in /shared_hdd/brew/anaconda3/lib/python3.12/site-packages (from jsonschema!=3.1.0,>=2.6.0->comet_ml) (0.10.6)\n",
      "Requirement already satisfied: contourpy>=1.0.1 in /shared_hdd/brew/anaconda3/lib/python3.12/site-packages (from matplotlib>=3.3.0->ultralytics) (1.2.0)\n",
      "Requirement already satisfied: cycler>=0.10 in /shared_hdd/brew/anaconda3/lib/python3.12/site-packages (from matplotlib>=3.3.0->ultralytics) (0.11.0)\n",
      "Requirement already satisfied: fonttools>=4.22.0 in /shared_hdd/brew/anaconda3/lib/python3.12/site-packages (from matplotlib>=3.3.0->ultralytics) (4.51.0)\n",
      "Requirement already satisfied: kiwisolver>=1.3.1 in /shared_hdd/brew/anaconda3/lib/python3.12/site-packages (from matplotlib>=3.3.0->ultralytics) (1.4.4)\n",
      "Requirement already satisfied: tzdata>=2022.7 in /shared_hdd/brew/anaconda3/lib/python3.12/site-packages (from pandas>=1.1.4->ultralytics) (2023.3)\n",
      "Requirement already satisfied: charset-normalizer<4,>=2 in /shared_hdd/brew/anaconda3/lib/python3.12/site-packages (from requests->huggingface_hub) (3.3.2)\n",
      "Requirement already satisfied: idna<4,>=2.5 in /shared_hdd/brew/anaconda3/lib/python3.12/site-packages (from requests->huggingface_hub) (3.7)\n",
      "Requirement already satisfied: certifi>=2017.4.17 in /shared_hdd/brew/anaconda3/lib/python3.12/site-packages (from requests->huggingface_hub) (2025.1.31)\n",
      "Requirement already satisfied: markdown-it-py>=2.2.0 in /shared_hdd/brew/anaconda3/lib/python3.12/site-packages (from rich>=13.3.2->comet_ml) (2.2.0)\n",
      "Requirement already satisfied: networkx in /shared_hdd/brew/anaconda3/lib/python3.12/site-packages (from torch>=1.8.0->ultralytics) (3.3)\n",
      "Requirement already satisfied: nvidia-cuda-nvrtc-cu11==11.8.89 in /shared_hdd/brew/anaconda3/lib/python3.12/site-packages (from torch>=1.8.0->ultralytics) (11.8.89)\n",
      "Requirement already satisfied: nvidia-cuda-runtime-cu11==11.8.89 in /shared_hdd/brew/anaconda3/lib/python3.12/site-packages (from torch>=1.8.0->ultralytics) (11.8.89)\n",
      "Requirement already satisfied: nvidia-cuda-cupti-cu11==11.8.87 in /shared_hdd/brew/anaconda3/lib/python3.12/site-packages (from torch>=1.8.0->ultralytics) (11.8.87)\n",
      "Requirement already satisfied: nvidia-cudnn-cu11==9.1.0.70 in /shared_hdd/brew/anaconda3/lib/python3.12/site-packages (from torch>=1.8.0->ultralytics) (9.1.0.70)\n",
      "Requirement already satisfied: nvidia-cublas-cu11==11.11.3.6 in /shared_hdd/brew/anaconda3/lib/python3.12/site-packages (from torch>=1.8.0->ultralytics) (11.11.3.6)\n",
      "Requirement already satisfied: nvidia-cufft-cu11==10.9.0.58 in /shared_hdd/brew/anaconda3/lib/python3.12/site-packages (from torch>=1.8.0->ultralytics) (10.9.0.58)\n",
      "Requirement already satisfied: nvidia-curand-cu11==10.3.0.86 in /shared_hdd/brew/anaconda3/lib/python3.12/site-packages (from torch>=1.8.0->ultralytics) (10.3.0.86)\n",
      "Requirement already satisfied: nvidia-cusolver-cu11==11.4.1.48 in /shared_hdd/brew/anaconda3/lib/python3.12/site-packages (from torch>=1.8.0->ultralytics) (11.4.1.48)\n",
      "Requirement already satisfied: nvidia-cusparse-cu11==11.7.5.86 in /shared_hdd/brew/anaconda3/lib/python3.12/site-packages (from torch>=1.8.0->ultralytics) (11.7.5.86)\n",
      "Requirement already satisfied: nvidia-nccl-cu11==2.21.5 in /shared_hdd/brew/anaconda3/lib/python3.12/site-packages (from torch>=1.8.0->ultralytics) (2.21.5)\n",
      "Requirement already satisfied: nvidia-nvtx-cu11==11.8.86 in /shared_hdd/brew/anaconda3/lib/python3.12/site-packages (from torch>=1.8.0->ultralytics) (11.8.86)\n",
      "Requirement already satisfied: triton==3.2.0 in /shared_hdd/brew/anaconda3/lib/python3.12/site-packages (from torch>=1.8.0->ultralytics) (3.2.0)\n",
      "Requirement already satisfied: sympy==1.13.1 in /shared_hdd/brew/anaconda3/lib/python3.12/site-packages (from torch>=1.8.0->ultralytics) (1.13.1)\n",
      "Requirement already satisfied: mpmath<1.4,>=1.1.0 in /shared_hdd/brew/anaconda3/lib/python3.12/site-packages (from sympy==1.13.1->torch>=1.8.0->ultralytics) (1.3.0)\n",
      "Collecting psygnal>=0.8.1 (from anywidget->pygwalker)\n",
      "  Downloading psygnal-0.12.0-cp312-cp312-manylinux_2_17_x86_64.manylinux2014_x86_64.whl.metadata (7.7 kB)\n",
      "Requirement already satisfied: MarkupSafe>=2.0 in /shared_hdd/brew/anaconda3/lib/python3.12/site-packages (from jinja2->pygwalker) (2.1.3)\n",
      "Requirement already satisfied: annotated-types>=0.4.0 in /shared_hdd/brew/anaconda3/lib/python3.12/site-packages (from pydantic->pygwalker) (0.6.0)\n",
      "Requirement already satisfied: pydantic-core==2.20.1 in /shared_hdd/brew/anaconda3/lib/python3.12/site-packages (from pydantic->pygwalker) (2.20.1)\n",
      "Requirement already satisfied: greenlet!=0.4.17 in /shared_hdd/brew/anaconda3/lib/python3.12/site-packages (from sqlalchemy->pygwalker) (3.0.1)\n",
      "Requirement already satisfied: parso<0.9.0,>=0.8.3 in /shared_hdd/brew/anaconda3/lib/python3.12/site-packages (from jedi>=0.16->ipython->pygwalker) (0.8.3)\n",
      "Requirement already satisfied: mdurl~=0.1 in /shared_hdd/brew/anaconda3/lib/python3.12/site-packages (from markdown-it-py>=2.2.0->rich>=13.3.2->comet_ml) (0.1.0)\n",
      "Requirement already satisfied: ptyprocess>=0.5 in /shared_hdd/brew/anaconda3/lib/python3.12/site-packages (from pexpect>4.3->ipython->pygwalker) (0.7.0)\n",
      "Requirement already satisfied: wcwidth in /shared_hdd/brew/anaconda3/lib/python3.12/site-packages (from prompt-toolkit<3.1.0,>=3.0.41->ipython->pygwalker) (0.2.5)\n",
      "Collecting importlib_resources>=5.10 (from wasmtime>=12.0.0->gw-dsl-parser==0.1.49.1->pygwalker)\n",
      "  Downloading importlib_resources-6.5.2-py3-none-any.whl.metadata (3.9 kB)\n",
      "Requirement already satisfied: notebook>=4.4.1 in /shared_hdd/brew/anaconda3/lib/python3.12/site-packages (from widgetsnbextension~=3.6.6->ipywidgets->pygwalker) (7.2.2)\n",
      "Requirement already satisfied: executing in /shared_hdd/brew/anaconda3/lib/python3.12/site-packages (from stack-data->ipython->pygwalker) (0.8.3)\n",
      "Requirement already satisfied: asttokens in /shared_hdd/brew/anaconda3/lib/python3.12/site-packages (from stack-data->ipython->pygwalker) (2.0.5)\n",
      "Requirement already satisfied: pure-eval in /shared_hdd/brew/anaconda3/lib/python3.12/site-packages (from stack-data->ipython->pygwalker) (0.2.2)\n",
      "Requirement already satisfied: jupyter-server<3,>=2.4.0 in /shared_hdd/brew/anaconda3/lib/python3.12/site-packages (from notebook>=4.4.1->widgetsnbextension~=3.6.6->ipywidgets->pygwalker) (2.14.1)\n",
      "Requirement already satisfied: jupyterlab-server<3,>=2.27.1 in /shared_hdd/brew/anaconda3/lib/python3.12/site-packages (from notebook>=4.4.1->widgetsnbextension~=3.6.6->ipywidgets->pygwalker) (2.27.3)\n",
      "Requirement already satisfied: jupyterlab<4.3,>=4.2.0 in /shared_hdd/brew/anaconda3/lib/python3.12/site-packages (from notebook>=4.4.1->widgetsnbextension~=3.6.6->ipywidgets->pygwalker) (4.2.5)\n",
      "Requirement already satisfied: notebook-shim<0.3,>=0.2 in /shared_hdd/brew/anaconda3/lib/python3.12/site-packages (from notebook>=4.4.1->widgetsnbextension~=3.6.6->ipywidgets->pygwalker) (0.2.3)\n",
      "Requirement already satisfied: tornado>=6.2.0 in /shared_hdd/brew/anaconda3/lib/python3.12/site-packages (from notebook>=4.4.1->widgetsnbextension~=3.6.6->ipywidgets->pygwalker) (6.4.1)\n",
      "Requirement already satisfied: anyio>=3.1.0 in /shared_hdd/brew/anaconda3/lib/python3.12/site-packages (from jupyter-server<3,>=2.4.0->notebook>=4.4.1->widgetsnbextension~=3.6.6->ipywidgets->pygwalker) (4.2.0)\n",
      "Requirement already satisfied: argon2-cffi>=21.1 in /shared_hdd/brew/anaconda3/lib/python3.12/site-packages (from jupyter-server<3,>=2.4.0->notebook>=4.4.1->widgetsnbextension~=3.6.6->ipywidgets->pygwalker) (21.3.0)\n",
      "Requirement already satisfied: jupyter-client>=7.4.4 in /shared_hdd/brew/anaconda3/lib/python3.12/site-packages (from jupyter-server<3,>=2.4.0->notebook>=4.4.1->widgetsnbextension~=3.6.6->ipywidgets->pygwalker) (8.6.0)\n",
      "Requirement already satisfied: jupyter-core!=5.0.*,>=4.12 in /shared_hdd/brew/anaconda3/lib/python3.12/site-packages (from jupyter-server<3,>=2.4.0->notebook>=4.4.1->widgetsnbextension~=3.6.6->ipywidgets->pygwalker) (5.7.2)\n",
      "Requirement already satisfied: jupyter-events>=0.9.0 in /shared_hdd/brew/anaconda3/lib/python3.12/site-packages (from jupyter-server<3,>=2.4.0->notebook>=4.4.1->widgetsnbextension~=3.6.6->ipywidgets->pygwalker) (0.10.0)\n",
      "Requirement already satisfied: jupyter-server-terminals>=0.4.4 in /shared_hdd/brew/anaconda3/lib/python3.12/site-packages (from jupyter-server<3,>=2.4.0->notebook>=4.4.1->widgetsnbextension~=3.6.6->ipywidgets->pygwalker) (0.4.4)\n",
      "Requirement already satisfied: nbconvert>=6.4.4 in /shared_hdd/brew/anaconda3/lib/python3.12/site-packages (from jupyter-server<3,>=2.4.0->notebook>=4.4.1->widgetsnbextension~=3.6.6->ipywidgets->pygwalker) (7.16.4)\n",
      "Requirement already satisfied: nbformat>=5.3.0 in /shared_hdd/brew/anaconda3/lib/python3.12/site-packages (from jupyter-server<3,>=2.4.0->notebook>=4.4.1->widgetsnbextension~=3.6.6->ipywidgets->pygwalker) (5.10.4)\n",
      "Requirement already satisfied: overrides>=5.0 in /shared_hdd/brew/anaconda3/lib/python3.12/site-packages (from jupyter-server<3,>=2.4.0->notebook>=4.4.1->widgetsnbextension~=3.6.6->ipywidgets->pygwalker) (7.4.0)\n",
      "Requirement already satisfied: prometheus-client>=0.9 in /shared_hdd/brew/anaconda3/lib/python3.12/site-packages (from jupyter-server<3,>=2.4.0->notebook>=4.4.1->widgetsnbextension~=3.6.6->ipywidgets->pygwalker) (0.14.1)\n",
      "Requirement already satisfied: pyzmq>=24 in /shared_hdd/brew/anaconda3/lib/python3.12/site-packages (from jupyter-server<3,>=2.4.0->notebook>=4.4.1->widgetsnbextension~=3.6.6->ipywidgets->pygwalker) (25.1.2)\n",
      "Requirement already satisfied: send2trash>=1.8.2 in /shared_hdd/brew/anaconda3/lib/python3.12/site-packages (from jupyter-server<3,>=2.4.0->notebook>=4.4.1->widgetsnbextension~=3.6.6->ipywidgets->pygwalker) (1.8.2)\n",
      "Requirement already satisfied: terminado>=0.8.3 in /shared_hdd/brew/anaconda3/lib/python3.12/site-packages (from jupyter-server<3,>=2.4.0->notebook>=4.4.1->widgetsnbextension~=3.6.6->ipywidgets->pygwalker) (0.17.1)\n",
      "Requirement already satisfied: websocket-client>=1.7 in /shared_hdd/brew/anaconda3/lib/python3.12/site-packages (from jupyter-server<3,>=2.4.0->notebook>=4.4.1->widgetsnbextension~=3.6.6->ipywidgets->pygwalker) (1.8.0)\n",
      "Requirement already satisfied: async-lru>=1.0.0 in /shared_hdd/brew/anaconda3/lib/python3.12/site-packages (from jupyterlab<4.3,>=4.2.0->notebook>=4.4.1->widgetsnbextension~=3.6.6->ipywidgets->pygwalker) (2.0.4)\n",
      "Requirement already satisfied: httpx>=0.25.0 in /shared_hdd/brew/anaconda3/lib/python3.12/site-packages (from jupyterlab<4.3,>=4.2.0->notebook>=4.4.1->widgetsnbextension~=3.6.6->ipywidgets->pygwalker) (0.27.0)\n",
      "Requirement already satisfied: ipykernel>=6.5.0 in /shared_hdd/brew/anaconda3/lib/python3.12/site-packages (from jupyterlab<4.3,>=4.2.0->notebook>=4.4.1->widgetsnbextension~=3.6.6->ipywidgets->pygwalker) (6.28.0)\n",
      "Requirement already satisfied: jupyter-lsp>=2.0.0 in /shared_hdd/brew/anaconda3/lib/python3.12/site-packages (from jupyterlab<4.3,>=4.2.0->notebook>=4.4.1->widgetsnbextension~=3.6.6->ipywidgets->pygwalker) (2.2.0)\n",
      "Requirement already satisfied: babel>=2.10 in /shared_hdd/brew/anaconda3/lib/python3.12/site-packages (from jupyterlab-server<3,>=2.27.1->notebook>=4.4.1->widgetsnbextension~=3.6.6->ipywidgets->pygwalker) (2.11.0)\n",
      "Requirement already satisfied: json5>=0.9.0 in /shared_hdd/brew/anaconda3/lib/python3.12/site-packages (from jupyterlab-server<3,>=2.27.1->notebook>=4.4.1->widgetsnbextension~=3.6.6->ipywidgets->pygwalker) (0.9.6)\n",
      "Requirement already satisfied: sniffio>=1.1 in /shared_hdd/brew/anaconda3/lib/python3.12/site-packages (from anyio>=3.1.0->jupyter-server<3,>=2.4.0->notebook>=4.4.1->widgetsnbextension~=3.6.6->ipywidgets->pygwalker) (1.3.0)\n",
      "Requirement already satisfied: argon2-cffi-bindings in /shared_hdd/brew/anaconda3/lib/python3.12/site-packages (from argon2-cffi>=21.1->jupyter-server<3,>=2.4.0->notebook>=4.4.1->widgetsnbextension~=3.6.6->ipywidgets->pygwalker) (21.2.0)\n",
      "Requirement already satisfied: httpcore==1.* in /shared_hdd/brew/anaconda3/lib/python3.12/site-packages (from httpx>=0.25.0->jupyterlab<4.3,>=4.2.0->notebook>=4.4.1->widgetsnbextension~=3.6.6->ipywidgets->pygwalker) (1.0.2)\n",
      "Requirement already satisfied: h11<0.15,>=0.13 in /shared_hdd/brew/anaconda3/lib/python3.12/site-packages (from httpcore==1.*->httpx>=0.25.0->jupyterlab<4.3,>=4.2.0->notebook>=4.4.1->widgetsnbextension~=3.6.6->ipywidgets->pygwalker) (0.14.0)\n",
      "Requirement already satisfied: debugpy>=1.6.5 in /shared_hdd/brew/anaconda3/lib/python3.12/site-packages (from ipykernel>=6.5.0->jupyterlab<4.3,>=4.2.0->notebook>=4.4.1->widgetsnbextension~=3.6.6->ipywidgets->pygwalker) (1.6.7)\n",
      "Requirement already satisfied: nest-asyncio in /shared_hdd/brew/anaconda3/lib/python3.12/site-packages (from ipykernel>=6.5.0->jupyterlab<4.3,>=4.2.0->notebook>=4.4.1->widgetsnbextension~=3.6.6->ipywidgets->pygwalker) (1.6.0)\n",
      "Requirement already satisfied: platformdirs>=2.5 in /shared_hdd/brew/anaconda3/lib/python3.12/site-packages (from jupyter-core!=5.0.*,>=4.12->jupyter-server<3,>=2.4.0->notebook>=4.4.1->widgetsnbextension~=3.6.6->ipywidgets->pygwalker) (3.10.0)\n",
      "Requirement already satisfied: python-json-logger>=2.0.4 in /shared_hdd/brew/anaconda3/lib/python3.12/site-packages (from jupyter-events>=0.9.0->jupyter-server<3,>=2.4.0->notebook>=4.4.1->widgetsnbextension~=3.6.6->ipywidgets->pygwalker) (2.0.7)\n",
      "Requirement already satisfied: rfc3339-validator in /shared_hdd/brew/anaconda3/lib/python3.12/site-packages (from jupyter-events>=0.9.0->jupyter-server<3,>=2.4.0->notebook>=4.4.1->widgetsnbextension~=3.6.6->ipywidgets->pygwalker) (0.1.4)\n",
      "Requirement already satisfied: rfc3986-validator>=0.1.1 in /shared_hdd/brew/anaconda3/lib/python3.12/site-packages (from jupyter-events>=0.9.0->jupyter-server<3,>=2.4.0->notebook>=4.4.1->widgetsnbextension~=3.6.6->ipywidgets->pygwalker) (0.1.1)\n",
      "Requirement already satisfied: beautifulsoup4 in /shared_hdd/brew/anaconda3/lib/python3.12/site-packages (from nbconvert>=6.4.4->jupyter-server<3,>=2.4.0->notebook>=4.4.1->widgetsnbextension~=3.6.6->ipywidgets->pygwalker) (4.12.3)\n",
      "Requirement already satisfied: bleach!=5.0.0 in /shared_hdd/brew/anaconda3/lib/python3.12/site-packages (from nbconvert>=6.4.4->jupyter-server<3,>=2.4.0->notebook>=4.4.1->widgetsnbextension~=3.6.6->ipywidgets->pygwalker) (4.1.0)\n",
      "Requirement already satisfied: defusedxml in /shared_hdd/brew/anaconda3/lib/python3.12/site-packages (from nbconvert>=6.4.4->jupyter-server<3,>=2.4.0->notebook>=4.4.1->widgetsnbextension~=3.6.6->ipywidgets->pygwalker) (0.7.1)\n",
      "Requirement already satisfied: jupyterlab-pygments in /shared_hdd/brew/anaconda3/lib/python3.12/site-packages (from nbconvert>=6.4.4->jupyter-server<3,>=2.4.0->notebook>=4.4.1->widgetsnbextension~=3.6.6->ipywidgets->pygwalker) (0.1.2)\n",
      "Requirement already satisfied: mistune<4,>=2.0.3 in /shared_hdd/brew/anaconda3/lib/python3.12/site-packages (from nbconvert>=6.4.4->jupyter-server<3,>=2.4.0->notebook>=4.4.1->widgetsnbextension~=3.6.6->ipywidgets->pygwalker) (2.0.4)\n",
      "Requirement already satisfied: nbclient>=0.5.0 in /shared_hdd/brew/anaconda3/lib/python3.12/site-packages (from nbconvert>=6.4.4->jupyter-server<3,>=2.4.0->notebook>=4.4.1->widgetsnbextension~=3.6.6->ipywidgets->pygwalker) (0.8.0)\n",
      "Requirement already satisfied: pandocfilters>=1.4.1 in /shared_hdd/brew/anaconda3/lib/python3.12/site-packages (from nbconvert>=6.4.4->jupyter-server<3,>=2.4.0->notebook>=4.4.1->widgetsnbextension~=3.6.6->ipywidgets->pygwalker) (1.5.0)\n",
      "Requirement already satisfied: tinycss2 in /shared_hdd/brew/anaconda3/lib/python3.12/site-packages (from nbconvert>=6.4.4->jupyter-server<3,>=2.4.0->notebook>=4.4.1->widgetsnbextension~=3.6.6->ipywidgets->pygwalker) (1.2.1)\n",
      "Requirement already satisfied: fastjsonschema>=2.15 in /shared_hdd/brew/anaconda3/lib/python3.12/site-packages (from nbformat>=5.3.0->jupyter-server<3,>=2.4.0->notebook>=4.4.1->widgetsnbextension~=3.6.6->ipywidgets->pygwalker) (2.16.2)\n",
      "Requirement already satisfied: webencodings in /shared_hdd/brew/anaconda3/lib/python3.12/site-packages (from bleach!=5.0.0->nbconvert>=6.4.4->jupyter-server<3,>=2.4.0->notebook>=4.4.1->widgetsnbextension~=3.6.6->ipywidgets->pygwalker) (0.5.1)\n",
      "Collecting fqdn (from jsonschema[format-nongpl]>=4.18.0->jupyter-events>=0.9.0->jupyter-server<3,>=2.4.0->notebook>=4.4.1->widgetsnbextension~=3.6.6->ipywidgets->pygwalker)\n",
      "  Downloading fqdn-1.5.1-py3-none-any.whl.metadata (1.4 kB)\n",
      "Collecting isoduration (from jsonschema[format-nongpl]>=4.18.0->jupyter-events>=0.9.0->jupyter-server<3,>=2.4.0->notebook>=4.4.1->widgetsnbextension~=3.6.6->ipywidgets->pygwalker)\n",
      "  Downloading isoduration-20.11.0-py3-none-any.whl.metadata (5.7 kB)\n",
      "Requirement already satisfied: jsonpointer>1.13 in /shared_hdd/brew/anaconda3/lib/python3.12/site-packages (from jsonschema[format-nongpl]>=4.18.0->jupyter-events>=0.9.0->jupyter-server<3,>=2.4.0->notebook>=4.4.1->widgetsnbextension~=3.6.6->ipywidgets->pygwalker) (2.1)\n",
      "Collecting uri-template (from jsonschema[format-nongpl]>=4.18.0->jupyter-events>=0.9.0->jupyter-server<3,>=2.4.0->notebook>=4.4.1->widgetsnbextension~=3.6.6->ipywidgets->pygwalker)\n",
      "  Downloading uri_template-1.3.0-py3-none-any.whl.metadata (8.8 kB)\n",
      "Collecting webcolors>=24.6.0 (from jsonschema[format-nongpl]>=4.18.0->jupyter-events>=0.9.0->jupyter-server<3,>=2.4.0->notebook>=4.4.1->widgetsnbextension~=3.6.6->ipywidgets->pygwalker)\n",
      "  Downloading webcolors-24.11.1-py3-none-any.whl.metadata (2.2 kB)\n",
      "Requirement already satisfied: cffi>=1.0.1 in /shared_hdd/brew/anaconda3/lib/python3.12/site-packages (from argon2-cffi-bindings->argon2-cffi>=21.1->jupyter-server<3,>=2.4.0->notebook>=4.4.1->widgetsnbextension~=3.6.6->ipywidgets->pygwalker) (1.17.1)\n",
      "Requirement already satisfied: soupsieve>1.2 in /shared_hdd/brew/anaconda3/lib/python3.12/site-packages (from beautifulsoup4->nbconvert>=6.4.4->jupyter-server<3,>=2.4.0->notebook>=4.4.1->widgetsnbextension~=3.6.6->ipywidgets->pygwalker) (2.5)\n",
      "Requirement already satisfied: pycparser in /shared_hdd/brew/anaconda3/lib/python3.12/site-packages (from cffi>=1.0.1->argon2-cffi-bindings->argon2-cffi>=21.1->jupyter-server<3,>=2.4.0->notebook>=4.4.1->widgetsnbextension~=3.6.6->ipywidgets->pygwalker) (2.21)\n",
      "Downloading pygwalker-0.4.9.13-py3-none-any.whl (4.5 MB)\n",
      "\u001b[2K   \u001b[90m━━━━━━━━━━━━━━━━━━━━━━━━━━━━━━━━━━━━━━━━\u001b[0m \u001b[32m4.5/4.5 MB\u001b[0m \u001b[31m40.3 MB/s\u001b[0m eta \u001b[36m0:00:00\u001b[0m\n",
      "\u001b[?25hDownloading gw_dsl_parser-0.1.49.1-py3-none-any.whl (956 kB)\n",
      "\u001b[2K   \u001b[90m━━━━━━━━━━━━━━━━━━━━━━━━━━━━━━━━━━━━━━━━\u001b[0m \u001b[32m956.2/956.2 kB\u001b[0m \u001b[31m36.6 MB/s\u001b[0m eta \u001b[36m0:00:00\u001b[0m\n",
      "\u001b[?25hDownloading kanaries_track-0.0.5-py3-none-any.whl (8.6 kB)\n",
      "Downloading segment_analytics_python-2.2.3-py2.py3-none-any.whl (24 kB)\n",
      "Downloading duckdb-1.2.0-cp312-cp312-manylinux_2_17_x86_64.manylinux2014_x86_64.whl (20.2 MB)\n",
      "\u001b[2K   \u001b[90m━━━━━━━━━━━━━━━━━━━━━━━━━━━━━━━━━━━━━━━━\u001b[0m \u001b[32m20.2/20.2 MB\u001b[0m \u001b[31m87.9 MB/s\u001b[0m eta \u001b[36m0:00:00\u001b[0m:00:01\u001b[0m\n",
      "\u001b[?25hDownloading ipylab-1.0.0-py3-none-any.whl (100 kB)\n",
      "Downloading sqlglot-26.6.0-py3-none-any.whl (447 kB)\n",
      "Downloading anywidget-0.9.13-py3-none-any.whl (213 kB)\n",
      "Downloading astor-0.8.1-py2.py3-none-any.whl (27 kB)\n",
      "Downloading quickjs-1.19.4-cp312-cp312-manylinux_2_17_x86_64.manylinux2014_x86_64.whl (2.2 MB)\n",
      "\u001b[2K   \u001b[90m━━━━━━━━━━━━━━━━━━━━━━━━━━━━━━━━━━━━━━━━\u001b[0m \u001b[32m2.2/2.2 MB\u001b[0m \u001b[31m1.9 MB/s\u001b[0m eta \u001b[36m0:00:00\u001b[0ma \u001b[36m0:00:01\u001b[0mm\n",
      "\u001b[?25hDownloading backoff-2.2.1-py3-none-any.whl (15 kB)\n",
      "Downloading dateutils-0.6.12-py2.py3-none-any.whl (5.7 kB)\n",
      "Downloading monotonic-1.6-py2.py3-none-any.whl (8.2 kB)\n",
      "Downloading psygnal-0.12.0-cp312-cp312-manylinux_2_17_x86_64.manylinux2014_x86_64.whl (787 kB)\n",
      "\u001b[2K   \u001b[90m━━━━━━━━━━━━━━━━━━━━━━━━━━━━━━━━━━━━━━━━\u001b[0m \u001b[32m787.4/787.4 kB\u001b[0m \u001b[31m32.1 MB/s\u001b[0m eta \u001b[36m0:00:00\u001b[0m\n",
      "\u001b[?25hDownloading wasmtime-29.0.0-py3-none-manylinux1_x86_64.whl (6.8 MB)\n",
      "\u001b[2K   \u001b[90m━━━━━━━━━━━━━━━━━━━━━━━━━━━━━━━━━━━━━━━━\u001b[0m \u001b[32m6.8/6.8 MB\u001b[0m \u001b[31m22.4 MB/s\u001b[0m eta \u001b[36m0:00:00\u001b[0ma \u001b[36m0:00:01\u001b[0m\n",
      "\u001b[?25hDownloading importlib_resources-6.5.2-py3-none-any.whl (37 kB)\n",
      "Downloading webcolors-24.11.1-py3-none-any.whl (14 kB)\n",
      "Downloading fqdn-1.5.1-py3-none-any.whl (9.1 kB)\n",
      "Downloading isoduration-20.11.0-py3-none-any.whl (11 kB)\n",
      "Downloading uri_template-1.3.0-py3-none-any.whl (11 kB)\n",
      "Installing collected packages: quickjs, monotonic, webcolors, uri-template, sqlglot, psygnal, importlib_resources, fqdn, duckdb, backoff, astor, wasmtime, segment-analytics-python, dateutils, kanaries-track, isoduration, gw-dsl-parser, ipylab, anywidget, pygwalker\n",
      "Successfully installed anywidget-0.9.13 astor-0.8.1 backoff-2.2.1 dateutils-0.6.12 duckdb-1.2.0 fqdn-1.5.1 gw-dsl-parser-0.1.49.1 importlib_resources-6.5.2 ipylab-1.0.0 isoduration-20.11.0 kanaries-track-0.0.5 monotonic-1.6 psygnal-0.12.0 pygwalker-0.4.9.13 quickjs-1.19.4 segment-analytics-python-2.2.3 sqlglot-26.6.0 uri-template-1.3.0 wasmtime-29.0.0 webcolors-24.11.1\n",
      "Note: you may need to restart the kernel to use updated packages.\n"
     ]
    }
   ],
   "source": [
    "%pip install huggingface_hub ultralytics torchinfo pygwalker comet_ml clearml"
   ]
  },
  {
   "cell_type": "code",
   "execution_count": null,
   "metadata": {},
   "outputs": [],
   "source": [
    "import os\n",
    "import shutil\n",
    "from os import path\n",
    "\n",
    "import torch\n",
    "from torch import nn, optim\n",
    "from torch.utils.data import DataLoader, Dataset\n",
    "\n",
    "from torchvision import datasets, utils, transforms\n",
    "from torchinfo import summary\n",
    "from ultralytics import YOLO\n",
    "\n",
    "import numpy as np\n",
    "import pandas as pd\n",
    "\n",
    "from tqdm.notebook import tqdm\n",
    "import matplotlib.pyplot as plt\n",
    "import pygwalker as pyg\n",
    "\n",
    "import comet_ml\n",
    "#from clearml import Task, browser_login"
   ]
  },
  {
   "cell_type": "code",
   "execution_count": 2,
   "metadata": {},
   "outputs": [],
   "source": [
    "# Attatch logger to the current project\n",
    "comet_ml.login(project_name=\"APT\")"
   ]
  },
  {
   "cell_type": "code",
   "execution_count": 3,
   "metadata": {},
   "outputs": [
    {
     "name": "stdout",
     "output_type": "stream",
     "text": [
      "env: CLEARML_WEB_HOST=https://app.clear.ml/\n",
      "env: CLEARML_API_HOST=https://api.clear.ml\n",
      "env: CLEARML_FILES_HOST=https://files.clear.ml\n"
     ]
    }
   ],
   "source": [
    "%env CLEARML_WEB_HOST=https://app.clear.ml/\n",
    "%env CLEARML_API_HOST=https://api.clear.ml\n",
    "%env CLEARML_FILES_HOST=https://files.clear.ml\n",
    "#%env CLEARML_API_ACCESS_KEY=<Your API access key>\n",
    "#%env CLEARML_API_SECRET_KEY=<Your API secret key>\n",
    "\n",
    "#browser_login()\n",
    "#task = Task.init(project_name=\"APT\", task_name=\"Model Pretaining\")"
   ]
  },
  {
   "cell_type": "markdown",
   "metadata": {},
   "source": [
    "### Check GPU Availability"
   ]
  },
  {
   "cell_type": "code",
   "execution_count": 4,
   "metadata": {},
   "outputs": [
    {
     "name": "stdout",
     "output_type": "stream",
     "text": [
      "Wed Feb 26 00:25:35 2025       \n",
      "+-----------------------------------------------------------------------------+\n",
      "| NVIDIA-SMI 495.29.05    Driver Version: 495.29.05    CUDA Version: 11.5     |\n",
      "|-------------------------------+----------------------+----------------------+\n",
      "| GPU  Name        Persistence-M| Bus-Id        Disp.A | Volatile Uncorr. ECC |\n",
      "| Fan  Temp  Perf  Pwr:Usage/Cap|         Memory-Usage | GPU-Util  Compute M. |\n",
      "|                               |                      |               MIG M. |\n",
      "|===============================+======================+======================|\n",
      "|   0  Tesla P100-PCIE...  On   | 00000000:04:00.0 Off |                    0 |\n",
      "| N/A   39C    P0    34W / 250W |   7320MiB / 16280MiB |      0%      Default |\n",
      "|                               |                      |                  N/A |\n",
      "+-------------------------------+----------------------+----------------------+\n",
      "|   1  Tesla P100-PCIE...  On   | 00000000:06:00.0 Off |                    0 |\n",
      "| N/A   39C    P0    30W / 250W |   4028MiB / 16280MiB |      0%      Default |\n",
      "|                               |                      |                  N/A |\n",
      "+-------------------------------+----------------------+----------------------+\n",
      "|   2  Tesla P100-PCIE...  On   | 00000000:07:00.0 Off |                    0 |\n",
      "| N/A   42C    P0    27W / 250W |      2MiB / 16280MiB |      0%      Default |\n",
      "|                               |                      |                  N/A |\n",
      "+-------------------------------+----------------------+----------------------+\n",
      "|   3  Tesla P100-PCIE...  On   | 00000000:08:00.0 Off |                    0 |\n",
      "| N/A   39C    P0    32W / 250W |   2021MiB / 16280MiB |      0%      Default |\n",
      "|                               |                      |                  N/A |\n",
      "+-------------------------------+----------------------+----------------------+\n",
      "|   4  Tesla P100-PCIE...  On   | 00000000:0C:00.0 Off |                    0 |\n",
      "| N/A   37C    P0    26W / 250W |      2MiB / 16280MiB |      0%      Default |\n",
      "|                               |                      |                  N/A |\n",
      "+-------------------------------+----------------------+----------------------+\n",
      "|   5  Tesla P100-PCIE...  On   | 00000000:0D:00.0 Off |                    0 |\n",
      "| N/A   39C    P0    27W / 250W |      2MiB / 16280MiB |      0%      Default |\n",
      "|                               |                      |                  N/A |\n",
      "+-------------------------------+----------------------+----------------------+\n",
      "|   6  Tesla P100-PCIE...  On   | 00000000:0E:00.0 Off |                    0 |\n",
      "| N/A   37C    P0    31W / 250W |  10414MiB / 16280MiB |      0%      Default |\n",
      "|                               |                      |                  N/A |\n",
      "+-------------------------------+----------------------+----------------------+\n",
      "|   7  Tesla P100-PCIE...  On   | 00000000:0F:00.0 Off |                    0 |\n",
      "| N/A   35C    P0    25W / 250W |     26MiB / 16280MiB |      0%      Default |\n",
      "|                               |                      |                  N/A |\n",
      "+-------------------------------+----------------------+----------------------+\n",
      "                                                                               \n",
      "+-----------------------------------------------------------------------------+\n",
      "| Processes:                                                                  |\n",
      "|  GPU   GI   CI        PID   Type   Process name                  GPU Memory |\n",
      "|        ID   ID                                                   Usage      |\n",
      "|=============================================================================|\n",
      "|    0   N/A  N/A      3790      C   python3                          2013MiB |\n",
      "|    0   N/A  N/A      8924      C   ...ooon/anaconda3/bin/python      631MiB |\n",
      "|    0   N/A  N/A      9355      C   python3                          2013MiB |\n",
      "|    0   N/A  N/A     16941      C   ...ooon/anaconda3/bin/python      741MiB |\n",
      "|    0   N/A  N/A     48935      C   ...ste_classifier/bin/python     1243MiB |\n",
      "|    1   N/A  N/A     19724      C   python3                          2013MiB |\n",
      "|    1   N/A  N/A     20230      C   python3                          2013MiB |\n",
      "|    3   N/A  N/A     45982      C   ...ste_classifier/bin/python     2009MiB |\n",
      "+-----------------------------------------------------------------------------+\n"
     ]
    }
   ],
   "source": [
    "!nvidia-smi"
   ]
  },
  {
   "cell_type": "code",
   "execution_count": 5,
   "metadata": {},
   "outputs": [
    {
     "name": "stdout",
     "output_type": "stream",
     "text": [
      "INFO: Using device - cuda:3\n"
     ]
    }
   ],
   "source": [
    "# Set CUDA Device Number 0~7\n",
    "DEVICE_NUM = 3\n",
    "ADDITIONAL_GPU = 1\n",
    "\n",
    "if torch.cuda.is_available():\n",
    "    if ADDITIONAL_GPU:\n",
    "        torch.cuda.set_device(DEVICE_NUM)\n",
    "        device = torch.device(\"cuda\")\n",
    "    else:\n",
    "        device = torch.device(f\"cuda:{DEVICE_NUM}\")\n",
    "else:\n",
    "    device = torch.device(\"cpu\")\n",
    "    DEVICE_NUM = -1\n",
    "\n",
    "print(f\"INFO: Using device - {device}\" + (f\":{DEVICE_NUM}\" if ADDITIONAL_GPU else \"\"))"
   ]
  },
  {
   "cell_type": "code",
   "execution_count": 6,
   "metadata": {},
   "outputs": [
    {
     "name": "stdout",
     "output_type": "stream",
     "text": [
      "INFO: Number of CPU cores - 48\n"
     ]
    }
   ],
   "source": [
    "MULTI_PROCESSING = True  # Set False if DataLoader is causing issues\n",
    "\n",
    "from platform import system\n",
    "if MULTI_PROCESSING and system() != \"Windows\":  # Multiprocess data loading is not supported on Windows\n",
    "    import multiprocessing\n",
    "    cpu_cores = multiprocessing.cpu_count()\n",
    "    print(f\"INFO: Number of CPU cores - {cpu_cores}\")\n",
    "else:\n",
    "    cpu_cores = 0\n",
    "    print(\"INFO: Using DataLoader without multi-processing.\")"
   ]
  },
  {
   "cell_type": "markdown",
   "metadata": {},
   "source": [
    "## Define Dataset\n",
    "ImageNet-VID"
   ]
  },
  {
   "cell_type": "code",
   "execution_count": 10,
   "metadata": {},
   "outputs": [],
   "source": [
    "from typing import Callable, Optional\n",
    "from dataclasses import dataclass\n",
    "from pathlib import Path\n",
    "import huggingface_hub\n",
    "import json\n",
    "\n",
    "\n",
    "@dataclass\n",
    "class DataPair:\n",
    "    train: any\n",
    "    val: any\n",
    "\n",
    "\n",
    "class ImageNetVIDDataset(datasets.ImageFolder):\n",
    "    \"\"\"\n",
    "    ImageNet-VID dataset for Object Detection and Tracking.\n",
    "    Only works in Linux.\n",
    "    \n",
    "    :ref: https://huggingface.co/datasets/guanxiongsun/imagenetvid\n",
    "    \"\"\"\n",
    "\n",
    "    download_method = huggingface_hub.snapshot_download\n",
    "    dataset_name = \"ILSVRC2015_VID\"\n",
    "    dataset_id = \"guanxiongsun/imagenetvid\"\n",
    "    obj_classes = [\n",
    "        \"airplane\", \"antelope\", \"bear\", \"bicycle\", \"bird\", \"bus\", \"car\", \"cattle\",\n",
    "        \"dog\", \"domestic cat\", \"elephant\", \"fox\", \"giant panda\", \"hamster\", \"horse\",\n",
    "        \"lion\", \"lizard\", \"monkey\", \"motorcycle\", \"rabbit\", \"red panda\",\n",
    "        \"sheep\", \"snake\", \"squirrel\", \"tiger\", \"train\", \"turtle\",\n",
    "        \"watercraft\", \"whale\", \"zebra\"\n",
    "    ]\n",
    "    __cached_annotation = DataPair(None, None)\n",
    "    annotation_files = DataPair(\"imagenet_vid_train.json\", \"imagenet_vid_val.json\")\n",
    "\n",
    "    def __init__(\n",
    "        self,\n",
    "        root: str,\n",
    "        force_download: bool = True,\n",
    "        train: bool = True,\n",
    "        valid: bool = False,\n",
    "        transform: Optional[Callable] = None,\n",
    "        target_transform: Optional[Callable] = None\n",
    "        ):\n",
    "        self.root = path.join(root, self.dataset_name)\n",
    "        self.download(root, force=force_download)\n",
    "\n",
    "        if train:\n",
    "            root = path.join(root, \"val\") if valid else path.join(root, \"train\")\n",
    "        else:\n",
    "            root = path.join(root, \"test\")\n",
    "\n",
    "        super().__init__(root=root, transform=transform, target_transform=target_transform)\n",
    "\n",
    "    def apply_transform(\n",
    "        self, transform: Optional[Callable] = None,\n",
    "        target_transform: Optional[Callable] = None\n",
    "        ):\n",
    "        self.transform = self.transforms = transform  # For back-ward compatibility\n",
    "        self.transforms = self.target_transform = target_transform\n",
    "\n",
    "    @classmethod\n",
    "    def download(cls, root: str, force: bool = False):\n",
    "        # Clean up the existing dataset if force is flagged\n",
    "        root = Path(root)\n",
    "        \n",
    "        if force:\n",
    "            print(f\"INFO: Cleaning up the existing dataset at {root} (Force-download is flagged)\")\n",
    "            for item in os.listdir(root):\n",
    "                item_path = root / item\n",
    "                if path.isfile(item_path):\n",
    "                    os.remove(item_path)\n",
    "                else:\n",
    "                    shutil.rmtree(item_path)\n",
    "            print(\"INFO: Dataset cleaned successfully.\")\n",
    "        \n",
    "        # Do download if the dataset does not exist\n",
    "        print(f\"Downloading {cls.dataset_name} from huggingface...\")\n",
    "        cls.download_method(\n",
    "            repo_id=cls.dataset_id,\n",
    "            repo_type=\"dataset\",\n",
    "            local_dir=root,\n",
    "            ignore_patterns=[\"*.git*\", \"*.md\", \"*ILSVRC2017*\"]\n",
    "        )\n",
    "        if force or not path.exists(root):\n",
    "            print(\"INFO: Dataset downloaded successfully.\")\n",
    "        else:\n",
    "            print(\"INFO: Dataset archive found in the root directory. Skipping download.\")\n",
    "        \n",
    "        # Combine split achives\n",
    "        if not path.exists(root / f\"{cls.dataset_name}.tar.gz\"):\n",
    "            print(\"INFO: Combining seperated archives...\")\n",
    "            result = os.system(\"cat \" + root / f\"{cls.dataset_name}.tar.gz.a*\" + \" > \" + root / f\"{cls.dataset_name}.tar.gz\")\n",
    "            if result != 0:\n",
    "                raise Exception(\"Failed to combine split archives. Please make sure that you are running on a Linux system.\")\n",
    "            print(\"INFO: Split archives combined successfully.\")\n",
    "        else:\n",
    "            print(\"INFO: Combined archives found in the root directory. Skipping combination.\")\n",
    "\n",
    "        # Extract the dataset\n",
    "        print(\"INFO: Extracting the dataset...\")\n",
    "        os.system(f\"tar -xvf {root / f'{cls.dataset_name}.tar.gz'} -C {root}\")\n",
    "\n",
    "\n",
    "    @classmethod\n",
    "    def bbox(cls, img_index: int, train: bool = True):\n",
    "        if train and cls.__cached_annotation.train is None:\n",
    "            with open(cls.annotation_files.train, \"r\", encoding=\"utf-8\") as f:\n",
    "                cls.__cached_annotation.train = json.load(f)\n",
    "        if not train and cls.__cached_annotation.val is None:\n",
    "            with open(cls.annotation_files.val, \"r\", encoding=\"utf-8\") as f:\n",
    "                cls.__cached_annotation.val = json.load(f)\n",
    "\n",
    "        cache = cls.__cached_annotation.train if train else cls.__cached_annotation.val\n",
    "        return tuple(cache['annotation'][img_index]['bbox'])\n",
    "\n",
    "    @property\n",
    "    def df(self) -> pd.DataFrame:\n",
    "        return pd.DataFrame(dict(path=[d[0] for d in self.samples], label=[self.classes[lb] for lb in self.targets]))\n",
    "\n",
    "    @property\n",
    "    def sample_output(self):\n",
    "        return None  # TODO: Implement sample output img view for the dataset"
   ]
  },
  {
   "cell_type": "code",
   "execution_count": 11,
   "metadata": {},
   "outputs": [],
   "source": [
    "# Define image size for resizing\n",
    "IMG_SIZE = 640\n",
    "\n",
    "# Define image normalization parameters (ImageNet style)\n",
    "IMG_NORM = dict(\n",
    "    mean=[0.485, 0.456, 0.406],\n",
    "    std=[0.229, 0.224, 0.225]\n",
    ")\n",
    "\n",
    "# Create transforms\n",
    "train_transform = transforms.Compose([\n",
    "    transforms.Resize((IMG_SIZE, IMG_SIZE)),\n",
    "    transforms.ColorJitter(brightness=0.2, contrast=0.2),  # Adjust brightness/contrast\n",
    "    transforms.ToTensor(),\n",
    "    transforms.Normalize(**IMG_NORM)\n",
    "])\n",
    "label_transform = lambda train: transforms.Lambda(\n",
    "    lambda x: ImageNetVIDDataset.bbox(x, train=train)\n",
    ")\n",
    "test_transform = transforms.Compose([\n",
    "    transforms.Resize((IMG_SIZE, IMG_SIZE)),\n",
    "    transforms.ToTensor(), \n",
    "    transforms.Normalize(**IMG_NORM)\n",
    "])"
   ]
  },
  {
   "cell_type": "code",
   "execution_count": null,
   "metadata": {},
   "outputs": [
    {
     "name": "stdout",
     "output_type": "stream",
     "text": [
      "Downloading ILSVRC2015_VID from huggingface...\n"
     ]
    },
    {
     "data": {
      "application/vnd.jupyter.widget-view+json": {
       "model_id": "6b36068a788d40069fca188cbc43ca89",
       "version_major": 2,
       "version_minor": 0
      },
      "text/plain": [
       "Fetching 3 files:   0%|          | 0/3 [00:00<?, ?it/s]"
      ]
     },
     "metadata": {},
     "output_type": "display_data"
    },
    {
     "data": {
      "application/vnd.jupyter.widget-view+json": {
       "model_id": "533950e9b1624c4ebdd4d18f94720396",
       "version_major": 2,
       "version_minor": 0
      },
      "text/plain": [
       "ILSVRC2015_VID.tar.gz.ab:   0%|          | 0.00/43.7G [00:00<?, ?B/s]"
      ]
     },
     "metadata": {},
     "output_type": "display_data"
    },
    {
     "data": {
      "application/vnd.jupyter.widget-view+json": {
       "model_id": "9a1d3369a9684199a268e0c861b26d47",
       "version_major": 2,
       "version_minor": 0
      },
      "text/plain": [
       "ILSVRC2015_VID.tar.gz.aa:   0%|          | 0.00/48.3G [00:00<?, ?B/s]"
      ]
     },
     "metadata": {},
     "output_type": "display_data"
    },
    {
     "data": {
      "application/vnd.jupyter.widget-view+json": {
       "model_id": "5fb59563a00649a386b072344eb7ba6a",
       "version_major": 2,
       "version_minor": 0
      },
      "text/plain": [
       "annotations.tar.gz:   0%|          | 0.00/56.9M [00:00<?, ?B/s]"
      ]
     },
     "metadata": {},
     "output_type": "display_data"
    }
   ],
   "source": [
    "DATA_ROOT = path.join(\".\", \"data\")\n",
    "\n",
    "train_dataset = ImageNetVIDDataset(\n",
    "    root=DATA_ROOT, force_download=False, train=True,\n",
    "    transform=train_transform, target_transform=label_transform\n",
    ")\n",
    "valid_dataset = ImageNetVIDDataset(\n",
    "    root=DATA_ROOT, force_download=False, valid=True,\n",
    "    transform=train_transform, target_transform=label_transform\n",
    ")\n",
    "test_dataset = ImageNetVIDDataset(\n",
    "    root=DATA_ROOT, force_download=False, train=False,\n",
    "    transform=test_transform\n",
    ")\n",
    "\n",
    "print(f\"INFO: Dataset loaded successfully. Number of samples - Train({len(train_dataset)}), Valid({len(valid_dataset)}), Test({len(test_dataset)})\")"
   ]
  },
  {
   "cell_type": "markdown",
   "metadata": {},
   "source": [
    "## Load Model"
   ]
  },
  {
   "cell_type": "code",
   "execution_count": null,
   "metadata": {},
   "outputs": [],
   "source": [
    "model = YOLO(\"yolo11m.yaml\")  # build a new model from YAML\n",
    "#model = YOLO(\"path/to/last.pt\")  # load a partially trained model\n",
    "model"
   ]
  },
  {
   "cell_type": "code",
   "execution_count": null,
   "metadata": {},
   "outputs": [],
   "source": [
    "train_configs = dict(\n",
    "    data=\"imagenetvid.yaml\",\n",
    "    epochs=100,\n",
    "    patience=10,\n",
    "    batch=512,\n",
    "    imgsz=640,\n",
    "    save=True,\n",
    "    save_period=10,\n",
    "    cache=True,\n",
    "    device=list(range(DEVICE_NUM, DEVICE_NUM+ADDITIONAL_GPU+1)) if ADDITIONAL_GPU else DEVICE_NUM,\n",
    "    workers=cpu_cores,\n",
    "    project=\"pretrained4imagenetvid\",\n",
    "    resume=True,\n",
    "    val=True,\n",
    "    plots=True\n",
    ")"
   ]
  },
  {
   "cell_type": "markdown",
   "metadata": {},
   "source": [
    "## Train"
   ]
  },
  {
   "cell_type": "code",
   "execution_count": null,
   "metadata": {},
   "outputs": [],
   "source": [
    "# Start/Resume model training\n",
    "results = model.train(**train_configs)"
   ]
  },
  {
   "cell_type": "markdown",
   "metadata": {},
   "source": [
    "## Validation"
   ]
  },
  {
   "cell_type": "code",
   "execution_count": null,
   "metadata": {},
   "outputs": [],
   "source": [
    "# Evaluate model performance on the validation set\n",
    "metrics = model.val()"
   ]
  },
  {
   "cell_type": "code",
   "execution_count": null,
   "metadata": {},
   "outputs": [],
   "source": [
    "# Perform object detection on an image\n",
    "results = model(\"./data/ILSVRC2015_VID/val/.jpg\")\n",
    "results[0].show()"
   ]
  }
 ],
 "metadata": {
  "kernelspec": {
   "display_name": "base",
   "language": "python",
   "name": "python3"
  },
  "language_info": {
   "codemirror_mode": {
    "name": "ipython",
    "version": 3
   },
   "file_extension": ".py",
   "mimetype": "text/x-python",
   "name": "python",
   "nbconvert_exporter": "python",
   "pygments_lexer": "ipython3",
   "version": "3.12.2"
  }
 },
 "nbformat": 4,
 "nbformat_minor": 2
}
