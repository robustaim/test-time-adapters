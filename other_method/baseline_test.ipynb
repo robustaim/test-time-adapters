{
 "cells": [
  {
   "cell_type": "code",
   "execution_count": 1,
   "id": "49e40e57",
   "metadata": {},
   "outputs": [
    {
     "name": "stdout",
     "output_type": "stream",
     "text": [
      "/workspace/ptta\n"
     ]
    }
   ],
   "source": [
    "import sys\n",
    "from pathlib import Path\n",
    "\n",
    "# 현재 폴더: ptta/other_method/ActMAD/\n",
    "# ptta 바로 위의 디렉토리를 sys.path에 추가\n",
    "PROJECT_PARENT = Path.cwd().parents[0]  # -> ptta/ 의 부모 디렉토리\n",
    "print(PROJECT_PARENT)\n",
    "sys.path.insert(0, str(PROJECT_PARENT))\n",
    "\n",
    "from os import path\n",
    "\n",
    "import torch\n",
    "from torch import nn, optim\n",
    "from torch.utils.data import DataLoader\n",
    "\n",
    "from ttadapters.datasets import BaseDataset, DatasetHolder, DataLoaderHolder\n",
    "from ttadapters.datasets import SHIFTClearDatasetForObjectDetection, SHIFTCorruptedDatasetForObjectDetection, SHIFTDiscreteSubsetForObjectDetection\n",
    "\n",
    "from transformers import Trainer, TrainingArguments, EarlyStoppingCallback\n",
    "from accelerate import Accelerator, notebook_launcher\n",
    "\n",
    "from supervision.metrics.mean_average_precision import MeanAveragePrecision\n",
    "from supervision.detection.core import Detections\n",
    "\n",
    "# import wandb\n",
    "from tqdm.auto import tqdm\n",
    "import matplotlib.pyplot as plt"
   ]
  },
  {
   "cell_type": "markdown",
   "id": "fcf042fe",
   "metadata": {},
   "source": [
    "## Check GPU Availability"
   ]
  },
  {
   "cell_type": "code",
   "execution_count": 2,
   "id": "d008447c",
   "metadata": {},
   "outputs": [
    {
     "name": "stdout",
     "output_type": "stream",
     "text": [
      "Sun Aug 31 11:11:30 2025       \n",
      "+---------------------------------------------------------------------------------------+\n",
      "| NVIDIA-SMI 535.183.01             Driver Version: 535.183.01   CUDA Version: 12.2     |\n",
      "|-----------------------------------------+----------------------+----------------------+\n",
      "| GPU  Name                 Persistence-M | Bus-Id        Disp.A | Volatile Uncorr. ECC |\n",
      "| Fan  Temp   Perf          Pwr:Usage/Cap |         Memory-Usage | GPU-Util  Compute M. |\n",
      "|                                         |                      |               MIG M. |\n",
      "|=========================================+======================+======================|\n",
      "|   0  Tesla P100-PCIE-16GB           Off | 00000000:04:00.0 Off |                    0 |\n",
      "| N/A   39C    P0              34W / 250W |   1924MiB / 16384MiB |      0%      Default |\n",
      "|                                         |                      |                  N/A |\n",
      "+-----------------------------------------+----------------------+----------------------+\n",
      "|   1  Tesla P100-PCIE-16GB           Off | 00000000:06:00.0 Off |                    0 |\n",
      "| N/A   38C    P0              30W / 250W |   4502MiB / 16384MiB |      0%      Default |\n",
      "|                                         |                      |                  N/A |\n",
      "+-----------------------------------------+----------------------+----------------------+\n",
      "|   2  Tesla P100-PCIE-16GB           Off | 00000000:07:00.0 Off |                    0 |\n",
      "| N/A   43C    P0              33W / 250W |    384MiB / 16384MiB |      0%      Default |\n",
      "|                                         |                      |                  N/A |\n",
      "+-----------------------------------------+----------------------+----------------------+\n",
      "|   3  Tesla P100-PCIE-16GB           Off | 00000000:08:00.0 Off |                    0 |\n",
      "| N/A   39C    P0              32W / 250W |   4372MiB / 16384MiB |      0%      Default |\n",
      "|                                         |                      |                  N/A |\n",
      "+-----------------------------------------+----------------------+----------------------+\n",
      "|   4  Tesla P100-PCIE-16GB           Off | 00000000:0C:00.0 Off |                    0 |\n",
      "| N/A   37C    P0              31W / 250W |   4248MiB / 16384MiB |      0%      Default |\n",
      "|                                         |                      |                  N/A |\n",
      "+-----------------------------------------+----------------------+----------------------+\n",
      "|   5  Tesla P100-PCIE-16GB           Off | 00000000:0D:00.0 Off |                    0 |\n",
      "| N/A   40C    P0              32W / 250W |    684MiB / 16384MiB |      0%      Default |\n",
      "|                                         |                      |                  N/A |\n",
      "+-----------------------------------------+----------------------+----------------------+\n",
      "|   6  Tesla P100-PCIE-16GB           Off | 00000000:0E:00.0 Off |                    0 |\n",
      "| N/A   38C    P0              26W / 250W |      8MiB / 16384MiB |      0%      Default |\n",
      "|                                         |                      |                  N/A |\n",
      "+-----------------------------------------+----------------------+----------------------+\n",
      "|   7  Tesla P100-PCIE-16GB           Off | 00000000:0F:00.0 Off |                    0 |\n",
      "| N/A   36C    P0              31W / 250W |    914MiB / 16384MiB |      0%      Default |\n",
      "|                                         |                      |                  N/A |\n",
      "+-----------------------------------------+----------------------+----------------------+\n",
      "                                                                                         \n",
      "+---------------------------------------------------------------------------------------+\n",
      "| Processes:                                                                            |\n",
      "|  GPU   GI   CI        PID   Type   Process name                            GPU Memory |\n",
      "|        ID   ID                                                             Usage      |\n",
      "|=======================================================================================|\n",
      "+---------------------------------------------------------------------------------------+\n"
     ]
    }
   ],
   "source": [
    "!nvidia-smi"
   ]
  },
  {
   "cell_type": "code",
   "execution_count": 3,
   "id": "e4fc049d",
   "metadata": {},
   "outputs": [
    {
     "name": "stdout",
     "output_type": "stream",
     "text": [
      "INFO: Using device - cuda:6\n"
     ]
    }
   ],
   "source": [
    "# Set CUDA Device Number 0~7\n",
    "DEVICE_NUM = 6\n",
    "ADDITIONAL_GPU = 0\n",
    "DATA_TYPE = torch.bfloat16\n",
    "\n",
    "if torch.cuda.is_available():\n",
    "    if ADDITIONAL_GPU:\n",
    "        torch.cuda.set_device(DEVICE_NUM)\n",
    "        device = torch.device(\"cuda\")\n",
    "    else:\n",
    "        device = torch.device(f\"cuda:{DEVICE_NUM}\")\n",
    "else:\n",
    "    device = torch.device(\"cpu\")\n",
    "    DEVICE_NUM = -1\n",
    "\n",
    "print(f\"INFO: Using device - {device}\" + (f\":{DEVICE_NUM}\" if ADDITIONAL_GPU else \"\"))"
   ]
  },
  {
   "cell_type": "code",
   "execution_count": 4,
   "id": "e3d99b44",
   "metadata": {},
   "outputs": [],
   "source": [
    "PROJECT_NAME = \"ActMAD test\"\n",
    "RUN_NAME = \"RT-DETR_R50_ActMAD\""
   ]
  },
  {
   "cell_type": "markdown",
   "id": "b7121420",
   "metadata": {},
   "source": [
    "## Baseline"
   ]
  },
  {
   "cell_type": "code",
   "execution_count": 5,
   "id": "983b57fc",
   "metadata": {},
   "outputs": [
    {
     "name": "stdout",
     "output_type": "stream",
     "text": [
      "/workspace/ptta/data\n"
     ]
    }
   ],
   "source": [
    "import baseline\n",
    "data_root = path.normpath(path.join(Path.cwd(), \"..\", \"data\"))\n",
    "print(data_root)\n",
    "direct_method = baseline.Baseline(\n",
    "    device=device,\n",
    "    data_root=data_root,\n",
    "    save_dir=\"./direct_method_checkpoints\",\n",
    "    method=\"direct_method\",\n",
    "    model_arch=\"rt_detr\",\n",
    "    reference_model_id=\"PekingU/rtdetr_r50vd\",\n",
    "    image_size=800,\n",
    "    class_num=6,\n",
    "    valid_batch=16,\n",
    "    clean_bn_extract_batch=32,\n",
    "    model_states=\"/workspace/ptta/RT-DETR_R50vd_SHIFT_CLEAR.safetensors\",\n",
    "    momentum=0.05,\n",
    "    mom_pre=0.07,\n",
    "    decay_factor=0.97,\n",
    "    min_momentum_constant=0.01,\n",
    "    patience=10,\n",
    "    eval_every=10,\n",
    "    enable_log_file=True\n",
    ")\n",
    "\n",
    "actmad = baseline.Baseline(\n",
    "    device=device,\n",
    "    data_root=data_root,\n",
    "    save_dir=\"./actmad_checkpoints\",\n",
    "    method=\"actmad\",\n",
    "    model_arch=\"rt_detr\",\n",
    "    reference_model_id=\"PekingU/rtdetr_r50vd\",\n",
    "    image_size=800,\n",
    "    class_num=6,\n",
    "    valid_batch=16,\n",
    "    clean_bn_extract_batch=16,\n",
    "    model_states=\"/workspace/ptta/RT-DETR_R50vd_SHIFT_CLEAR.safetensors\",\n",
    "    momentum=0.05,\n",
    "    mom_pre=0.07,\n",
    "    decay_factor=0.97,\n",
    "    min_momentum_constant=0.01,\n",
    "    patience=10,\n",
    "    eval_every=10,\n",
    "    enable_log_file=True\n",
    ")\n",
    "\n",
    "norm = baseline.Baseline(\n",
    "    device=device,\n",
    "    data_root=data_root,\n",
    "    save_dir=\"./norm_checkpoints\",\n",
    "    method=\"norm\",\n",
    "    model_arch=\"rt_detr\",\n",
    "    reference_model_id=\"PekingU/rtdetr_r50vd\",\n",
    "    image_size=800,\n",
    "    class_num=6,\n",
    "    valid_batch=16,\n",
    "    clean_bn_extract_batch=16,\n",
    "    model_states=\"/workspace/ptta/RT-DETR_R50vd_SHIFT_CLEAR.safetensors\",\n",
    "    momentum=0.05,\n",
    "    mom_pre=0.07,\n",
    "    decay_factor=0.97,\n",
    "    min_momentum_constant=0.01,\n",
    "    patience=10,\n",
    "    eval_every=10,\n",
    "    enable_log_file=True\n",
    ")\n",
    "\n",
    "dua = baseline.Baseline(\n",
    "    device=device,\n",
    "    data_root=data_root,\n",
    "    save_dir=\"./dua_checkpoints\",\n",
    "    method=\"dua\",\n",
    "    model_arch=\"rt_detr\",\n",
    "    reference_model_id=\"PekingU/rtdetr_r50vd\",\n",
    "    image_size=800,\n",
    "    class_num=6,\n",
    "    valid_batch=16,\n",
    "    clean_bn_extract_batch=16,\n",
    "    model_states=\"/workspace/ptta/RT-DETR_R50vd_SHIFT_CLEAR.safetensors\",\n",
    "    momentum=0.05,\n",
    "    mom_pre=0.07,\n",
    "    decay_factor=0.97,\n",
    "    min_momentum_constant=0.01,\n",
    "    patience=10,\n",
    "    eval_every=10,\n",
    "    enable_log_file=True\n",
    ")"
   ]
  },
  {
   "cell_type": "code",
   "execution_count": null,
   "id": "ef95ba1a",
   "metadata": {},
   "outputs": [],
   "source": [
    "direct_method.train()"
   ]
  },
  {
   "cell_type": "code",
   "execution_count": null,
   "id": "5813f6c2",
   "metadata": {},
   "outputs": [],
   "source": [
    "actmad.train()"
   ]
  },
  {
   "cell_type": "code",
   "execution_count": null,
   "id": "61541929",
   "metadata": {},
   "outputs": [
    {
     "name": "stderr",
     "output_type": "stream",
     "text": [
      "[2025-08-31 11:11:35,678] INFO: Log file: ./norm_checkpoints/norm_20250831_111135.log\n",
      "[2025-08-31 11:11:35,791] INFO: start cloudy\n",
      "[2025-08-31 11:11:35,928] INFO: INFO: Downloading 'SHIFT_SUBSET' from file server to /workspace/ptta/data/SHIFT/discrete...\n",
      "[2025-08-31 11:11:35,929] INFO: INFO: Dataset archive found in the root directory. Skipping download.\n",
      "[2025-08-31 11:11:35,930] INFO: INFO: Subset split for 'SHIFT_SUBSET' dataset is already done. Skipping...\n",
      "[2025-08-31 11:11:35,932] INFO: INFO: Downloading 'SHIFT_SUBSET' from file server to /workspace/ptta/data/SHIFT/discrete...\n",
      "[2025-08-31 11:11:35,933] INFO: INFO: Dataset archive found in the root directory. Skipping download.\n",
      "[08/31/2025 11:11:35] SHIFT DevKit - INFO - Base: /workspace/ptta/data/SHIFT/discrete/images/train. Backend: <shift_dev.utils.backend.ZipBackend object at 0x7f25b442f250>\n",
      "[08/31/2025 11:11:35] SHIFT DevKit - INFO - Loading annotation from '/workspace/ptta/data/SHIFT_SUBSET/cloudy_daytime/discrete/images/train/front/det_2d.json' ...\n",
      "[08/31/2025 11:11:37] SHIFT DevKit - INFO - Loading annotation from '/workspace/ptta/data/SHIFT_SUBSET/cloudy_daytime/discrete/images/train/front/det_2d.json' Done.\n",
      "[08/31/2025 11:11:42] SHIFT DevKit - INFO - Loading annotation takes 7.05 seconds.\n",
      "[2025-08-31 11:11:45,396] INFO: Batch 0:\n",
      "[2025-08-31 11:11:45,397] INFO: Item                 Shape                               Min        Max       \n",
      "[2025-08-31 11:11:45,399] INFO: --------------------------------------------------------------------------------\n",
      "[2025-08-31 11:11:45,402] INFO: original_hw          [tensor([800]), tensor([1280])]\n",
      "[2025-08-31 11:11:45,404] INFO: input_hw             [tensor([800]), tensor([1280])]\n",
      "[2025-08-31 11:11:45,405] INFO: frame_ids            torch.Size([1])                           0.00       0.00\n",
      "[2025-08-31 11:11:45,406] INFO: name                 ['00000000_img_front.jpg']\n",
      "[2025-08-31 11:11:45,407] INFO: videoName            ['01b2-4042']\n",
      "[2025-08-31 11:11:45,409] INFO: intrinsics           torch.Size([1, 3, 3])                     0.00     640.00\n",
      "[2025-08-31 11:11:45,410] INFO: extrinsics           torch.Size([1, 4, 4])                    -0.80      46.71\n",
      "[2025-08-31 11:11:45,411] INFO: boxes2d              torch.Size([1, 2, 4])                     0.00     476.00\n",
      "[2025-08-31 11:11:45,412] INFO: boxes2d_classes      torch.Size([1, 2])                        1.00       2.00\n",
      "[2025-08-31 11:11:45,413] INFO: boxes2d_track_ids    torch.Size([1, 2])                        0.00       1.00\n",
      "[2025-08-31 11:11:45,414] INFO: images               torch.Size([1, 1, 3, 800, 1280])          0.00     255.00\n",
      "[2025-08-31 11:11:46,929] INFO: Video name: 01b2-4042\n",
      "[2025-08-31 11:11:46,930] INFO: Sample indices within a video: [0, 1, 2, 3, 4, 5, 6, 7, 8, 9, 10, 11, 12, 13, 14, 15, 16, 17, 18, 19, 20, 21, 22, 23, 24, 25, 26, 27, 28, 29, 30, 31, 32, 33, 34, 35, 36, 37, 38, 39, 40, 41, 42, 43, 44, 45, 46, 47, 48, 49]\n",
      "[2025-08-31 11:11:46,932] INFO: INFO: Downloading 'SHIFT_SUBSET' from file server to /workspace/ptta/data/SHIFT/discrete...\n",
      "[2025-08-31 11:11:46,934] INFO: INFO: Dataset archive found in the root directory. Skipping download.\n",
      "[2025-08-31 11:11:46,934] INFO: INFO: Subset split for 'SHIFT_SUBSET' dataset is already done. Skipping...\n",
      "[2025-08-31 11:11:46,935] INFO: INFO: Downloading 'SHIFT_SUBSET' from file server to /workspace/ptta/data/SHIFT/discrete...\n",
      "[2025-08-31 11:11:46,936] INFO: INFO: Dataset archive found in the root directory. Skipping download.\n",
      "[08/31/2025 11:11:46] SHIFT DevKit - INFO - Base: /workspace/ptta/data/SHIFT/discrete/images/val. Backend: <shift_dev.utils.backend.ZipBackend object at 0x7f25b442f250>\n",
      "[08/31/2025 11:11:46] SHIFT DevKit - INFO - Loading annotation from '/workspace/ptta/data/SHIFT_SUBSET/cloudy_daytime/discrete/images/val/front/det_2d.json' ...\n",
      "[08/31/2025 11:11:47] SHIFT DevKit - INFO - Loading annotation from '/workspace/ptta/data/SHIFT_SUBSET/cloudy_daytime/discrete/images/val/front/det_2d.json' Done.\n",
      "[08/31/2025 11:11:48] SHIFT DevKit - INFO - Loading annotation takes 1.19 seconds.\n",
      "[2025-08-31 11:11:48,367] INFO: Batch 0:\n",
      "[2025-08-31 11:11:48,368] INFO: Item                 Shape                               Min        Max       \n",
      "[2025-08-31 11:11:48,369] INFO: --------------------------------------------------------------------------------\n",
      "[2025-08-31 11:11:48,372] INFO: original_hw          [tensor([800]), tensor([1280])]\n",
      "[2025-08-31 11:11:48,374] INFO: input_hw             [tensor([800]), tensor([1280])]\n",
      "[2025-08-31 11:11:48,376] INFO: frame_ids            torch.Size([1])                           0.00       0.00\n",
      "[2025-08-31 11:11:48,377] INFO: name                 ['00000000_img_front.jpg']\n",
      "[2025-08-31 11:11:48,378] INFO: videoName            ['075f-be61']\n",
      "[2025-08-31 11:11:48,380] INFO: intrinsics           torch.Size([1, 3, 3])                     0.00     640.00\n",
      "[2025-08-31 11:11:48,381] INFO: extrinsics           torch.Size([1, 4, 4])                    -0.74     159.04\n",
      "[2025-08-31 11:11:48,382] INFO: boxes2d              torch.Size([1, 9, 4])                     0.00    1044.00\n",
      "[2025-08-31 11:11:48,383] INFO: boxes2d_classes      torch.Size([1, 9])                        0.00       2.00\n",
      "[2025-08-31 11:11:48,384] INFO: boxes2d_track_ids    torch.Size([1, 9])                        0.00       8.00\n",
      "[2025-08-31 11:11:48,385] INFO: images               torch.Size([1, 1, 3, 800, 1280])          0.00     255.00\n",
      "[2025-08-31 11:11:48,673] INFO: Video name: 075f-be61\n",
      "[2025-08-31 11:11:48,675] INFO: Sample indices within a video: [0, 1, 2, 3, 4, 5, 6, 7, 8, 9, 10, 11, 12, 13, 14, 15, 16, 17, 18, 19, 20, 21, 22, 23, 24, 25, 26, 27, 28, 29, 30, 31, 32, 33, 34, 35, 36, 37, 38, 39, 40, 41, 42, 43, 44, 45, 46, 47, 48, 49]\n"
     ]
    },
    {
     "data": {
      "application/vnd.jupyter.widget-view+json": {
       "model_id": "78a350b4f98c4ff280dbe8e663cc8c5a",
       "version_major": 2,
       "version_minor": 0
      },
      "text/plain": [
       "  0%|          | 0/13850 [00:00<?, ?it/s]"
      ]
     },
     "metadata": {},
     "output_type": "display_data"
    },
    {
     "data": {
      "application/vnd.jupyter.widget-view+json": {
       "model_id": "c5510366a9cc41bfa37d46342653d26d",
       "version_major": 2,
       "version_minor": 0
      },
      "text/plain": [
       "  0%|          | 0/150 [00:00<?, ?it/s]"
      ]
     },
     "metadata": {},
     "output_type": "display_data"
    },
    {
     "name": "stderr",
     "output_type": "stream",
     "text": [
      "[2025-08-31 11:16:14,299] INFO: mAP@0.95_cloudy: 0.490\n",
      "[2025-08-31 11:16:14,302] INFO: mAP50_cloudy: 0.663\n",
      "[2025-08-31 11:16:14,304] INFO: mAP75_cloudy: 0.537\n",
      "[2025-08-31 11:16:14,305] INFO: pedestrian_mAP@0.95_cloudy: 0.463\n",
      "[2025-08-31 11:16:14,306] INFO: car_mAP@0.95_cloudy: 0.562\n",
      "[2025-08-31 11:16:14,307] INFO: truck_mAP@0.95_cloudy: 0.558\n",
      "[2025-08-31 11:16:14,308] INFO: bus_mAP@0.95_cloudy: 0.464\n",
      "[2025-08-31 11:16:14,309] INFO: motorcycle_mAP@0.95_cloudy: 0.446\n",
      "[2025-08-31 11:16:14,310] INFO: bicycle_mAP@0.95_cloudy: 0.446\n",
      "[2025-08-31 11:16:14,385] INFO: [cloudy] batch 0: mAP50 -1.0000 -> 0.6630 ✔\n"
     ]
    },
    {
     "data": {
      "application/vnd.jupyter.widget-view+json": {
       "model_id": "e683e723c4f44b58a2a77665cde195c1",
       "version_major": 2,
       "version_minor": 0
      },
      "text/plain": [
       "  0%|          | 0/150 [00:00<?, ?it/s]"
      ]
     },
     "metadata": {},
     "output_type": "display_data"
    }
   ],
   "source": [
    "norm.train()"
   ]
  },
  {
   "cell_type": "code",
   "execution_count": null,
   "id": "ed09d969",
   "metadata": {},
   "outputs": [],
   "source": [
    "dua.train()"
   ]
  }
 ],
 "metadata": {
  "kernelspec": {
   "display_name": "ttadapters",
   "language": "python",
   "name": "python3"
  },
  "language_info": {
   "codemirror_mode": {
    "name": "ipython",
    "version": 3
   },
   "file_extension": ".py",
   "mimetype": "text/x-python",
   "name": "python",
   "nbconvert_exporter": "python",
   "pygments_lexer": "ipython3",
   "version": "3.11.13"
  }
 },
 "nbformat": 4,
 "nbformat_minor": 5
}
