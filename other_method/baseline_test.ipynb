{
 "cells": [
  {
   "cell_type": "code",
   "execution_count": 1,
   "id": "49e40e57",
   "metadata": {},
   "outputs": [
    {
     "name": "stdout",
     "output_type": "stream",
     "text": [
      "/workspace/ptta\n"
     ]
    }
   ],
   "source": [
    "import sys\n",
    "from pathlib import Path\n",
    "\n",
    "# 현재 폴더: ptta/other_method/ActMAD/\n",
    "# ptta 바로 위의 디렉토리를 sys.path에 추가\n",
    "PROJECT_PARENT = Path.cwd().parents[0]  # -> ptta/ 의 부모 디렉토리\n",
    "print(PROJECT_PARENT)\n",
    "sys.path.insert(0, str(PROJECT_PARENT))\n",
    "\n",
    "from os import path\n",
    "\n",
    "import torch\n",
    "from torch import nn, optim\n",
    "from torch.utils.data import DataLoader\n",
    "\n",
    "from ttadapters.datasets import BaseDataset, DatasetHolder, DataLoaderHolder\n",
    "from ttadapters.datasets import SHIFTClearDatasetForObjectDetection, SHIFTCorruptedDatasetForObjectDetection, SHIFTDiscreteSubsetForObjectDetection\n",
    "\n",
    "# from transformers import Trainer, TrainingArguments, EarlyStoppingCallback\n",
    "from accelerate import Accelerator, notebook_launcher\n",
    "\n",
    "from supervision.metrics.mean_average_precision import MeanAveragePrecision\n",
    "from supervision.detection.core import Detections\n",
    "\n",
    "# import wandb\n",
    "from tqdm.auto import tqdm\n",
    "import matplotlib.pyplot as plt"
   ]
  },
  {
   "cell_type": "markdown",
   "id": "fcf042fe",
   "metadata": {},
   "source": [
    "## Check GPU Availability"
   ]
  },
  {
   "cell_type": "code",
   "execution_count": 2,
   "id": "d008447c",
   "metadata": {},
   "outputs": [
    {
     "name": "stdout",
     "output_type": "stream",
     "text": [
      "Tue Sep  9 03:26:28 2025       \n",
      "+---------------------------------------------------------------------------------------+\n",
      "| NVIDIA-SMI 535.183.01             Driver Version: 535.183.01   CUDA Version: 12.2     |\n",
      "|-----------------------------------------+----------------------+----------------------+\n",
      "| GPU  Name                 Persistence-M | Bus-Id        Disp.A | Volatile Uncorr. ECC |\n",
      "| Fan  Temp   Perf          Pwr:Usage/Cap |         Memory-Usage | GPU-Util  Compute M. |\n",
      "|                                         |                      |               MIG M. |\n",
      "|=========================================+======================+======================|\n",
      "|   0  Tesla P100-PCIE-16GB           Off | 00000000:04:00.0 Off |                    0 |\n",
      "| N/A   40C    P0              34W / 250W |   2038MiB / 16384MiB |      0%      Default |\n",
      "|                                         |                      |                  N/A |\n",
      "+-----------------------------------------+----------------------+----------------------+\n",
      "|   1  Tesla P100-PCIE-16GB           Off | 00000000:06:00.0 Off |                    0 |\n",
      "| N/A   40C    P0              36W / 250W |  15524MiB / 16384MiB |      0%      Default |\n",
      "|                                         |                      |                  N/A |\n",
      "+-----------------------------------------+----------------------+----------------------+\n",
      "|   2  Tesla P100-PCIE-16GB           Off | 00000000:07:00.0 Off |                    0 |\n",
      "| N/A   49C    P0              35W / 250W |   1444MiB / 16384MiB |     28%      Default |\n",
      "|                                         |                      |                  N/A |\n",
      "+-----------------------------------------+----------------------+----------------------+\n",
      "|   3  Tesla P100-PCIE-16GB           Off | 00000000:08:00.0 Off |                    0 |\n",
      "| N/A   41C    P0              41W / 250W |  15406MiB / 16384MiB |      6%      Default |\n",
      "|                                         |                      |                  N/A |\n",
      "+-----------------------------------------+----------------------+----------------------+\n",
      "|   4  Tesla P100-PCIE-16GB           Off | 00000000:0C:00.0 Off |                    0 |\n",
      "| N/A   43C    P0              36W / 250W |   3052MiB / 16384MiB |     14%      Default |\n",
      "|                                         |                      |                  N/A |\n",
      "+-----------------------------------------+----------------------+----------------------+\n",
      "|   5  Tesla P100-PCIE-16GB           Off | 00000000:0D:00.0 Off |                    0 |\n",
      "| N/A   43C    P0              40W / 250W |  15770MiB / 16384MiB |      8%      Default |\n",
      "|                                         |                      |                  N/A |\n",
      "+-----------------------------------------+----------------------+----------------------+\n",
      "|   6  Tesla P100-PCIE-16GB           Off | 00000000:0E:00.0 Off |                    0 |\n",
      "| N/A   42C    P0              60W / 250W |   1412MiB / 16384MiB |     26%      Default |\n",
      "|                                         |                      |                  N/A |\n",
      "+-----------------------------------------+----------------------+----------------------+\n",
      "|   7  Tesla P100-PCIE-16GB           Off | 00000000:0F:00.0 Off |                    0 |\n",
      "| N/A   40C    P0              36W / 250W |  15506MiB / 16384MiB |     27%      Default |\n",
      "|                                         |                      |                  N/A |\n",
      "+-----------------------------------------+----------------------+----------------------+\n",
      "                                                                                         \n",
      "+---------------------------------------------------------------------------------------+\n",
      "| Processes:                                                                            |\n",
      "|  GPU   GI   CI        PID   Type   Process name                            GPU Memory |\n",
      "|        ID   ID                                                             Usage      |\n",
      "|=======================================================================================|\n",
      "+---------------------------------------------------------------------------------------+\n"
     ]
    }
   ],
   "source": [
    "!nvidia-smi"
   ]
  },
  {
   "cell_type": "code",
   "execution_count": 3,
   "id": "e4fc049d",
   "metadata": {},
   "outputs": [
    {
     "name": "stdout",
     "output_type": "stream",
     "text": [
      "INFO: Using device - cuda:0\n"
     ]
    }
   ],
   "source": [
    "# Set CUDA Device Number 0~7\n",
    "DEVICE_NUM = 0\n",
    "ADDITIONAL_GPU = 0\n",
    "DATA_TYPE = torch.bfloat16\n",
    "\n",
    "if torch.cuda.is_available():\n",
    "    if ADDITIONAL_GPU:\n",
    "        torch.cuda.set_device(DEVICE_NUM)\n",
    "        device = torch.device(\"cuda\")\n",
    "    else:\n",
    "        device = torch.device(f\"cuda:{DEVICE_NUM}\")\n",
    "else:\n",
    "    device = torch.device(\"cpu\")\n",
    "    DEVICE_NUM = -1\n",
    "\n",
    "print(f\"INFO: Using device - {device}\" + (f\":{DEVICE_NUM}\" if ADDITIONAL_GPU else \"\"))"
   ]
  },
  {
   "cell_type": "code",
   "execution_count": 4,
   "id": "e3d99b44",
   "metadata": {},
   "outputs": [],
   "source": [
    "PROJECT_NAME = \"ActMAD test\"\n",
    "RUN_NAME = \"RT-DETR_R50_ActMAD\""
   ]
  },
  {
   "cell_type": "markdown",
   "id": "b7121420",
   "metadata": {},
   "source": [
    "## Baseline"
   ]
  },
  {
   "cell_type": "code",
   "execution_count": 5,
   "id": "983b57fc",
   "metadata": {},
   "outputs": [
    {
     "name": "stdout",
     "output_type": "stream",
     "text": [
      "/workspace/ptta/data\n"
     ]
    }
   ],
   "source": [
    "import baseline\n",
    "\n",
    "data_root = path.normpath(path.join(Path.cwd(), \"..\", \"data\"))\n",
    "print(data_root)\n",
    "direct_method = baseline.Baseline(\n",
    "    device=device,\n",
    "    data_root=data_root,\n",
    "    save_dir=\"./direct_method_checkpoints\",\n",
    "    method=\"direct_method\",\n",
    "    model_arch=\"rt_detr\",\n",
    "    reference_model_id=\"PekingU/rtdetr_r50vd\",\n",
    "    image_size=800,\n",
    "    class_num=6,\n",
    "    valid_batch=16,\n",
    "    clean_bn_extract_batch=32,\n",
    "    model_states=\"/workspace/ptta/RT-DETR_R50vd_SHIFT_CLEAR.safetensors\",\n",
    "    lr=1e-4,\n",
    "    momentum=0.05,\n",
    "    mom_pre=0.07,\n",
    "    decay_factor=0.97,\n",
    "    min_momentum_constant=0.01,\n",
    "    patience=10,\n",
    "    eval_every=10,\n",
    "    enable_log_file=True\n",
    ")\n",
    "\n",
    "actmad = baseline.Baseline(\n",
    "    device=device,\n",
    "    data_root=data_root,\n",
    "    save_dir=\"./actmad_checkpoints\",\n",
    "    method=\"actmad\",\n",
    "    model_arch=\"rt_detr\",\n",
    "    reference_model_id=\"PekingU/rtdetr_r50vd\",\n",
    "    image_size=800,\n",
    "    class_num=6,\n",
    "    valid_batch=16,\n",
    "    clean_bn_extract_batch=16,\n",
    "    model_states=\"/workspace/ptta/RT-DETR_R50vd_SHIFT_CLEAR.safetensors\",\n",
    "    lr=1e-4,\n",
    "    momentum=0.05,\n",
    "    mom_pre=0.07,\n",
    "    decay_factor=0.97,\n",
    "    min_momentum_constant=0.01,\n",
    "    patience=10,\n",
    "    eval_every=10,\n",
    "    enable_log_file=True\n",
    ")\n",
    "\n",
    "norm = baseline.Baseline(\n",
    "    device=device,\n",
    "    data_root=data_root,\n",
    "    save_dir=\"./norm_checkpoints\",\n",
    "    method=\"norm\",\n",
    "    model_arch=\"rt_detr\",\n",
    "    reference_model_id=\"PekingU/rtdetr_r50vd\",\n",
    "    image_size=800,\n",
    "    class_num=6,\n",
    "    valid_batch=16,\n",
    "    clean_bn_extract_batch=16,\n",
    "    model_states=\"/workspace/ptta/RT-DETR_R50vd_SHIFT_CLEAR.safetensors\",\n",
    "    lr=1e-4,\n",
    "    momentum=0.05,\n",
    "    mom_pre=0.07,\n",
    "    decay_factor=0.97,\n",
    "    min_momentum_constant=0.01,\n",
    "    patience=10,\n",
    "    eval_every=10,\n",
    "    enable_log_file=True\n",
    ")\n",
    "\n",
    "dua = baseline.Baseline(\n",
    "    device=device,\n",
    "    data_root=data_root,\n",
    "    save_dir=\"./dua_checkpoints\",\n",
    "    method=\"dua\",\n",
    "    model_arch=\"rt_detr\",\n",
    "    reference_model_id=\"PekingU/rtdetr_r50vd\",\n",
    "    image_size=800,\n",
    "    class_num=6,\n",
    "    valid_batch=16,\n",
    "    clean_bn_extract_batch=16,\n",
    "    model_states=\"/workspace/ptta/RT-DETR_R50vd_SHIFT_CLEAR.safetensors\",\n",
    "    lr=1e-4,\n",
    "    momentum=0.05,\n",
    "    mom_pre=0.07,\n",
    "    decay_factor=0.97,\n",
    "    min_momentum_constant=0.01,\n",
    "    patience=10,\n",
    "    eval_every=10,\n",
    "    enable_log_file=True\n",
    ")\n",
    "\n",
    "mean_teacher = dua = baseline.Baseline(\n",
    "    device=device,\n",
    "    data_root=data_root,\n",
    "    save_dir=\"./mean_teacher_checkpoints\",\n",
    "    method=\"mean_teacher\",\n",
    "    model_arch=\"rt_detr\",\n",
    "    reference_model_id=\"PekingU/rtdetr_r50vd\",\n",
    "    image_size=800,\n",
    "    class_num=6,\n",
    "    valid_batch=4,\n",
    "    clean_bn_extract_batch=16,\n",
    "    model_states=\"/workspace/ptta/RT-DETR_R50vd_SHIFT_CLEAR.safetensors\",\n",
    "    lr=1e-4,\n",
    "    momentum=0.05,\n",
    "    mom_pre=0.07,\n",
    "    decay_factor=0.97,\n",
    "    min_momentum_constant=0.01,\n",
    "    use_scheduler=False,\n",
    "    warmup_steps=50,\n",
    "    decay_total_steps=20,\n",
    "    patience=10,\n",
    "    eval_every=10,\n",
    "    enable_log_file=True\n",
    ")"
   ]
  },
  {
   "cell_type": "code",
   "execution_count": 6,
   "id": "b7a429fd",
   "metadata": {},
   "outputs": [
    {
     "name": "stderr",
     "output_type": "stream",
     "text": [
      "[2025-09-09 03:26:32,014] INFO: Log file: ./mean_teacher_checkpoints/mean_teacher_20250909_032632.log\n",
      "[2025-09-09 03:26:32,526] INFO: start cloudy\n",
      "[2025-09-09 03:26:32,665] INFO: INFO: Downloading 'SHIFT_SUBSET' from file server to /workspace/ptta/data/SHIFT/discrete...\n",
      "[2025-09-09 03:26:32,667] INFO: INFO: Dataset archive found in the root directory. Skipping download.\n",
      "[2025-09-09 03:26:32,668] INFO: INFO: Subset split for 'SHIFT_SUBSET' dataset is already done. Skipping...\n",
      "[2025-09-09 03:26:32,669] INFO: INFO: Downloading 'SHIFT_SUBSET' from file server to /workspace/ptta/data/SHIFT/discrete...\n",
      "[2025-09-09 03:26:32,670] INFO: INFO: Dataset archive found in the root directory. Skipping download.\n",
      "[09/09/2025 03:26:32] SHIFT DevKit - INFO - Base: /workspace/ptta/data/SHIFT/discrete/images/train. Backend: <shift_dev.utils.backend.ZipBackend object at 0x7f6daf9ccf10>\n",
      "[09/09/2025 03:26:32] SHIFT DevKit - INFO - Loading annotation from '/workspace/ptta/data/SHIFT_SUBSET/cloudy_daytime/discrete/images/train/front/det_2d.json' ...\n",
      "[09/09/2025 03:26:34] SHIFT DevKit - INFO - Loading annotation from '/workspace/ptta/data/SHIFT_SUBSET/cloudy_daytime/discrete/images/train/front/det_2d.json' Done.\n",
      "[09/09/2025 03:26:43] SHIFT DevKit - INFO - Loading annotation takes 10.54 seconds.\n",
      "[2025-09-09 03:26:45,740] INFO: Batch 0:\n",
      "[2025-09-09 03:26:45,742] INFO: Item                 Shape                               Min        Max       \n",
      "[2025-09-09 03:26:45,743] INFO: --------------------------------------------------------------------------------\n",
      "[2025-09-09 03:26:45,747] INFO: original_hw          [tensor([800]), tensor([1280])]\n",
      "[2025-09-09 03:26:45,748] INFO: input_hw             [tensor([800]), tensor([1280])]\n",
      "[2025-09-09 03:26:45,749] INFO: frame_ids            torch.Size([1])                           0.00       0.00\n",
      "[2025-09-09 03:26:45,750] INFO: name                 ['00000000_img_front.jpg']\n",
      "[2025-09-09 03:26:45,751] INFO: videoName            ['01b2-4042']\n",
      "[2025-09-09 03:26:45,752] INFO: intrinsics           torch.Size([1, 3, 3])                     0.00     640.00\n",
      "[2025-09-09 03:26:45,753] INFO: extrinsics           torch.Size([1, 4, 4])                    -0.80      46.71\n",
      "[2025-09-09 03:26:45,753] INFO: boxes2d              torch.Size([1, 2, 4])                     0.00     476.00\n",
      "[2025-09-09 03:26:45,754] INFO: boxes2d_classes      torch.Size([1, 2])                        1.00       2.00\n",
      "[2025-09-09 03:26:45,755] INFO: boxes2d_track_ids    torch.Size([1, 2])                        0.00       1.00\n",
      "[2025-09-09 03:26:45,756] INFO: images               torch.Size([1, 1, 3, 800, 1280])          0.00     255.00\n",
      "[2025-09-09 03:26:47,381] INFO: Video name: 01b2-4042\n",
      "[2025-09-09 03:26:47,383] INFO: Sample indices within a video: [0, 1, 2, 3, 4, 5, 6, 7, 8, 9, 10, 11, 12, 13, 14, 15, 16, 17, 18, 19, 20, 21, 22, 23, 24, 25, 26, 27, 28, 29, 30, 31, 32, 33, 34, 35, 36, 37, 38, 39, 40, 41, 42, 43, 44, 45, 46, 47, 48, 49]\n",
      "[2025-09-09 03:26:47,386] INFO: INFO: Downloading 'SHIFT_SUBSET' from file server to /workspace/ptta/data/SHIFT/discrete...\n",
      "[2025-09-09 03:26:47,387] INFO: INFO: Dataset archive found in the root directory. Skipping download.\n",
      "[2025-09-09 03:26:47,389] INFO: INFO: Subset split for 'SHIFT_SUBSET' dataset is already done. Skipping...\n",
      "[2025-09-09 03:26:47,390] INFO: INFO: Downloading 'SHIFT_SUBSET' from file server to /workspace/ptta/data/SHIFT/discrete...\n",
      "[2025-09-09 03:26:47,391] INFO: INFO: Dataset archive found in the root directory. Skipping download.\n",
      "[09/09/2025 03:26:47] SHIFT DevKit - INFO - Base: /workspace/ptta/data/SHIFT/discrete/images/val. Backend: <shift_dev.utils.backend.ZipBackend object at 0x7f6daf9ccf10>\n",
      "[09/09/2025 03:26:47] SHIFT DevKit - INFO - Loading annotation from '/workspace/ptta/data/SHIFT_SUBSET/cloudy_daytime/discrete/images/val/front/det_2d.json' ...\n",
      "[09/09/2025 03:26:47] SHIFT DevKit - INFO - Loading annotation from '/workspace/ptta/data/SHIFT_SUBSET/cloudy_daytime/discrete/images/val/front/det_2d.json' Done.\n",
      "[09/09/2025 03:26:48] SHIFT DevKit - INFO - Loading annotation takes 1.29 seconds.\n",
      "[2025-09-09 03:26:48,929] INFO: Batch 0:\n",
      "[2025-09-09 03:26:48,931] INFO: Item                 Shape                               Min        Max       \n",
      "[2025-09-09 03:26:48,932] INFO: --------------------------------------------------------------------------------\n",
      "[2025-09-09 03:26:48,935] INFO: original_hw          [tensor([800]), tensor([1280])]\n",
      "[2025-09-09 03:26:48,937] INFO: input_hw             [tensor([800]), tensor([1280])]\n",
      "[2025-09-09 03:26:48,939] INFO: frame_ids            torch.Size([1])                           0.00       0.00\n",
      "[2025-09-09 03:26:48,940] INFO: name                 ['00000000_img_front.jpg']\n",
      "[2025-09-09 03:26:48,941] INFO: videoName            ['075f-be61']\n",
      "[2025-09-09 03:26:48,941] INFO: intrinsics           torch.Size([1, 3, 3])                     0.00     640.00\n",
      "[2025-09-09 03:26:48,943] INFO: extrinsics           torch.Size([1, 4, 4])                    -0.74     159.04\n",
      "[2025-09-09 03:26:48,944] INFO: boxes2d              torch.Size([1, 9, 4])                     0.00    1044.00\n",
      "[2025-09-09 03:26:48,945] INFO: boxes2d_classes      torch.Size([1, 9])                        0.00       2.00\n",
      "[2025-09-09 03:26:48,946] INFO: boxes2d_track_ids    torch.Size([1, 9])                        0.00       8.00\n",
      "[2025-09-09 03:26:48,947] INFO: images               torch.Size([1, 1, 3, 800, 1280])          0.00     255.00\n",
      "[2025-09-09 03:26:49,268] INFO: Video name: 075f-be61\n",
      "[2025-09-09 03:26:49,269] INFO: Sample indices within a video: [0, 1, 2, 3, 4, 5, 6, 7, 8, 9, 10, 11, 12, 13, 14, 15, 16, 17, 18, 19, 20, 21, 22, 23, 24, 25, 26, 27, 28, 29, 30, 31, 32, 33, 34, 35, 36, 37, 38, 39, 40, 41, 42, 43, 44, 45, 46, 47, 48, 49]\n"
     ]
    },
    {
     "data": {
      "application/vnd.jupyter.widget-view+json": {
       "model_id": "6671b7b5a168401c9b69b58aa4baa52e",
       "version_major": 2,
       "version_minor": 0
      },
      "text/plain": [
       "  0%|          | 0/13850 [00:00<?, ?it/s]"
      ]
     },
     "metadata": {},
     "output_type": "display_data"
    },
    {
     "name": "stderr",
     "output_type": "stream",
     "text": [
      "[2025-09-09 03:26:59,920] ERROR: UserWarning: This overload of add_ is deprecated:\n",
      "[2025-09-09 03:26:59,923] ERROR: \tadd_(Number alpha, Tensor other)\n",
      "[2025-09-09 03:26:59,925] ERROR: Consider using one of the following signatures instead:\n",
      "[2025-09-09 03:26:59,926] ERROR: \tadd_(Tensor other, *, Number alpha = 1) (Triggered internally at /pytorch/torch/csrc/utils/python_arg_parser.cpp:1691.)\n"
     ]
    },
    {
     "data": {
      "application/vnd.jupyter.widget-view+json": {
       "model_id": "dd838fa495b2429f85815aebb4848a61",
       "version_major": 2,
       "version_minor": 0
      },
      "text/plain": [
       "  0%|          | 0/600 [00:00<?, ?it/s]"
      ]
     },
     "metadata": {},
     "output_type": "display_data"
    },
    {
     "name": "stderr",
     "output_type": "stream",
     "text": [
      "[2025-09-09 03:31:59,103] INFO: mAP@0.95_cloudy: 0.486\n",
      "[2025-09-09 03:31:59,109] INFO: mAP50_cloudy: 0.663\n",
      "[2025-09-09 03:31:59,110] INFO: mAP75_cloudy: 0.533\n",
      "[2025-09-09 03:31:59,111] INFO: pedestrian_mAP@0.95_cloudy: 0.459\n",
      "[2025-09-09 03:31:59,112] INFO: car_mAP@0.95_cloudy: 0.558\n",
      "[2025-09-09 03:31:59,113] INFO: truck_mAP@0.95_cloudy: 0.556\n",
      "[2025-09-09 03:31:59,115] INFO: bus_mAP@0.95_cloudy: 0.458\n",
      "[2025-09-09 03:31:59,116] INFO: motorcycle_mAP@0.95_cloudy: 0.443\n",
      "[2025-09-09 03:31:59,116] INFO: bicycle_mAP@0.95_cloudy: 0.443\n",
      "[2025-09-09 03:31:59,147] INFO: [cloudy] batch 0: mAP50 -1.0000 -> 0.6633 ✔\n"
     ]
    },
    {
     "data": {
      "application/vnd.jupyter.widget-view+json": {
       "model_id": "204a4f42a1fc4963ab1b0d1b7b62c419",
       "version_major": 2,
       "version_minor": 0
      },
      "text/plain": [
       "  0%|          | 0/600 [00:00<?, ?it/s]"
      ]
     },
     "metadata": {},
     "output_type": "display_data"
    },
    {
     "name": "stderr",
     "output_type": "stream",
     "text": [
      "[2025-09-09 03:36:49,407] INFO: mAP@0.95_cloudy: 0.485\n",
      "[2025-09-09 03:36:49,413] INFO: mAP50_cloudy: 0.659\n",
      "[2025-09-09 03:36:49,414] INFO: mAP75_cloudy: 0.532\n",
      "[2025-09-09 03:36:49,415] INFO: pedestrian_mAP@0.95_cloudy: 0.459\n",
      "[2025-09-09 03:36:49,416] INFO: car_mAP@0.95_cloudy: 0.556\n",
      "[2025-09-09 03:36:49,417] INFO: truck_mAP@0.95_cloudy: 0.551\n",
      "[2025-09-09 03:36:49,418] INFO: bus_mAP@0.95_cloudy: 0.459\n",
      "[2025-09-09 03:36:49,419] INFO: motorcycle_mAP@0.95_cloudy: 0.444\n",
      "[2025-09-09 03:36:49,420] INFO: bicycle_mAP@0.95_cloudy: 0.443\n",
      "[2025-09-09 03:36:49,445] INFO: [cloudy] batch 1: mAP50 0.6594 (no-imp 1/10)\n"
     ]
    },
    {
     "data": {
      "application/vnd.jupyter.widget-view+json": {
       "model_id": "d473241f912940e78ad89c59e8e8c5c9",
       "version_major": 2,
       "version_minor": 0
      },
      "text/plain": [
       "  0%|          | 0/600 [00:00<?, ?it/s]"
      ]
     },
     "metadata": {},
     "output_type": "display_data"
    },
    {
     "name": "stderr",
     "output_type": "stream",
     "text": [
      "[2025-09-09 03:41:37,280] INFO: mAP@0.95_cloudy: 0.482\n",
      "[2025-09-09 03:41:37,287] INFO: mAP50_cloudy: 0.655\n",
      "[2025-09-09 03:41:37,288] INFO: mAP75_cloudy: 0.527\n",
      "[2025-09-09 03:41:37,289] INFO: pedestrian_mAP@0.95_cloudy: 0.457\n",
      "[2025-09-09 03:41:37,291] INFO: car_mAP@0.95_cloudy: 0.550\n",
      "[2025-09-09 03:41:37,291] INFO: truck_mAP@0.95_cloudy: 0.540\n",
      "[2025-09-09 03:41:37,292] INFO: bus_mAP@0.95_cloudy: 0.460\n",
      "[2025-09-09 03:41:37,293] INFO: motorcycle_mAP@0.95_cloudy: 0.442\n",
      "[2025-09-09 03:41:37,294] INFO: bicycle_mAP@0.95_cloudy: 0.442\n",
      "[2025-09-09 03:41:37,319] INFO: [cloudy] batch 2: mAP50 0.6547 (no-imp 2/10)\n"
     ]
    },
    {
     "data": {
      "application/vnd.jupyter.widget-view+json": {
       "model_id": "604f5f90deab42c0962a1548a6ba53c8",
       "version_major": 2,
       "version_minor": 0
      },
      "text/plain": [
       "  0%|          | 0/600 [00:00<?, ?it/s]"
      ]
     },
     "metadata": {},
     "output_type": "display_data"
    },
    {
     "name": "stderr",
     "output_type": "stream",
     "text": [
      "[2025-09-09 03:46:21,748] INFO: mAP@0.95_cloudy: 0.481\n",
      "[2025-09-09 03:46:21,754] INFO: mAP50_cloudy: 0.653\n",
      "[2025-09-09 03:46:21,755] INFO: mAP75_cloudy: 0.527\n",
      "[2025-09-09 03:46:21,755] INFO: pedestrian_mAP@0.95_cloudy: 0.456\n",
      "[2025-09-09 03:46:21,756] INFO: car_mAP@0.95_cloudy: 0.549\n",
      "[2025-09-09 03:46:21,757] INFO: truck_mAP@0.95_cloudy: 0.537\n",
      "[2025-09-09 03:46:21,758] INFO: bus_mAP@0.95_cloudy: 0.461\n",
      "[2025-09-09 03:46:21,759] INFO: motorcycle_mAP@0.95_cloudy: 0.442\n",
      "[2025-09-09 03:46:21,759] INFO: bicycle_mAP@0.95_cloudy: 0.442\n",
      "[2025-09-09 03:46:21,783] INFO: [cloudy] batch 3: mAP50 0.6529 (no-imp 3/10)\n"
     ]
    },
    {
     "data": {
      "application/vnd.jupyter.widget-view+json": {
       "model_id": "94ea89a364a848ed859ce38ffacaa03b",
       "version_major": 2,
       "version_minor": 0
      },
      "text/plain": [
       "  0%|          | 0/600 [00:00<?, ?it/s]"
      ]
     },
     "metadata": {},
     "output_type": "display_data"
    },
    {
     "name": "stderr",
     "output_type": "stream",
     "text": [
      "[2025-09-09 03:51:10,664] INFO: mAP@0.95_cloudy: 0.474\n",
      "[2025-09-09 03:51:10,671] INFO: mAP50_cloudy: 0.644\n",
      "[2025-09-09 03:51:10,673] INFO: mAP75_cloudy: 0.518\n",
      "[2025-09-09 03:51:10,674] INFO: pedestrian_mAP@0.95_cloudy: 0.453\n",
      "[2025-09-09 03:51:10,675] INFO: car_mAP@0.95_cloudy: 0.537\n",
      "[2025-09-09 03:51:10,675] INFO: truck_mAP@0.95_cloudy: 0.519\n",
      "[2025-09-09 03:51:10,676] INFO: bus_mAP@0.95_cloudy: 0.453\n",
      "[2025-09-09 03:51:10,677] INFO: motorcycle_mAP@0.95_cloudy: 0.439\n",
      "[2025-09-09 03:51:10,678] INFO: bicycle_mAP@0.95_cloudy: 0.439\n",
      "[2025-09-09 03:51:10,702] INFO: [cloudy] batch 4: mAP50 0.6435 (no-imp 4/10)\n"
     ]
    },
    {
     "data": {
      "application/vnd.jupyter.widget-view+json": {
       "model_id": "8fb6da14486d4a8d909e2e387c265d7c",
       "version_major": 2,
       "version_minor": 0
      },
      "text/plain": [
       "  0%|          | 0/600 [00:00<?, ?it/s]"
      ]
     },
     "metadata": {},
     "output_type": "display_data"
    },
    {
     "name": "stderr",
     "output_type": "stream",
     "text": [
      "[2025-09-09 03:55:56,167] INFO: mAP@0.95_cloudy: 0.466\n",
      "[2025-09-09 03:55:56,172] INFO: mAP50_cloudy: 0.634\n",
      "[2025-09-09 03:55:56,173] INFO: mAP75_cloudy: 0.508\n",
      "[2025-09-09 03:55:56,174] INFO: pedestrian_mAP@0.95_cloudy: 0.449\n",
      "[2025-09-09 03:55:56,175] INFO: car_mAP@0.95_cloudy: 0.524\n",
      "[2025-09-09 03:55:56,176] INFO: truck_mAP@0.95_cloudy: 0.504\n",
      "[2025-09-09 03:55:56,177] INFO: bus_mAP@0.95_cloudy: 0.445\n",
      "[2025-09-09 03:55:56,178] INFO: motorcycle_mAP@0.95_cloudy: 0.438\n",
      "[2025-09-09 03:55:56,179] INFO: bicycle_mAP@0.95_cloudy: 0.438\n",
      "[2025-09-09 03:55:56,202] INFO: [cloudy] batch 5: mAP50 0.6341 (no-imp 5/10)\n"
     ]
    },
    {
     "data": {
      "application/vnd.jupyter.widget-view+json": {
       "model_id": "73a0ff377ac147e184cc148a26379b70",
       "version_major": 2,
       "version_minor": 0
      },
      "text/plain": [
       "  0%|          | 0/600 [00:00<?, ?it/s]"
      ]
     },
     "metadata": {},
     "output_type": "display_data"
    },
    {
     "name": "stderr",
     "output_type": "stream",
     "text": [
      "[2025-09-09 04:00:38,944] INFO: mAP@0.95_cloudy: 0.461\n",
      "[2025-09-09 04:00:38,952] INFO: mAP50_cloudy: 0.627\n",
      "[2025-09-09 04:00:38,953] INFO: mAP75_cloudy: 0.504\n",
      "[2025-09-09 04:00:38,954] INFO: pedestrian_mAP@0.95_cloudy: 0.445\n",
      "[2025-09-09 04:00:38,955] INFO: car_mAP@0.95_cloudy: 0.511\n",
      "[2025-09-09 04:00:38,956] INFO: truck_mAP@0.95_cloudy: 0.494\n",
      "[2025-09-09 04:00:38,958] INFO: bus_mAP@0.95_cloudy: 0.440\n",
      "[2025-09-09 04:00:38,960] INFO: motorcycle_mAP@0.95_cloudy: 0.438\n",
      "[2025-09-09 04:00:38,961] INFO: bicycle_mAP@0.95_cloudy: 0.436\n",
      "[2025-09-09 04:00:38,988] INFO: [cloudy] batch 6: mAP50 0.6274 (no-imp 6/10)\n"
     ]
    },
    {
     "data": {
      "application/vnd.jupyter.widget-view+json": {
       "model_id": "c6412b9c2d87447e8baee14da440b10e",
       "version_major": 2,
       "version_minor": 0
      },
      "text/plain": [
       "  0%|          | 0/600 [00:00<?, ?it/s]"
      ]
     },
     "metadata": {},
     "output_type": "display_data"
    },
    {
     "name": "stderr",
     "output_type": "stream",
     "text": [
      "[2025-09-09 04:05:26,416] INFO: mAP@0.95_cloudy: 0.456\n",
      "[2025-09-09 04:05:26,445] INFO: mAP50_cloudy: 0.620\n",
      "[2025-09-09 04:05:26,446] INFO: mAP75_cloudy: 0.499\n",
      "[2025-09-09 04:05:26,447] INFO: pedestrian_mAP@0.95_cloudy: 0.443\n",
      "[2025-09-09 04:05:26,448] INFO: car_mAP@0.95_cloudy: 0.502\n",
      "[2025-09-09 04:05:26,448] INFO: truck_mAP@0.95_cloudy: 0.488\n",
      "[2025-09-09 04:05:26,449] INFO: bus_mAP@0.95_cloudy: 0.435\n",
      "[2025-09-09 04:05:26,450] INFO: motorcycle_mAP@0.95_cloudy: 0.435\n",
      "[2025-09-09 04:05:26,451] INFO: bicycle_mAP@0.95_cloudy: 0.436\n",
      "[2025-09-09 04:05:26,477] INFO: [cloudy] batch 7: mAP50 0.6202 (no-imp 7/10)\n"
     ]
    },
    {
     "data": {
      "application/vnd.jupyter.widget-view+json": {
       "model_id": "15a665e144b64f3e86bed22133d7550d",
       "version_major": 2,
       "version_minor": 0
      },
      "text/plain": [
       "  0%|          | 0/600 [00:00<?, ?it/s]"
      ]
     },
     "metadata": {},
     "output_type": "display_data"
    },
    {
     "name": "stderr",
     "output_type": "stream",
     "text": [
      "[2025-09-09 04:10:10,438] INFO: mAP@0.95_cloudy: 0.453\n",
      "[2025-09-09 04:10:10,443] INFO: mAP50_cloudy: 0.615\n",
      "[2025-09-09 04:10:10,445] INFO: mAP75_cloudy: 0.496\n",
      "[2025-09-09 04:10:10,445] INFO: pedestrian_mAP@0.95_cloudy: 0.441\n",
      "[2025-09-09 04:10:10,446] INFO: car_mAP@0.95_cloudy: 0.495\n",
      "[2025-09-09 04:10:10,447] INFO: truck_mAP@0.95_cloudy: 0.481\n",
      "[2025-09-09 04:10:10,448] INFO: bus_mAP@0.95_cloudy: 0.432\n",
      "[2025-09-09 04:10:10,449] INFO: motorcycle_mAP@0.95_cloudy: 0.435\n",
      "[2025-09-09 04:10:10,449] INFO: bicycle_mAP@0.95_cloudy: 0.434\n",
      "[2025-09-09 04:10:10,476] INFO: [cloudy] batch 8: mAP50 0.6154 (no-imp 8/10)\n"
     ]
    },
    {
     "data": {
      "application/vnd.jupyter.widget-view+json": {
       "model_id": "6dceb517d4b44652892fdcc44de09992",
       "version_major": 2,
       "version_minor": 0
      },
      "text/plain": [
       "  0%|          | 0/600 [00:00<?, ?it/s]"
      ]
     },
     "metadata": {},
     "output_type": "display_data"
    },
    {
     "name": "stderr",
     "output_type": "stream",
     "text": [
      "[2025-09-09 04:14:54,664] INFO: mAP@0.95_cloudy: 0.450\n",
      "[2025-09-09 04:14:54,672] INFO: mAP50_cloudy: 0.612\n",
      "[2025-09-09 04:14:54,673] INFO: mAP75_cloudy: 0.493\n",
      "[2025-09-09 04:14:54,674] INFO: pedestrian_mAP@0.95_cloudy: 0.439\n",
      "[2025-09-09 04:14:54,675] INFO: car_mAP@0.95_cloudy: 0.489\n",
      "[2025-09-09 04:14:54,676] INFO: truck_mAP@0.95_cloudy: 0.477\n",
      "[2025-09-09 04:14:54,677] INFO: bus_mAP@0.95_cloudy: 0.430\n",
      "[2025-09-09 04:14:54,678] INFO: motorcycle_mAP@0.95_cloudy: 0.434\n",
      "[2025-09-09 04:14:54,679] INFO: bicycle_mAP@0.95_cloudy: 0.433\n",
      "[2025-09-09 04:14:54,705] INFO: [cloudy] batch 9: mAP50 0.6116 (no-imp 9/10)\n"
     ]
    },
    {
     "data": {
      "application/vnd.jupyter.widget-view+json": {
       "model_id": "681938109b0a46c5af7afa1ad8dcd2c6",
       "version_major": 2,
       "version_minor": 0
      },
      "text/plain": [
       "  0%|          | 0/600 [00:00<?, ?it/s]"
      ]
     },
     "metadata": {},
     "output_type": "display_data"
    },
    {
     "name": "stderr",
     "output_type": "stream",
     "text": [
      "[2025-09-09 04:19:37,536] INFO: mAP@0.95_cloudy: 0.448\n",
      "[2025-09-09 04:19:37,543] INFO: mAP50_cloudy: 0.607\n",
      "[2025-09-09 04:19:37,544] INFO: mAP75_cloudy: 0.491\n",
      "[2025-09-09 04:19:37,545] INFO: pedestrian_mAP@0.95_cloudy: 0.438\n",
      "[2025-09-09 04:19:37,546] INFO: car_mAP@0.95_cloudy: 0.483\n",
      "[2025-09-09 04:19:37,547] INFO: truck_mAP@0.95_cloudy: 0.473\n",
      "[2025-09-09 04:19:37,548] INFO: bus_mAP@0.95_cloudy: 0.427\n",
      "[2025-09-09 04:19:37,548] INFO: motorcycle_mAP@0.95_cloudy: 0.433\n",
      "[2025-09-09 04:19:37,549] INFO: bicycle_mAP@0.95_cloudy: 0.432\n",
      "[2025-09-09 04:19:37,579] INFO: [cloudy] batch 10: mAP50 0.6074 (no-imp 10/10)\n",
      "[2025-09-09 04:19:37,580] INFO: [cloudy] Early stop at batch 10 (no improvement 10 times).\n"
     ]
    },
    {
     "data": {
      "application/vnd.jupyter.widget-view+json": {
       "model_id": "a767064206af43f88025b31ea4e4ee35",
       "version_major": 2,
       "version_minor": 0
      },
      "text/plain": [
       "  0%|          | 0/600 [00:00<?, ?it/s]"
      ]
     },
     "metadata": {},
     "output_type": "display_data"
    },
    {
     "name": "stderr",
     "output_type": "stream",
     "text": [
      "[2025-09-09 04:24:26,689] INFO: mAP@0.95_cloudy: 0.486\n",
      "[2025-09-09 04:24:26,694] INFO: mAP50_cloudy: 0.663\n",
      "[2025-09-09 04:24:26,695] INFO: mAP75_cloudy: 0.533\n",
      "[2025-09-09 04:24:26,696] INFO: pedestrian_mAP@0.95_cloudy: 0.459\n",
      "[2025-09-09 04:24:26,697] INFO: car_mAP@0.95_cloudy: 0.558\n",
      "[2025-09-09 04:24:26,698] INFO: truck_mAP@0.95_cloudy: 0.556\n",
      "[2025-09-09 04:24:26,699] INFO: bus_mAP@0.95_cloudy: 0.458\n",
      "[2025-09-09 04:24:26,699] INFO: motorcycle_mAP@0.95_cloudy: 0.443\n",
      "[2025-09-09 04:24:26,700] INFO: bicycle_mAP@0.95_cloudy: 0.443\n",
      "[2025-09-09 04:24:27,113] INFO: Saved adapted Mean-Teacher model after task [cloudy] → ./mean_teacher_checkpoints/mean_teacher_model_cloudy.pth\n",
      "[2025-09-09 04:24:27,221] INFO: start overcast\n",
      "[2025-09-09 04:24:27,358] INFO: INFO: Downloading 'SHIFT_SUBSET' from file server to /workspace/ptta/data/SHIFT/discrete...\n",
      "[2025-09-09 04:24:27,360] INFO: INFO: Dataset archive found in the root directory. Skipping download.\n",
      "[2025-09-09 04:24:27,361] INFO: INFO: Subset split for 'SHIFT_SUBSET' dataset is already done. Skipping...\n",
      "[2025-09-09 04:24:27,362] INFO: INFO: Downloading 'SHIFT_SUBSET' from file server to /workspace/ptta/data/SHIFT/discrete...\n",
      "[2025-09-09 04:24:27,363] INFO: INFO: Dataset archive found in the root directory. Skipping download.\n",
      "[09/09/2025 04:24:27] SHIFT DevKit - INFO - Base: /workspace/ptta/data/SHIFT/discrete/images/train. Backend: <shift_dev.utils.backend.ZipBackend object at 0x7f6daf9ccf10>\n",
      "[09/09/2025 04:24:27] SHIFT DevKit - INFO - Loading annotation from '/workspace/ptta/data/SHIFT_SUBSET/overcast_daytime/discrete/images/train/front/det_2d.json' ...\n",
      "[09/09/2025 04:24:27] SHIFT DevKit - INFO - Loading annotation from '/workspace/ptta/data/SHIFT_SUBSET/overcast_daytime/discrete/images/train/front/det_2d.json' Done.\n",
      "[09/09/2025 04:24:31] SHIFT DevKit - INFO - Loading annotation takes 4.18 seconds.\n",
      "[2025-09-09 04:24:31,673] INFO: Batch 0:\n",
      "[2025-09-09 04:24:31,676] INFO: Item                 Shape                               Min        Max       \n",
      "[2025-09-09 04:24:31,677] INFO: --------------------------------------------------------------------------------\n",
      "[2025-09-09 04:24:31,680] INFO: original_hw          [tensor([800]), tensor([1280])]\n",
      "[2025-09-09 04:24:31,681] INFO: input_hw             [tensor([800]), tensor([1280])]\n",
      "[2025-09-09 04:24:31,683] INFO: frame_ids            torch.Size([1])                           0.00       0.00\n",
      "[2025-09-09 04:24:31,683] INFO: name                 ['00000000_img_front.jpg']\n",
      "[2025-09-09 04:24:31,684] INFO: videoName            ['011b-c078']\n",
      "[2025-09-09 04:24:31,686] INFO: intrinsics           torch.Size([1, 3, 3])                     0.00     640.00\n",
      "[2025-09-09 04:24:31,687] INFO: extrinsics           torch.Size([1, 4, 4])                   -67.90      13.78\n",
      "[2025-09-09 04:24:31,688] INFO: boxes2d              torch.Size([1, 10, 4])                    0.00    1217.00\n",
      "[2025-09-09 04:24:31,689] INFO: boxes2d_classes      torch.Size([1, 10])                       0.00       2.00\n",
      "[2025-09-09 04:24:31,690] INFO: boxes2d_track_ids    torch.Size([1, 10])                       0.00       9.00\n",
      "[2025-09-09 04:24:31,699] INFO: images               torch.Size([1, 1, 3, 800, 1280])          0.00     255.00\n",
      "[2025-09-09 04:24:32,610] INFO: Video name: 011b-c078\n",
      "[2025-09-09 04:24:32,611] INFO: Sample indices within a video: [0, 1, 2, 3, 4, 5, 6, 7, 8, 9, 10, 11, 12, 13, 14, 15, 16, 17, 18, 19, 20, 21, 22, 23, 24, 25, 26, 27, 28, 29, 30, 31, 32, 33, 34, 35, 36, 37, 38, 39, 40, 41, 42, 43, 44, 45, 46, 47, 48, 49]\n",
      "[2025-09-09 04:24:32,614] INFO: INFO: Downloading 'SHIFT_SUBSET' from file server to /workspace/ptta/data/SHIFT/discrete...\n",
      "[2025-09-09 04:24:32,615] INFO: INFO: Dataset archive found in the root directory. Skipping download.\n",
      "[2025-09-09 04:24:32,616] INFO: INFO: Subset split for 'SHIFT_SUBSET' dataset is already done. Skipping...\n",
      "[2025-09-09 04:24:32,617] INFO: INFO: Downloading 'SHIFT_SUBSET' from file server to /workspace/ptta/data/SHIFT/discrete...\n",
      "[2025-09-09 04:24:32,618] INFO: INFO: Dataset archive found in the root directory. Skipping download.\n",
      "[09/09/2025 04:24:32] SHIFT DevKit - INFO - Base: /workspace/ptta/data/SHIFT/discrete/images/val. Backend: <shift_dev.utils.backend.ZipBackend object at 0x7f6daf9ccf10>\n",
      "[09/09/2025 04:24:32] SHIFT DevKit - INFO - Loading annotation from '/workspace/ptta/data/SHIFT_SUBSET/overcast_daytime/discrete/images/val/front/det_2d.json' ...\n",
      "[09/09/2025 04:24:32] SHIFT DevKit - INFO - Loading annotation from '/workspace/ptta/data/SHIFT_SUBSET/overcast_daytime/discrete/images/val/front/det_2d.json' Done.\n",
      "[09/09/2025 04:24:33] SHIFT DevKit - INFO - Loading annotation takes 0.74 seconds.\n",
      "[2025-09-09 04:24:33,400] INFO: Batch 0:\n",
      "[2025-09-09 04:24:33,401] INFO: Item                 Shape                               Min        Max       \n",
      "[2025-09-09 04:24:33,402] INFO: --------------------------------------------------------------------------------\n",
      "[2025-09-09 04:24:33,405] INFO: original_hw          [tensor([800]), tensor([1280])]\n",
      "[2025-09-09 04:24:33,407] INFO: input_hw             [tensor([800]), tensor([1280])]\n",
      "[2025-09-09 04:24:33,408] INFO: frame_ids            torch.Size([1])                           0.00       0.00\n",
      "[2025-09-09 04:24:33,409] INFO: name                 ['00000000_img_front.jpg']\n",
      "[2025-09-09 04:24:33,410] INFO: videoName            ['0aee-69fd']\n",
      "[2025-09-09 04:24:33,411] INFO: intrinsics           torch.Size([1, 3, 3])                     0.00     640.00\n",
      "[2025-09-09 04:24:33,412] INFO: extrinsics           torch.Size([1, 4, 4])                    -5.76     162.09\n",
      "[2025-09-09 04:24:33,413] INFO: boxes2d              torch.Size([1, 5, 4])                   255.00     881.00\n",
      "[2025-09-09 04:24:33,414] INFO: boxes2d_classes      torch.Size([1, 5])                        1.00       5.00\n",
      "[2025-09-09 04:24:33,415] INFO: boxes2d_track_ids    torch.Size([1, 5])                        0.00       4.00\n",
      "[2025-09-09 04:24:33,416] INFO: images               torch.Size([1, 1, 3, 800, 1280])          0.00     255.00\n",
      "[2025-09-09 04:24:33,618] INFO: Video name: 0aee-69fd\n",
      "[2025-09-09 04:24:33,619] INFO: Sample indices within a video: [0, 1, 2, 3, 4, 5, 6, 7, 8, 9, 10, 11, 12, 13, 14, 15, 16, 17, 18, 19, 20, 21, 22, 23, 24, 25, 26, 27, 28, 29, 30, 31, 32, 33, 34, 35, 36, 37, 38, 39, 40, 41, 42, 43, 44, 45, 46, 47, 48, 49]\n"
     ]
    },
    {
     "data": {
      "application/vnd.jupyter.widget-view+json": {
       "model_id": "1fc1af51aa76424b9747c6c4701f9bf8",
       "version_major": 2,
       "version_minor": 0
      },
      "text/plain": [
       "  0%|          | 0/7850 [00:00<?, ?it/s]"
      ]
     },
     "metadata": {},
     "output_type": "display_data"
    },
    {
     "data": {
      "application/vnd.jupyter.widget-view+json": {
       "model_id": "ae5ea3c5fd634c89a50a80b66ecccb4f",
       "version_major": 2,
       "version_minor": 0
      },
      "text/plain": [
       "  0%|          | 0/400 [00:00<?, ?it/s]"
      ]
     },
     "metadata": {},
     "output_type": "display_data"
    },
    {
     "name": "stderr",
     "output_type": "stream",
     "text": [
      "[2025-09-09 04:27:43,552] INFO: mAP@0.95_overcast: 0.330\n",
      "[2025-09-09 04:27:43,556] INFO: mAP50_overcast: 0.444\n",
      "[2025-09-09 04:27:43,557] INFO: mAP75_overcast: 0.353\n",
      "[2025-09-09 04:27:43,558] INFO: pedestrian_mAP@0.95_overcast: 0.391\n",
      "[2025-09-09 04:27:43,559] INFO: car_mAP@0.95_overcast: 0.399\n",
      "[2025-09-09 04:27:43,560] INFO: truck_mAP@0.95_overcast: 0.408\n",
      "[2025-09-09 04:27:43,561] INFO: bus_mAP@0.95_overcast: 0.219\n",
      "[2025-09-09 04:27:43,562] INFO: motorcycle_mAP@0.95_overcast: 0.304\n",
      "[2025-09-09 04:27:43,563] INFO: bicycle_mAP@0.95_overcast: 0.260\n",
      "[2025-09-09 04:27:43,587] INFO: [overcast] batch 0: mAP50 -1.0000 -> 0.4444 ✔\n"
     ]
    },
    {
     "data": {
      "application/vnd.jupyter.widget-view+json": {
       "model_id": "e65f9dc7b9cf46bfadc13297694efa34",
       "version_major": 2,
       "version_minor": 0
      },
      "text/plain": [
       "  0%|          | 0/400 [00:00<?, ?it/s]"
      ]
     },
     "metadata": {},
     "output_type": "display_data"
    },
    {
     "name": "stderr",
     "output_type": "stream",
     "text": [
      "[2025-09-09 04:30:51,752] INFO: mAP@0.95_overcast: 0.326\n",
      "[2025-09-09 04:30:51,756] INFO: mAP50_overcast: 0.444\n",
      "[2025-09-09 04:30:51,757] INFO: mAP75_overcast: 0.349\n",
      "[2025-09-09 04:30:51,758] INFO: pedestrian_mAP@0.95_overcast: 0.374\n",
      "[2025-09-09 04:30:51,759] INFO: car_mAP@0.95_overcast: 0.398\n",
      "[2025-09-09 04:30:51,760] INFO: truck_mAP@0.95_overcast: 0.409\n",
      "[2025-09-09 04:30:51,761] INFO: bus_mAP@0.95_overcast: 0.220\n",
      "[2025-09-09 04:30:51,761] INFO: motorcycle_mAP@0.95_overcast: 0.307\n",
      "[2025-09-09 04:30:51,763] INFO: bicycle_mAP@0.95_overcast: 0.250\n",
      "[2025-09-09 04:30:51,781] INFO: [overcast] batch 1: mAP50 0.4444 (no-imp 1/10)\n"
     ]
    },
    {
     "data": {
      "application/vnd.jupyter.widget-view+json": {
       "model_id": "b0a384ec410745e2b5d1fb5657611171",
       "version_major": 2,
       "version_minor": 0
      },
      "text/plain": [
       "  0%|          | 0/400 [00:00<?, ?it/s]"
      ]
     },
     "metadata": {},
     "output_type": "display_data"
    },
    {
     "name": "stderr",
     "output_type": "stream",
     "text": [
      "[2025-09-09 04:34:00,311] INFO: mAP@0.95_overcast: 0.334\n",
      "[2025-09-09 04:34:00,315] INFO: mAP50_overcast: 0.451\n",
      "[2025-09-09 04:34:00,316] INFO: mAP75_overcast: 0.358\n",
      "[2025-09-09 04:34:00,317] INFO: pedestrian_mAP@0.95_overcast: 0.390\n",
      "[2025-09-09 04:34:00,318] INFO: car_mAP@0.95_overcast: 0.408\n",
      "[2025-09-09 04:34:00,319] INFO: truck_mAP@0.95_overcast: 0.417\n",
      "[2025-09-09 04:34:00,320] INFO: bus_mAP@0.95_overcast: 0.220\n",
      "[2025-09-09 04:34:00,321] INFO: motorcycle_mAP@0.95_overcast: 0.310\n",
      "[2025-09-09 04:34:00,322] INFO: bicycle_mAP@0.95_overcast: 0.261\n",
      "[2025-09-09 04:34:00,342] INFO: [overcast] batch 2: mAP50 0.4444 -> 0.4508 ✔\n"
     ]
    },
    {
     "data": {
      "application/vnd.jupyter.widget-view+json": {
       "model_id": "fbd4e56562d04f55bcb9b2722b0bea69",
       "version_major": 2,
       "version_minor": 0
      },
      "text/plain": [
       "  0%|          | 0/400 [00:00<?, ?it/s]"
      ]
     },
     "metadata": {},
     "output_type": "display_data"
    },
    {
     "name": "stderr",
     "output_type": "stream",
     "text": [
      "[2025-09-09 04:37:08,822] INFO: mAP@0.95_overcast: 0.332\n",
      "[2025-09-09 04:37:08,826] INFO: mAP50_overcast: 0.451\n",
      "[2025-09-09 04:37:08,827] INFO: mAP75_overcast: 0.355\n",
      "[2025-09-09 04:37:08,828] INFO: pedestrian_mAP@0.95_overcast: 0.385\n",
      "[2025-09-09 04:37:08,829] INFO: car_mAP@0.95_overcast: 0.408\n",
      "[2025-09-09 04:37:08,829] INFO: truck_mAP@0.95_overcast: 0.414\n",
      "[2025-09-09 04:37:08,830] INFO: bus_mAP@0.95_overcast: 0.220\n",
      "[2025-09-09 04:37:08,831] INFO: motorcycle_mAP@0.95_overcast: 0.306\n",
      "[2025-09-09 04:37:08,832] INFO: bicycle_mAP@0.95_overcast: 0.259\n",
      "[2025-09-09 04:37:08,852] INFO: [overcast] batch 3: mAP50 0.4508 -> 0.4513 ✔\n"
     ]
    },
    {
     "data": {
      "application/vnd.jupyter.widget-view+json": {
       "model_id": "c9bbb7d0825041f79ce308fa6bbef800",
       "version_major": 2,
       "version_minor": 0
      },
      "text/plain": [
       "  0%|          | 0/400 [00:00<?, ?it/s]"
      ]
     },
     "metadata": {},
     "output_type": "display_data"
    },
    {
     "name": "stderr",
     "output_type": "stream",
     "text": [
      "[2025-09-09 04:40:17,887] INFO: mAP@0.95_overcast: 0.328\n",
      "[2025-09-09 04:40:17,891] INFO: mAP50_overcast: 0.445\n",
      "[2025-09-09 04:40:17,892] INFO: mAP75_overcast: 0.351\n",
      "[2025-09-09 04:40:17,893] INFO: pedestrian_mAP@0.95_overcast: 0.381\n",
      "[2025-09-09 04:40:17,894] INFO: car_mAP@0.95_overcast: 0.402\n",
      "[2025-09-09 04:40:17,895] INFO: truck_mAP@0.95_overcast: 0.407\n",
      "[2025-09-09 04:40:17,896] INFO: bus_mAP@0.95_overcast: 0.219\n",
      "[2025-09-09 04:40:17,897] INFO: motorcycle_mAP@0.95_overcast: 0.304\n",
      "[2025-09-09 04:40:17,898] INFO: bicycle_mAP@0.95_overcast: 0.254\n",
      "[2025-09-09 04:40:17,923] INFO: [overcast] batch 4: mAP50 0.4449 (no-imp 1/10)\n"
     ]
    },
    {
     "data": {
      "application/vnd.jupyter.widget-view+json": {
       "model_id": "f568d3b8798449aa82fb90080fd0673c",
       "version_major": 2,
       "version_minor": 0
      },
      "text/plain": [
       "  0%|          | 0/400 [00:00<?, ?it/s]"
      ]
     },
     "metadata": {},
     "output_type": "display_data"
    },
    {
     "name": "stderr",
     "output_type": "stream",
     "text": [
      "[2025-09-09 04:43:26,824] INFO: mAP@0.95_overcast: 0.324\n",
      "[2025-09-09 04:43:26,828] INFO: mAP50_overcast: 0.441\n",
      "[2025-09-09 04:43:26,829] INFO: mAP75_overcast: 0.346\n",
      "[2025-09-09 04:43:26,830] INFO: pedestrian_mAP@0.95_overcast: 0.377\n",
      "[2025-09-09 04:43:26,832] INFO: car_mAP@0.95_overcast: 0.398\n",
      "[2025-09-09 04:43:26,834] INFO: truck_mAP@0.95_overcast: 0.400\n",
      "[2025-09-09 04:43:26,835] INFO: bus_mAP@0.95_overcast: 0.219\n",
      "[2025-09-09 04:43:26,836] INFO: motorcycle_mAP@0.95_overcast: 0.300\n",
      "[2025-09-09 04:43:26,838] INFO: bicycle_mAP@0.95_overcast: 0.252\n",
      "[2025-09-09 04:43:26,861] INFO: [overcast] batch 5: mAP50 0.4408 (no-imp 2/10)\n"
     ]
    },
    {
     "data": {
      "application/vnd.jupyter.widget-view+json": {
       "model_id": "7fe7883bb06e4f4aaee2d59186bd9633",
       "version_major": 2,
       "version_minor": 0
      },
      "text/plain": [
       "  0%|          | 0/400 [00:00<?, ?it/s]"
      ]
     },
     "metadata": {},
     "output_type": "display_data"
    },
    {
     "name": "stderr",
     "output_type": "stream",
     "text": [
      "[2025-09-09 04:46:36,739] INFO: mAP@0.95_overcast: 0.321\n",
      "[2025-09-09 04:46:36,743] INFO: mAP50_overcast: 0.435\n",
      "[2025-09-09 04:46:36,745] INFO: mAP75_overcast: 0.344\n",
      "[2025-09-09 04:46:36,746] INFO: pedestrian_mAP@0.95_overcast: 0.373\n",
      "[2025-09-09 04:46:36,747] INFO: car_mAP@0.95_overcast: 0.395\n",
      "[2025-09-09 04:46:36,748] INFO: truck_mAP@0.95_overcast: 0.392\n",
      "[2025-09-09 04:46:36,748] INFO: bus_mAP@0.95_overcast: 0.219\n",
      "[2025-09-09 04:46:36,749] INFO: motorcycle_mAP@0.95_overcast: 0.297\n",
      "[2025-09-09 04:46:36,750] INFO: bicycle_mAP@0.95_overcast: 0.247\n",
      "[2025-09-09 04:46:36,768] INFO: [overcast] batch 6: mAP50 0.4348 (no-imp 3/10)\n"
     ]
    },
    {
     "data": {
      "application/vnd.jupyter.widget-view+json": {
       "model_id": "4069441bdf134cae995d0cc6723557c1",
       "version_major": 2,
       "version_minor": 0
      },
      "text/plain": [
       "  0%|          | 0/400 [00:00<?, ?it/s]"
      ]
     },
     "metadata": {},
     "output_type": "display_data"
    },
    {
     "name": "stderr",
     "output_type": "stream",
     "text": [
      "[2025-09-09 04:49:43,768] INFO: mAP@0.95_overcast: 0.317\n",
      "[2025-09-09 04:49:43,772] INFO: mAP50_overcast: 0.427\n",
      "[2025-09-09 04:49:43,774] INFO: mAP75_overcast: 0.339\n",
      "[2025-09-09 04:49:43,775] INFO: pedestrian_mAP@0.95_overcast: 0.370\n",
      "[2025-09-09 04:49:43,776] INFO: car_mAP@0.95_overcast: 0.389\n",
      "[2025-09-09 04:49:43,777] INFO: truck_mAP@0.95_overcast: 0.385\n",
      "[2025-09-09 04:49:43,778] INFO: bus_mAP@0.95_overcast: 0.219\n",
      "[2025-09-09 04:49:43,779] INFO: motorcycle_mAP@0.95_overcast: 0.295\n",
      "[2025-09-09 04:49:43,780] INFO: bicycle_mAP@0.95_overcast: 0.245\n",
      "[2025-09-09 04:49:43,800] INFO: [overcast] batch 7: mAP50 0.4275 (no-imp 4/10)\n"
     ]
    },
    {
     "data": {
      "application/vnd.jupyter.widget-view+json": {
       "model_id": "eb26b67b343345c184210eb2358a1a0a",
       "version_major": 2,
       "version_minor": 0
      },
      "text/plain": [
       "  0%|          | 0/400 [00:00<?, ?it/s]"
      ]
     },
     "metadata": {},
     "output_type": "display_data"
    },
    {
     "name": "stderr",
     "output_type": "stream",
     "text": [
      "[2025-09-09 04:52:53,141] INFO: mAP@0.95_overcast: 0.314\n",
      "[2025-09-09 04:52:53,145] INFO: mAP50_overcast: 0.423\n",
      "[2025-09-09 04:52:53,146] INFO: mAP75_overcast: 0.336\n",
      "[2025-09-09 04:52:53,147] INFO: pedestrian_mAP@0.95_overcast: 0.369\n",
      "[2025-09-09 04:52:53,148] INFO: car_mAP@0.95_overcast: 0.383\n",
      "[2025-09-09 04:52:53,148] INFO: truck_mAP@0.95_overcast: 0.381\n",
      "[2025-09-09 04:52:53,149] INFO: bus_mAP@0.95_overcast: 0.218\n",
      "[2025-09-09 04:52:53,150] INFO: motorcycle_mAP@0.95_overcast: 0.292\n",
      "[2025-09-09 04:52:53,151] INFO: bicycle_mAP@0.95_overcast: 0.243\n",
      "[2025-09-09 04:52:53,168] INFO: [overcast] batch 8: mAP50 0.4229 (no-imp 5/10)\n"
     ]
    },
    {
     "data": {
      "application/vnd.jupyter.widget-view+json": {
       "model_id": "e0875f7f11ee4f02b4a94ef4c20a9ddc",
       "version_major": 2,
       "version_minor": 0
      },
      "text/plain": [
       "  0%|          | 0/400 [00:00<?, ?it/s]"
      ]
     },
     "metadata": {},
     "output_type": "display_data"
    },
    {
     "name": "stderr",
     "output_type": "stream",
     "text": [
      "[2025-09-09 04:56:01,816] INFO: mAP@0.95_overcast: 0.311\n",
      "[2025-09-09 04:56:01,820] INFO: mAP50_overcast: 0.419\n",
      "[2025-09-09 04:56:01,821] INFO: mAP75_overcast: 0.331\n",
      "[2025-09-09 04:56:01,822] INFO: pedestrian_mAP@0.95_overcast: 0.367\n",
      "[2025-09-09 04:56:01,823] INFO: car_mAP@0.95_overcast: 0.377\n",
      "[2025-09-09 04:56:01,824] INFO: truck_mAP@0.95_overcast: 0.377\n",
      "[2025-09-09 04:56:01,825] INFO: bus_mAP@0.95_overcast: 0.217\n",
      "[2025-09-09 04:56:01,826] INFO: motorcycle_mAP@0.95_overcast: 0.288\n",
      "[2025-09-09 04:56:01,826] INFO: bicycle_mAP@0.95_overcast: 0.241\n",
      "[2025-09-09 04:56:01,843] INFO: [overcast] batch 9: mAP50 0.4193 (no-imp 6/10)\n"
     ]
    },
    {
     "data": {
      "application/vnd.jupyter.widget-view+json": {
       "model_id": "2be005c9a0104b7996aca4ef971db774",
       "version_major": 2,
       "version_minor": 0
      },
      "text/plain": [
       "  0%|          | 0/400 [00:00<?, ?it/s]"
      ]
     },
     "metadata": {},
     "output_type": "display_data"
    },
    {
     "name": "stderr",
     "output_type": "stream",
     "text": [
      "[2025-09-09 05:00:17,151] INFO: mAP@0.95_overcast: 0.308\n",
      "[2025-09-09 05:00:17,154] INFO: mAP50_overcast: 0.415\n",
      "[2025-09-09 05:00:17,156] INFO: mAP75_overcast: 0.328\n",
      "[2025-09-09 05:00:17,157] INFO: pedestrian_mAP@0.95_overcast: 0.364\n",
      "[2025-09-09 05:00:17,158] INFO: car_mAP@0.95_overcast: 0.372\n",
      "[2025-09-09 05:00:17,158] INFO: truck_mAP@0.95_overcast: 0.372\n",
      "[2025-09-09 05:00:17,159] INFO: bus_mAP@0.95_overcast: 0.216\n",
      "[2025-09-09 05:00:17,160] INFO: motorcycle_mAP@0.95_overcast: 0.284\n",
      "[2025-09-09 05:00:17,161] INFO: bicycle_mAP@0.95_overcast: 0.239\n",
      "[2025-09-09 05:00:17,177] INFO: [overcast] batch 10: mAP50 0.4155 (no-imp 7/10)\n"
     ]
    },
    {
     "data": {
      "application/vnd.jupyter.widget-view+json": {
       "model_id": "4c63fd0a0d96484e813ada61c27d2688",
       "version_major": 2,
       "version_minor": 0
      },
      "text/plain": [
       "  0%|          | 0/400 [00:00<?, ?it/s]"
      ]
     },
     "metadata": {},
     "output_type": "display_data"
    },
    {
     "name": "stderr",
     "output_type": "stream",
     "text": [
      "[2025-09-09 05:04:32,254] INFO: mAP@0.95_overcast: 0.306\n",
      "[2025-09-09 05:04:32,258] INFO: mAP50_overcast: 0.411\n",
      "[2025-09-09 05:04:32,261] INFO: mAP75_overcast: 0.327\n",
      "[2025-09-09 05:04:32,262] INFO: pedestrian_mAP@0.95_overcast: 0.363\n",
      "[2025-09-09 05:04:32,263] INFO: car_mAP@0.95_overcast: 0.370\n",
      "[2025-09-09 05:04:32,264] INFO: truck_mAP@0.95_overcast: 0.369\n",
      "[2025-09-09 05:04:32,266] INFO: bus_mAP@0.95_overcast: 0.216\n",
      "[2025-09-09 05:04:32,267] INFO: motorcycle_mAP@0.95_overcast: 0.283\n",
      "[2025-09-09 05:04:32,268] INFO: bicycle_mAP@0.95_overcast: 0.236\n",
      "[2025-09-09 05:04:32,286] INFO: [overcast] batch 11: mAP50 0.4115 (no-imp 8/10)\n"
     ]
    },
    {
     "data": {
      "application/vnd.jupyter.widget-view+json": {
       "model_id": "ed4e19a811424a2fbd6d3319bb8105c3",
       "version_major": 2,
       "version_minor": 0
      },
      "text/plain": [
       "  0%|          | 0/400 [00:00<?, ?it/s]"
      ]
     },
     "metadata": {},
     "output_type": "display_data"
    },
    {
     "name": "stderr",
     "output_type": "stream",
     "text": [
      "[2025-09-09 05:07:37,741] INFO: mAP@0.95_overcast: 0.304\n",
      "[2025-09-09 05:07:37,746] INFO: mAP50_overcast: 0.409\n",
      "[2025-09-09 05:07:37,748] INFO: mAP75_overcast: 0.324\n",
      "[2025-09-09 05:07:37,749] INFO: pedestrian_mAP@0.95_overcast: 0.360\n",
      "[2025-09-09 05:07:37,750] INFO: car_mAP@0.95_overcast: 0.368\n",
      "[2025-09-09 05:07:37,751] INFO: truck_mAP@0.95_overcast: 0.366\n",
      "[2025-09-09 05:07:37,752] INFO: bus_mAP@0.95_overcast: 0.215\n",
      "[2025-09-09 05:07:37,753] INFO: motorcycle_mAP@0.95_overcast: 0.282\n",
      "[2025-09-09 05:07:37,754] INFO: bicycle_mAP@0.95_overcast: 0.233\n",
      "[2025-09-09 05:07:37,772] INFO: [overcast] batch 12: mAP50 0.4088 (no-imp 9/10)\n"
     ]
    },
    {
     "data": {
      "application/vnd.jupyter.widget-view+json": {
       "model_id": "613388f0f69845d9a063ea1fb0cf226a",
       "version_major": 2,
       "version_minor": 0
      },
      "text/plain": [
       "  0%|          | 0/400 [00:00<?, ?it/s]"
      ]
     },
     "metadata": {},
     "output_type": "display_data"
    },
    {
     "name": "stderr",
     "output_type": "stream",
     "text": [
      "[2025-09-09 05:10:43,185] INFO: mAP@0.95_overcast: 0.302\n",
      "[2025-09-09 05:10:43,189] INFO: mAP50_overcast: 0.404\n",
      "[2025-09-09 05:10:43,191] INFO: mAP75_overcast: 0.322\n",
      "[2025-09-09 05:10:43,192] INFO: pedestrian_mAP@0.95_overcast: 0.355\n",
      "[2025-09-09 05:10:43,193] INFO: car_mAP@0.95_overcast: 0.366\n",
      "[2025-09-09 05:10:43,194] INFO: truck_mAP@0.95_overcast: 0.364\n",
      "[2025-09-09 05:10:43,195] INFO: bus_mAP@0.95_overcast: 0.214\n",
      "[2025-09-09 05:10:43,196] INFO: motorcycle_mAP@0.95_overcast: 0.280\n",
      "[2025-09-09 05:10:43,197] INFO: bicycle_mAP@0.95_overcast: 0.231\n",
      "[2025-09-09 05:10:43,216] INFO: [overcast] batch 13: mAP50 0.4045 (no-imp 10/10)\n",
      "[2025-09-09 05:10:43,218] INFO: [overcast] Early stop at batch 13 (no improvement 10 times).\n"
     ]
    },
    {
     "data": {
      "application/vnd.jupyter.widget-view+json": {
       "model_id": "c0bc14665fc24f33b1327946d11ce71c",
       "version_major": 2,
       "version_minor": 0
      },
      "text/plain": [
       "  0%|          | 0/400 [00:00<?, ?it/s]"
      ]
     },
     "metadata": {},
     "output_type": "display_data"
    },
    {
     "name": "stderr",
     "output_type": "stream",
     "text": [
      "[2025-09-09 05:13:50,668] INFO: mAP@0.95_overcast: 0.332\n",
      "[2025-09-09 05:13:50,672] INFO: mAP50_overcast: 0.451\n",
      "[2025-09-09 05:13:50,673] INFO: mAP75_overcast: 0.355\n",
      "[2025-09-09 05:13:50,674] INFO: pedestrian_mAP@0.95_overcast: 0.385\n",
      "[2025-09-09 05:13:50,675] INFO: car_mAP@0.95_overcast: 0.408\n",
      "[2025-09-09 05:13:50,676] INFO: truck_mAP@0.95_overcast: 0.414\n",
      "[2025-09-09 05:13:50,676] INFO: bus_mAP@0.95_overcast: 0.220\n",
      "[2025-09-09 05:13:50,677] INFO: motorcycle_mAP@0.95_overcast: 0.306\n",
      "[2025-09-09 05:13:50,678] INFO: bicycle_mAP@0.95_overcast: 0.259\n",
      "[2025-09-09 05:13:51,062] INFO: Saved adapted Mean-Teacher model after task [overcast] → ./mean_teacher_checkpoints/mean_teacher_model_overcast.pth\n",
      "[2025-09-09 05:13:51,167] INFO: start foggy\n",
      "[2025-09-09 05:13:51,300] INFO: INFO: Downloading 'SHIFT_SUBSET' from file server to /workspace/ptta/data/SHIFT/discrete...\n",
      "[2025-09-09 05:13:51,301] INFO: INFO: Dataset archive found in the root directory. Skipping download.\n",
      "[2025-09-09 05:13:51,303] INFO: INFO: Subset split for 'SHIFT_SUBSET' dataset is already done. Skipping...\n",
      "[2025-09-09 05:13:51,304] INFO: INFO: Downloading 'SHIFT_SUBSET' from file server to /workspace/ptta/data/SHIFT/discrete...\n",
      "[2025-09-09 05:13:51,305] INFO: INFO: Dataset archive found in the root directory. Skipping download.\n",
      "[09/09/2025 05:13:51] SHIFT DevKit - INFO - Base: /workspace/ptta/data/SHIFT/discrete/images/train. Backend: <shift_dev.utils.backend.ZipBackend object at 0x7f6daf9ccf10>\n",
      "[09/09/2025 05:13:51] SHIFT DevKit - INFO - Loading annotation from '/workspace/ptta/data/SHIFT_SUBSET/foggy_daytime/discrete/images/train/front/det_2d.json' ...\n",
      "[09/09/2025 05:13:52] SHIFT DevKit - INFO - Loading annotation from '/workspace/ptta/data/SHIFT_SUBSET/foggy_daytime/discrete/images/train/front/det_2d.json' Done.\n",
      "[09/09/2025 05:13:58] SHIFT DevKit - INFO - Loading annotation takes 7.56 seconds.\n",
      "[2025-09-09 05:13:59,049] INFO: Batch 0:\n",
      "[2025-09-09 05:13:59,050] INFO: Item                 Shape                               Min        Max       \n",
      "[2025-09-09 05:13:59,051] INFO: --------------------------------------------------------------------------------\n",
      "[2025-09-09 05:13:59,053] INFO: original_hw          [tensor([800]), tensor([1280])]\n",
      "[2025-09-09 05:13:59,054] INFO: input_hw             [tensor([800]), tensor([1280])]\n",
      "[2025-09-09 05:13:59,056] INFO: frame_ids            torch.Size([1])                           0.00       0.00\n",
      "[2025-09-09 05:13:59,056] INFO: name                 ['00000000_img_front.jpg']\n",
      "[2025-09-09 05:13:59,057] INFO: videoName            ['006a-2133']\n",
      "[2025-09-09 05:13:59,059] INFO: intrinsics           torch.Size([1, 3, 3])                     0.00     640.00\n",
      "[2025-09-09 05:13:59,060] INFO: extrinsics           torch.Size([1, 4, 4])                  -198.18       1.57\n",
      "[2025-09-09 05:13:59,060] INFO: boxes2d              torch.Size([1, 1, 4])                   398.00     707.00\n",
      "[2025-09-09 05:13:59,061] INFO: boxes2d_classes      torch.Size([1, 1])                        2.00       2.00\n",
      "[2025-09-09 05:13:59,062] INFO: boxes2d_track_ids    torch.Size([1, 1])                        0.00       0.00\n",
      "[2025-09-09 05:13:59,067] INFO: images               torch.Size([1, 1, 3, 800, 1280])         19.00     234.00\n",
      "[2025-09-09 05:14:00,617] INFO: Video name: 006a-2133\n",
      "[2025-09-09 05:14:00,619] INFO: Sample indices within a video: [0, 1, 2, 3, 4, 5, 6, 7, 8, 9, 10, 11, 12, 13, 14, 15, 16, 17, 18, 19, 20, 21, 22, 23, 24, 25, 26, 27, 28, 29, 30, 31, 32, 33, 34, 35, 36, 37, 38, 39, 40, 41, 42, 43, 44, 45, 46, 47, 48, 49]\n",
      "[2025-09-09 05:14:00,621] INFO: INFO: Downloading 'SHIFT_SUBSET' from file server to /workspace/ptta/data/SHIFT/discrete...\n",
      "[2025-09-09 05:14:00,622] INFO: INFO: Dataset archive found in the root directory. Skipping download.\n",
      "[2025-09-09 05:14:00,624] INFO: INFO: Subset split for 'SHIFT_SUBSET' dataset is already done. Skipping...\n",
      "[2025-09-09 05:14:00,625] INFO: INFO: Downloading 'SHIFT_SUBSET' from file server to /workspace/ptta/data/SHIFT/discrete...\n",
      "[2025-09-09 05:14:00,626] INFO: INFO: Dataset archive found in the root directory. Skipping download.\n",
      "[09/09/2025 05:14:00] SHIFT DevKit - INFO - Base: /workspace/ptta/data/SHIFT/discrete/images/val. Backend: <shift_dev.utils.backend.ZipBackend object at 0x7f6daf9ccf10>\n",
      "[09/09/2025 05:14:00] SHIFT DevKit - INFO - Loading annotation from '/workspace/ptta/data/SHIFT_SUBSET/foggy_daytime/discrete/images/val/front/det_2d.json' ...\n",
      "[09/09/2025 05:14:00] SHIFT DevKit - INFO - Loading annotation from '/workspace/ptta/data/SHIFT_SUBSET/foggy_daytime/discrete/images/val/front/det_2d.json' Done.\n",
      "[09/09/2025 05:14:01] SHIFT DevKit - INFO - Loading annotation takes 1.02 seconds.\n",
      "[2025-09-09 05:14:01,690] INFO: Batch 0:\n",
      "[2025-09-09 05:14:01,691] INFO: Item                 Shape                               Min        Max       \n",
      "[2025-09-09 05:14:01,692] INFO: --------------------------------------------------------------------------------\n",
      "[2025-09-09 05:14:01,695] INFO: original_hw          [tensor([800]), tensor([1280])]\n",
      "[2025-09-09 05:14:01,697] INFO: input_hw             [tensor([800]), tensor([1280])]\n",
      "[2025-09-09 05:14:01,698] INFO: frame_ids            torch.Size([1])                           0.00       0.00\n",
      "[2025-09-09 05:14:01,699] INFO: name                 ['00000000_img_front.jpg']\n",
      "[2025-09-09 05:14:01,701] INFO: videoName            ['0188-aef6']\n",
      "[2025-09-09 05:14:01,702] INFO: intrinsics           torch.Size([1, 3, 3])                     0.00     640.00\n",
      "[2025-09-09 05:14:01,704] INFO: extrinsics           torch.Size([1, 4, 4])                  -136.69       1.57\n",
      "[2025-09-09 05:14:01,705] INFO: boxes2d              torch.Size([1, 5, 4])                   275.00     661.00\n",
      "[2025-09-09 05:14:01,707] INFO: boxes2d_classes      torch.Size([1, 5])                        0.00       1.00\n",
      "[2025-09-09 05:14:01,708] INFO: boxes2d_track_ids    torch.Size([1, 5])                        0.00       4.00\n",
      "[2025-09-09 05:14:01,710] INFO: images               torch.Size([1, 1, 3, 800, 1280])         17.00     255.00\n",
      "[2025-09-09 05:14:02,018] INFO: Video name: 0188-aef6\n",
      "[2025-09-09 05:14:02,019] INFO: Sample indices within a video: [0, 1, 2, 3, 4, 5, 6, 7, 8, 9, 10, 11, 12, 13, 14, 15, 16, 17, 18, 19, 20, 21, 22, 23, 24, 25, 26, 27, 28, 29, 30, 31, 32, 33, 34, 35, 36, 37, 38, 39, 40, 41, 42, 43, 44, 45, 46, 47, 48, 49]\n"
     ]
    },
    {
     "data": {
      "application/vnd.jupyter.widget-view+json": {
       "model_id": "bc401dc4197b43a59b2fc055c49848ef",
       "version_major": 2,
       "version_minor": 0
      },
      "text/plain": [
       "  0%|          | 0/12900 [00:00<?, ?it/s]"
      ]
     },
     "metadata": {},
     "output_type": "display_data"
    },
    {
     "data": {
      "application/vnd.jupyter.widget-view+json": {
       "model_id": "52eed15bfd8b471bb20ca0b565da3bde",
       "version_major": 2,
       "version_minor": 0
      },
      "text/plain": [
       "  0%|          | 0/663 [00:00<?, ?it/s]"
      ]
     },
     "metadata": {},
     "output_type": "display_data"
    },
    {
     "name": "stderr",
     "output_type": "stream",
     "text": [
      "[2025-09-09 05:18:59,004] INFO: mAP@0.95_foggy: 0.215\n",
      "[2025-09-09 05:18:59,009] INFO: mAP50_foggy: 0.267\n",
      "[2025-09-09 05:18:59,010] INFO: mAP75_foggy: 0.230\n",
      "[2025-09-09 05:18:59,011] INFO: pedestrian_mAP@0.95_foggy: 0.253\n",
      "[2025-09-09 05:18:59,012] INFO: car_mAP@0.95_foggy: 0.210\n",
      "[2025-09-09 05:18:59,013] INFO: truck_mAP@0.95_foggy: 0.235\n",
      "[2025-09-09 05:18:59,014] INFO: bus_mAP@0.95_foggy: 0.106\n",
      "[2025-09-09 05:18:59,015] INFO: motorcycle_mAP@0.95_foggy: 0.223\n",
      "[2025-09-09 05:18:59,016] INFO: bicycle_mAP@0.95_foggy: 0.266\n",
      "[2025-09-09 05:18:59,045] INFO: [foggy] batch 0: mAP50 -1.0000 -> 0.2670 ✔\n"
     ]
    },
    {
     "data": {
      "application/vnd.jupyter.widget-view+json": {
       "model_id": "0db8cf0bc7804ceabebb3d82ea5b8393",
       "version_major": 2,
       "version_minor": 0
      },
      "text/plain": [
       "  0%|          | 0/663 [00:00<?, ?it/s]"
      ]
     },
     "metadata": {},
     "output_type": "display_data"
    },
    {
     "name": "stderr",
     "output_type": "stream",
     "text": [
      "[2025-09-09 05:24:17,255] INFO: mAP@0.95_foggy: 0.215\n",
      "[2025-09-09 05:24:17,259] INFO: mAP50_foggy: 0.267\n",
      "[2025-09-09 05:24:17,260] INFO: mAP75_foggy: 0.230\n",
      "[2025-09-09 05:24:17,261] INFO: pedestrian_mAP@0.95_foggy: 0.253\n",
      "[2025-09-09 05:24:17,262] INFO: car_mAP@0.95_foggy: 0.210\n",
      "[2025-09-09 05:24:17,263] INFO: truck_mAP@0.95_foggy: 0.235\n",
      "[2025-09-09 05:24:17,264] INFO: bus_mAP@0.95_foggy: 0.106\n",
      "[2025-09-09 05:24:17,265] INFO: motorcycle_mAP@0.95_foggy: 0.223\n",
      "[2025-09-09 05:24:17,266] INFO: bicycle_mAP@0.95_foggy: 0.266\n",
      "[2025-09-09 05:24:17,294] INFO: [foggy] batch 1: mAP50 0.2670 -> 0.2671 ✔\n"
     ]
    },
    {
     "data": {
      "application/vnd.jupyter.widget-view+json": {
       "model_id": "a3d25d566e8b462c8aa3ebeb62abf9b8",
       "version_major": 2,
       "version_minor": 0
      },
      "text/plain": [
       "  0%|          | 0/663 [00:00<?, ?it/s]"
      ]
     },
     "metadata": {},
     "output_type": "display_data"
    },
    {
     "name": "stderr",
     "output_type": "stream",
     "text": [
      "[2025-09-09 05:30:52,865] INFO: mAP@0.95_foggy: 0.215\n",
      "[2025-09-09 05:30:52,870] INFO: mAP50_foggy: 0.267\n",
      "[2025-09-09 05:30:52,871] INFO: mAP75_foggy: 0.230\n",
      "[2025-09-09 05:30:52,872] INFO: pedestrian_mAP@0.95_foggy: 0.253\n",
      "[2025-09-09 05:30:52,873] INFO: car_mAP@0.95_foggy: 0.210\n",
      "[2025-09-09 05:30:52,874] INFO: truck_mAP@0.95_foggy: 0.235\n",
      "[2025-09-09 05:30:52,875] INFO: bus_mAP@0.95_foggy: 0.106\n",
      "[2025-09-09 05:30:52,876] INFO: motorcycle_mAP@0.95_foggy: 0.223\n",
      "[2025-09-09 05:30:52,877] INFO: bicycle_mAP@0.95_foggy: 0.266\n",
      "[2025-09-09 05:30:52,906] INFO: [foggy] batch 2: mAP50 0.2670 (no-imp 1/10)\n"
     ]
    },
    {
     "data": {
      "application/vnd.jupyter.widget-view+json": {
       "model_id": "7956c2934e39441a82e7ea7b5a5f14ff",
       "version_major": 2,
       "version_minor": 0
      },
      "text/plain": [
       "  0%|          | 0/663 [00:00<?, ?it/s]"
      ]
     },
     "metadata": {},
     "output_type": "display_data"
    },
    {
     "name": "stderr",
     "output_type": "stream",
     "text": [
      "[2025-09-09 05:35:47,509] INFO: mAP@0.95_foggy: 0.215\n",
      "[2025-09-09 05:35:47,514] INFO: mAP50_foggy: 0.267\n",
      "[2025-09-09 05:35:47,515] INFO: mAP75_foggy: 0.230\n",
      "[2025-09-09 05:35:47,516] INFO: pedestrian_mAP@0.95_foggy: 0.253\n",
      "[2025-09-09 05:35:47,517] INFO: car_mAP@0.95_foggy: 0.210\n",
      "[2025-09-09 05:35:47,518] INFO: truck_mAP@0.95_foggy: 0.235\n",
      "[2025-09-09 05:35:47,519] INFO: bus_mAP@0.95_foggy: 0.106\n",
      "[2025-09-09 05:35:47,520] INFO: motorcycle_mAP@0.95_foggy: 0.223\n",
      "[2025-09-09 05:35:47,521] INFO: bicycle_mAP@0.95_foggy: 0.266\n",
      "[2025-09-09 05:35:47,550] INFO: [foggy] batch 3: mAP50 0.2669 (no-imp 2/10)\n"
     ]
    },
    {
     "data": {
      "application/vnd.jupyter.widget-view+json": {
       "model_id": "2276692c5ca640478e50dec91f0bf046",
       "version_major": 2,
       "version_minor": 0
      },
      "text/plain": [
       "  0%|          | 0/663 [00:00<?, ?it/s]"
      ]
     },
     "metadata": {},
     "output_type": "display_data"
    },
    {
     "name": "stderr",
     "output_type": "stream",
     "text": [
      "[2025-09-09 05:42:46,843] INFO: mAP@0.95_foggy: 0.215\n",
      "[2025-09-09 05:42:46,847] INFO: mAP50_foggy: 0.267\n",
      "[2025-09-09 05:42:46,849] INFO: mAP75_foggy: 0.230\n",
      "[2025-09-09 05:42:46,850] INFO: pedestrian_mAP@0.95_foggy: 0.253\n",
      "[2025-09-09 05:42:46,851] INFO: car_mAP@0.95_foggy: 0.210\n",
      "[2025-09-09 05:42:46,852] INFO: truck_mAP@0.95_foggy: 0.234\n",
      "[2025-09-09 05:42:46,853] INFO: bus_mAP@0.95_foggy: 0.106\n",
      "[2025-09-09 05:42:46,854] INFO: motorcycle_mAP@0.95_foggy: 0.223\n",
      "[2025-09-09 05:42:46,854] INFO: bicycle_mAP@0.95_foggy: 0.266\n",
      "[2025-09-09 05:42:46,882] INFO: [foggy] batch 4: mAP50 0.2668 (no-imp 3/10)\n"
     ]
    },
    {
     "data": {
      "application/vnd.jupyter.widget-view+json": {
       "model_id": "e12f75fbed5d417f8e3b9a45cabdbbc9",
       "version_major": 2,
       "version_minor": 0
      },
      "text/plain": [
       "  0%|          | 0/663 [00:00<?, ?it/s]"
      ]
     },
     "metadata": {},
     "output_type": "display_data"
    },
    {
     "name": "stderr",
     "output_type": "stream",
     "text": [
      "[2025-09-09 05:47:39,688] INFO: mAP@0.95_foggy: 0.215\n",
      "[2025-09-09 05:47:39,696] INFO: mAP50_foggy: 0.267\n",
      "[2025-09-09 05:47:39,697] INFO: mAP75_foggy: 0.229\n",
      "[2025-09-09 05:47:39,698] INFO: pedestrian_mAP@0.95_foggy: 0.253\n",
      "[2025-09-09 05:47:39,699] INFO: car_mAP@0.95_foggy: 0.210\n",
      "[2025-09-09 05:47:39,700] INFO: truck_mAP@0.95_foggy: 0.234\n",
      "[2025-09-09 05:47:39,701] INFO: bus_mAP@0.95_foggy: 0.106\n",
      "[2025-09-09 05:47:39,702] INFO: motorcycle_mAP@0.95_foggy: 0.222\n",
      "[2025-09-09 05:47:39,703] INFO: bicycle_mAP@0.95_foggy: 0.266\n",
      "[2025-09-09 05:47:39,733] INFO: [foggy] batch 5: mAP50 0.2667 (no-imp 4/10)\n"
     ]
    },
    {
     "data": {
      "application/vnd.jupyter.widget-view+json": {
       "model_id": "76ae2bda0b0e4a5cbb94dd1a4f566e42",
       "version_major": 2,
       "version_minor": 0
      },
      "text/plain": [
       "  0%|          | 0/663 [00:00<?, ?it/s]"
      ]
     },
     "metadata": {},
     "output_type": "display_data"
    },
    {
     "name": "stderr",
     "output_type": "stream",
     "text": [
      "[2025-09-09 05:52:31,709] INFO: mAP@0.95_foggy: 0.215\n",
      "[2025-09-09 05:52:31,715] INFO: mAP50_foggy: 0.267\n",
      "[2025-09-09 05:52:31,716] INFO: mAP75_foggy: 0.229\n",
      "[2025-09-09 05:52:31,717] INFO: pedestrian_mAP@0.95_foggy: 0.253\n",
      "[2025-09-09 05:52:31,718] INFO: car_mAP@0.95_foggy: 0.210\n",
      "[2025-09-09 05:52:31,719] INFO: truck_mAP@0.95_foggy: 0.234\n",
      "[2025-09-09 05:52:31,719] INFO: bus_mAP@0.95_foggy: 0.105\n",
      "[2025-09-09 05:52:31,720] INFO: motorcycle_mAP@0.95_foggy: 0.222\n",
      "[2025-09-09 05:52:31,721] INFO: bicycle_mAP@0.95_foggy: 0.266\n",
      "[2025-09-09 05:52:31,746] INFO: [foggy] batch 6: mAP50 0.2666 (no-imp 5/10)\n"
     ]
    },
    {
     "data": {
      "application/vnd.jupyter.widget-view+json": {
       "model_id": "38b775e57f5f4c1991b0a0ce398a33fd",
       "version_major": 2,
       "version_minor": 0
      },
      "text/plain": [
       "  0%|          | 0/663 [00:00<?, ?it/s]"
      ]
     },
     "metadata": {},
     "output_type": "display_data"
    },
    {
     "name": "stderr",
     "output_type": "stream",
     "text": [
      "[2025-09-09 05:57:24,975] INFO: mAP@0.95_foggy: 0.215\n",
      "[2025-09-09 05:57:24,982] INFO: mAP50_foggy: 0.267\n",
      "[2025-09-09 05:57:24,996] INFO: mAP75_foggy: 0.229\n",
      "[2025-09-09 05:57:24,997] INFO: pedestrian_mAP@0.95_foggy: 0.253\n",
      "[2025-09-09 05:57:24,998] INFO: car_mAP@0.95_foggy: 0.210\n",
      "[2025-09-09 05:57:25,001] INFO: truck_mAP@0.95_foggy: 0.234\n",
      "[2025-09-09 05:57:25,002] INFO: bus_mAP@0.95_foggy: 0.105\n",
      "[2025-09-09 05:57:25,003] INFO: motorcycle_mAP@0.95_foggy: 0.222\n",
      "[2025-09-09 05:57:25,004] INFO: bicycle_mAP@0.95_foggy: 0.266\n",
      "[2025-09-09 05:57:25,037] INFO: [foggy] batch 7: mAP50 0.2665 (no-imp 6/10)\n"
     ]
    },
    {
     "data": {
      "application/vnd.jupyter.widget-view+json": {
       "model_id": "fbbab490f6ed4ac0b29d7e601f4f6d84",
       "version_major": 2,
       "version_minor": 0
      },
      "text/plain": [
       "  0%|          | 0/663 [00:00<?, ?it/s]"
      ]
     },
     "metadata": {},
     "output_type": "display_data"
    },
    {
     "name": "stderr",
     "output_type": "stream",
     "text": [
      "[2025-09-09 06:02:19,072] INFO: mAP@0.95_foggy: 0.215\n",
      "[2025-09-09 06:02:19,080] INFO: mAP50_foggy: 0.266\n",
      "[2025-09-09 06:02:19,082] INFO: mAP75_foggy: 0.229\n",
      "[2025-09-09 06:02:19,083] INFO: pedestrian_mAP@0.95_foggy: 0.253\n",
      "[2025-09-09 06:02:19,085] INFO: car_mAP@0.95_foggy: 0.209\n",
      "[2025-09-09 06:02:19,086] INFO: truck_mAP@0.95_foggy: 0.234\n",
      "[2025-09-09 06:02:19,087] INFO: bus_mAP@0.95_foggy: 0.105\n",
      "[2025-09-09 06:02:19,089] INFO: motorcycle_mAP@0.95_foggy: 0.222\n",
      "[2025-09-09 06:02:19,090] INFO: bicycle_mAP@0.95_foggy: 0.266\n",
      "[2025-09-09 06:02:19,118] INFO: [foggy] batch 8: mAP50 0.2664 (no-imp 7/10)\n"
     ]
    },
    {
     "data": {
      "application/vnd.jupyter.widget-view+json": {
       "model_id": "2f3f5ed17bf64cd8aadf91773ed28b71",
       "version_major": 2,
       "version_minor": 0
      },
      "text/plain": [
       "  0%|          | 0/663 [00:00<?, ?it/s]"
      ]
     },
     "metadata": {},
     "output_type": "display_data"
    },
    {
     "name": "stderr",
     "output_type": "stream",
     "text": [
      "[2025-09-09 06:07:13,371] INFO: mAP@0.95_foggy: 0.215\n",
      "[2025-09-09 06:07:13,377] INFO: mAP50_foggy: 0.266\n",
      "[2025-09-09 06:07:13,378] INFO: mAP75_foggy: 0.229\n",
      "[2025-09-09 06:07:13,379] INFO: pedestrian_mAP@0.95_foggy: 0.253\n",
      "[2025-09-09 06:07:13,380] INFO: car_mAP@0.95_foggy: 0.209\n",
      "[2025-09-09 06:07:13,381] INFO: truck_mAP@0.95_foggy: 0.234\n",
      "[2025-09-09 06:07:13,382] INFO: bus_mAP@0.95_foggy: 0.104\n",
      "[2025-09-09 06:07:13,382] INFO: motorcycle_mAP@0.95_foggy: 0.222\n",
      "[2025-09-09 06:07:13,383] INFO: bicycle_mAP@0.95_foggy: 0.266\n",
      "[2025-09-09 06:07:13,409] INFO: [foggy] batch 9: mAP50 0.2664 (no-imp 8/10)\n"
     ]
    },
    {
     "data": {
      "application/vnd.jupyter.widget-view+json": {
       "model_id": "26b2df74e0ab4107abfe399d6b18fe9f",
       "version_major": 2,
       "version_minor": 0
      },
      "text/plain": [
       "  0%|          | 0/663 [00:00<?, ?it/s]"
      ]
     },
     "metadata": {},
     "output_type": "display_data"
    },
    {
     "name": "stderr",
     "output_type": "stream",
     "text": [
      "[2025-09-09 06:12:13,218] INFO: mAP@0.95_foggy: 0.215\n",
      "[2025-09-09 06:12:13,223] INFO: mAP50_foggy: 0.266\n",
      "[2025-09-09 06:12:13,224] INFO: mAP75_foggy: 0.229\n",
      "[2025-09-09 06:12:13,225] INFO: pedestrian_mAP@0.95_foggy: 0.253\n",
      "[2025-09-09 06:12:13,226] INFO: car_mAP@0.95_foggy: 0.209\n",
      "[2025-09-09 06:12:13,227] INFO: truck_mAP@0.95_foggy: 0.233\n",
      "[2025-09-09 06:12:13,229] INFO: bus_mAP@0.95_foggy: 0.105\n",
      "[2025-09-09 06:12:13,230] INFO: motorcycle_mAP@0.95_foggy: 0.222\n",
      "[2025-09-09 06:12:13,231] INFO: bicycle_mAP@0.95_foggy: 0.266\n",
      "[2025-09-09 06:12:13,264] INFO: [foggy] batch 10: mAP50 0.2662 (no-imp 9/10)\n"
     ]
    },
    {
     "data": {
      "application/vnd.jupyter.widget-view+json": {
       "model_id": "ad2e5262083d4090a1d943c1d827c393",
       "version_major": 2,
       "version_minor": 0
      },
      "text/plain": [
       "  0%|          | 0/663 [00:00<?, ?it/s]"
      ]
     },
     "metadata": {},
     "output_type": "display_data"
    },
    {
     "name": "stderr",
     "output_type": "stream",
     "text": [
      "[2025-09-09 06:17:07,533] INFO: mAP@0.95_foggy: 0.218\n",
      "[2025-09-09 06:17:07,541] INFO: mAP50_foggy: 0.270\n",
      "[2025-09-09 06:17:07,543] INFO: mAP75_foggy: 0.232\n",
      "[2025-09-09 06:17:07,544] INFO: pedestrian_mAP@0.95_foggy: 0.257\n",
      "[2025-09-09 06:17:07,545] INFO: car_mAP@0.95_foggy: 0.211\n",
      "[2025-09-09 06:17:07,546] INFO: truck_mAP@0.95_foggy: 0.235\n",
      "[2025-09-09 06:17:07,547] INFO: bus_mAP@0.95_foggy: 0.108\n",
      "[2025-09-09 06:17:07,548] INFO: motorcycle_mAP@0.95_foggy: 0.227\n",
      "[2025-09-09 06:17:07,549] INFO: bicycle_mAP@0.95_foggy: 0.269\n",
      "[2025-09-09 06:17:07,577] INFO: [foggy] batch 11: mAP50 0.2671 -> 0.2699 ✔\n"
     ]
    },
    {
     "data": {
      "application/vnd.jupyter.widget-view+json": {
       "model_id": "0ded738166c34469b29b5a52b68f06f6",
       "version_major": 2,
       "version_minor": 0
      },
      "text/plain": [
       "  0%|          | 0/663 [00:00<?, ?it/s]"
      ]
     },
     "metadata": {},
     "output_type": "display_data"
    },
    {
     "name": "stderr",
     "output_type": "stream",
     "text": [
      "[2025-09-09 06:22:01,898] INFO: mAP@0.95_foggy: 0.221\n",
      "[2025-09-09 06:22:01,908] INFO: mAP50_foggy: 0.273\n",
      "[2025-09-09 06:22:01,909] INFO: mAP75_foggy: 0.234\n",
      "[2025-09-09 06:22:01,910] INFO: pedestrian_mAP@0.95_foggy: 0.261\n",
      "[2025-09-09 06:22:01,911] INFO: car_mAP@0.95_foggy: 0.212\n",
      "[2025-09-09 06:22:01,912] INFO: truck_mAP@0.95_foggy: 0.237\n",
      "[2025-09-09 06:22:01,913] INFO: bus_mAP@0.95_foggy: 0.113\n",
      "[2025-09-09 06:22:01,914] INFO: motorcycle_mAP@0.95_foggy: 0.230\n",
      "[2025-09-09 06:22:01,915] INFO: bicycle_mAP@0.95_foggy: 0.271\n",
      "[2025-09-09 06:22:01,944] INFO: [foggy] batch 12: mAP50 0.2699 -> 0.2734 ✔\n"
     ]
    },
    {
     "data": {
      "application/vnd.jupyter.widget-view+json": {
       "model_id": "848a385768d04009a394110f834d1a4d",
       "version_major": 2,
       "version_minor": 0
      },
      "text/plain": [
       "  0%|          | 0/663 [00:00<?, ?it/s]"
      ]
     },
     "metadata": {},
     "output_type": "display_data"
    },
    {
     "name": "stderr",
     "output_type": "stream",
     "text": [
      "[2025-09-09 06:26:59,175] INFO: mAP@0.95_foggy: 0.223\n",
      "[2025-09-09 06:26:59,185] INFO: mAP50_foggy: 0.276\n",
      "[2025-09-09 06:26:59,186] INFO: mAP75_foggy: 0.236\n",
      "[2025-09-09 06:26:59,188] INFO: pedestrian_mAP@0.95_foggy: 0.264\n",
      "[2025-09-09 06:26:59,189] INFO: car_mAP@0.95_foggy: 0.213\n",
      "[2025-09-09 06:26:59,190] INFO: truck_mAP@0.95_foggy: 0.238\n",
      "[2025-09-09 06:26:59,191] INFO: bus_mAP@0.95_foggy: 0.116\n",
      "[2025-09-09 06:26:59,192] INFO: motorcycle_mAP@0.95_foggy: 0.233\n",
      "[2025-09-09 06:26:59,192] INFO: bicycle_mAP@0.95_foggy: 0.274\n",
      "[2025-09-09 06:26:59,224] INFO: [foggy] batch 13: mAP50 0.2734 -> 0.2764 ✔\n"
     ]
    },
    {
     "data": {
      "application/vnd.jupyter.widget-view+json": {
       "model_id": "b17fd0c8708847c792fed609f2268884",
       "version_major": 2,
       "version_minor": 0
      },
      "text/plain": [
       "  0%|          | 0/663 [00:00<?, ?it/s]"
      ]
     },
     "metadata": {},
     "output_type": "display_data"
    },
    {
     "name": "stderr",
     "output_type": "stream",
     "text": [
      "[2025-09-09 06:31:54,288] INFO: mAP@0.95_foggy: 0.225\n",
      "[2025-09-09 06:31:54,293] INFO: mAP50_foggy: 0.278\n",
      "[2025-09-09 06:31:54,294] INFO: mAP75_foggy: 0.238\n",
      "[2025-09-09 06:31:54,296] INFO: pedestrian_mAP@0.95_foggy: 0.265\n",
      "[2025-09-09 06:31:54,298] INFO: car_mAP@0.95_foggy: 0.215\n",
      "[2025-09-09 06:31:54,299] INFO: truck_mAP@0.95_foggy: 0.239\n",
      "[2025-09-09 06:31:54,300] INFO: bus_mAP@0.95_foggy: 0.116\n",
      "[2025-09-09 06:31:54,302] INFO: motorcycle_mAP@0.95_foggy: 0.236\n",
      "[2025-09-09 06:31:54,303] INFO: bicycle_mAP@0.95_foggy: 0.276\n",
      "[2025-09-09 06:31:54,333] INFO: [foggy] batch 14: mAP50 0.2764 -> 0.2778 ✔\n"
     ]
    },
    {
     "data": {
      "application/vnd.jupyter.widget-view+json": {
       "model_id": "7762cdf446184b9b9a510e4e16bff503",
       "version_major": 2,
       "version_minor": 0
      },
      "text/plain": [
       "  0%|          | 0/663 [00:00<?, ?it/s]"
      ]
     },
     "metadata": {},
     "output_type": "display_data"
    },
    {
     "name": "stderr",
     "output_type": "stream",
     "text": [
      "[2025-09-09 06:36:47,642] INFO: mAP@0.95_foggy: 0.225\n",
      "[2025-09-09 06:36:47,647] INFO: mAP50_foggy: 0.279\n",
      "[2025-09-09 06:36:47,648] INFO: mAP75_foggy: 0.239\n",
      "[2025-09-09 06:36:47,649] INFO: pedestrian_mAP@0.95_foggy: 0.268\n",
      "[2025-09-09 06:36:47,650] INFO: car_mAP@0.95_foggy: 0.216\n",
      "[2025-09-09 06:36:47,651] INFO: truck_mAP@0.95_foggy: 0.239\n",
      "[2025-09-09 06:36:47,652] INFO: bus_mAP@0.95_foggy: 0.116\n",
      "[2025-09-09 06:36:47,653] INFO: motorcycle_mAP@0.95_foggy: 0.239\n",
      "[2025-09-09 06:36:47,654] INFO: bicycle_mAP@0.95_foggy: 0.275\n",
      "[2025-09-09 06:36:47,685] INFO: [foggy] batch 15: mAP50 0.2778 -> 0.2789 ✔\n"
     ]
    },
    {
     "data": {
      "application/vnd.jupyter.widget-view+json": {
       "model_id": "12832dc9f28d467c9026d01ca3e5b57a",
       "version_major": 2,
       "version_minor": 0
      },
      "text/plain": [
       "  0%|          | 0/663 [00:00<?, ?it/s]"
      ]
     },
     "metadata": {},
     "output_type": "display_data"
    },
    {
     "name": "stderr",
     "output_type": "stream",
     "text": [
      "[2025-09-09 06:41:39,881] INFO: mAP@0.95_foggy: 0.226\n",
      "[2025-09-09 06:41:39,888] INFO: mAP50_foggy: 0.281\n",
      "[2025-09-09 06:41:39,889] INFO: mAP75_foggy: 0.240\n",
      "[2025-09-09 06:41:39,890] INFO: pedestrian_mAP@0.95_foggy: 0.270\n",
      "[2025-09-09 06:41:39,892] INFO: car_mAP@0.95_foggy: 0.216\n",
      "[2025-09-09 06:41:39,894] INFO: truck_mAP@0.95_foggy: 0.239\n",
      "[2025-09-09 06:41:39,895] INFO: bus_mAP@0.95_foggy: 0.114\n",
      "[2025-09-09 06:41:39,897] INFO: motorcycle_mAP@0.95_foggy: 0.242\n",
      "[2025-09-09 06:41:39,898] INFO: bicycle_mAP@0.95_foggy: 0.275\n",
      "[2025-09-09 06:41:39,935] INFO: [foggy] batch 16: mAP50 0.2789 -> 0.2805 ✔\n"
     ]
    },
    {
     "data": {
      "application/vnd.jupyter.widget-view+json": {
       "model_id": "25f1078fc58f49eeac5e9ce42541afdd",
       "version_major": 2,
       "version_minor": 0
      },
      "text/plain": [
       "  0%|          | 0/663 [00:00<?, ?it/s]"
      ]
     },
     "metadata": {},
     "output_type": "display_data"
    },
    {
     "name": "stderr",
     "output_type": "stream",
     "text": [
      "[2025-09-09 06:46:37,553] INFO: mAP@0.95_foggy: 0.226\n",
      "[2025-09-09 06:46:37,562] INFO: mAP50_foggy: 0.281\n",
      "[2025-09-09 06:46:37,563] INFO: mAP75_foggy: 0.240\n",
      "[2025-09-09 06:46:37,564] INFO: pedestrian_mAP@0.95_foggy: 0.271\n",
      "[2025-09-09 06:46:37,565] INFO: car_mAP@0.95_foggy: 0.217\n",
      "[2025-09-09 06:46:37,566] INFO: truck_mAP@0.95_foggy: 0.239\n",
      "[2025-09-09 06:46:37,567] INFO: bus_mAP@0.95_foggy: 0.112\n",
      "[2025-09-09 06:46:37,568] INFO: motorcycle_mAP@0.95_foggy: 0.243\n",
      "[2025-09-09 06:46:37,569] INFO: bicycle_mAP@0.95_foggy: 0.273\n",
      "[2025-09-09 06:46:37,599] INFO: [foggy] batch 17: mAP50 0.2805 -> 0.2806 ✔\n"
     ]
    },
    {
     "data": {
      "application/vnd.jupyter.widget-view+json": {
       "model_id": "bd0d1e325b15486488b69fa3a674f995",
       "version_major": 2,
       "version_minor": 0
      },
      "text/plain": [
       "  0%|          | 0/663 [00:00<?, ?it/s]"
      ]
     },
     "metadata": {},
     "output_type": "display_data"
    },
    {
     "name": "stderr",
     "output_type": "stream",
     "text": [
      "[2025-09-09 06:51:37,003] INFO: mAP@0.95_foggy: 0.225\n",
      "[2025-09-09 06:51:37,013] INFO: mAP50_foggy: 0.281\n",
      "[2025-09-09 06:51:37,014] INFO: mAP75_foggy: 0.239\n",
      "[2025-09-09 06:51:37,015] INFO: pedestrian_mAP@0.95_foggy: 0.272\n",
      "[2025-09-09 06:51:37,017] INFO: car_mAP@0.95_foggy: 0.217\n",
      "[2025-09-09 06:51:37,018] INFO: truck_mAP@0.95_foggy: 0.239\n",
      "[2025-09-09 06:51:37,019] INFO: bus_mAP@0.95_foggy: 0.110\n",
      "[2025-09-09 06:51:37,021] INFO: motorcycle_mAP@0.95_foggy: 0.244\n",
      "[2025-09-09 06:51:37,022] INFO: bicycle_mAP@0.95_foggy: 0.270\n",
      "[2025-09-09 06:51:37,061] INFO: [foggy] batch 18: mAP50 0.2806 -> 0.2808 ✔\n"
     ]
    },
    {
     "data": {
      "application/vnd.jupyter.widget-view+json": {
       "model_id": "67f0edea21d04735a26a38b16fc72312",
       "version_major": 2,
       "version_minor": 0
      },
      "text/plain": [
       "  0%|          | 0/663 [00:00<?, ?it/s]"
      ]
     },
     "metadata": {},
     "output_type": "display_data"
    },
    {
     "name": "stderr",
     "output_type": "stream",
     "text": [
      "[2025-09-09 06:56:34,909] INFO: mAP@0.95_foggy: 0.225\n",
      "[2025-09-09 06:56:34,916] INFO: mAP50_foggy: 0.281\n",
      "[2025-09-09 06:56:34,917] INFO: mAP75_foggy: 0.239\n",
      "[2025-09-09 06:56:34,918] INFO: pedestrian_mAP@0.95_foggy: 0.273\n",
      "[2025-09-09 06:56:34,919] INFO: car_mAP@0.95_foggy: 0.217\n",
      "[2025-09-09 06:56:34,920] INFO: truck_mAP@0.95_foggy: 0.237\n",
      "[2025-09-09 06:56:34,921] INFO: bus_mAP@0.95_foggy: 0.108\n",
      "[2025-09-09 06:56:34,922] INFO: motorcycle_mAP@0.95_foggy: 0.245\n",
      "[2025-09-09 06:56:34,925] INFO: bicycle_mAP@0.95_foggy: 0.268\n",
      "[2025-09-09 06:56:34,955] INFO: [foggy] batch 19: mAP50 0.2808 -> 0.2808 ✔\n"
     ]
    },
    {
     "data": {
      "application/vnd.jupyter.widget-view+json": {
       "model_id": "ad6fa18556dd4fe0b6433ae1e28fb1bc",
       "version_major": 2,
       "version_minor": 0
      },
      "text/plain": [
       "  0%|          | 0/663 [00:00<?, ?it/s]"
      ]
     },
     "metadata": {},
     "output_type": "display_data"
    },
    {
     "name": "stderr",
     "output_type": "stream",
     "text": [
      "[2025-09-09 07:01:35,703] INFO: mAP@0.95_foggy: 0.224\n",
      "[2025-09-09 07:01:35,707] INFO: mAP50_foggy: 0.281\n",
      "[2025-09-09 07:01:35,708] INFO: mAP75_foggy: 0.239\n",
      "[2025-09-09 07:01:35,709] INFO: pedestrian_mAP@0.95_foggy: 0.274\n",
      "[2025-09-09 07:01:35,710] INFO: car_mAP@0.95_foggy: 0.216\n",
      "[2025-09-09 07:01:35,711] INFO: truck_mAP@0.95_foggy: 0.237\n",
      "[2025-09-09 07:01:35,712] INFO: bus_mAP@0.95_foggy: 0.106\n",
      "[2025-09-09 07:01:35,713] INFO: motorcycle_mAP@0.95_foggy: 0.246\n",
      "[2025-09-09 07:01:35,714] INFO: bicycle_mAP@0.95_foggy: 0.266\n",
      "[2025-09-09 07:01:35,742] INFO: [foggy] batch 20: mAP50 0.2808 -> 0.2810 ✔\n"
     ]
    },
    {
     "data": {
      "application/vnd.jupyter.widget-view+json": {
       "model_id": "d05aea0f3d304fb2a597130ce495bc35",
       "version_major": 2,
       "version_minor": 0
      },
      "text/plain": [
       "  0%|          | 0/663 [00:00<?, ?it/s]"
      ]
     },
     "metadata": {},
     "output_type": "display_data"
    },
    {
     "name": "stderr",
     "output_type": "stream",
     "text": [
      "[2025-09-09 07:06:35,256] INFO: mAP@0.95_foggy: 0.224\n",
      "[2025-09-09 07:06:35,263] INFO: mAP50_foggy: 0.281\n",
      "[2025-09-09 07:06:35,265] INFO: mAP75_foggy: 0.238\n",
      "[2025-09-09 07:06:35,266] INFO: pedestrian_mAP@0.95_foggy: 0.275\n",
      "[2025-09-09 07:06:35,267] INFO: car_mAP@0.95_foggy: 0.216\n",
      "[2025-09-09 07:06:35,268] INFO: truck_mAP@0.95_foggy: 0.237\n",
      "[2025-09-09 07:06:35,269] INFO: bus_mAP@0.95_foggy: 0.104\n",
      "[2025-09-09 07:06:35,270] INFO: motorcycle_mAP@0.95_foggy: 0.247\n",
      "[2025-09-09 07:06:35,271] INFO: bicycle_mAP@0.95_foggy: 0.264\n",
      "[2025-09-09 07:06:35,302] INFO: [foggy] batch 21: mAP50 0.2810 -> 0.2813 ✔\n"
     ]
    },
    {
     "data": {
      "application/vnd.jupyter.widget-view+json": {
       "model_id": "a1aade18cdce4e44bd16ccd79f755399",
       "version_major": 2,
       "version_minor": 0
      },
      "text/plain": [
       "  0%|          | 0/663 [00:00<?, ?it/s]"
      ]
     },
     "metadata": {},
     "output_type": "display_data"
    },
    {
     "name": "stderr",
     "output_type": "stream",
     "text": [
      "[2025-09-09 07:11:32,507] INFO: mAP@0.95_foggy: 0.224\n",
      "[2025-09-09 07:11:32,512] INFO: mAP50_foggy: 0.281\n",
      "[2025-09-09 07:11:32,513] INFO: mAP75_foggy: 0.238\n",
      "[2025-09-09 07:11:32,514] INFO: pedestrian_mAP@0.95_foggy: 0.275\n",
      "[2025-09-09 07:11:32,515] INFO: car_mAP@0.95_foggy: 0.216\n",
      "[2025-09-09 07:11:32,516] INFO: truck_mAP@0.95_foggy: 0.236\n",
      "[2025-09-09 07:11:32,517] INFO: bus_mAP@0.95_foggy: 0.102\n",
      "[2025-09-09 07:11:32,518] INFO: motorcycle_mAP@0.95_foggy: 0.248\n",
      "[2025-09-09 07:11:32,519] INFO: bicycle_mAP@0.95_foggy: 0.264\n",
      "[2025-09-09 07:11:32,547] INFO: [foggy] batch 22: mAP50 0.2813 -> 0.2813 ✔\n"
     ]
    },
    {
     "data": {
      "application/vnd.jupyter.widget-view+json": {
       "model_id": "ba1694bd24784aecac3d9505ad0aa41a",
       "version_major": 2,
       "version_minor": 0
      },
      "text/plain": [
       "  0%|          | 0/663 [00:00<?, ?it/s]"
      ]
     },
     "metadata": {},
     "output_type": "display_data"
    },
    {
     "name": "stderr",
     "output_type": "stream",
     "text": [
      "[2025-09-09 07:16:25,679] INFO: mAP@0.95_foggy: 0.223\n",
      "[2025-09-09 07:16:25,687] INFO: mAP50_foggy: 0.281\n",
      "[2025-09-09 07:16:25,688] INFO: mAP75_foggy: 0.238\n",
      "[2025-09-09 07:16:25,689] INFO: pedestrian_mAP@0.95_foggy: 0.275\n",
      "[2025-09-09 07:16:25,690] INFO: car_mAP@0.95_foggy: 0.215\n",
      "[2025-09-09 07:16:25,691] INFO: truck_mAP@0.95_foggy: 0.235\n",
      "[2025-09-09 07:16:25,692] INFO: bus_mAP@0.95_foggy: 0.100\n",
      "[2025-09-09 07:16:25,693] INFO: motorcycle_mAP@0.95_foggy: 0.249\n",
      "[2025-09-09 07:16:25,694] INFO: bicycle_mAP@0.95_foggy: 0.264\n",
      "[2025-09-09 07:16:25,722] INFO: [foggy] batch 23: mAP50 0.2809 (no-imp 1/10)\n"
     ]
    },
    {
     "data": {
      "application/vnd.jupyter.widget-view+json": {
       "model_id": "e5caf4ce89104672b72397b7ec92a256",
       "version_major": 2,
       "version_minor": 0
      },
      "text/plain": [
       "  0%|          | 0/663 [00:00<?, ?it/s]"
      ]
     },
     "metadata": {},
     "output_type": "display_data"
    },
    {
     "name": "stderr",
     "output_type": "stream",
     "text": [
      "[2025-09-09 07:21:17,251] INFO: mAP@0.95_foggy: 0.222\n",
      "[2025-09-09 07:21:17,255] INFO: mAP50_foggy: 0.281\n",
      "[2025-09-09 07:21:17,256] INFO: mAP75_foggy: 0.237\n",
      "[2025-09-09 07:21:17,257] INFO: pedestrian_mAP@0.95_foggy: 0.276\n",
      "[2025-09-09 07:21:17,257] INFO: car_mAP@0.95_foggy: 0.215\n",
      "[2025-09-09 07:21:17,258] INFO: truck_mAP@0.95_foggy: 0.234\n",
      "[2025-09-09 07:21:17,258] INFO: bus_mAP@0.95_foggy: 0.097\n",
      "[2025-09-09 07:21:17,260] INFO: motorcycle_mAP@0.95_foggy: 0.249\n",
      "[2025-09-09 07:21:17,261] INFO: bicycle_mAP@0.95_foggy: 0.264\n",
      "[2025-09-09 07:21:17,287] INFO: [foggy] batch 24: mAP50 0.2810 (no-imp 2/10)\n"
     ]
    },
    {
     "data": {
      "application/vnd.jupyter.widget-view+json": {
       "model_id": "2a64c70200c9438b980b1d49ba597251",
       "version_major": 2,
       "version_minor": 0
      },
      "text/plain": [
       "  0%|          | 0/663 [00:00<?, ?it/s]"
      ]
     },
     "metadata": {},
     "output_type": "display_data"
    },
    {
     "name": "stderr",
     "output_type": "stream",
     "text": [
      "[2025-09-09 07:26:09,496] INFO: mAP@0.95_foggy: 0.222\n",
      "[2025-09-09 07:26:09,501] INFO: mAP50_foggy: 0.281\n",
      "[2025-09-09 07:26:09,502] INFO: mAP75_foggy: 0.237\n",
      "[2025-09-09 07:26:09,503] INFO: pedestrian_mAP@0.95_foggy: 0.277\n",
      "[2025-09-09 07:26:09,504] INFO: car_mAP@0.95_foggy: 0.214\n",
      "[2025-09-09 07:26:09,505] INFO: truck_mAP@0.95_foggy: 0.234\n",
      "[2025-09-09 07:26:09,507] INFO: bus_mAP@0.95_foggy: 0.094\n",
      "[2025-09-09 07:26:09,508] INFO: motorcycle_mAP@0.95_foggy: 0.250\n",
      "[2025-09-09 07:26:09,509] INFO: bicycle_mAP@0.95_foggy: 0.264\n",
      "[2025-09-09 07:26:09,533] INFO: [foggy] batch 25: mAP50 0.2809 (no-imp 3/10)\n"
     ]
    },
    {
     "data": {
      "application/vnd.jupyter.widget-view+json": {
       "model_id": "b27ee73a29134092844323a2d3b4c34b",
       "version_major": 2,
       "version_minor": 0
      },
      "text/plain": [
       "  0%|          | 0/663 [00:00<?, ?it/s]"
      ]
     },
     "metadata": {},
     "output_type": "display_data"
    },
    {
     "name": "stderr",
     "output_type": "stream",
     "text": [
      "[2025-09-09 07:31:00,940] INFO: mAP@0.95_foggy: 0.222\n",
      "[2025-09-09 07:31:00,945] INFO: mAP50_foggy: 0.281\n",
      "[2025-09-09 07:31:00,947] INFO: mAP75_foggy: 0.236\n",
      "[2025-09-09 07:31:00,948] INFO: pedestrian_mAP@0.95_foggy: 0.277\n",
      "[2025-09-09 07:31:00,949] INFO: car_mAP@0.95_foggy: 0.213\n",
      "[2025-09-09 07:31:00,950] INFO: truck_mAP@0.95_foggy: 0.234\n",
      "[2025-09-09 07:31:00,951] INFO: bus_mAP@0.95_foggy: 0.093\n",
      "[2025-09-09 07:31:00,952] INFO: motorcycle_mAP@0.95_foggy: 0.249\n",
      "[2025-09-09 07:31:00,952] INFO: bicycle_mAP@0.95_foggy: 0.263\n",
      "[2025-09-09 07:31:00,979] INFO: [foggy] batch 26: mAP50 0.2805 (no-imp 4/10)\n"
     ]
    },
    {
     "data": {
      "application/vnd.jupyter.widget-view+json": {
       "model_id": "440ef6659b4a485c8b8cdae24a13ebd9",
       "version_major": 2,
       "version_minor": 0
      },
      "text/plain": [
       "  0%|          | 0/663 [00:00<?, ?it/s]"
      ]
     },
     "metadata": {},
     "output_type": "display_data"
    },
    {
     "name": "stderr",
     "output_type": "stream",
     "text": [
      "[2025-09-09 07:35:52,720] INFO: mAP@0.95_foggy: 0.221\n",
      "[2025-09-09 07:35:52,723] INFO: mAP50_foggy: 0.281\n",
      "[2025-09-09 07:35:52,724] INFO: mAP75_foggy: 0.236\n",
      "[2025-09-09 07:35:52,725] INFO: pedestrian_mAP@0.95_foggy: 0.277\n",
      "[2025-09-09 07:35:52,726] INFO: car_mAP@0.95_foggy: 0.213\n",
      "[2025-09-09 07:35:52,727] INFO: truck_mAP@0.95_foggy: 0.234\n",
      "[2025-09-09 07:35:52,728] INFO: bus_mAP@0.95_foggy: 0.090\n",
      "[2025-09-09 07:35:52,729] INFO: motorcycle_mAP@0.95_foggy: 0.250\n",
      "[2025-09-09 07:35:52,730] INFO: bicycle_mAP@0.95_foggy: 0.263\n",
      "[2025-09-09 07:35:52,752] INFO: [foggy] batch 27: mAP50 0.2806 (no-imp 5/10)\n"
     ]
    },
    {
     "data": {
      "application/vnd.jupyter.widget-view+json": {
       "model_id": "a9fb2738594b4701925e104d09a06287",
       "version_major": 2,
       "version_minor": 0
      },
      "text/plain": [
       "  0%|          | 0/663 [00:00<?, ?it/s]"
      ]
     },
     "metadata": {},
     "output_type": "display_data"
    },
    {
     "name": "stderr",
     "output_type": "stream",
     "text": [
      "[2025-09-09 07:40:46,826] INFO: mAP@0.95_foggy: 0.221\n",
      "[2025-09-09 07:40:46,832] INFO: mAP50_foggy: 0.281\n",
      "[2025-09-09 07:40:46,833] INFO: mAP75_foggy: 0.236\n",
      "[2025-09-09 07:40:46,834] INFO: pedestrian_mAP@0.95_foggy: 0.277\n",
      "[2025-09-09 07:40:46,835] INFO: car_mAP@0.95_foggy: 0.212\n",
      "[2025-09-09 07:40:46,836] INFO: truck_mAP@0.95_foggy: 0.233\n",
      "[2025-09-09 07:40:46,837] INFO: bus_mAP@0.95_foggy: 0.089\n",
      "[2025-09-09 07:40:46,837] INFO: motorcycle_mAP@0.95_foggy: 0.250\n",
      "[2025-09-09 07:40:46,838] INFO: bicycle_mAP@0.95_foggy: 0.263\n",
      "[2025-09-09 07:40:46,869] INFO: [foggy] batch 28: mAP50 0.2809 (no-imp 6/10)\n"
     ]
    },
    {
     "data": {
      "application/vnd.jupyter.widget-view+json": {
       "model_id": "3c4e331f7a124e7ebe8fe03a45680429",
       "version_major": 2,
       "version_minor": 0
      },
      "text/plain": [
       "  0%|          | 0/663 [00:00<?, ?it/s]"
      ]
     },
     "metadata": {},
     "output_type": "display_data"
    },
    {
     "ename": "KeyboardInterrupt",
     "evalue": "",
     "output_type": "error",
     "traceback": [
      "\u001b[31m---------------------------------------------------------------------------\u001b[39m",
      "\u001b[31mKeyboardInterrupt\u001b[39m                         Traceback (most recent call last)",
      "\u001b[36mCell\u001b[39m\u001b[36m \u001b[39m\u001b[32mIn[6]\u001b[39m\u001b[32m, line 1\u001b[39m\n\u001b[32m----> \u001b[39m\u001b[32m1\u001b[39m \u001b[43mmean_teacher\u001b[49m\u001b[43m.\u001b[49m\u001b[43mtrain\u001b[49m\u001b[43m(\u001b[49m\u001b[43m)\u001b[49m\n",
      "\u001b[36mFile \u001b[39m\u001b[32m/workspace/ptta/other_method/baseline.py:280\u001b[39m, in \u001b[36mtrain\u001b[39m\u001b[34m(self)\u001b[39m\n\u001b[32m      0\u001b[39m <Error retrieving source code with stack_data see ipython/ipython#13598>\n",
      "\u001b[36mFile \u001b[39m\u001b[32m/workspace/ptta/other_method/baseline.py:561\u001b[39m, in \u001b[36mmean_teacher\u001b[39m\u001b[34m(self, model, save_dir, task, best_state, best_map50, no_imp_streak, tta_train_dataloader, tta_raw_data, tta_valid_dataloader, reference_preprocessor, classes_list, student_model, teacher_model, optimizer_mt, weak_augmentation, strong_augmentation, **_)\u001b[39m\n\u001b[32m    558\u001b[39m \u001b[38;5;28;01mif\u001b[39;00m \u001b[38;5;28mself\u001b[39m.use_scheduler:\n\u001b[32m    559\u001b[39m     scheduler.step()\n\u001b[32m--> \u001b[39m\u001b[32m561\u001b[39m utils.update_ema_variables(student_model, teacher_model, alpha=\u001b[32m0.999\u001b[39m, global_step=global_step)\n\u001b[32m    562\u001b[39m global_step += \u001b[32m1\u001b[39m\n\u001b[32m    564\u001b[39m current_map50, improve = utils.improve_test(\u001b[38;5;28mself\u001b[39m.device, batch_i, \u001b[38;5;28mself\u001b[39m.eval_every,\n\u001b[32m    565\u001b[39m                                     teacher_model, task, best_map50, tta_raw_data, tta_valid_dataloader, \n\u001b[32m    566\u001b[39m                                     reference_preprocessor, classes_list)\n",
      "\u001b[36mFile \u001b[39m\u001b[32m/workspace/ptta/other_method/utils.py:271\u001b[39m, in \u001b[36mimprove_test\u001b[39m\u001b[34m(device, batch_i, eval_every, model, task, best_map50, tta_raw_data, tta_valid_dataloader, reference_preprocessor, classes_list)\u001b[39m\n\u001b[32m    266\u001b[39m \u001b[38;5;28;01mdef\u001b[39;00m\u001b[38;5;250m \u001b[39m\u001b[34mimprove_test\u001b[39m(device, batch_i, eval_every, \n\u001b[32m    267\u001b[39m                  model, task, best_map50,\n\u001b[32m    268\u001b[39m                  tta_raw_data, tta_valid_dataloader, \n\u001b[32m    269\u001b[39m                  reference_preprocessor, classes_list):\n\u001b[32m--> \u001b[39m\u001b[32m271\u001b[39m     current_result = \u001b[43mtest\u001b[49m\u001b[43m(\u001b[49m\u001b[43mmodel\u001b[49m\u001b[43m,\u001b[49m\u001b[43m \u001b[49m\u001b[43mdevice\u001b[49m\u001b[43m,\u001b[49m\u001b[43m \u001b[49m\u001b[43mtask\u001b[49m\u001b[43m,\u001b[49m\u001b[43m \u001b[49m\u001b[43mtta_raw_data\u001b[49m\u001b[43m,\u001b[49m\u001b[43m \u001b[49m\u001b[43mtta_valid_dataloader\u001b[49m\u001b[43m,\u001b[49m\u001b[43m \u001b[49m\u001b[43mreference_preprocessor\u001b[49m\u001b[43m,\u001b[49m\u001b[43m \u001b[49m\u001b[43mclasses_list\u001b[49m\u001b[43m)\u001b[49m\n\u001b[32m    272\u001b[39m     current_map50 = current_result.get(\u001b[33m\"\u001b[39m\u001b[33mmAP50\u001b[39m\u001b[33m\"\u001b[39m, current_result.get(\u001b[33m\"\u001b[39m\u001b[33mmAP@0.50\u001b[39m\u001b[33m\"\u001b[39m, -\u001b[32m1.0\u001b[39m))\n\u001b[32m    274\u001b[39m     improve = current_map50 >= best_map50\n",
      "\u001b[36mFile \u001b[39m\u001b[32m/workspace/ptta/other_method/utils.py:142\u001b[39m, in \u001b[36mtest\u001b[39m\u001b[34m(model, device, task, tta_raw_data, tta_valid_dataloader, reference_preprocessor, classes_list)\u001b[39m\n\u001b[32m    139\u001b[39m sizes = [label[\u001b[33m'\u001b[39m\u001b[33morig_size\u001b[39m\u001b[33m'\u001b[39m].cpu().tolist() \u001b[38;5;28;01mfor\u001b[39;00m label \u001b[38;5;129;01min\u001b[39;00m inputs[\u001b[33m'\u001b[39m\u001b[33mlabels\u001b[39m\u001b[33m'\u001b[39m]]\n\u001b[32m    141\u001b[39m \u001b[38;5;28;01mwith\u001b[39;00m torch.no_grad():\n\u001b[32m--> \u001b[39m\u001b[32m142\u001b[39m     outputs = \u001b[43mmodel\u001b[49m\u001b[43m(\u001b[49m\u001b[43mpixel_values\u001b[49m\u001b[43m=\u001b[49m\u001b[43minputs\u001b[49m\u001b[43m[\u001b[49m\u001b[33;43m'\u001b[39;49m\u001b[33;43mpixel_values\u001b[39;49m\u001b[33;43m'\u001b[39;49m\u001b[43m]\u001b[49m\u001b[43m.\u001b[49m\u001b[43mto\u001b[49m\u001b[43m(\u001b[49m\u001b[43mdevice\u001b[49m\u001b[43m)\u001b[49m\u001b[43m)\u001b[49m\n\u001b[32m    144\u001b[39m results = reference_preprocessor.post_process_object_detection(\n\u001b[32m    145\u001b[39m     outputs, target_sizes=sizes, threshold=\u001b[32m0.0\u001b[39m\n\u001b[32m    146\u001b[39m )\n\u001b[32m    148\u001b[39m detections = [Detections.from_transformers(results[i]) \u001b[38;5;28;01mfor\u001b[39;00m i \u001b[38;5;129;01min\u001b[39;00m \u001b[38;5;28mrange\u001b[39m(\u001b[38;5;28mlen\u001b[39m(results))]\n",
      "\u001b[36mFile \u001b[39m\u001b[32m/workspace/ptta/.venv/lib/python3.11/site-packages/torch/nn/modules/module.py:1751\u001b[39m, in \u001b[36mModule._wrapped_call_impl\u001b[39m\u001b[34m(self, *args, **kwargs)\u001b[39m\n\u001b[32m   1749\u001b[39m     \u001b[38;5;28;01mreturn\u001b[39;00m \u001b[38;5;28mself\u001b[39m._compiled_call_impl(*args, **kwargs)  \u001b[38;5;66;03m# type: ignore[misc]\u001b[39;00m\n\u001b[32m   1750\u001b[39m \u001b[38;5;28;01melse\u001b[39;00m:\n\u001b[32m-> \u001b[39m\u001b[32m1751\u001b[39m     \u001b[38;5;28;01mreturn\u001b[39;00m \u001b[38;5;28;43mself\u001b[39;49m\u001b[43m.\u001b[49m\u001b[43m_call_impl\u001b[49m\u001b[43m(\u001b[49m\u001b[43m*\u001b[49m\u001b[43margs\u001b[49m\u001b[43m,\u001b[49m\u001b[43m \u001b[49m\u001b[43m*\u001b[49m\u001b[43m*\u001b[49m\u001b[43mkwargs\u001b[49m\u001b[43m)\u001b[49m\n",
      "\u001b[36mFile \u001b[39m\u001b[32m/workspace/ptta/.venv/lib/python3.11/site-packages/torch/nn/modules/module.py:1762\u001b[39m, in \u001b[36mModule._call_impl\u001b[39m\u001b[34m(self, *args, **kwargs)\u001b[39m\n\u001b[32m   1757\u001b[39m \u001b[38;5;66;03m# If we don't have any hooks, we want to skip the rest of the logic in\u001b[39;00m\n\u001b[32m   1758\u001b[39m \u001b[38;5;66;03m# this function, and just call forward.\u001b[39;00m\n\u001b[32m   1759\u001b[39m \u001b[38;5;28;01mif\u001b[39;00m \u001b[38;5;129;01mnot\u001b[39;00m (\u001b[38;5;28mself\u001b[39m._backward_hooks \u001b[38;5;129;01mor\u001b[39;00m \u001b[38;5;28mself\u001b[39m._backward_pre_hooks \u001b[38;5;129;01mor\u001b[39;00m \u001b[38;5;28mself\u001b[39m._forward_hooks \u001b[38;5;129;01mor\u001b[39;00m \u001b[38;5;28mself\u001b[39m._forward_pre_hooks\n\u001b[32m   1760\u001b[39m         \u001b[38;5;129;01mor\u001b[39;00m _global_backward_pre_hooks \u001b[38;5;129;01mor\u001b[39;00m _global_backward_hooks\n\u001b[32m   1761\u001b[39m         \u001b[38;5;129;01mor\u001b[39;00m _global_forward_hooks \u001b[38;5;129;01mor\u001b[39;00m _global_forward_pre_hooks):\n\u001b[32m-> \u001b[39m\u001b[32m1762\u001b[39m     \u001b[38;5;28;01mreturn\u001b[39;00m \u001b[43mforward_call\u001b[49m\u001b[43m(\u001b[49m\u001b[43m*\u001b[49m\u001b[43margs\u001b[49m\u001b[43m,\u001b[49m\u001b[43m \u001b[49m\u001b[43m*\u001b[49m\u001b[43m*\u001b[49m\u001b[43mkwargs\u001b[49m\u001b[43m)\u001b[49m\n\u001b[32m   1764\u001b[39m result = \u001b[38;5;28;01mNone\u001b[39;00m\n\u001b[32m   1765\u001b[39m called_always_called_hooks = \u001b[38;5;28mset\u001b[39m()\n",
      "\u001b[36mFile \u001b[39m\u001b[32m/workspace/ptta/.venv/lib/python3.11/site-packages/transformers/models/rt_detr/modeling_rt_detr.py:1930\u001b[39m, in \u001b[36mRTDetrForObjectDetection.forward\u001b[39m\u001b[34m(self, pixel_values, pixel_mask, encoder_outputs, inputs_embeds, decoder_inputs_embeds, labels, output_attentions, output_hidden_states, return_dict, **loss_kwargs)\u001b[39m\n\u001b[32m   1925\u001b[39m output_hidden_states = (\n\u001b[32m   1926\u001b[39m     output_hidden_states \u001b[38;5;28;01mif\u001b[39;00m output_hidden_states \u001b[38;5;129;01mis\u001b[39;00m \u001b[38;5;129;01mnot\u001b[39;00m \u001b[38;5;28;01mNone\u001b[39;00m \u001b[38;5;28;01melse\u001b[39;00m \u001b[38;5;28mself\u001b[39m.config.output_hidden_states\n\u001b[32m   1927\u001b[39m )\n\u001b[32m   1928\u001b[39m return_dict = return_dict \u001b[38;5;28;01mif\u001b[39;00m return_dict \u001b[38;5;129;01mis\u001b[39;00m \u001b[38;5;129;01mnot\u001b[39;00m \u001b[38;5;28;01mNone\u001b[39;00m \u001b[38;5;28;01melse\u001b[39;00m \u001b[38;5;28mself\u001b[39m.config.use_return_dict\n\u001b[32m-> \u001b[39m\u001b[32m1930\u001b[39m outputs = \u001b[38;5;28;43mself\u001b[39;49m\u001b[43m.\u001b[49m\u001b[43mmodel\u001b[49m\u001b[43m(\u001b[49m\n\u001b[32m   1931\u001b[39m \u001b[43m    \u001b[49m\u001b[43mpixel_values\u001b[49m\u001b[43m,\u001b[49m\n\u001b[32m   1932\u001b[39m \u001b[43m    \u001b[49m\u001b[43mpixel_mask\u001b[49m\u001b[43m=\u001b[49m\u001b[43mpixel_mask\u001b[49m\u001b[43m,\u001b[49m\n\u001b[32m   1933\u001b[39m \u001b[43m    \u001b[49m\u001b[43mencoder_outputs\u001b[49m\u001b[43m=\u001b[49m\u001b[43mencoder_outputs\u001b[49m\u001b[43m,\u001b[49m\n\u001b[32m   1934\u001b[39m \u001b[43m    \u001b[49m\u001b[43minputs_embeds\u001b[49m\u001b[43m=\u001b[49m\u001b[43minputs_embeds\u001b[49m\u001b[43m,\u001b[49m\n\u001b[32m   1935\u001b[39m \u001b[43m    \u001b[49m\u001b[43mdecoder_inputs_embeds\u001b[49m\u001b[43m=\u001b[49m\u001b[43mdecoder_inputs_embeds\u001b[49m\u001b[43m,\u001b[49m\n\u001b[32m   1936\u001b[39m \u001b[43m    \u001b[49m\u001b[43mlabels\u001b[49m\u001b[43m=\u001b[49m\u001b[43mlabels\u001b[49m\u001b[43m,\u001b[49m\n\u001b[32m   1937\u001b[39m \u001b[43m    \u001b[49m\u001b[43moutput_attentions\u001b[49m\u001b[43m=\u001b[49m\u001b[43moutput_attentions\u001b[49m\u001b[43m,\u001b[49m\n\u001b[32m   1938\u001b[39m \u001b[43m    \u001b[49m\u001b[43moutput_hidden_states\u001b[49m\u001b[43m=\u001b[49m\u001b[43moutput_hidden_states\u001b[49m\u001b[43m,\u001b[49m\n\u001b[32m   1939\u001b[39m \u001b[43m    \u001b[49m\u001b[43mreturn_dict\u001b[49m\u001b[43m=\u001b[49m\u001b[43mreturn_dict\u001b[49m\u001b[43m,\u001b[49m\n\u001b[32m   1940\u001b[39m \u001b[43m\u001b[49m\u001b[43m)\u001b[49m\n\u001b[32m   1942\u001b[39m denoising_meta_values = (\n\u001b[32m   1943\u001b[39m     outputs.denoising_meta_values \u001b[38;5;28;01mif\u001b[39;00m return_dict \u001b[38;5;28;01melse\u001b[39;00m outputs[-\u001b[32m1\u001b[39m] \u001b[38;5;28;01mif\u001b[39;00m \u001b[38;5;28mself\u001b[39m.training \u001b[38;5;28;01melse\u001b[39;00m \u001b[38;5;28;01mNone\u001b[39;00m\n\u001b[32m   1944\u001b[39m )\n\u001b[32m   1946\u001b[39m outputs_class = outputs.intermediate_logits \u001b[38;5;28;01mif\u001b[39;00m return_dict \u001b[38;5;28;01melse\u001b[39;00m outputs[\u001b[32m2\u001b[39m]\n",
      "\u001b[36mFile \u001b[39m\u001b[32m/workspace/ptta/.venv/lib/python3.11/site-packages/torch/nn/modules/module.py:1751\u001b[39m, in \u001b[36mModule._wrapped_call_impl\u001b[39m\u001b[34m(self, *args, **kwargs)\u001b[39m\n\u001b[32m   1749\u001b[39m     \u001b[38;5;28;01mreturn\u001b[39;00m \u001b[38;5;28mself\u001b[39m._compiled_call_impl(*args, **kwargs)  \u001b[38;5;66;03m# type: ignore[misc]\u001b[39;00m\n\u001b[32m   1750\u001b[39m \u001b[38;5;28;01melse\u001b[39;00m:\n\u001b[32m-> \u001b[39m\u001b[32m1751\u001b[39m     \u001b[38;5;28;01mreturn\u001b[39;00m \u001b[38;5;28;43mself\u001b[39;49m\u001b[43m.\u001b[49m\u001b[43m_call_impl\u001b[49m\u001b[43m(\u001b[49m\u001b[43m*\u001b[49m\u001b[43margs\u001b[49m\u001b[43m,\u001b[49m\u001b[43m \u001b[49m\u001b[43m*\u001b[49m\u001b[43m*\u001b[49m\u001b[43mkwargs\u001b[49m\u001b[43m)\u001b[49m\n",
      "\u001b[36mFile \u001b[39m\u001b[32m/workspace/ptta/.venv/lib/python3.11/site-packages/torch/nn/modules/module.py:1762\u001b[39m, in \u001b[36mModule._call_impl\u001b[39m\u001b[34m(self, *args, **kwargs)\u001b[39m\n\u001b[32m   1757\u001b[39m \u001b[38;5;66;03m# If we don't have any hooks, we want to skip the rest of the logic in\u001b[39;00m\n\u001b[32m   1758\u001b[39m \u001b[38;5;66;03m# this function, and just call forward.\u001b[39;00m\n\u001b[32m   1759\u001b[39m \u001b[38;5;28;01mif\u001b[39;00m \u001b[38;5;129;01mnot\u001b[39;00m (\u001b[38;5;28mself\u001b[39m._backward_hooks \u001b[38;5;129;01mor\u001b[39;00m \u001b[38;5;28mself\u001b[39m._backward_pre_hooks \u001b[38;5;129;01mor\u001b[39;00m \u001b[38;5;28mself\u001b[39m._forward_hooks \u001b[38;5;129;01mor\u001b[39;00m \u001b[38;5;28mself\u001b[39m._forward_pre_hooks\n\u001b[32m   1760\u001b[39m         \u001b[38;5;129;01mor\u001b[39;00m _global_backward_pre_hooks \u001b[38;5;129;01mor\u001b[39;00m _global_backward_hooks\n\u001b[32m   1761\u001b[39m         \u001b[38;5;129;01mor\u001b[39;00m _global_forward_hooks \u001b[38;5;129;01mor\u001b[39;00m _global_forward_pre_hooks):\n\u001b[32m-> \u001b[39m\u001b[32m1762\u001b[39m     \u001b[38;5;28;01mreturn\u001b[39;00m \u001b[43mforward_call\u001b[49m\u001b[43m(\u001b[49m\u001b[43m*\u001b[49m\u001b[43margs\u001b[49m\u001b[43m,\u001b[49m\u001b[43m \u001b[49m\u001b[43m*\u001b[49m\u001b[43m*\u001b[49m\u001b[43mkwargs\u001b[49m\u001b[43m)\u001b[49m\n\u001b[32m   1764\u001b[39m result = \u001b[38;5;28;01mNone\u001b[39;00m\n\u001b[32m   1765\u001b[39m called_always_called_hooks = \u001b[38;5;28mset\u001b[39m()\n",
      "\u001b[36mFile \u001b[39m\u001b[32m/workspace/ptta/.venv/lib/python3.11/site-packages/transformers/models/rt_detr/modeling_rt_detr.py:1687\u001b[39m, in \u001b[36mRTDetrModel.forward\u001b[39m\u001b[34m(self, pixel_values, pixel_mask, encoder_outputs, inputs_embeds, decoder_inputs_embeds, labels, output_attentions, output_hidden_states, return_dict)\u001b[39m\n\u001b[32m   1685\u001b[39m     spatial_shapes[level, \u001b[32m1\u001b[39m] = width\n\u001b[32m   1686\u001b[39m     spatial_shapes_list.append((height, width))\n\u001b[32m-> \u001b[39m\u001b[32m1687\u001b[39m     source = \u001b[43msource\u001b[49m\u001b[43m.\u001b[49m\u001b[43mflatten\u001b[49m\u001b[43m(\u001b[49m\u001b[32;43m2\u001b[39;49m\u001b[43m)\u001b[49m.transpose(\u001b[32m1\u001b[39m, \u001b[32m2\u001b[39m)\n\u001b[32m   1688\u001b[39m     source_flatten.append(source)\n\u001b[32m   1689\u001b[39m source_flatten = torch.cat(source_flatten, \u001b[32m1\u001b[39m)\n",
      "\u001b[31mKeyboardInterrupt\u001b[39m: "
     ]
    }
   ],
   "source": [
    "mean_teacher.train()"
   ]
  },
  {
   "cell_type": "code",
   "execution_count": null,
   "id": "ef95ba1a",
   "metadata": {},
   "outputs": [],
   "source": [
    "direct_method.train()"
   ]
  },
  {
   "cell_type": "code",
   "execution_count": null,
   "id": "5813f6c2",
   "metadata": {},
   "outputs": [],
   "source": [
    "actmad.train()"
   ]
  },
  {
   "cell_type": "code",
   "execution_count": null,
   "id": "61541929",
   "metadata": {},
   "outputs": [],
   "source": [
    "norm.train()"
   ]
  },
  {
   "cell_type": "code",
   "execution_count": null,
   "id": "ed09d969",
   "metadata": {},
   "outputs": [],
   "source": [
    "dua.train()"
   ]
  },
  {
   "cell_type": "code",
   "execution_count": null,
   "id": "24d0444c",
   "metadata": {},
   "outputs": [],
   "source": [
    "from transformers import RTDetrForObjectDetection, RTDetrImageProcessorFast, RTDetrConfig\n",
    "from transformers.image_utils import AnnotationFormat\n",
    "from safetensors.torch import load_file\n",
    "\n",
    "import utils\n",
    "\n",
    "reference_model_id = \"PekingU/rtdetr_r50vd\"\n",
    "\n",
    "# Load the reference model configuration\n",
    "reference_config = RTDetrConfig.from_pretrained(reference_model_id, torch_dtype=torch.float32, return_dict=True)\n",
    "reference_config.num_labels = 6\n",
    "\n",
    "# Set the image size and preprocessor size\n",
    "reference_config.image_size = 800\n",
    "\n",
    "# Load the reference model image processor\n",
    "reference_preprocessor = RTDetrImageProcessorFast.from_pretrained(reference_model_id)\n",
    "reference_preprocessor.format = AnnotationFormat.COCO_DETECTION  # COCO Format / Detection BBOX Format\n",
    "reference_preprocessor.size = {\"height\": 800, \"width\": 1280}\n",
    "reference_preprocessor.do_resize = False\n",
    "\n",
    "model_pretrained = RTDetrForObjectDetection(config=reference_config)\n",
    "model_states = load_file(\"/workspace/ptta/RT-DETR_R50vd_SHIFT_CLEAR.safetensors\", device=\"cpu\")\n",
    "model_pretrained.load_state_dict(model_states, strict=False)\n",
    "\n",
    "for param in model_pretrained.parameters():\n",
    "    param.requires_grad = False  # Freeze\n",
    "\n",
    "# Initialize Model\n",
    "model_pretrained"
   ]
  },
  {
   "cell_type": "code",
   "execution_count": null,
   "id": "e2250271",
   "metadata": {},
   "outputs": [],
   "source": [
    "model, optimizer = utils.add_adapters(model_pretrained, device = None, reduction_ratio=32, target_stages=[0, 1, 2, 3])"
   ]
  },
  {
   "cell_type": "code",
   "execution_count": null,
   "id": "443fdbc3",
   "metadata": {},
   "outputs": [],
   "source": [
    "for n,m in model.named_modules():\n",
    "    if m.__class__.__name__ == \"conv_task\":\n",
    "        print(n, hasattr(m, \"down_proj\"), hasattr(m, \"up_proj\"), getattr(m, \"is_proj\", None))\n",
    "        params = [pn for pn,p in m.named_parameters() if p.requires_grad]\n",
    "        print(\"trainable:\", params)"
   ]
  },
  {
   "cell_type": "code",
   "execution_count": null,
   "id": "42af12ac",
   "metadata": {},
   "outputs": [],
   "source": [
    "import torch\n",
    "from collections import OrderedDict\n",
    "\n",
    "path = \"/workspace/ptta/faster_rcnn_r50_shift.pth\"   # cfg.TEST.ADAPTATION.SOURCE_FEATS_PATH\n",
    "s = torch.load(path, map_location=\"cpu\")\n",
    "\n",
    "# 1) 최상위 키 확인\n",
    "print(\"[top-level keys]:\", list(s.keys()))\n",
    "\n",
    "# 2) kl_div 존재/타입 확인\n",
    "kl = s.get(\"kl_div\", None)\n",
    "print(\"has kl_div?\", kl is not None, \"type:\", type(kl))\n",
    "\n",
    "# # 3) kl_div가 dict인 경우: 키/샘플 값 미리보기\n",
    "# if isinstance(kl, dict):\n",
    "#     print(\"kl_div keys (len={}):\".format(len(kl)), list(kl.keys())[:10])\n",
    "#     # 값이 텐서일 수 있어요 → 파이썬 숫자로 변환해 미리보기\n",
    "#     sample_items = list(kl.items())[:10]\n",
    "#     preview = {k: (v.item() if hasattr(v, \"item\") else float(v) if isinstance(v, (int,float)) else type(v).__name__)\n",
    "#                for k, v in sample_items}\n",
    "#     print(\"kl_div preview:\", preview)\n",
    "\n",
    "# # 4) 텐서/리스트 등 다른 형태 대비\n",
    "# elif hasattr(kl, \"shape\"):  # torch.Tensor\n",
    "#     print(\"kl_div tensor shape:\", kl.shape)\n",
    "#     print(\"first few:\", kl.flatten()[:10])\n",
    "# elif isinstance(kl, list):\n",
    "#     print(\"kl_div list len:\", len(kl), \"first few:\", kl[:10])\n",
    "\n",
    "# # 5) 전체 합/통계 (dict[...]->scalar 값 가정)\n",
    "# def to_scalar(x):\n",
    "#     if hasattr(x, \"item\"):\n",
    "#         return x.item()\n",
    "#     return float(x)\n",
    "\n",
    "# if isinstance(kl, dict):\n",
    "#     vals = [to_scalar(v) for v in kl.values()]\n",
    "#     print(\"sum:\", sum(vals), \"mean:\", sum(vals)/len(vals) if vals else None)"
   ]
  },
  {
   "cell_type": "code",
   "execution_count": null,
   "id": "4de206f7",
   "metadata": {},
   "outputs": [],
   "source": [
    "print(model.s_div.values())"
   ]
  }
 ],
 "metadata": {
  "kernelspec": {
   "display_name": ".venv",
   "language": "python",
   "name": "python3"
  },
  "language_info": {
   "codemirror_mode": {
    "name": "ipython",
    "version": 3
   },
   "file_extension": ".py",
   "mimetype": "text/x-python",
   "name": "python",
   "nbconvert_exporter": "python",
   "pygments_lexer": "ipython3",
   "version": "3.11.13"
  }
 },
 "nbformat": 4,
 "nbformat_minor": 5
}
