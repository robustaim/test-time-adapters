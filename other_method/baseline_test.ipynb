{
 "cells": [
  {
   "cell_type": "code",
   "execution_count": null,
   "id": "49e40e57",
   "metadata": {},
   "outputs": [],
   "source": [
    "import sys\n",
    "from pathlib import Path\n",
    "\n",
    "# 현재 폴더: ptta/other_method/ActMAD/\n",
    "# ptta 바로 위의 디렉토리를 sys.path에 추가\n",
    "PROJECT_PARENT = Path.cwd().parents[0]  # -> ptta/ 의 부모 디렉토리\n",
    "print(PROJECT_PARENT)\n",
    "sys.path.insert(0, str(PROJECT_PARENT))\n",
    "\n",
    "from os import path\n",
    "\n",
    "import torch\n",
    "from torch import nn, optim\n",
    "from torch.utils.data import DataLoader\n",
    "\n",
    "from ttadapters.datasets import BaseDataset, DatasetHolder, DataLoaderHolder\n",
    "from ttadapters.datasets import SHIFTClearDatasetForObjectDetection, SHIFTCorruptedDatasetForObjectDetection, SHIFTDiscreteSubsetForObjectDetection\n",
    "\n",
    "from transformers import Trainer, TrainingArguments, EarlyStoppingCallback\n",
    "from accelerate import Accelerator, notebook_launcher\n",
    "\n",
    "from supervision.metrics.mean_average_precision import MeanAveragePrecision\n",
    "from supervision.detection.core import Detections\n",
    "\n",
    "# import wandb\n",
    "from tqdm.auto import tqdm\n",
    "import matplotlib.pyplot as plt"
   ]
  },
  {
   "cell_type": "markdown",
   "id": "fcf042fe",
   "metadata": {},
   "source": [
    "## Check GPU Availability"
   ]
  },
  {
   "cell_type": "code",
   "execution_count": null,
   "id": "d008447c",
   "metadata": {},
   "outputs": [],
   "source": [
    "!nvidia-smi"
   ]
  },
  {
   "cell_type": "code",
   "execution_count": null,
   "id": "e4fc049d",
   "metadata": {},
   "outputs": [],
   "source": [
    "# Set CUDA Device Number 0~7\n",
    "DEVICE_NUM = 6\n",
    "ADDITIONAL_GPU = 0\n",
    "DATA_TYPE = torch.bfloat16\n",
    "\n",
    "if torch.cuda.is_available():\n",
    "    if ADDITIONAL_GPU:\n",
    "        torch.cuda.set_device(DEVICE_NUM)\n",
    "        device = torch.device(\"cuda\")\n",
    "    else:\n",
    "        device = torch.device(f\"cuda:{DEVICE_NUM}\")\n",
    "else:\n",
    "    device = torch.device(\"cpu\")\n",
    "    DEVICE_NUM = -1\n",
    "\n",
    "print(f\"INFO: Using device - {device}\" + (f\":{DEVICE_NUM}\" if ADDITIONAL_GPU else \"\"))"
   ]
  },
  {
   "cell_type": "code",
   "execution_count": null,
   "id": "e3d99b44",
   "metadata": {},
   "outputs": [],
   "source": [
    "PROJECT_NAME = \"ActMAD test\"\n",
    "RUN_NAME = \"RT-DETR_R50_ActMAD\""
   ]
  },
  {
   "cell_type": "markdown",
   "id": "b7121420",
   "metadata": {},
   "source": [
    "## Baseline"
   ]
  },
  {
   "cell_type": "code",
   "execution_count": null,
   "id": "983b57fc",
   "metadata": {},
   "outputs": [],
   "source": [
    "import baseline\n",
    "data_root = path.normpath(path.join(Path.cwd(), \"..\", \"data\"))\n",
    "print(data_root)\n",
    "direct_method = baseline.Baseline(\n",
    "    device=device,\n",
    "    data_root=data_root,\n",
    "    save_dir=\"./direct_method_checkpoints\",\n",
    "    method=\"direct_method\",\n",
    "    model_arch=\"rt_detr\",\n",
    "    reference_model_id=\"PekingU/rtdetr_r50vd\",\n",
    "    image_size=800,\n",
    "    class_num=6,\n",
    "    valid_batch=16,\n",
    "    clean_bn_extract_batch=32,\n",
    "    model_states=\"/workspace/ptta/RT-DETR_R50vd_SHIFT_CLEAR.safetensors\",\n",
    "    momentum=0.05,\n",
    "    mom_pre=0.07,\n",
    "    decay_factor=0.97,\n",
    "    min_momentum_constant=0.01,\n",
    "    patience=10,\n",
    "    eval_every=10,\n",
    "    enable_log_file=True\n",
    ")\n",
    "\n",
    "actmad = baseline.Baseline(\n",
    "    device=device,\n",
    "    data_root=data_root,\n",
    "    save_dir=\"./actmad_checkpoints\",\n",
    "    method=\"actmad\",\n",
    "    model_arch=\"rt_detr\",\n",
    "    reference_model_id=\"PekingU/rtdetr_r50vd\",\n",
    "    image_size=800,\n",
    "    class_num=6,\n",
    "    valid_batch=16,\n",
    "    clean_bn_extract_batch=16,\n",
    "    model_states=\"/workspace/ptta/RT-DETR_R50vd_SHIFT_CLEAR.safetensors\",\n",
    "    momentum=0.05,\n",
    "    mom_pre=0.07,\n",
    "    decay_factor=0.97,\n",
    "    min_momentum_constant=0.01,\n",
    "    patience=10,\n",
    "    eval_every=10,\n",
    "    enable_log_file=True\n",
    ")\n",
    "\n",
    "norm = baseline.Baseline(\n",
    "    device=device,\n",
    "    data_root=data_root,\n",
    "    save_dir=\"./norm_checkpoints\",\n",
    "    method=\"norm\",\n",
    "    model_arch=\"rt_detr\",\n",
    "    reference_model_id=\"PekingU/rtdetr_r50vd\",\n",
    "    image_size=800,\n",
    "    class_num=6,\n",
    "    valid_batch=16,\n",
    "    clean_bn_extract_batch=16,\n",
    "    model_states=\"/workspace/ptta/RT-DETR_R50vd_SHIFT_CLEAR.safetensors\",\n",
    "    momentum=0.05,\n",
    "    mom_pre=0.07,\n",
    "    decay_factor=0.97,\n",
    "    min_momentum_constant=0.01,\n",
    "    patience=10,\n",
    "    eval_every=10,\n",
    "    enable_log_file=True\n",
    ")\n",
    "\n",
    "dua = baseline.Baseline(\n",
    "    device=device,\n",
    "    data_root=data_root,\n",
    "    save_dir=\"./dua_checkpoints\",\n",
    "    method=\"dua\",\n",
    "    model_arch=\"rt_detr\",\n",
    "    reference_model_id=\"PekingU/rtdetr_r50vd\",\n",
    "    image_size=800,\n",
    "    class_num=6,\n",
    "    valid_batch=16,\n",
    "    clean_bn_extract_batch=16,\n",
    "    model_states=\"/workspace/ptta/RT-DETR_R50vd_SHIFT_CLEAR.safetensors\",\n",
    "    momentum=0.05,\n",
    "    mom_pre=0.07,\n",
    "    decay_factor=0.97,\n",
    "    min_momentum_constant=0.01,\n",
    "    patience=10,\n",
    "    eval_every=10,\n",
    "    enable_log_file=True\n",
    ")"
   ]
  },
  {
   "cell_type": "code",
   "execution_count": null,
   "id": "ef95ba1a",
   "metadata": {},
   "outputs": [],
   "source": [
    "direct_method.train()"
   ]
  },
  {
   "cell_type": "code",
   "execution_count": null,
   "id": "5813f6c2",
   "metadata": {},
   "outputs": [],
   "source": [
    "actmad.train()"
   ]
  },
  {
   "cell_type": "code",
   "execution_count": null,
   "id": "61541929",
   "metadata": {},
   "outputs": [],
   "source": [
    "norm.train()"
   ]
  },
  {
   "cell_type": "code",
   "execution_count": null,
   "id": "ed09d969",
   "metadata": {},
   "outputs": [],
   "source": [
    "dua.train()"
   ]
  }
 ],
 "metadata": {
  "kernelspec": {
   "display_name": "ttadapters",
   "language": "python",
   "name": "python3"
  },
  "language_info": {
   "codemirror_mode": {
    "name": "ipython",
    "version": 3
   },
   "file_extension": ".py",
   "mimetype": "text/x-python",
   "name": "python",
   "nbconvert_exporter": "python",
   "pygments_lexer": "ipython3",
   "version": "3.11.13"
  }
 },
 "nbformat": 4,
 "nbformat_minor": 5
}
