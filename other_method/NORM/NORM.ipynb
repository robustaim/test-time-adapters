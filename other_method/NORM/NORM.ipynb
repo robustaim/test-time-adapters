{
 "cells": [
  {
   "cell_type": "code",
   "execution_count": null,
   "id": "ea31fbde",
   "metadata": {},
   "outputs": [],
   "source": [
    "from pathlib import Path\n",
    "import sys\n",
    "\n",
    "THIS_DIR = Path.cwd().resolve()\n",
    "PROJECT_ROOT = THIS_DIR.parents[1]  # -> ptta/\n",
    "print(PROJECT_ROOT)\n",
    "\n",
    "sys.path.insert(0, str(PROJECT_ROOT))"
   ]
  },
  {
   "cell_type": "code",
   "execution_count": 2,
   "id": "1d861d48",
   "metadata": {},
   "outputs": [],
   "source": [
    "import sys\n",
    "from pathlib import Path\n",
    "\n",
    "# 현재 폴더: ptta/other_method/DUA/\n",
    "# ptta 바로 위의 디렉토리를 sys.path에 추가\n",
    "PROJECT_PARENT = Path.cwd().parents[1]  # -> ptta/ 의 부모 디렉토리\n",
    "sys.path.insert(0, str(PROJECT_PARENT))\n",
    "\n",
    "from os import path\n",
    "\n",
    "import torch\n",
    "from torch import nn, optim\n",
    "from torch.utils.data import DataLoader\n",
    "\n",
    "from ttadapters.datasets import BaseDataset, DatasetHolder, DataLoaderHolder\n",
    "from ttadapters.datasets import SHIFTClearDatasetForObjectDetection, SHIFTCorruptedDatasetForObjectDetection, SHIFTDiscreteSubsetForObjectDetection\n",
    "from transformers import Trainer, TrainingArguments, EarlyStoppingCallback\n",
    "from accelerate import Accelerator, notebook_launcher\n",
    "\n",
    "from supervision.metrics.mean_average_precision import MeanAveragePrecision\n",
    "from supervision.detection.core import Detections\n",
    "\n",
    "# import wandb\n",
    "from tqdm.auto import tqdm\n",
    "import matplotlib.pyplot as plt"
   ]
  },
  {
   "cell_type": "markdown",
   "id": "316329f4",
   "metadata": {},
   "source": [
    "## Check GPU Availability"
   ]
  },
  {
   "cell_type": "code",
   "execution_count": 3,
   "id": "2a4362af",
   "metadata": {},
   "outputs": [
    {
     "name": "stdout",
     "output_type": "stream",
     "text": [
      "Wed Aug 27 14:04:39 2025       \n",
      "+---------------------------------------------------------------------------------------+\n",
      "| NVIDIA-SMI 535.183.01             Driver Version: 535.183.01   CUDA Version: 12.2     |\n",
      "|-----------------------------------------+----------------------+----------------------+\n",
      "| GPU  Name                 Persistence-M | Bus-Id        Disp.A | Volatile Uncorr. ECC |\n",
      "| Fan  Temp   Perf          Pwr:Usage/Cap |         Memory-Usage | GPU-Util  Compute M. |\n",
      "|                                         |                      |               MIG M. |\n",
      "|=========================================+======================+======================|\n",
      "|   0  Tesla P100-PCIE-16GB           Off | 00000000:04:00.0 Off |                    0 |\n",
      "| N/A   41C    P0              34W / 250W |   1922MiB / 16384MiB |      0%      Default |\n",
      "|                                         |                      |                  N/A |\n",
      "+-----------------------------------------+----------------------+----------------------+\n",
      "|   1  Tesla P100-PCIE-16GB           Off | 00000000:06:00.0 Off |                    0 |\n",
      "| N/A   40C    P0              25W / 250W |      6MiB / 16384MiB |      0%      Default |\n",
      "|                                         |                      |                  N/A |\n",
      "+-----------------------------------------+----------------------+----------------------+\n",
      "|   2  Tesla P100-PCIE-16GB           Off | 00000000:07:00.0 Off |                    0 |\n",
      "| N/A   51C    P0              42W / 250W |  12808MiB / 16384MiB |      0%      Default |\n",
      "|                                         |                      |                  N/A |\n",
      "+-----------------------------------------+----------------------+----------------------+\n",
      "|   3  Tesla P100-PCIE-16GB           Off | 00000000:08:00.0 Off |                    0 |\n",
      "| N/A   40C    P0              32W / 250W |   4372MiB / 16384MiB |      0%      Default |\n",
      "|                                         |                      |                  N/A |\n",
      "+-----------------------------------------+----------------------+----------------------+\n",
      "|   4  Tesla P100-PCIE-16GB           Off | 00000000:0C:00.0 Off |                    0 |\n",
      "| N/A   40C    P0              32W / 250W |   9574MiB / 16384MiB |      0%      Default |\n",
      "|                                         |                      |                  N/A |\n",
      "+-----------------------------------------+----------------------+----------------------+\n",
      "|   5  Tesla P100-PCIE-16GB           Off | 00000000:0D:00.0 Off |                    0 |\n",
      "| N/A   42C    P0              33W / 250W |    684MiB / 16384MiB |      0%      Default |\n",
      "|                                         |                      |                  N/A |\n",
      "+-----------------------------------------+----------------------+----------------------+\n",
      "|   6  Tesla P100-PCIE-16GB           Off | 00000000:0E:00.0 Off |                    0 |\n",
      "| N/A   38C    P0              26W / 250W |      6MiB / 16384MiB |      0%      Default |\n",
      "|                                         |                      |                  N/A |\n",
      "+-----------------------------------------+----------------------+----------------------+\n",
      "|   7  Tesla P100-PCIE-16GB           Off | 00000000:0F:00.0 Off |                    0 |\n",
      "| N/A   38C    P0              31W / 250W |    914MiB / 16384MiB |      0%      Default |\n",
      "|                                         |                      |                  N/A |\n",
      "+-----------------------------------------+----------------------+----------------------+\n",
      "                                                                                         \n",
      "+---------------------------------------------------------------------------------------+\n",
      "| Processes:                                                                            |\n",
      "|  GPU   GI   CI        PID   Type   Process name                            GPU Memory |\n",
      "|        ID   ID                                                             Usage      |\n",
      "|=======================================================================================|\n",
      "+---------------------------------------------------------------------------------------+\n"
     ]
    }
   ],
   "source": [
    "!nvidia-smi"
   ]
  },
  {
   "cell_type": "code",
   "execution_count": 4,
   "id": "ae2d3790",
   "metadata": {},
   "outputs": [
    {
     "name": "stdout",
     "output_type": "stream",
     "text": [
      "INFO: Using device - cuda:1\n"
     ]
    }
   ],
   "source": [
    "# Set CUDA Device Number 0~7\n",
    "DEVICE_NUM = 1\n",
    "ADDITIONAL_GPU = 0\n",
    "DATA_TYPE = torch.bfloat16\n",
    "\n",
    "if torch.cuda.is_available():\n",
    "    if ADDITIONAL_GPU:\n",
    "        torch.cuda.set_device(DEVICE_NUM)\n",
    "        device = torch.device(\"cuda\")\n",
    "    else:\n",
    "        device = torch.device(f\"cuda:{DEVICE_NUM}\")\n",
    "else:\n",
    "    device = torch.device(\"cpu\")\n",
    "    DEVICE_NUM = -1\n",
    "\n",
    "print(f\"INFO: Using device - {device}\" + (f\":{DEVICE_NUM}\" if ADDITIONAL_GPU else \"\"))"
   ]
  },
  {
   "cell_type": "code",
   "execution_count": 5,
   "id": "e30e86ec",
   "metadata": {},
   "outputs": [],
   "source": [
    "PROJECT_NAME = \"DUA test\"\n",
    "RUN_NAME = \"RT-DETR_R50_DUA\""
   ]
  },
  {
   "cell_type": "markdown",
   "id": "1ea6211c",
   "metadata": {},
   "source": [
    "## Dataset"
   ]
  },
  {
   "cell_type": "code",
   "execution_count": 6,
   "id": "443d8baa",
   "metadata": {},
   "outputs": [
    {
     "name": "stderr",
     "output_type": "stream",
     "text": [
      "[08/27/2025 14:04:40] SHIFT DevKit - INFO - Base: /workspace/ptta/data/SHIFT/discrete/images/train. Backend: <shift_dev.utils.backend.ZipBackend object at 0x7f01c9a4b8d0>\n",
      "[08/27/2025 14:04:40] SHIFT DevKit - INFO - Loading annotation from '/workspace/ptta/data/SHIFT_SUBSET/normal/discrete/images/train/front/det_2d.json' ...\n"
     ]
    },
    {
     "name": "stdout",
     "output_type": "stream",
     "text": [
      "/workspace/ptta/data\n",
      "INFO: Downloading 'SHIFT_SUBSET' from file server to /workspace/ptta/data/SHIFT/discrete...\n",
      "INFO: Dataset archive found in the root directory. Skipping download.\n",
      "INFO: Subset split for 'SHIFT_SUBSET' dataset is already done. Skipping...\n",
      "INFO: Downloading 'SHIFT_SUBSET' from file server to /workspace/ptta/data/SHIFT/discrete...\n",
      "INFO: Dataset archive found in the root directory. Skipping download.\n"
     ]
    },
    {
     "name": "stderr",
     "output_type": "stream",
     "text": [
      "[08/27/2025 14:04:41] SHIFT DevKit - INFO - Loading annotation from '/workspace/ptta/data/SHIFT_SUBSET/normal/discrete/images/train/front/det_2d.json' Done.\n",
      "[08/27/2025 14:04:50] SHIFT DevKit - INFO - Loading annotation takes 10.64 seconds.\n"
     ]
    },
    {
     "name": "stdout",
     "output_type": "stream",
     "text": [
      "Batch 0:\n",
      "\n",
      "Item                 Shape                               Min        Max       \n",
      "--------------------------------------------------------------------------------\n",
      "original_hw          [tensor([800]), tensor([1280])]\n",
      "input_hw             [tensor([800]), tensor([1280])]\n",
      "frame_ids            torch.Size([1])                           0.00       0.00\n",
      "name                 ['00000000_img_front.jpg']\n",
      "videoName            ['0016-1b62']\n",
      "intrinsics           torch.Size([1, 3, 3])                     0.00     640.00\n",
      "extrinsics           torch.Size([1, 4, 4])                    -7.53     219.91\n",
      "boxes2d              torch.Size([1, 26, 4])                    5.00     974.00\n",
      "boxes2d_classes      torch.Size([1, 26])                       0.00       3.00\n",
      "boxes2d_track_ids    torch.Size([1, 26])                       0.00      25.00\n",
      "images               torch.Size([1, 1, 3, 800, 1280])          0.00     255.00\n",
      "\n"
     ]
    },
    {
     "name": "stderr",
     "output_type": "stream",
     "text": [
      "[08/27/2025 14:04:55] SHIFT DevKit - INFO - Base: /workspace/ptta/data/SHIFT/discrete/images/val. Backend: <shift_dev.utils.backend.ZipBackend object at 0x7f01c9a4b8d0>\n",
      "[08/27/2025 14:04:55] SHIFT DevKit - INFO - Loading annotation from '/workspace/ptta/data/SHIFT_SUBSET/normal/discrete/images/val/front/det_2d.json' ...\n",
      "[08/27/2025 14:04:55] SHIFT DevKit - INFO - Loading annotation from '/workspace/ptta/data/SHIFT_SUBSET/normal/discrete/images/val/front/det_2d.json' Done.\n"
     ]
    },
    {
     "name": "stdout",
     "output_type": "stream",
     "text": [
      "Video name: 0016-1b62\n",
      "Sample indices within a video: [0, 1, 2, 3, 4, 5, 6, 7, 8, 9, 10, 11, 12, 13, 14, 15, 16, 17, 18, 19, 20, 21, 22, 23, 24, 25, 26, 27, 28, 29, 30, 31, 32, 33, 34, 35, 36, 37, 38, 39, 40, 41, 42, 43, 44, 45, 46, 47, 48, 49]\n",
      "INFO: Downloading 'SHIFT_SUBSET' from file server to /workspace/ptta/data/SHIFT/discrete...\n",
      "INFO: Dataset archive found in the root directory. Skipping download.\n",
      "INFO: Subset split for 'SHIFT_SUBSET' dataset is already done. Skipping...\n",
      "INFO: Downloading 'SHIFT_SUBSET' from file server to /workspace/ptta/data/SHIFT/discrete...\n",
      "INFO: Dataset archive found in the root directory. Skipping download.\n"
     ]
    },
    {
     "name": "stderr",
     "output_type": "stream",
     "text": [
      "[08/27/2025 14:04:57] SHIFT DevKit - INFO - Loading annotation takes 1.47 seconds.\n"
     ]
    },
    {
     "name": "stdout",
     "output_type": "stream",
     "text": [
      "Batch 0:\n",
      "\n",
      "Item                 Shape                               Min        Max       \n",
      "--------------------------------------------------------------------------------\n",
      "original_hw          [tensor([800]), tensor([1280])]\n",
      "input_hw             [tensor([800]), tensor([1280])]\n",
      "frame_ids            torch.Size([1])                           0.00       0.00\n",
      "name                 ['00000000_img_front.jpg']\n",
      "videoName            ['0116-4859']\n",
      "intrinsics           torch.Size([1, 3, 3])                     0.00     640.00\n",
      "extrinsics           torch.Size([1, 4, 4])                    -0.90     138.34\n",
      "boxes2d              torch.Size([1, 6, 4])                   246.00     859.00\n",
      "boxes2d_classes      torch.Size([1, 6])                        1.00       5.00\n",
      "boxes2d_track_ids    torch.Size([1, 6])                        0.00       5.00\n",
      "images               torch.Size([1, 1, 3, 800, 1280])          0.00     255.00\n",
      "\n"
     ]
    },
    {
     "name": "stderr",
     "output_type": "stream",
     "text": [
      "[08/27/2025 14:04:57] SHIFT DevKit - INFO - Base: /workspace/ptta/data/SHIFT/discrete/images/val. Backend: <shift_dev.utils.backend.ZipBackend object at 0x7f01c9a4b8d0>\n",
      "[08/27/2025 14:04:57] SHIFT DevKit - INFO - Loading annotation from '/workspace/ptta/data/SHIFT_SUBSET/corrupted/discrete/images/val/front/det_2d.json' ...\n"
     ]
    },
    {
     "name": "stdout",
     "output_type": "stream",
     "text": [
      "Video name: 0116-4859\n",
      "Sample indices within a video: [0, 1, 2, 3, 4, 5, 6, 7, 8, 9, 10, 11, 12, 13, 14, 15, 16, 17, 18, 19, 20, 21, 22, 23, 24, 25, 26, 27, 28, 29, 30, 31, 32, 33, 34, 35, 36, 37, 38, 39, 40, 41, 42, 43, 44, 45, 46, 47, 48, 49]\n",
      "INFO: Downloading 'SHIFT_SUBSET' from file server to /workspace/ptta/data/SHIFT/discrete...\n",
      "INFO: Dataset archive found in the root directory. Skipping download.\n",
      "INFO: Subset split for 'SHIFT_SUBSET' dataset is already done. Skipping...\n",
      "INFO: Downloading 'SHIFT_SUBSET' from file server to /workspace/ptta/data/SHIFT/discrete...\n",
      "INFO: Dataset archive found in the root directory. Skipping download.\n"
     ]
    },
    {
     "name": "stderr",
     "output_type": "stream",
     "text": [
      "[08/27/2025 14:04:59] SHIFT DevKit - INFO - Loading annotation from '/workspace/ptta/data/SHIFT_SUBSET/corrupted/discrete/images/val/front/det_2d.json' Done.\n",
      "[08/27/2025 14:05:08] SHIFT DevKit - INFO - Loading annotation takes 10.69 seconds.\n"
     ]
    },
    {
     "name": "stdout",
     "output_type": "stream",
     "text": [
      "Batch 0:\n",
      "\n",
      "Item                 Shape                               Min        Max       \n",
      "--------------------------------------------------------------------------------\n",
      "original_hw          [tensor([800]), tensor([1280])]\n",
      "input_hw             [tensor([800]), tensor([1280])]\n",
      "frame_ids            torch.Size([1])                           0.00       0.00\n",
      "name                 ['00000000_img_front.jpg']\n",
      "videoName            ['007b-4e72']\n",
      "intrinsics           torch.Size([1, 3, 3])                     0.00     640.00\n",
      "extrinsics           torch.Size([1, 4, 4])                  -311.22     226.46\n",
      "boxes2d              torch.Size([1, 3, 4])                   233.00     802.00\n",
      "boxes2d_classes      torch.Size([1, 3])                        0.00       1.00\n",
      "boxes2d_track_ids    torch.Size([1, 3])                        0.00       2.00\n",
      "images               torch.Size([1, 1, 3, 800, 1280])          0.00     255.00\n",
      "\n",
      "Video name: 007b-4e72\n",
      "Sample indices within a video: [0, 1, 2, 3, 4, 5, 6, 7, 8, 9, 10, 11, 12, 13, 14, 15, 16, 17, 18, 19, 20, 21, 22, 23, 24, 25, 26, 27, 28, 29, 30, 31, 32, 33, 34, 35, 36, 37, 38, 39, 40, 41, 42, 43, 44, 45, 46, 47, 48, 49]\n",
      "INFO: Dataset loaded successfully. Number of samples - Train: 20800, Valid: 2800, Test: 22200\n",
      "\n"
     ]
    },
    {
     "data": {
      "text/plain": [
       "'/workspace/ptta/data'"
      ]
     },
     "execution_count": 6,
     "metadata": {},
     "output_type": "execute_result"
    }
   ],
   "source": [
    "DATA_ROOT = path.normpath(path.join(Path.cwd(), \"..\", \"..\", \"data\"))\n",
    "print(DATA_ROOT)\n",
    "dataset = DatasetHolder(\n",
    "    train=SHIFTClearDatasetForObjectDetection(root=DATA_ROOT, train=True),\n",
    "    valid=SHIFTClearDatasetForObjectDetection(root=DATA_ROOT, valid=True),\n",
    "    test=SHIFTCorruptedDatasetForObjectDetection(root=DATA_ROOT, valid=True)\n",
    ")\n",
    "DATA_ROOT"
   ]
  },
  {
   "cell_type": "code",
   "execution_count": 7,
   "id": "2720f34c",
   "metadata": {},
   "outputs": [],
   "source": [
    "from typing import Iterable, List\n",
    "\n",
    "def task_to_subset_types(task: str):\n",
    "    T = SHIFTDiscreteSubsetForObjectDetection.SubsetType\n",
    "\n",
    "    # weather\n",
    "    if task == \"cloudy\":\n",
    "        return T.CLOUDY_DAYTIME\n",
    "    if task == \"overcast\":\n",
    "        return T.OVERCAST_DAYTIME\n",
    "    if task == \"rainy\":\n",
    "        return T.RAINY_DAYTIME\n",
    "    if task == \"foggy\":\n",
    "        return T.FOGGY_DAYTIME\n",
    "\n",
    "    # time\n",
    "    if task == \"night\":\n",
    "        return T.CLEAR_NIGHT\n",
    "    if task in {\"dawn\", \"dawn/dusk\"}:\n",
    "        return T.CLEAR_DAWN\n",
    "    if task == \"clear\":\n",
    "        return T.CLEAR_DAYTIME\n",
    "    \n",
    "    # simple\n",
    "    if task == \"normal\":\n",
    "        return T.NORMAL\n",
    "    if task == \"corrupted\":\n",
    "        return T.CORRUPTED\n",
    "\n",
    "    raise ValueError(f\"Unknown task: {task}\")"
   ]
  },
  {
   "cell_type": "code",
   "execution_count": 8,
   "id": "4f7f419a",
   "metadata": {},
   "outputs": [],
   "source": [
    "from typing import Optional, Callable\n",
    "\n",
    "class SHIFTCorruptedTaskDatasetForObjectDetection(SHIFTDiscreteSubsetForObjectDetection):\n",
    "    def __init__(\n",
    "            self, root: str, force_download: bool = False,\n",
    "            train: bool = True, valid: bool = False,\n",
    "            transform: Optional[Callable] = None, task: str = \"clear\", target_transform: Optional[Callable] = None\n",
    "    ):\n",
    "        super().__init__(\n",
    "            root=root, force_download=force_download,\n",
    "            train=train, valid=valid, subset_type=task_to_subset_types(task),\n",
    "            transform=transform, target_transform=target_transform\n",
    "        )"
   ]
  },
  {
   "cell_type": "code",
   "execution_count": 9,
   "id": "2255d215",
   "metadata": {},
   "outputs": [
    {
     "name": "stdout",
     "output_type": "stream",
     "text": [
      "INFO: Set batch size - Train: 32, Valid: 64, Test: 64\n",
      "INFO: Number of classes - 6 ['pedestrian', 'car', 'truck', 'bus', 'motorcycle', 'bicycle']\n"
     ]
    }
   ],
   "source": [
    "# Set Batch Size\n",
    "BATCH_SIZE = 2, 8, 8, 8  # 4070 Ti\n",
    "BATCH_SIZE = 32, 64, 64, 32  # A6000\n",
    "\n",
    "# Dataset Configs\n",
    "CLASSES = dataset.train.classes\n",
    "NUM_CLASSES = len(CLASSES)\n",
    "\n",
    "print(f\"INFO: Set batch size - Train: {BATCH_SIZE[0]}, Valid: {BATCH_SIZE[1]}, Test: {BATCH_SIZE[2]}\")\n",
    "print(f\"INFO: Number of classes - {NUM_CLASSES} {CLASSES}\")"
   ]
  },
  {
   "cell_type": "code",
   "execution_count": 10,
   "id": "bd52073f",
   "metadata": {},
   "outputs": [],
   "source": [
    "class DatasetAdapterForTransformers(BaseDataset):\n",
    "    def __init__(self, original_dataset, camera='front'):\n",
    "        self.dataset = original_dataset\n",
    "        self.camera = camera\n",
    "\n",
    "    def __len__(self):\n",
    "        return len(self.dataset)\n",
    "\n",
    "    def __getitem__(self, idx):\n",
    "        item = self.dataset[idx][self.camera]\n",
    "        image = item['images'].squeeze(0)\n",
    "\n",
    "        # Convert to COCO_Detection Format\n",
    "        annotations = []\n",
    "        target = dict(image_id=idx, annotations=annotations)\n",
    "        for box, cls in zip(item['boxes2d'], item['boxes2d_classes']):\n",
    "            x1, y1, x2, y2 = box.tolist()  # from Pascal VOC format (x1, y1, x2, y2)\n",
    "            width, height = x2 - x1, y2 - y1\n",
    "            annotations.append(dict(\n",
    "                bbox=[x1, y1, width, height],  # to COCO format: [x, y, width, height]\n",
    "                category_id=cls.item(),\n",
    "                area=width * height,\n",
    "                iscrowd=0\n",
    "            ))\n",
    "\n",
    "        # Following prepare_coco_detection_annotation's expected format\n",
    "        # RT-DETR ImageProcessor converts the COCO bbox to center format (cx, cy, w, h) during preprocessing\n",
    "        # But, eventually re-converts the bbox to Pascal VOC (x1, y1, x2, y2) format after post-processing\n",
    "        return dict(image=image, target=target)"
   ]
  },
  {
   "cell_type": "code",
   "execution_count": 11,
   "id": "4bb0cb70",
   "metadata": {},
   "outputs": [],
   "source": [
    "def collate_fn(batch, preprocessor=None):\n",
    "    images = [item['image'] for item in batch]\n",
    "    if preprocessor is not None:\n",
    "        target = [item['target'] for item in batch]\n",
    "        return preprocessor(images=images, annotations=target, return_tensors=\"pt\")\n",
    "    else:\n",
    "        # If no preprocessor is provided, just assume images are already in tensor format\n",
    "        return dict(\n",
    "            pixel_values=dict(pixel_values=torch.stack(images)),\n",
    "            labels=[dict(\n",
    "                class_labels=item['boxes2d_classes'].long(),\n",
    "                boxes=item[\"boxes2d\"].float()\n",
    "            ) for item in batch]\n",
    "        )"
   ]
  },
  {
   "cell_type": "markdown",
   "id": "e9be2d0d",
   "metadata": {},
   "source": [
    "## Define Model"
   ]
  },
  {
   "cell_type": "code",
   "execution_count": 12,
   "id": "c7846836",
   "metadata": {},
   "outputs": [],
   "source": [
    "from transformers import RTDetrForObjectDetection, RTDetrImageProcessorFast, RTDetrConfig\n",
    "from transformers.image_utils import AnnotationFormat\n",
    "from safetensors.torch import load_file"
   ]
  },
  {
   "cell_type": "code",
   "execution_count": 13,
   "id": "eb956f8e",
   "metadata": {},
   "outputs": [],
   "source": [
    "IMG_SIZE = 800"
   ]
  },
  {
   "cell_type": "code",
   "execution_count": 14,
   "id": "fcdfe33a",
   "metadata": {},
   "outputs": [],
   "source": [
    "reference_model_id = \"PekingU/rtdetr_r50vd\"\n",
    "\n",
    "# Load the reference model configuration\n",
    "reference_config = RTDetrConfig.from_pretrained(reference_model_id, torch_dtype=torch.float32, return_dict=True)\n",
    "reference_config.num_labels = 6\n",
    "\n",
    "# Set the image size and preprocessor size\n",
    "reference_config.image_size = 800\n",
    "\n",
    "# Load the reference model image processor\n",
    "reference_preprocessor = RTDetrImageProcessorFast.from_pretrained(reference_model_id)\n",
    "reference_preprocessor.format = AnnotationFormat.COCO_DETECTION  # COCO Format / Detection BBOX Format\n",
    "reference_preprocessor.size = {\"height\": IMG_SIZE, \"width\": IMG_SIZE}\n",
    "reference_preprocessor.do_resize = False"
   ]
  },
  {
   "cell_type": "code",
   "execution_count": 15,
   "id": "e09af716",
   "metadata": {},
   "outputs": [
    {
     "data": {
      "text/plain": [
       "RTDetrForObjectDetection(\n",
       "  (model): RTDetrModel(\n",
       "    (backbone): RTDetrConvEncoder(\n",
       "      (model): RTDetrResNetBackbone(\n",
       "        (embedder): RTDetrResNetEmbeddings(\n",
       "          (embedder): Sequential(\n",
       "            (0): RTDetrResNetConvLayer(\n",
       "              (convolution): Conv2d(3, 32, kernel_size=(3, 3), stride=(2, 2), padding=(1, 1), bias=False)\n",
       "              (normalization): RTDetrFrozenBatchNorm2d()\n",
       "              (activation): ReLU()\n",
       "            )\n",
       "            (1): RTDetrResNetConvLayer(\n",
       "              (convolution): Conv2d(32, 32, kernel_size=(3, 3), stride=(1, 1), padding=(1, 1), bias=False)\n",
       "              (normalization): RTDetrFrozenBatchNorm2d()\n",
       "              (activation): ReLU()\n",
       "            )\n",
       "            (2): RTDetrResNetConvLayer(\n",
       "              (convolution): Conv2d(32, 64, kernel_size=(3, 3), stride=(1, 1), padding=(1, 1), bias=False)\n",
       "              (normalization): RTDetrFrozenBatchNorm2d()\n",
       "              (activation): ReLU()\n",
       "            )\n",
       "          )\n",
       "          (pooler): MaxPool2d(kernel_size=3, stride=2, padding=1, dilation=1, ceil_mode=False)\n",
       "        )\n",
       "        (encoder): RTDetrResNetEncoder(\n",
       "          (stages): ModuleList(\n",
       "            (0): RTDetrResNetStage(\n",
       "              (layers): Sequential(\n",
       "                (0): RTDetrResNetBottleNeckLayer(\n",
       "                  (shortcut): RTDetrResNetShortCut(\n",
       "                    (convolution): Conv2d(64, 256, kernel_size=(1, 1), stride=(1, 1), bias=False)\n",
       "                    (normalization): RTDetrFrozenBatchNorm2d()\n",
       "                  )\n",
       "                  (layer): Sequential(\n",
       "                    (0): RTDetrResNetConvLayer(\n",
       "                      (convolution): Conv2d(64, 64, kernel_size=(1, 1), stride=(1, 1), bias=False)\n",
       "                      (normalization): RTDetrFrozenBatchNorm2d()\n",
       "                      (activation): ReLU()\n",
       "                    )\n",
       "                    (1): RTDetrResNetConvLayer(\n",
       "                      (convolution): Conv2d(64, 64, kernel_size=(3, 3), stride=(1, 1), padding=(1, 1), bias=False)\n",
       "                      (normalization): RTDetrFrozenBatchNorm2d()\n",
       "                      (activation): ReLU()\n",
       "                    )\n",
       "                    (2): RTDetrResNetConvLayer(\n",
       "                      (convolution): Conv2d(64, 256, kernel_size=(1, 1), stride=(1, 1), bias=False)\n",
       "                      (normalization): RTDetrFrozenBatchNorm2d()\n",
       "                      (activation): Identity()\n",
       "                    )\n",
       "                  )\n",
       "                  (activation): ReLU()\n",
       "                )\n",
       "                (1): RTDetrResNetBottleNeckLayer(\n",
       "                  (shortcut): Identity()\n",
       "                  (layer): Sequential(\n",
       "                    (0): RTDetrResNetConvLayer(\n",
       "                      (convolution): Conv2d(256, 64, kernel_size=(1, 1), stride=(1, 1), bias=False)\n",
       "                      (normalization): RTDetrFrozenBatchNorm2d()\n",
       "                      (activation): ReLU()\n",
       "                    )\n",
       "                    (1): RTDetrResNetConvLayer(\n",
       "                      (convolution): Conv2d(64, 64, kernel_size=(3, 3), stride=(1, 1), padding=(1, 1), bias=False)\n",
       "                      (normalization): RTDetrFrozenBatchNorm2d()\n",
       "                      (activation): ReLU()\n",
       "                    )\n",
       "                    (2): RTDetrResNetConvLayer(\n",
       "                      (convolution): Conv2d(64, 256, kernel_size=(1, 1), stride=(1, 1), bias=False)\n",
       "                      (normalization): RTDetrFrozenBatchNorm2d()\n",
       "                      (activation): Identity()\n",
       "                    )\n",
       "                  )\n",
       "                  (activation): ReLU()\n",
       "                )\n",
       "                (2): RTDetrResNetBottleNeckLayer(\n",
       "                  (shortcut): Identity()\n",
       "                  (layer): Sequential(\n",
       "                    (0): RTDetrResNetConvLayer(\n",
       "                      (convolution): Conv2d(256, 64, kernel_size=(1, 1), stride=(1, 1), bias=False)\n",
       "                      (normalization): RTDetrFrozenBatchNorm2d()\n",
       "                      (activation): ReLU()\n",
       "                    )\n",
       "                    (1): RTDetrResNetConvLayer(\n",
       "                      (convolution): Conv2d(64, 64, kernel_size=(3, 3), stride=(1, 1), padding=(1, 1), bias=False)\n",
       "                      (normalization): RTDetrFrozenBatchNorm2d()\n",
       "                      (activation): ReLU()\n",
       "                    )\n",
       "                    (2): RTDetrResNetConvLayer(\n",
       "                      (convolution): Conv2d(64, 256, kernel_size=(1, 1), stride=(1, 1), bias=False)\n",
       "                      (normalization): RTDetrFrozenBatchNorm2d()\n",
       "                      (activation): Identity()\n",
       "                    )\n",
       "                  )\n",
       "                  (activation): ReLU()\n",
       "                )\n",
       "              )\n",
       "            )\n",
       "            (1): RTDetrResNetStage(\n",
       "              (layers): Sequential(\n",
       "                (0): RTDetrResNetBottleNeckLayer(\n",
       "                  (shortcut): Sequential(\n",
       "                    (0): AvgPool2d(kernel_size=2, stride=2, padding=0)\n",
       "                    (1): RTDetrResNetShortCut(\n",
       "                      (convolution): Conv2d(256, 512, kernel_size=(1, 1), stride=(1, 1), bias=False)\n",
       "                      (normalization): RTDetrFrozenBatchNorm2d()\n",
       "                    )\n",
       "                  )\n",
       "                  (layer): Sequential(\n",
       "                    (0): RTDetrResNetConvLayer(\n",
       "                      (convolution): Conv2d(256, 128, kernel_size=(1, 1), stride=(1, 1), bias=False)\n",
       "                      (normalization): RTDetrFrozenBatchNorm2d()\n",
       "                      (activation): ReLU()\n",
       "                    )\n",
       "                    (1): RTDetrResNetConvLayer(\n",
       "                      (convolution): Conv2d(128, 128, kernel_size=(3, 3), stride=(2, 2), padding=(1, 1), bias=False)\n",
       "                      (normalization): RTDetrFrozenBatchNorm2d()\n",
       "                      (activation): ReLU()\n",
       "                    )\n",
       "                    (2): RTDetrResNetConvLayer(\n",
       "                      (convolution): Conv2d(128, 512, kernel_size=(1, 1), stride=(1, 1), bias=False)\n",
       "                      (normalization): RTDetrFrozenBatchNorm2d()\n",
       "                      (activation): Identity()\n",
       "                    )\n",
       "                  )\n",
       "                  (activation): ReLU()\n",
       "                )\n",
       "                (1): RTDetrResNetBottleNeckLayer(\n",
       "                  (shortcut): Identity()\n",
       "                  (layer): Sequential(\n",
       "                    (0): RTDetrResNetConvLayer(\n",
       "                      (convolution): Conv2d(512, 128, kernel_size=(1, 1), stride=(1, 1), bias=False)\n",
       "                      (normalization): RTDetrFrozenBatchNorm2d()\n",
       "                      (activation): ReLU()\n",
       "                    )\n",
       "                    (1): RTDetrResNetConvLayer(\n",
       "                      (convolution): Conv2d(128, 128, kernel_size=(3, 3), stride=(1, 1), padding=(1, 1), bias=False)\n",
       "                      (normalization): RTDetrFrozenBatchNorm2d()\n",
       "                      (activation): ReLU()\n",
       "                    )\n",
       "                    (2): RTDetrResNetConvLayer(\n",
       "                      (convolution): Conv2d(128, 512, kernel_size=(1, 1), stride=(1, 1), bias=False)\n",
       "                      (normalization): RTDetrFrozenBatchNorm2d()\n",
       "                      (activation): Identity()\n",
       "                    )\n",
       "                  )\n",
       "                  (activation): ReLU()\n",
       "                )\n",
       "                (2): RTDetrResNetBottleNeckLayer(\n",
       "                  (shortcut): Identity()\n",
       "                  (layer): Sequential(\n",
       "                    (0): RTDetrResNetConvLayer(\n",
       "                      (convolution): Conv2d(512, 128, kernel_size=(1, 1), stride=(1, 1), bias=False)\n",
       "                      (normalization): RTDetrFrozenBatchNorm2d()\n",
       "                      (activation): ReLU()\n",
       "                    )\n",
       "                    (1): RTDetrResNetConvLayer(\n",
       "                      (convolution): Conv2d(128, 128, kernel_size=(3, 3), stride=(1, 1), padding=(1, 1), bias=False)\n",
       "                      (normalization): RTDetrFrozenBatchNorm2d()\n",
       "                      (activation): ReLU()\n",
       "                    )\n",
       "                    (2): RTDetrResNetConvLayer(\n",
       "                      (convolution): Conv2d(128, 512, kernel_size=(1, 1), stride=(1, 1), bias=False)\n",
       "                      (normalization): RTDetrFrozenBatchNorm2d()\n",
       "                      (activation): Identity()\n",
       "                    )\n",
       "                  )\n",
       "                  (activation): ReLU()\n",
       "                )\n",
       "                (3): RTDetrResNetBottleNeckLayer(\n",
       "                  (shortcut): Identity()\n",
       "                  (layer): Sequential(\n",
       "                    (0): RTDetrResNetConvLayer(\n",
       "                      (convolution): Conv2d(512, 128, kernel_size=(1, 1), stride=(1, 1), bias=False)\n",
       "                      (normalization): RTDetrFrozenBatchNorm2d()\n",
       "                      (activation): ReLU()\n",
       "                    )\n",
       "                    (1): RTDetrResNetConvLayer(\n",
       "                      (convolution): Conv2d(128, 128, kernel_size=(3, 3), stride=(1, 1), padding=(1, 1), bias=False)\n",
       "                      (normalization): RTDetrFrozenBatchNorm2d()\n",
       "                      (activation): ReLU()\n",
       "                    )\n",
       "                    (2): RTDetrResNetConvLayer(\n",
       "                      (convolution): Conv2d(128, 512, kernel_size=(1, 1), stride=(1, 1), bias=False)\n",
       "                      (normalization): RTDetrFrozenBatchNorm2d()\n",
       "                      (activation): Identity()\n",
       "                    )\n",
       "                  )\n",
       "                  (activation): ReLU()\n",
       "                )\n",
       "              )\n",
       "            )\n",
       "            (2): RTDetrResNetStage(\n",
       "              (layers): Sequential(\n",
       "                (0): RTDetrResNetBottleNeckLayer(\n",
       "                  (shortcut): Sequential(\n",
       "                    (0): AvgPool2d(kernel_size=2, stride=2, padding=0)\n",
       "                    (1): RTDetrResNetShortCut(\n",
       "                      (convolution): Conv2d(512, 1024, kernel_size=(1, 1), stride=(1, 1), bias=False)\n",
       "                      (normalization): RTDetrFrozenBatchNorm2d()\n",
       "                    )\n",
       "                  )\n",
       "                  (layer): Sequential(\n",
       "                    (0): RTDetrResNetConvLayer(\n",
       "                      (convolution): Conv2d(512, 256, kernel_size=(1, 1), stride=(1, 1), bias=False)\n",
       "                      (normalization): RTDetrFrozenBatchNorm2d()\n",
       "                      (activation): ReLU()\n",
       "                    )\n",
       "                    (1): RTDetrResNetConvLayer(\n",
       "                      (convolution): Conv2d(256, 256, kernel_size=(3, 3), stride=(2, 2), padding=(1, 1), bias=False)\n",
       "                      (normalization): RTDetrFrozenBatchNorm2d()\n",
       "                      (activation): ReLU()\n",
       "                    )\n",
       "                    (2): RTDetrResNetConvLayer(\n",
       "                      (convolution): Conv2d(256, 1024, kernel_size=(1, 1), stride=(1, 1), bias=False)\n",
       "                      (normalization): RTDetrFrozenBatchNorm2d()\n",
       "                      (activation): Identity()\n",
       "                    )\n",
       "                  )\n",
       "                  (activation): ReLU()\n",
       "                )\n",
       "                (1): RTDetrResNetBottleNeckLayer(\n",
       "                  (shortcut): Identity()\n",
       "                  (layer): Sequential(\n",
       "                    (0): RTDetrResNetConvLayer(\n",
       "                      (convolution): Conv2d(1024, 256, kernel_size=(1, 1), stride=(1, 1), bias=False)\n",
       "                      (normalization): RTDetrFrozenBatchNorm2d()\n",
       "                      (activation): ReLU()\n",
       "                    )\n",
       "                    (1): RTDetrResNetConvLayer(\n",
       "                      (convolution): Conv2d(256, 256, kernel_size=(3, 3), stride=(1, 1), padding=(1, 1), bias=False)\n",
       "                      (normalization): RTDetrFrozenBatchNorm2d()\n",
       "                      (activation): ReLU()\n",
       "                    )\n",
       "                    (2): RTDetrResNetConvLayer(\n",
       "                      (convolution): Conv2d(256, 1024, kernel_size=(1, 1), stride=(1, 1), bias=False)\n",
       "                      (normalization): RTDetrFrozenBatchNorm2d()\n",
       "                      (activation): Identity()\n",
       "                    )\n",
       "                  )\n",
       "                  (activation): ReLU()\n",
       "                )\n",
       "                (2): RTDetrResNetBottleNeckLayer(\n",
       "                  (shortcut): Identity()\n",
       "                  (layer): Sequential(\n",
       "                    (0): RTDetrResNetConvLayer(\n",
       "                      (convolution): Conv2d(1024, 256, kernel_size=(1, 1), stride=(1, 1), bias=False)\n",
       "                      (normalization): RTDetrFrozenBatchNorm2d()\n",
       "                      (activation): ReLU()\n",
       "                    )\n",
       "                    (1): RTDetrResNetConvLayer(\n",
       "                      (convolution): Conv2d(256, 256, kernel_size=(3, 3), stride=(1, 1), padding=(1, 1), bias=False)\n",
       "                      (normalization): RTDetrFrozenBatchNorm2d()\n",
       "                      (activation): ReLU()\n",
       "                    )\n",
       "                    (2): RTDetrResNetConvLayer(\n",
       "                      (convolution): Conv2d(256, 1024, kernel_size=(1, 1), stride=(1, 1), bias=False)\n",
       "                      (normalization): RTDetrFrozenBatchNorm2d()\n",
       "                      (activation): Identity()\n",
       "                    )\n",
       "                  )\n",
       "                  (activation): ReLU()\n",
       "                )\n",
       "                (3): RTDetrResNetBottleNeckLayer(\n",
       "                  (shortcut): Identity()\n",
       "                  (layer): Sequential(\n",
       "                    (0): RTDetrResNetConvLayer(\n",
       "                      (convolution): Conv2d(1024, 256, kernel_size=(1, 1), stride=(1, 1), bias=False)\n",
       "                      (normalization): RTDetrFrozenBatchNorm2d()\n",
       "                      (activation): ReLU()\n",
       "                    )\n",
       "                    (1): RTDetrResNetConvLayer(\n",
       "                      (convolution): Conv2d(256, 256, kernel_size=(3, 3), stride=(1, 1), padding=(1, 1), bias=False)\n",
       "                      (normalization): RTDetrFrozenBatchNorm2d()\n",
       "                      (activation): ReLU()\n",
       "                    )\n",
       "                    (2): RTDetrResNetConvLayer(\n",
       "                      (convolution): Conv2d(256, 1024, kernel_size=(1, 1), stride=(1, 1), bias=False)\n",
       "                      (normalization): RTDetrFrozenBatchNorm2d()\n",
       "                      (activation): Identity()\n",
       "                    )\n",
       "                  )\n",
       "                  (activation): ReLU()\n",
       "                )\n",
       "                (4): RTDetrResNetBottleNeckLayer(\n",
       "                  (shortcut): Identity()\n",
       "                  (layer): Sequential(\n",
       "                    (0): RTDetrResNetConvLayer(\n",
       "                      (convolution): Conv2d(1024, 256, kernel_size=(1, 1), stride=(1, 1), bias=False)\n",
       "                      (normalization): RTDetrFrozenBatchNorm2d()\n",
       "                      (activation): ReLU()\n",
       "                    )\n",
       "                    (1): RTDetrResNetConvLayer(\n",
       "                      (convolution): Conv2d(256, 256, kernel_size=(3, 3), stride=(1, 1), padding=(1, 1), bias=False)\n",
       "                      (normalization): RTDetrFrozenBatchNorm2d()\n",
       "                      (activation): ReLU()\n",
       "                    )\n",
       "                    (2): RTDetrResNetConvLayer(\n",
       "                      (convolution): Conv2d(256, 1024, kernel_size=(1, 1), stride=(1, 1), bias=False)\n",
       "                      (normalization): RTDetrFrozenBatchNorm2d()\n",
       "                      (activation): Identity()\n",
       "                    )\n",
       "                  )\n",
       "                  (activation): ReLU()\n",
       "                )\n",
       "                (5): RTDetrResNetBottleNeckLayer(\n",
       "                  (shortcut): Identity()\n",
       "                  (layer): Sequential(\n",
       "                    (0): RTDetrResNetConvLayer(\n",
       "                      (convolution): Conv2d(1024, 256, kernel_size=(1, 1), stride=(1, 1), bias=False)\n",
       "                      (normalization): RTDetrFrozenBatchNorm2d()\n",
       "                      (activation): ReLU()\n",
       "                    )\n",
       "                    (1): RTDetrResNetConvLayer(\n",
       "                      (convolution): Conv2d(256, 256, kernel_size=(3, 3), stride=(1, 1), padding=(1, 1), bias=False)\n",
       "                      (normalization): RTDetrFrozenBatchNorm2d()\n",
       "                      (activation): ReLU()\n",
       "                    )\n",
       "                    (2): RTDetrResNetConvLayer(\n",
       "                      (convolution): Conv2d(256, 1024, kernel_size=(1, 1), stride=(1, 1), bias=False)\n",
       "                      (normalization): RTDetrFrozenBatchNorm2d()\n",
       "                      (activation): Identity()\n",
       "                    )\n",
       "                  )\n",
       "                  (activation): ReLU()\n",
       "                )\n",
       "              )\n",
       "            )\n",
       "            (3): RTDetrResNetStage(\n",
       "              (layers): Sequential(\n",
       "                (0): RTDetrResNetBottleNeckLayer(\n",
       "                  (shortcut): Sequential(\n",
       "                    (0): AvgPool2d(kernel_size=2, stride=2, padding=0)\n",
       "                    (1): RTDetrResNetShortCut(\n",
       "                      (convolution): Conv2d(1024, 2048, kernel_size=(1, 1), stride=(1, 1), bias=False)\n",
       "                      (normalization): RTDetrFrozenBatchNorm2d()\n",
       "                    )\n",
       "                  )\n",
       "                  (layer): Sequential(\n",
       "                    (0): RTDetrResNetConvLayer(\n",
       "                      (convolution): Conv2d(1024, 512, kernel_size=(1, 1), stride=(1, 1), bias=False)\n",
       "                      (normalization): RTDetrFrozenBatchNorm2d()\n",
       "                      (activation): ReLU()\n",
       "                    )\n",
       "                    (1): RTDetrResNetConvLayer(\n",
       "                      (convolution): Conv2d(512, 512, kernel_size=(3, 3), stride=(2, 2), padding=(1, 1), bias=False)\n",
       "                      (normalization): RTDetrFrozenBatchNorm2d()\n",
       "                      (activation): ReLU()\n",
       "                    )\n",
       "                    (2): RTDetrResNetConvLayer(\n",
       "                      (convolution): Conv2d(512, 2048, kernel_size=(1, 1), stride=(1, 1), bias=False)\n",
       "                      (normalization): RTDetrFrozenBatchNorm2d()\n",
       "                      (activation): Identity()\n",
       "                    )\n",
       "                  )\n",
       "                  (activation): ReLU()\n",
       "                )\n",
       "                (1): RTDetrResNetBottleNeckLayer(\n",
       "                  (shortcut): Identity()\n",
       "                  (layer): Sequential(\n",
       "                    (0): RTDetrResNetConvLayer(\n",
       "                      (convolution): Conv2d(2048, 512, kernel_size=(1, 1), stride=(1, 1), bias=False)\n",
       "                      (normalization): RTDetrFrozenBatchNorm2d()\n",
       "                      (activation): ReLU()\n",
       "                    )\n",
       "                    (1): RTDetrResNetConvLayer(\n",
       "                      (convolution): Conv2d(512, 512, kernel_size=(3, 3), stride=(1, 1), padding=(1, 1), bias=False)\n",
       "                      (normalization): RTDetrFrozenBatchNorm2d()\n",
       "                      (activation): ReLU()\n",
       "                    )\n",
       "                    (2): RTDetrResNetConvLayer(\n",
       "                      (convolution): Conv2d(512, 2048, kernel_size=(1, 1), stride=(1, 1), bias=False)\n",
       "                      (normalization): RTDetrFrozenBatchNorm2d()\n",
       "                      (activation): Identity()\n",
       "                    )\n",
       "                  )\n",
       "                  (activation): ReLU()\n",
       "                )\n",
       "                (2): RTDetrResNetBottleNeckLayer(\n",
       "                  (shortcut): Identity()\n",
       "                  (layer): Sequential(\n",
       "                    (0): RTDetrResNetConvLayer(\n",
       "                      (convolution): Conv2d(2048, 512, kernel_size=(1, 1), stride=(1, 1), bias=False)\n",
       "                      (normalization): RTDetrFrozenBatchNorm2d()\n",
       "                      (activation): ReLU()\n",
       "                    )\n",
       "                    (1): RTDetrResNetConvLayer(\n",
       "                      (convolution): Conv2d(512, 512, kernel_size=(3, 3), stride=(1, 1), padding=(1, 1), bias=False)\n",
       "                      (normalization): RTDetrFrozenBatchNorm2d()\n",
       "                      (activation): ReLU()\n",
       "                    )\n",
       "                    (2): RTDetrResNetConvLayer(\n",
       "                      (convolution): Conv2d(512, 2048, kernel_size=(1, 1), stride=(1, 1), bias=False)\n",
       "                      (normalization): RTDetrFrozenBatchNorm2d()\n",
       "                      (activation): Identity()\n",
       "                    )\n",
       "                  )\n",
       "                  (activation): ReLU()\n",
       "                )\n",
       "              )\n",
       "            )\n",
       "          )\n",
       "        )\n",
       "      )\n",
       "    )\n",
       "    (encoder_input_proj): ModuleList(\n",
       "      (0): Sequential(\n",
       "        (0): Conv2d(512, 256, kernel_size=(1, 1), stride=(1, 1), bias=False)\n",
       "        (1): BatchNorm2d(256, eps=1e-05, momentum=0.1, affine=True, track_running_stats=True)\n",
       "      )\n",
       "      (1): Sequential(\n",
       "        (0): Conv2d(1024, 256, kernel_size=(1, 1), stride=(1, 1), bias=False)\n",
       "        (1): BatchNorm2d(256, eps=1e-05, momentum=0.1, affine=True, track_running_stats=True)\n",
       "      )\n",
       "      (2): Sequential(\n",
       "        (0): Conv2d(2048, 256, kernel_size=(1, 1), stride=(1, 1), bias=False)\n",
       "        (1): BatchNorm2d(256, eps=1e-05, momentum=0.1, affine=True, track_running_stats=True)\n",
       "      )\n",
       "    )\n",
       "    (encoder): RTDetrHybridEncoder(\n",
       "      (encoder): ModuleList(\n",
       "        (0): RTDetrEncoder(\n",
       "          (layers): ModuleList(\n",
       "            (0): RTDetrEncoderLayer(\n",
       "              (self_attn): RTDetrMultiheadAttention(\n",
       "                (k_proj): Linear(in_features=256, out_features=256, bias=True)\n",
       "                (v_proj): Linear(in_features=256, out_features=256, bias=True)\n",
       "                (q_proj): Linear(in_features=256, out_features=256, bias=True)\n",
       "                (out_proj): Linear(in_features=256, out_features=256, bias=True)\n",
       "              )\n",
       "              (self_attn_layer_norm): LayerNorm((256,), eps=1e-05, elementwise_affine=True)\n",
       "              (activation_fn): GELUActivation()\n",
       "              (fc1): Linear(in_features=256, out_features=1024, bias=True)\n",
       "              (fc2): Linear(in_features=1024, out_features=256, bias=True)\n",
       "              (final_layer_norm): LayerNorm((256,), eps=1e-05, elementwise_affine=True)\n",
       "            )\n",
       "          )\n",
       "        )\n",
       "      )\n",
       "      (lateral_convs): ModuleList(\n",
       "        (0-1): 2 x RTDetrConvNormLayer(\n",
       "          (conv): Conv2d(256, 256, kernel_size=(1, 1), stride=(1, 1), bias=False)\n",
       "          (norm): BatchNorm2d(256, eps=1e-05, momentum=0.1, affine=True, track_running_stats=True)\n",
       "          (activation): SiLU()\n",
       "        )\n",
       "      )\n",
       "      (fpn_blocks): ModuleList(\n",
       "        (0-1): 2 x RTDetrCSPRepLayer(\n",
       "          (conv1): RTDetrConvNormLayer(\n",
       "            (conv): Conv2d(512, 256, kernel_size=(1, 1), stride=(1, 1), bias=False)\n",
       "            (norm): BatchNorm2d(256, eps=1e-05, momentum=0.1, affine=True, track_running_stats=True)\n",
       "            (activation): SiLU()\n",
       "          )\n",
       "          (conv2): RTDetrConvNormLayer(\n",
       "            (conv): Conv2d(512, 256, kernel_size=(1, 1), stride=(1, 1), bias=False)\n",
       "            (norm): BatchNorm2d(256, eps=1e-05, momentum=0.1, affine=True, track_running_stats=True)\n",
       "            (activation): SiLU()\n",
       "          )\n",
       "          (bottlenecks): Sequential(\n",
       "            (0): RTDetrRepVggBlock(\n",
       "              (conv1): RTDetrConvNormLayer(\n",
       "                (conv): Conv2d(256, 256, kernel_size=(3, 3), stride=(1, 1), padding=(1, 1), bias=False)\n",
       "                (norm): BatchNorm2d(256, eps=1e-05, momentum=0.1, affine=True, track_running_stats=True)\n",
       "                (activation): Identity()\n",
       "              )\n",
       "              (conv2): RTDetrConvNormLayer(\n",
       "                (conv): Conv2d(256, 256, kernel_size=(1, 1), stride=(1, 1), bias=False)\n",
       "                (norm): BatchNorm2d(256, eps=1e-05, momentum=0.1, affine=True, track_running_stats=True)\n",
       "                (activation): Identity()\n",
       "              )\n",
       "              (activation): SiLU()\n",
       "            )\n",
       "            (1): RTDetrRepVggBlock(\n",
       "              (conv1): RTDetrConvNormLayer(\n",
       "                (conv): Conv2d(256, 256, kernel_size=(3, 3), stride=(1, 1), padding=(1, 1), bias=False)\n",
       "                (norm): BatchNorm2d(256, eps=1e-05, momentum=0.1, affine=True, track_running_stats=True)\n",
       "                (activation): Identity()\n",
       "              )\n",
       "              (conv2): RTDetrConvNormLayer(\n",
       "                (conv): Conv2d(256, 256, kernel_size=(1, 1), stride=(1, 1), bias=False)\n",
       "                (norm): BatchNorm2d(256, eps=1e-05, momentum=0.1, affine=True, track_running_stats=True)\n",
       "                (activation): Identity()\n",
       "              )\n",
       "              (activation): SiLU()\n",
       "            )\n",
       "            (2): RTDetrRepVggBlock(\n",
       "              (conv1): RTDetrConvNormLayer(\n",
       "                (conv): Conv2d(256, 256, kernel_size=(3, 3), stride=(1, 1), padding=(1, 1), bias=False)\n",
       "                (norm): BatchNorm2d(256, eps=1e-05, momentum=0.1, affine=True, track_running_stats=True)\n",
       "                (activation): Identity()\n",
       "              )\n",
       "              (conv2): RTDetrConvNormLayer(\n",
       "                (conv): Conv2d(256, 256, kernel_size=(1, 1), stride=(1, 1), bias=False)\n",
       "                (norm): BatchNorm2d(256, eps=1e-05, momentum=0.1, affine=True, track_running_stats=True)\n",
       "                (activation): Identity()\n",
       "              )\n",
       "              (activation): SiLU()\n",
       "            )\n",
       "          )\n",
       "          (conv3): Identity()\n",
       "        )\n",
       "      )\n",
       "      (downsample_convs): ModuleList(\n",
       "        (0-1): 2 x RTDetrConvNormLayer(\n",
       "          (conv): Conv2d(256, 256, kernel_size=(3, 3), stride=(2, 2), padding=(1, 1), bias=False)\n",
       "          (norm): BatchNorm2d(256, eps=1e-05, momentum=0.1, affine=True, track_running_stats=True)\n",
       "          (activation): SiLU()\n",
       "        )\n",
       "      )\n",
       "      (pan_blocks): ModuleList(\n",
       "        (0-1): 2 x RTDetrCSPRepLayer(\n",
       "          (conv1): RTDetrConvNormLayer(\n",
       "            (conv): Conv2d(512, 256, kernel_size=(1, 1), stride=(1, 1), bias=False)\n",
       "            (norm): BatchNorm2d(256, eps=1e-05, momentum=0.1, affine=True, track_running_stats=True)\n",
       "            (activation): SiLU()\n",
       "          )\n",
       "          (conv2): RTDetrConvNormLayer(\n",
       "            (conv): Conv2d(512, 256, kernel_size=(1, 1), stride=(1, 1), bias=False)\n",
       "            (norm): BatchNorm2d(256, eps=1e-05, momentum=0.1, affine=True, track_running_stats=True)\n",
       "            (activation): SiLU()\n",
       "          )\n",
       "          (bottlenecks): Sequential(\n",
       "            (0): RTDetrRepVggBlock(\n",
       "              (conv1): RTDetrConvNormLayer(\n",
       "                (conv): Conv2d(256, 256, kernel_size=(3, 3), stride=(1, 1), padding=(1, 1), bias=False)\n",
       "                (norm): BatchNorm2d(256, eps=1e-05, momentum=0.1, affine=True, track_running_stats=True)\n",
       "                (activation): Identity()\n",
       "              )\n",
       "              (conv2): RTDetrConvNormLayer(\n",
       "                (conv): Conv2d(256, 256, kernel_size=(1, 1), stride=(1, 1), bias=False)\n",
       "                (norm): BatchNorm2d(256, eps=1e-05, momentum=0.1, affine=True, track_running_stats=True)\n",
       "                (activation): Identity()\n",
       "              )\n",
       "              (activation): SiLU()\n",
       "            )\n",
       "            (1): RTDetrRepVggBlock(\n",
       "              (conv1): RTDetrConvNormLayer(\n",
       "                (conv): Conv2d(256, 256, kernel_size=(3, 3), stride=(1, 1), padding=(1, 1), bias=False)\n",
       "                (norm): BatchNorm2d(256, eps=1e-05, momentum=0.1, affine=True, track_running_stats=True)\n",
       "                (activation): Identity()\n",
       "              )\n",
       "              (conv2): RTDetrConvNormLayer(\n",
       "                (conv): Conv2d(256, 256, kernel_size=(1, 1), stride=(1, 1), bias=False)\n",
       "                (norm): BatchNorm2d(256, eps=1e-05, momentum=0.1, affine=True, track_running_stats=True)\n",
       "                (activation): Identity()\n",
       "              )\n",
       "              (activation): SiLU()\n",
       "            )\n",
       "            (2): RTDetrRepVggBlock(\n",
       "              (conv1): RTDetrConvNormLayer(\n",
       "                (conv): Conv2d(256, 256, kernel_size=(3, 3), stride=(1, 1), padding=(1, 1), bias=False)\n",
       "                (norm): BatchNorm2d(256, eps=1e-05, momentum=0.1, affine=True, track_running_stats=True)\n",
       "                (activation): Identity()\n",
       "              )\n",
       "              (conv2): RTDetrConvNormLayer(\n",
       "                (conv): Conv2d(256, 256, kernel_size=(1, 1), stride=(1, 1), bias=False)\n",
       "                (norm): BatchNorm2d(256, eps=1e-05, momentum=0.1, affine=True, track_running_stats=True)\n",
       "                (activation): Identity()\n",
       "              )\n",
       "              (activation): SiLU()\n",
       "            )\n",
       "          )\n",
       "          (conv3): Identity()\n",
       "        )\n",
       "      )\n",
       "    )\n",
       "    (denoising_class_embed): Embedding(7, 256, padding_idx=6)\n",
       "    (enc_output): Sequential(\n",
       "      (0): Linear(in_features=256, out_features=256, bias=True)\n",
       "      (1): LayerNorm((256,), eps=1e-05, elementwise_affine=True)\n",
       "    )\n",
       "    (enc_score_head): Linear(in_features=256, out_features=6, bias=True)\n",
       "    (enc_bbox_head): RTDetrMLPPredictionHead(\n",
       "      (layers): ModuleList(\n",
       "        (0-1): 2 x Linear(in_features=256, out_features=256, bias=True)\n",
       "        (2): Linear(in_features=256, out_features=4, bias=True)\n",
       "      )\n",
       "    )\n",
       "    (decoder_input_proj): ModuleList(\n",
       "      (0-2): 3 x Sequential(\n",
       "        (0): Conv2d(256, 256, kernel_size=(1, 1), stride=(1, 1), bias=False)\n",
       "        (1): BatchNorm2d(256, eps=1e-05, momentum=0.1, affine=True, track_running_stats=True)\n",
       "      )\n",
       "    )\n",
       "    (decoder): RTDetrDecoder(\n",
       "      (layers): ModuleList(\n",
       "        (0-5): 6 x RTDetrDecoderLayer(\n",
       "          (self_attn): RTDetrMultiheadAttention(\n",
       "            (k_proj): Linear(in_features=256, out_features=256, bias=True)\n",
       "            (v_proj): Linear(in_features=256, out_features=256, bias=True)\n",
       "            (q_proj): Linear(in_features=256, out_features=256, bias=True)\n",
       "            (out_proj): Linear(in_features=256, out_features=256, bias=True)\n",
       "          )\n",
       "          (activation_fn): ReLU()\n",
       "          (self_attn_layer_norm): LayerNorm((256,), eps=1e-05, elementwise_affine=True)\n",
       "          (encoder_attn): RTDetrMultiscaleDeformableAttention(\n",
       "            (attn): MultiScaleDeformableAttention()\n",
       "            (sampling_offsets): Linear(in_features=256, out_features=192, bias=True)\n",
       "            (attention_weights): Linear(in_features=256, out_features=96, bias=True)\n",
       "            (value_proj): Linear(in_features=256, out_features=256, bias=True)\n",
       "            (output_proj): Linear(in_features=256, out_features=256, bias=True)\n",
       "          )\n",
       "          (encoder_attn_layer_norm): LayerNorm((256,), eps=1e-05, elementwise_affine=True)\n",
       "          (fc1): Linear(in_features=256, out_features=1024, bias=True)\n",
       "          (fc2): Linear(in_features=1024, out_features=256, bias=True)\n",
       "          (final_layer_norm): LayerNorm((256,), eps=1e-05, elementwise_affine=True)\n",
       "        )\n",
       "      )\n",
       "      (query_pos_head): RTDetrMLPPredictionHead(\n",
       "        (layers): ModuleList(\n",
       "          (0): Linear(in_features=4, out_features=512, bias=True)\n",
       "          (1): Linear(in_features=512, out_features=256, bias=True)\n",
       "        )\n",
       "      )\n",
       "      (class_embed): ModuleList(\n",
       "        (0-5): 6 x Linear(in_features=256, out_features=6, bias=True)\n",
       "      )\n",
       "      (bbox_embed): ModuleList(\n",
       "        (0-5): 6 x RTDetrMLPPredictionHead(\n",
       "          (layers): ModuleList(\n",
       "            (0-1): 2 x Linear(in_features=256, out_features=256, bias=True)\n",
       "            (2): Linear(in_features=256, out_features=4, bias=True)\n",
       "          )\n",
       "        )\n",
       "      )\n",
       "    )\n",
       "  )\n",
       "  (class_embed): ModuleList(\n",
       "    (0-5): 6 x Linear(in_features=256, out_features=6, bias=True)\n",
       "  )\n",
       "  (bbox_embed): ModuleList(\n",
       "    (0-5): 6 x RTDetrMLPPredictionHead(\n",
       "      (layers): ModuleList(\n",
       "        (0-1): 2 x Linear(in_features=256, out_features=256, bias=True)\n",
       "        (2): Linear(in_features=256, out_features=4, bias=True)\n",
       "      )\n",
       "    )\n",
       "  )\n",
       ")"
      ]
     },
     "execution_count": 15,
     "metadata": {},
     "output_type": "execute_result"
    }
   ],
   "source": [
    "model_pretrained = RTDetrForObjectDetection(config=reference_config)\n",
    "model_states = load_file(\"/workspace/ptta/RT-DETR_R50vd_SHIFT_CLEAR.safetensors\", device=\"cpu\")\n",
    "model_pretrained.load_state_dict(model_states, strict=False)\n",
    "\n",
    "for param in model_pretrained.parameters():\n",
    "    param.requires_grad = False  # Freeze\n",
    "\n",
    "# Initialize Model\n",
    "model_pretrained.to(device)"
   ]
  },
  {
   "cell_type": "markdown",
   "id": "4d285db8",
   "metadata": {},
   "source": [
    "## NORM"
   ]
  },
  {
   "cell_type": "code",
   "execution_count": 16,
   "id": "d0cb14bf",
   "metadata": {},
   "outputs": [],
   "source": [
    "from functools import partial\n",
    "dataloader_discrete = DataLoader(DatasetAdapterForTransformers(dataset.test), batch_size=4, collate_fn=partial(collate_fn, preprocessor=reference_preprocessor))"
   ]
  },
  {
   "cell_type": "code",
   "execution_count": 17,
   "id": "81b90ed9",
   "metadata": {},
   "outputs": [],
   "source": [
    "class LabelDataset(BaseDataset):\n",
    "    def __init__(self, original_dataset, camera='front'):\n",
    "        self.dataset = original_dataset\n",
    "        self.camera = camera\n",
    "\n",
    "    def __len__(self):\n",
    "        return len(self.dataset)\n",
    "\n",
    "    def __getitem__(self, idx):\n",
    "        item = self.dataset[idx][self.camera]\n",
    "        return item['boxes2d'], item['boxes2d_classes']"
   ]
  },
  {
   "cell_type": "code",
   "execution_count": 18,
   "id": "c4571e19",
   "metadata": {},
   "outputs": [],
   "source": [
    "def naive_collate_fn(batch):\n",
    "    return batch"
   ]
  },
  {
   "cell_type": "code",
   "execution_count": 19,
   "id": "1be5e3e8",
   "metadata": {},
   "outputs": [],
   "source": [
    "from functools import partial\n",
    "\n",
    "def test(model, task, raw_data, dataloader_discrete):\n",
    "    targets = []\n",
    "    predictions = []\n",
    "\n",
    "    for idx, lables, inputs in zip(tqdm(range(len(raw_data))), raw_data, dataloader_discrete):\n",
    "        sizes = [label['orig_size'].cpu().tolist() for label in inputs['labels']]\n",
    "\n",
    "        with torch.no_grad():\n",
    "            outputs = model(pixel_values=inputs['pixel_values'].to(device))\n",
    "\n",
    "        results = reference_preprocessor.post_process_object_detection(\n",
    "            outputs, target_sizes=sizes, threshold=0.0\n",
    "        )\n",
    "\n",
    "        detections = [Detections.from_transformers(results[i]) for i in range(len(results))]\n",
    "        annotations = [Detections(\n",
    "            xyxy=lables[i][0].cpu().numpy(),\n",
    "            class_id=lables[i][1].cpu().numpy(),\n",
    "        ) for i in range(len(lables))]\n",
    "\n",
    "        targets.extend(annotations)\n",
    "        predictions.extend(detections)\n",
    "    \n",
    "    mean_average_precision = MeanAveragePrecision().update(\n",
    "    predictions=predictions,\n",
    "    targets=targets,\n",
    "    ).compute()\n",
    "    per_class_map = {\n",
    "        f\"{CLASSES[idx]}_mAP@0.95\": mean_average_precision.ap_per_class[idx].mean()\n",
    "        for idx in mean_average_precision.matched_classes\n",
    "    }\n",
    "\n",
    "    print(f\"mAP@0.95_{task}: {mean_average_precision.map50_95:.3f}\")\n",
    "    print(f\"mAP50_{task}: {mean_average_precision.map50:.3f}\")\n",
    "    print(f\"mAP75_{task}: {mean_average_precision.map75:.3f}\")\n",
    "    for key, value in per_class_map.items():\n",
    "        print(f\"{key}_{task}: {value:.3f}\")\n",
    "    \n",
    "    return {\"mAP@0.95\" : mean_average_precision.map50_95,\n",
    "            \"mAP50\" : mean_average_precision.map50,\n",
    "            \"mAP75\" : mean_average_precision.map75,\n",
    "            \"per_class_mAP@0.95\" : per_class_map\n",
    "            }"
   ]
  },
  {
   "cell_type": "code",
   "execution_count": 20,
   "id": "395ec85e",
   "metadata": {},
   "outputs": [],
   "source": [
    "from collections import defaultdict\n",
    "\n",
    "def agg_per_class(dicts):\n",
    "    \"\"\"dicts: per_class_map(dict)의 리스트. 예: [{\"car_mAP@0.95\":0.41, ...}, {...}]\"\"\"\n",
    "    sums = defaultdict(float)\n",
    "    counts = defaultdict(int)\n",
    "    for d in dicts:\n",
    "        for cls, val in d.items():\n",
    "            sums[cls]  += float(val)\n",
    "            counts[cls] += 1\n",
    "    means = {cls: (sums[cls] / counts[cls]) for cls in sums}\n",
    "    return means\n",
    "\n",
    "\n",
    "def aggregate_runs(results_list):\n",
    "    overall_sum = {\"mAP@0.95\": 0.0, \"mAP50\": 0.0, \"mAP75\": 0.0}\n",
    "    n = len(results_list)\n",
    "\n",
    "    per_class_maps = []\n",
    "\n",
    "    for r in results_list:\n",
    "        overall_sum[\"mAP@0.95\"] += float(r[\"mAP@0.95\"])\n",
    "        overall_sum[\"mAP50\"]    += float(r[\"mAP50\"])\n",
    "\n",
    "        overall_sum[\"mAP75\"] += float(r[\"mAP75\"])\n",
    "\n",
    "        class_mAP = r[\"per_class_mAP@0.95\"]\n",
    "        per_class_means = agg_per_class([class_mAP])\n",
    "\n",
    "    overall_mean = {k: (overall_sum[k] / n if n > 0 else 0.0) for k in overall_sum}\n",
    "\n",
    "    return {\n",
    "        \"overall_sum\": overall_sum,            # {\"mAP@0.95\": ..., \"mAP50\": ..., \"map75\": ...}\n",
    "        \"overall_mean\": overall_mean,          # 위의 평균          # {\"car_mAP@0.95\": 합, ...}\n",
    "        \"per_class_mean@0.95\": per_class_means,        # {\"car_mAP@0.95\": 평균, ...}\n",
    "    }\n",
    "\n",
    "def print_results(result):\n",
    "    om = result[\"overall_mean\"]\n",
    "    print(f\"mAP@0.95: {float(om['mAP@0.95']):.3f}\")\n",
    "    print(f\"mAP50: {float(om['mAP50']):.3f}\")\n",
    "    print(f\"mAP75: {float(om['mAP75']):.3f}\")\n",
    "\n",
    "    for k, v in result[\"per_class_mean@0.95\"].items():\n",
    "        print(f\"{k}: {v:.3f}\")"
   ]
  },
  {
   "cell_type": "code",
   "execution_count": 21,
   "id": "b3607020",
   "metadata": {},
   "outputs": [],
   "source": [
    "class EMABatchNorm(nn.Module):\n",
    "    @staticmethod\n",
    "    def reset_stats(module):\n",
    "        module.reset_running_stats()\n",
    "        module.momentum = None\n",
    "        return module\n",
    "\n",
    "    @staticmethod\n",
    "    def find_bns(parent):\n",
    "        replace_mods = []\n",
    "        if parent is None:\n",
    "            return []\n",
    "        for name, child in parent.named_children():\n",
    "            child.requires_grad_(False)\n",
    "            if isinstance(child, nn.BatchNorm2d):\n",
    "                module = EMABatchNorm.reset_stats(child)\n",
    "                module = EMABatchNorm(module)\n",
    "                replace_mods.append((parent, name, module))\n",
    "            else:\n",
    "                replace_mods.extend(EMABatchNorm.find_bns(child))\n",
    "\n",
    "        return replace_mods\n",
    "\n",
    "    @staticmethod\n",
    "    def adapt_model(model):\n",
    "        replace_mods = EMABatchNorm.find_bns(model)\n",
    "        print(f\"| Found {len(replace_mods)} modules to be replaced.\")\n",
    "        for parent, name, child in replace_mods:\n",
    "            setattr(parent, name, child)\n",
    "        return model\n",
    "\n",
    "    def __init__(self, layer):\n",
    "        super().__init__()\n",
    "        self.layer = layer\n",
    "\n",
    "    def forward(self, x):\n",
    "        # store statistics, but discard result\n",
    "        self.layer.train()\n",
    "        self.layer(x)\n",
    "        # store statistics, use the stored stats\n",
    "        self.layer.eval()\n",
    "        return self.layer(x)"
   ]
  },
  {
   "cell_type": "code",
   "execution_count": 22,
   "id": "8f0c1778",
   "metadata": {},
   "outputs": [],
   "source": [
    "def set_bn_momentum(model, momentum: float | None):\n",
    "    # momentum=None 이면 CMA(누적 평균), 수치(0<α≤1)이면 EMA\n",
    "    for m in model.modules():\n",
    "        if isinstance(m, nn.BatchNorm2d):\n",
    "            m.momentum = momentum"
   ]
  },
  {
   "cell_type": "code",
   "execution_count": 23,
   "id": "5aa3956a",
   "metadata": {},
   "outputs": [],
   "source": [
    "import os, logging\n",
    "from datetime import datetime\n",
    "from tqdm.auto import tqdm\n",
    "from tqdm.contrib.logging import logging_redirect_tqdm  # tqdm → logging 연동\n",
    "\n",
    "def setup_logger(save_dir, name=\"dua\", level=logging.INFO, mirror_to_stdout=True):\n",
    "    os.makedirs(save_dir, exist_ok=True)\n",
    "    log_path = os.path.join(save_dir, f\"{name}_{datetime.now():%Y%m%d_%H%M%S}.log\")\n",
    "\n",
    "    logger = logging.getLogger(name)\n",
    "    logger.setLevel(level)\n",
    "    logger.handlers.clear()\n",
    "\n",
    "    fmt = logging.Formatter(\"[%(asctime)s] %(levelname)s: %(message)s\")\n",
    "    # 파일 핸들러(전체 기록)\n",
    "    fh = logging.FileHandler(log_path, encoding=\"utf-8\")\n",
    "    fh.setFormatter(fmt)\n",
    "    logger.addHandler(fh)\n",
    "\n",
    "    # 화면 핸들러(미러링)\n",
    "    if mirror_to_stdout:\n",
    "        sh = logging.StreamHandler()\n",
    "        sh.setFormatter(fmt)\n",
    "        logger.addHandler(sh)\n",
    "\n",
    "    logger.propagate = False\n",
    "    return logger, log_path"
   ]
  },
  {
   "cell_type": "code",
   "execution_count": 24,
   "id": "bf6bc694",
   "metadata": {},
   "outputs": [],
   "source": [
    "import io, contextlib\n",
    "from tqdm.contrib.logging import logging_redirect_tqdm  # tqdm도 로깅에 정리되도록\n",
    "\n",
    "class LoggerWriter(io.TextIOBase):\n",
    "    def __init__(self, logger, level):\n",
    "        self.logger = logger\n",
    "        self.level = level\n",
    "        self._buf = \"\"\n",
    "    def write(self, msg):\n",
    "        # 줄 단위로 로깅(개행/부분문자 처리)\n",
    "        self._buf += msg\n",
    "        while \"\\n\" in self._buf:\n",
    "            line, self._buf = self._buf.split(\"\\n\", 1)\n",
    "            if line.strip():\n",
    "                self.level(line)\n",
    "    def flush(self):\n",
    "        if self._buf.strip():\n",
    "            self.level(self._buf.strip())\n",
    "            self._buf = \"\""
   ]
  },
  {
   "cell_type": "code",
   "execution_count": null,
   "id": "b54c77e5",
   "metadata": {},
   "outputs": [],
   "source": [
    "from transformers.models.rt_detr.modeling_rt_detr import RTDetrFrozenBatchNorm2d\n",
    "from torchvision import transforms\n",
    "import os\n",
    "import copy\n",
    "\n",
    "def NORM(model, MOMENTOM, save_dir = './norm_checkpoints'):\n",
    "    \"\"\"\n",
    "    model is a pre-trained model.\n",
    "    \"\"\"\n",
    "    logger, log_path = setup_logger(save_dir, name=\"norm\", mirror_to_stdout=True)\n",
    "    logger.info(f\"Log file: {log_path}\")\n",
    "    \n",
    "    with contextlib.redirect_stdout(LoggerWriter(logger, logger.info)), \\\n",
    "        contextlib.redirect_stderr(LoggerWriter(logger, logger.error)), \\\n",
    "        logging_redirect_tqdm():  # tqdm 진행바도 깔끔히 로그에 남김\n",
    "\n",
    "        os.makedirs(save_dir, exist_ok=True)\n",
    "\n",
    "        all_results = []\n",
    "        \n",
    "        device = next(model.parameters()).device\n",
    "        carry_state = copy.deepcopy(model.state_dict())\n",
    "\n",
    "        for task in [\"rainy\", \"dawn\", \"night\", \"clear\"]: # \"cloudy\", \"overcast\", \"foggy\",\n",
    "            logger.info(f\"start {task}\")\n",
    "            model.load_state_dict(carry_state)\n",
    "            best_state = copy.deepcopy(model.state_dict())\n",
    "            best_mAP95 = -1.0\n",
    "            no_imp_streak = 0\n",
    "            PATIENCE = 10\n",
    "            EVAL_EVERY = 10\n",
    "\n",
    "            dataloader_discrete = DataLoader(DatasetAdapterForTransformers(SHIFTCorruptedTaskDatasetForObjectDetection(root=DATA_ROOT, train=True, valid=False, task=task)), batch_size=1, collate_fn=partial(collate_fn, preprocessor=reference_preprocessor))\n",
    "\n",
    "            # dataset_tta_valid\n",
    "            dataset_valid = SHIFTCorruptedTaskDatasetForObjectDetection(root=DATA_ROOT, valid=True, task=task)\n",
    "            \n",
    "            raw_data = DataLoader(LabelDataset(dataset_valid), batch_size=16, collate_fn=naive_collate_fn)\n",
    "            dataloader_discrete_valid = DataLoader(DatasetAdapterForTransformers(dataset_valid), batch_size=16, collate_fn=partial(collate_fn, preprocessor=reference_preprocessor))\n",
    "\n",
    "            for batch_i, input in enumerate(tqdm(dataloader_discrete)):\n",
    "                model.eval()\n",
    "                for module in model.modules():\n",
    "                    if isinstance(module, torch.nn.BatchNorm2d):\n",
    "                        module.momentum = MOMENTOM\n",
    "                        module.train()\n",
    "                img = input['pixel_values'].to(device, non_blocking=True)\n",
    "\n",
    "                _ = model(img)\n",
    "                model.eval()\n",
    "\n",
    "                if batch_i % EVAL_EVERY == 0:\n",
    "                    current_result = test(model, task, raw_data, dataloader_discrete_valid)\n",
    "                    current_mAP95 = current_result.get(\"mAP@0.95\", current_result.get(\"mAP@0.95\", -1.0))\n",
    "\n",
    "                    improved = current_mAP95 >= best_mAP95\n",
    "\n",
    "                    if improved:\n",
    "                        logger.info(f\"[{task}] batch {batch_i}: mAP@0.95 {best_mAP95:.4f} -> {current_mAP95:.4f} ✔\")\n",
    "                        best_mAP95 = current_mAP95\n",
    "                        best_state = copy.deepcopy(model.state_dict())\n",
    "                        no_imp_streak = 0\n",
    "                    else:\n",
    "                        no_imp_streak += 1\n",
    "                        logger.info(f\"[{task}] batch {batch_i}: mAP@0.95 {current_mAP95:.4f} (no-imp {no_imp_streak}/{PATIENCE})\")\n",
    "                        if no_imp_streak >= PATIENCE:\n",
    "                            logger.info(f\"[{task}] Early stop at batch {batch_i} (no improvement {PATIENCE} times).\")\n",
    "                            break\n",
    "            model.load_state_dict(best_state)\n",
    "            with torch.inference_mode():\n",
    "                final_result = test(model, task, raw_data, dataloader_discrete_valid)\n",
    "\n",
    "            save_path = os.path.join(save_dir, f\"model_{task}.pth\")\n",
    "            torch.save(model.state_dict(), save_path)\n",
    "            logger.info(f\"Saved adapted model after task [{task}] → {save_path}\")\n",
    "\n",
    "            carry_state = copy.deepcopy(model.state_dict())\n",
    "\n",
    "            all_results.append(final_result)\n",
    "        \n",
    "        each_task_mAP_list = aggregate_runs(all_results)\n",
    "\n",
    "        print_results(each_task_mAP_list)    "
   ]
  },
  {
   "cell_type": "code",
   "execution_count": null,
   "id": "b08bb2cc",
   "metadata": {},
   "outputs": [
    {
     "name": "stderr",
     "output_type": "stream",
     "text": [
      "[2025-08-27 14:05:15,434] INFO: Log file: ./norm_checkpoints/norm_20250827_140515.log\n",
      "[2025-08-27 14:05:15,539] INFO: start cloudy\n",
      "[2025-08-27 14:05:15,685] INFO: INFO: Downloading 'SHIFT_SUBSET' from file server to /workspace/ptta/data/SHIFT/discrete...\n",
      "[2025-08-27 14:05:15,687] INFO: INFO: Dataset archive found in the root directory. Skipping download.\n",
      "[2025-08-27 14:05:15,688] INFO: INFO: Subset split for 'SHIFT_SUBSET' dataset is already done. Skipping...\n",
      "[2025-08-27 14:05:15,689] INFO: INFO: Downloading 'SHIFT_SUBSET' from file server to /workspace/ptta/data/SHIFT/discrete...\n",
      "[2025-08-27 14:05:15,690] INFO: INFO: Dataset archive found in the root directory. Skipping download.\n",
      "[08/27/2025 14:05:15] SHIFT DevKit - INFO - Base: /workspace/ptta/data/SHIFT/discrete/images/train. Backend: <shift_dev.utils.backend.ZipBackend object at 0x7f01c9a4b8d0>\n",
      "[08/27/2025 14:05:15] SHIFT DevKit - INFO - Loading annotation from '/workspace/ptta/data/SHIFT_SUBSET/cloudy_daytime/discrete/images/train/front/det_2d.json' ...\n",
      "[08/27/2025 14:05:16] SHIFT DevKit - INFO - Loading annotation from '/workspace/ptta/data/SHIFT_SUBSET/cloudy_daytime/discrete/images/train/front/det_2d.json' Done.\n",
      "[08/27/2025 14:05:22] SHIFT DevKit - INFO - Loading annotation takes 7.11 seconds.\n",
      "[2025-08-27 14:05:22,977] INFO: Batch 0:\n",
      "[2025-08-27 14:05:22,979] INFO: Item                 Shape                               Min        Max       \n",
      "[2025-08-27 14:05:22,980] INFO: --------------------------------------------------------------------------------\n",
      "[2025-08-27 14:05:22,982] INFO: original_hw          [tensor([800]), tensor([1280])]\n",
      "[2025-08-27 14:05:22,984] INFO: input_hw             [tensor([800]), tensor([1280])]\n",
      "[2025-08-27 14:05:22,986] INFO: frame_ids            torch.Size([1])                           0.00       0.00\n",
      "[2025-08-27 14:05:22,986] INFO: name                 ['00000000_img_front.jpg']\n",
      "[2025-08-27 14:05:22,987] INFO: videoName            ['01b2-4042']\n",
      "[2025-08-27 14:05:22,988] INFO: intrinsics           torch.Size([1, 3, 3])                     0.00     640.00\n",
      "[2025-08-27 14:05:22,989] INFO: extrinsics           torch.Size([1, 4, 4])                    -0.80      46.71\n",
      "[2025-08-27 14:05:22,990] INFO: boxes2d              torch.Size([1, 2, 4])                     0.00     476.00\n",
      "[2025-08-27 14:05:22,991] INFO: boxes2d_classes      torch.Size([1, 2])                        1.00       2.00\n",
      "[2025-08-27 14:05:22,992] INFO: boxes2d_track_ids    torch.Size([1, 2])                        0.00       1.00\n",
      "[2025-08-27 14:05:22,993] INFO: images               torch.Size([1, 1, 3, 800, 1280])          0.00     255.00\n",
      "[2025-08-27 14:05:24,541] INFO: Video name: 01b2-4042\n",
      "[2025-08-27 14:05:24,542] INFO: Sample indices within a video: [0, 1, 2, 3, 4, 5, 6, 7, 8, 9, 10, 11, 12, 13, 14, 15, 16, 17, 18, 19, 20, 21, 22, 23, 24, 25, 26, 27, 28, 29, 30, 31, 32, 33, 34, 35, 36, 37, 38, 39, 40, 41, 42, 43, 44, 45, 46, 47, 48, 49]\n",
      "[2025-08-27 14:05:24,544] INFO: INFO: Downloading 'SHIFT_SUBSET' from file server to /workspace/ptta/data/SHIFT/discrete...\n",
      "[2025-08-27 14:05:24,545] INFO: INFO: Dataset archive found in the root directory. Skipping download.\n",
      "[2025-08-27 14:05:24,546] INFO: INFO: Subset split for 'SHIFT_SUBSET' dataset is already done. Skipping...\n",
      "[2025-08-27 14:05:24,547] INFO: INFO: Downloading 'SHIFT_SUBSET' from file server to /workspace/ptta/data/SHIFT/discrete...\n",
      "[2025-08-27 14:05:24,548] INFO: INFO: Dataset archive found in the root directory. Skipping download.\n",
      "[08/27/2025 14:05:24] SHIFT DevKit - INFO - Base: /workspace/ptta/data/SHIFT/discrete/images/val. Backend: <shift_dev.utils.backend.ZipBackend object at 0x7f01c9a4b8d0>\n",
      "[08/27/2025 14:05:24] SHIFT DevKit - INFO - Loading annotation from '/workspace/ptta/data/SHIFT_SUBSET/cloudy_daytime/discrete/images/val/front/det_2d.json' ...\n",
      "[08/27/2025 14:05:24] SHIFT DevKit - INFO - Loading annotation from '/workspace/ptta/data/SHIFT_SUBSET/cloudy_daytime/discrete/images/val/front/det_2d.json' Done.\n",
      "[08/27/2025 14:05:25] SHIFT DevKit - INFO - Loading annotation takes 1.23 seconds.\n",
      "[2025-08-27 14:05:25,824] INFO: Batch 0:\n",
      "[2025-08-27 14:05:25,825] INFO: Item                 Shape                               Min        Max       \n",
      "[2025-08-27 14:05:25,826] INFO: --------------------------------------------------------------------------------\n",
      "[2025-08-27 14:05:25,829] INFO: original_hw          [tensor([800]), tensor([1280])]\n",
      "[2025-08-27 14:05:25,831] INFO: input_hw             [tensor([800]), tensor([1280])]\n",
      "[2025-08-27 14:05:25,832] INFO: frame_ids            torch.Size([1])                           0.00       0.00\n",
      "[2025-08-27 14:05:25,833] INFO: name                 ['00000000_img_front.jpg']\n",
      "[2025-08-27 14:05:25,834] INFO: videoName            ['075f-be61']\n",
      "[2025-08-27 14:05:25,835] INFO: intrinsics           torch.Size([1, 3, 3])                     0.00     640.00\n",
      "[2025-08-27 14:05:25,837] INFO: extrinsics           torch.Size([1, 4, 4])                    -0.74     159.04\n",
      "[2025-08-27 14:05:25,838] INFO: boxes2d              torch.Size([1, 9, 4])                     0.00    1044.00\n",
      "[2025-08-27 14:05:25,839] INFO: boxes2d_classes      torch.Size([1, 9])                        0.00       2.00\n",
      "[2025-08-27 14:05:25,840] INFO: boxes2d_track_ids    torch.Size([1, 9])                        0.00       8.00\n",
      "[2025-08-27 14:05:25,843] INFO: images               torch.Size([1, 1, 3, 800, 1280])          0.00     255.00\n",
      "[2025-08-27 14:05:26,102] INFO: Video name: 075f-be61\n",
      "[2025-08-27 14:05:26,103] INFO: Sample indices within a video: [0, 1, 2, 3, 4, 5, 6, 7, 8, 9, 10, 11, 12, 13, 14, 15, 16, 17, 18, 19, 20, 21, 22, 23, 24, 25, 26, 27, 28, 29, 30, 31, 32, 33, 34, 35, 36, 37, 38, 39, 40, 41, 42, 43, 44, 45, 46, 47, 48, 49]\n"
     ]
    },
    {
     "data": {
      "application/vnd.jupyter.widget-view+json": {
       "model_id": "4293263e42f246578fe6df26a76a63fc",
       "version_major": 2,
       "version_minor": 0
      },
      "text/plain": [
       "  0%|          | 0/13850 [00:00<?, ?it/s]"
      ]
     },
     "metadata": {},
     "output_type": "display_data"
    },
    {
     "data": {
      "application/vnd.jupyter.widget-view+json": {
       "model_id": "a1760fe9781740119d3c5c634f057f08",
       "version_major": 2,
       "version_minor": 0
      },
      "text/plain": [
       "  0%|          | 0/150 [00:00<?, ?it/s]"
      ]
     },
     "metadata": {},
     "output_type": "display_data"
    },
    {
     "name": "stderr",
     "output_type": "stream",
     "text": [
      "[2025-08-27 14:09:59,237] INFO: mAP@0.95_cloudy: 0.489\n",
      "[2025-08-27 14:09:59,240] INFO: mAP50_cloudy: 0.663\n",
      "[2025-08-27 14:09:59,241] INFO: mAP75_cloudy: 0.535\n",
      "[2025-08-27 14:09:59,243] INFO: pedestrian_mAP@0.95_cloudy: 0.462\n",
      "[2025-08-27 14:09:59,244] INFO: car_mAP@0.95_cloudy: 0.562\n",
      "[2025-08-27 14:09:59,244] INFO: truck_mAP@0.95_cloudy: 0.557\n",
      "[2025-08-27 14:09:59,245] INFO: bus_mAP@0.95_cloudy: 0.463\n",
      "[2025-08-27 14:09:59,246] INFO: motorcycle_mAP@0.95_cloudy: 0.446\n",
      "[2025-08-27 14:09:59,247] INFO: bicycle_mAP@0.95_cloudy: 0.445\n",
      "[2025-08-27 14:09:59,304] INFO: [cloudy] batch 0: mAP50 -1.0000 -> 0.6628 ✔\n"
     ]
    },
    {
     "data": {
      "application/vnd.jupyter.widget-view+json": {
       "model_id": "bf0ccacb6ec1428c923a8b8c3175805f",
       "version_major": 2,
       "version_minor": 0
      },
      "text/plain": [
       "  0%|          | 0/150 [00:00<?, ?it/s]"
      ]
     },
     "metadata": {},
     "output_type": "display_data"
    },
    {
     "name": "stderr",
     "output_type": "stream",
     "text": [
      "[2025-08-27 14:14:32,331] INFO: mAP@0.95_cloudy: 0.490\n",
      "[2025-08-27 14:14:32,334] INFO: mAP50_cloudy: 0.664\n",
      "[2025-08-27 14:14:32,335] INFO: mAP75_cloudy: 0.537\n",
      "[2025-08-27 14:14:32,336] INFO: pedestrian_mAP@0.95_cloudy: 0.464\n",
      "[2025-08-27 14:14:32,337] INFO: car_mAP@0.95_cloudy: 0.564\n",
      "[2025-08-27 14:14:32,338] INFO: truck_mAP@0.95_cloudy: 0.556\n",
      "[2025-08-27 14:14:32,339] INFO: bus_mAP@0.95_cloudy: 0.463\n",
      "[2025-08-27 14:14:32,339] INFO: motorcycle_mAP@0.95_cloudy: 0.445\n",
      "[2025-08-27 14:14:32,340] INFO: bicycle_mAP@0.95_cloudy: 0.449\n",
      "[2025-08-27 14:14:32,365] INFO: [cloudy] batch 10: mAP50 0.6628 -> 0.6635 ✔\n"
     ]
    },
    {
     "data": {
      "application/vnd.jupyter.widget-view+json": {
       "model_id": "8880ac9adc034a7eae7c36fc76a6654a",
       "version_major": 2,
       "version_minor": 0
      },
      "text/plain": [
       "  0%|          | 0/150 [00:00<?, ?it/s]"
      ]
     },
     "metadata": {},
     "output_type": "display_data"
    },
    {
     "name": "stderr",
     "output_type": "stream",
     "text": [
      "[2025-08-27 14:19:07,968] INFO: mAP@0.95_cloudy: 0.488\n",
      "[2025-08-27 14:19:07,971] INFO: mAP50_cloudy: 0.662\n",
      "[2025-08-27 14:19:07,972] INFO: mAP75_cloudy: 0.534\n",
      "[2025-08-27 14:19:07,973] INFO: pedestrian_mAP@0.95_cloudy: 0.461\n",
      "[2025-08-27 14:19:07,974] INFO: car_mAP@0.95_cloudy: 0.562\n",
      "[2025-08-27 14:19:07,974] INFO: truck_mAP@0.95_cloudy: 0.555\n",
      "[2025-08-27 14:19:07,975] INFO: bus_mAP@0.95_cloudy: 0.461\n",
      "[2025-08-27 14:19:07,976] INFO: motorcycle_mAP@0.95_cloudy: 0.444\n",
      "[2025-08-27 14:19:07,977] INFO: bicycle_mAP@0.95_cloudy: 0.448\n",
      "[2025-08-27 14:19:07,999] INFO: [cloudy] batch 20: mAP50 0.6623 (no-imp 1/10)\n"
     ]
    },
    {
     "data": {
      "application/vnd.jupyter.widget-view+json": {
       "model_id": "d69596977a4b4b618bd6d45d01a64004",
       "version_major": 2,
       "version_minor": 0
      },
      "text/plain": [
       "  0%|          | 0/150 [00:00<?, ?it/s]"
      ]
     },
     "metadata": {},
     "output_type": "display_data"
    },
    {
     "name": "stderr",
     "output_type": "stream",
     "text": [
      "[2025-08-27 14:23:47,620] INFO: mAP@0.95_cloudy: 0.488\n",
      "[2025-08-27 14:23:47,623] INFO: mAP50_cloudy: 0.662\n",
      "[2025-08-27 14:23:47,624] INFO: mAP75_cloudy: 0.534\n",
      "[2025-08-27 14:23:47,625] INFO: pedestrian_mAP@0.95_cloudy: 0.458\n",
      "[2025-08-27 14:23:47,626] INFO: car_mAP@0.95_cloudy: 0.561\n",
      "[2025-08-27 14:23:47,628] INFO: truck_mAP@0.95_cloudy: 0.555\n",
      "[2025-08-27 14:23:47,629] INFO: bus_mAP@0.95_cloudy: 0.463\n",
      "[2025-08-27 14:23:47,631] INFO: motorcycle_mAP@0.95_cloudy: 0.445\n",
      "[2025-08-27 14:23:47,632] INFO: bicycle_mAP@0.95_cloudy: 0.449\n",
      "[2025-08-27 14:23:47,659] INFO: [cloudy] batch 30: mAP50 0.6623 (no-imp 2/10)\n"
     ]
    },
    {
     "data": {
      "application/vnd.jupyter.widget-view+json": {
       "model_id": "ff4c72516db3442da919bf983108902f",
       "version_major": 2,
       "version_minor": 0
      },
      "text/plain": [
       "  0%|          | 0/150 [00:00<?, ?it/s]"
      ]
     },
     "metadata": {},
     "output_type": "display_data"
    },
    {
     "name": "stderr",
     "output_type": "stream",
     "text": [
      "[2025-08-27 14:28:28,858] INFO: mAP@0.95_cloudy: 0.487\n",
      "[2025-08-27 14:28:28,861] INFO: mAP50_cloudy: 0.661\n",
      "[2025-08-27 14:28:28,862] INFO: mAP75_cloudy: 0.533\n",
      "[2025-08-27 14:28:28,863] INFO: pedestrian_mAP@0.95_cloudy: 0.456\n",
      "[2025-08-27 14:28:28,864] INFO: car_mAP@0.95_cloudy: 0.559\n",
      "[2025-08-27 14:28:28,864] INFO: truck_mAP@0.95_cloudy: 0.555\n",
      "[2025-08-27 14:28:28,865] INFO: bus_mAP@0.95_cloudy: 0.463\n",
      "[2025-08-27 14:28:28,866] INFO: motorcycle_mAP@0.95_cloudy: 0.446\n",
      "[2025-08-27 14:28:28,867] INFO: bicycle_mAP@0.95_cloudy: 0.445\n",
      "[2025-08-27 14:28:28,892] INFO: [cloudy] batch 40: mAP50 0.6613 (no-imp 3/10)\n"
     ]
    },
    {
     "data": {
      "application/vnd.jupyter.widget-view+json": {
       "model_id": "8293f31dcefd406d838f0774aa83327b",
       "version_major": 2,
       "version_minor": 0
      },
      "text/plain": [
       "  0%|          | 0/150 [00:00<?, ?it/s]"
      ]
     },
     "metadata": {},
     "output_type": "display_data"
    },
    {
     "name": "stderr",
     "output_type": "stream",
     "text": [
      "[2025-08-27 14:33:10,040] INFO: mAP@0.95_cloudy: 0.488\n",
      "[2025-08-27 14:33:10,043] INFO: mAP50_cloudy: 0.662\n",
      "[2025-08-27 14:33:10,045] INFO: mAP75_cloudy: 0.533\n",
      "[2025-08-27 14:33:10,045] INFO: pedestrian_mAP@0.95_cloudy: 0.458\n",
      "[2025-08-27 14:33:10,046] INFO: car_mAP@0.95_cloudy: 0.560\n",
      "[2025-08-27 14:33:10,047] INFO: truck_mAP@0.95_cloudy: 0.555\n",
      "[2025-08-27 14:33:10,048] INFO: bus_mAP@0.95_cloudy: 0.464\n",
      "[2025-08-27 14:33:10,048] INFO: motorcycle_mAP@0.95_cloudy: 0.444\n",
      "[2025-08-27 14:33:10,049] INFO: bicycle_mAP@0.95_cloudy: 0.447\n",
      "[2025-08-27 14:33:10,074] INFO: [cloudy] batch 50: mAP50 0.6620 (no-imp 4/10)\n"
     ]
    },
    {
     "data": {
      "application/vnd.jupyter.widget-view+json": {
       "model_id": "a77827b6b0f44827988194c7420570f9",
       "version_major": 2,
       "version_minor": 0
      },
      "text/plain": [
       "  0%|          | 0/150 [00:00<?, ?it/s]"
      ]
     },
     "metadata": {},
     "output_type": "display_data"
    },
    {
     "name": "stderr",
     "output_type": "stream",
     "text": [
      "[2025-08-27 14:37:51,187] INFO: mAP@0.95_cloudy: 0.487\n",
      "[2025-08-27 14:37:51,190] INFO: mAP50_cloudy: 0.661\n",
      "[2025-08-27 14:37:51,191] INFO: mAP75_cloudy: 0.534\n",
      "[2025-08-27 14:37:51,192] INFO: pedestrian_mAP@0.95_cloudy: 0.461\n",
      "[2025-08-27 14:37:51,193] INFO: car_mAP@0.95_cloudy: 0.557\n",
      "[2025-08-27 14:37:51,194] INFO: truck_mAP@0.95_cloudy: 0.557\n",
      "[2025-08-27 14:37:51,195] INFO: bus_mAP@0.95_cloudy: 0.456\n",
      "[2025-08-27 14:37:51,196] INFO: motorcycle_mAP@0.95_cloudy: 0.445\n",
      "[2025-08-27 14:37:51,198] INFO: bicycle_mAP@0.95_cloudy: 0.444\n",
      "[2025-08-27 14:37:51,236] INFO: [cloudy] batch 60: mAP50 0.6609 (no-imp 5/10)\n"
     ]
    },
    {
     "data": {
      "application/vnd.jupyter.widget-view+json": {
       "model_id": "63c5466bf92a450aa30090dd92ae5261",
       "version_major": 2,
       "version_minor": 0
      },
      "text/plain": [
       "  0%|          | 0/150 [00:00<?, ?it/s]"
      ]
     },
     "metadata": {},
     "output_type": "display_data"
    },
    {
     "name": "stderr",
     "output_type": "stream",
     "text": [
      "[2025-08-27 14:42:36,189] INFO: mAP@0.95_cloudy: 0.487\n",
      "[2025-08-27 14:42:36,192] INFO: mAP50_cloudy: 0.660\n",
      "[2025-08-27 14:42:36,194] INFO: mAP75_cloudy: 0.534\n",
      "[2025-08-27 14:42:36,195] INFO: pedestrian_mAP@0.95_cloudy: 0.461\n",
      "[2025-08-27 14:42:36,196] INFO: car_mAP@0.95_cloudy: 0.559\n",
      "[2025-08-27 14:42:36,197] INFO: truck_mAP@0.95_cloudy: 0.556\n",
      "[2025-08-27 14:42:36,198] INFO: bus_mAP@0.95_cloudy: 0.456\n",
      "[2025-08-27 14:42:36,199] INFO: motorcycle_mAP@0.95_cloudy: 0.445\n",
      "[2025-08-27 14:42:36,200] INFO: bicycle_mAP@0.95_cloudy: 0.447\n",
      "[2025-08-27 14:42:36,227] INFO: [cloudy] batch 70: mAP50 0.6598 (no-imp 6/10)\n"
     ]
    },
    {
     "data": {
      "application/vnd.jupyter.widget-view+json": {
       "model_id": "745b439136064267b0fbd19994872a2f",
       "version_major": 2,
       "version_minor": 0
      },
      "text/plain": [
       "  0%|          | 0/150 [00:00<?, ?it/s]"
      ]
     },
     "metadata": {},
     "output_type": "display_data"
    },
    {
     "name": "stderr",
     "output_type": "stream",
     "text": [
      "[2025-08-27 14:47:19,094] INFO: mAP@0.95_cloudy: 0.487\n",
      "[2025-08-27 14:47:19,098] INFO: mAP50_cloudy: 0.661\n",
      "[2025-08-27 14:47:19,099] INFO: mAP75_cloudy: 0.535\n",
      "[2025-08-27 14:47:19,100] INFO: pedestrian_mAP@0.95_cloudy: 0.464\n",
      "[2025-08-27 14:47:19,101] INFO: car_mAP@0.95_cloudy: 0.560\n",
      "[2025-08-27 14:47:19,102] INFO: truck_mAP@0.95_cloudy: 0.556\n",
      "[2025-08-27 14:47:19,103] INFO: bus_mAP@0.95_cloudy: 0.455\n",
      "[2025-08-27 14:47:19,104] INFO: motorcycle_mAP@0.95_cloudy: 0.442\n",
      "[2025-08-27 14:47:19,105] INFO: bicycle_mAP@0.95_cloudy: 0.443\n",
      "[2025-08-27 14:47:19,131] INFO: [cloudy] batch 80: mAP50 0.6609 (no-imp 7/10)\n"
     ]
    },
    {
     "data": {
      "application/vnd.jupyter.widget-view+json": {
       "model_id": "d1b60ff5d1df441890afddbeb34d66eb",
       "version_major": 2,
       "version_minor": 0
      },
      "text/plain": [
       "  0%|          | 0/150 [00:00<?, ?it/s]"
      ]
     },
     "metadata": {},
     "output_type": "display_data"
    },
    {
     "name": "stderr",
     "output_type": "stream",
     "text": [
      "[2025-08-27 14:52:04,093] INFO: mAP@0.95_cloudy: 0.484\n",
      "[2025-08-27 14:52:04,095] INFO: mAP50_cloudy: 0.659\n",
      "[2025-08-27 14:52:04,096] INFO: mAP75_cloudy: 0.531\n",
      "[2025-08-27 14:52:04,097] INFO: pedestrian_mAP@0.95_cloudy: 0.462\n",
      "[2025-08-27 14:52:04,098] INFO: car_mAP@0.95_cloudy: 0.555\n",
      "[2025-08-27 14:52:04,099] INFO: truck_mAP@0.95_cloudy: 0.558\n",
      "[2025-08-27 14:52:04,100] INFO: bus_mAP@0.95_cloudy: 0.444\n",
      "[2025-08-27 14:52:04,101] INFO: motorcycle_mAP@0.95_cloudy: 0.442\n",
      "[2025-08-27 14:52:04,102] INFO: bicycle_mAP@0.95_cloudy: 0.442\n",
      "[2025-08-27 14:52:04,143] INFO: [cloudy] batch 90: mAP50 0.6592 (no-imp 8/10)\n"
     ]
    },
    {
     "data": {
      "application/vnd.jupyter.widget-view+json": {
       "model_id": "643f11a20a994f3e8b25aa2ad3b4ac6d",
       "version_major": 2,
       "version_minor": 0
      },
      "text/plain": [
       "  0%|          | 0/150 [00:00<?, ?it/s]"
      ]
     },
     "metadata": {},
     "output_type": "display_data"
    },
    {
     "name": "stderr",
     "output_type": "stream",
     "text": [
      "[2025-08-27 14:56:48,255] INFO: mAP@0.95_cloudy: 0.484\n",
      "[2025-08-27 14:56:48,259] INFO: mAP50_cloudy: 0.660\n",
      "[2025-08-27 14:56:48,260] INFO: mAP75_cloudy: 0.531\n",
      "[2025-08-27 14:56:48,261] INFO: pedestrian_mAP@0.95_cloudy: 0.460\n",
      "[2025-08-27 14:56:48,262] INFO: car_mAP@0.95_cloudy: 0.556\n",
      "[2025-08-27 14:56:48,263] INFO: truck_mAP@0.95_cloudy: 0.556\n",
      "[2025-08-27 14:56:48,265] INFO: bus_mAP@0.95_cloudy: 0.451\n",
      "[2025-08-27 14:56:48,266] INFO: motorcycle_mAP@0.95_cloudy: 0.442\n",
      "[2025-08-27 14:56:48,267] INFO: bicycle_mAP@0.95_cloudy: 0.440\n",
      "[2025-08-27 14:56:48,294] INFO: [cloudy] batch 100: mAP50 0.6599 (no-imp 9/10)\n"
     ]
    },
    {
     "data": {
      "application/vnd.jupyter.widget-view+json": {
       "model_id": "e229fb16f3094fa5b82b5ef6e165bd3e",
       "version_major": 2,
       "version_minor": 0
      },
      "text/plain": [
       "  0%|          | 0/150 [00:00<?, ?it/s]"
      ]
     },
     "metadata": {},
     "output_type": "display_data"
    },
    {
     "name": "stderr",
     "output_type": "stream",
     "text": [
      "[2025-08-27 15:01:27,884] INFO: mAP@0.95_cloudy: 0.486\n",
      "[2025-08-27 15:01:27,888] INFO: mAP50_cloudy: 0.660\n",
      "[2025-08-27 15:01:27,889] INFO: mAP75_cloudy: 0.530\n",
      "[2025-08-27 15:01:27,890] INFO: pedestrian_mAP@0.95_cloudy: 0.459\n",
      "[2025-08-27 15:01:27,891] INFO: car_mAP@0.95_cloudy: 0.559\n",
      "[2025-08-27 15:01:27,892] INFO: truck_mAP@0.95_cloudy: 0.555\n",
      "[2025-08-27 15:01:27,893] INFO: bus_mAP@0.95_cloudy: 0.454\n",
      "[2025-08-27 15:01:27,894] INFO: motorcycle_mAP@0.95_cloudy: 0.441\n",
      "[2025-08-27 15:01:27,895] INFO: bicycle_mAP@0.95_cloudy: 0.446\n",
      "[2025-08-27 15:01:27,934] INFO: [cloudy] batch 110: mAP50 0.6599 (no-imp 10/10)\n",
      "[2025-08-27 15:01:27,935] INFO: [cloudy] Early stop at batch 110 (no improvement 10 times).\n"
     ]
    },
    {
     "data": {
      "application/vnd.jupyter.widget-view+json": {
       "model_id": "8a0b7fa1b9d241e896d3ef9fe92a23eb",
       "version_major": 2,
       "version_minor": 0
      },
      "text/plain": [
       "  0%|          | 0/150 [00:00<?, ?it/s]"
      ]
     },
     "metadata": {},
     "output_type": "display_data"
    },
    {
     "name": "stderr",
     "output_type": "stream",
     "text": [
      "[2025-08-27 15:06:03,485] INFO: mAP@0.95_cloudy: 0.490\n",
      "[2025-08-27 15:06:03,486] INFO: mAP50_cloudy: 0.664\n",
      "[2025-08-27 15:06:03,487] INFO: mAP75_cloudy: 0.537\n",
      "[2025-08-27 15:06:03,489] INFO: pedestrian_mAP@0.95_cloudy: 0.464\n",
      "[2025-08-27 15:06:03,489] INFO: car_mAP@0.95_cloudy: 0.564\n",
      "[2025-08-27 15:06:03,490] INFO: truck_mAP@0.95_cloudy: 0.556\n",
      "[2025-08-27 15:06:03,491] INFO: bus_mAP@0.95_cloudy: 0.463\n",
      "[2025-08-27 15:06:03,492] INFO: motorcycle_mAP@0.95_cloudy: 0.445\n",
      "[2025-08-27 15:06:03,493] INFO: bicycle_mAP@0.95_cloudy: 0.449\n",
      "[2025-08-27 15:06:03,872] INFO: Saved adapted model after task [cloudy] → ./norm_checkpoints/model_cloudy.pth\n",
      "[2025-08-27 15:06:03,962] INFO: start overcast\n",
      "[2025-08-27 15:06:04,088] INFO: INFO: Downloading 'SHIFT_SUBSET' from file server to /workspace/ptta/data/SHIFT/discrete...\n",
      "[2025-08-27 15:06:04,090] INFO: INFO: Dataset archive found in the root directory. Skipping download.\n",
      "[2025-08-27 15:06:04,090] INFO: INFO: Subset split for 'SHIFT_SUBSET' dataset is already done. Skipping...\n",
      "[2025-08-27 15:06:04,091] INFO: INFO: Downloading 'SHIFT_SUBSET' from file server to /workspace/ptta/data/SHIFT/discrete...\n",
      "[2025-08-27 15:06:04,092] INFO: INFO: Dataset archive found in the root directory. Skipping download.\n",
      "[08/27/2025 15:06:04] SHIFT DevKit - INFO - Base: /workspace/ptta/data/SHIFT/discrete/images/train. Backend: <shift_dev.utils.backend.ZipBackend object at 0x7f01c9a4b8d0>\n",
      "[08/27/2025 15:06:04] SHIFT DevKit - INFO - Loading annotation from '/workspace/ptta/data/SHIFT_SUBSET/overcast_daytime/discrete/images/train/front/det_2d.json' ...\n",
      "[08/27/2025 15:06:04] SHIFT DevKit - INFO - Loading annotation from '/workspace/ptta/data/SHIFT_SUBSET/overcast_daytime/discrete/images/train/front/det_2d.json' Done.\n",
      "[08/27/2025 15:06:07] SHIFT DevKit - INFO - Loading annotation takes 3.03 seconds.\n",
      "[2025-08-27 15:06:07,227] INFO: Batch 0:\n",
      "[2025-08-27 15:06:07,229] INFO: Item                 Shape                               Min        Max       \n",
      "[2025-08-27 15:06:07,230] INFO: --------------------------------------------------------------------------------\n",
      "[2025-08-27 15:06:07,232] INFO: original_hw          [tensor([800]), tensor([1280])]\n",
      "[2025-08-27 15:06:07,234] INFO: input_hw             [tensor([800]), tensor([1280])]\n",
      "[2025-08-27 15:06:07,235] INFO: frame_ids            torch.Size([1])                           0.00       0.00\n",
      "[2025-08-27 15:06:07,236] INFO: name                 ['00000000_img_front.jpg']\n",
      "[2025-08-27 15:06:07,236] INFO: videoName            ['011b-c078']\n",
      "[2025-08-27 15:06:07,238] INFO: intrinsics           torch.Size([1, 3, 3])                     0.00     640.00\n",
      "[2025-08-27 15:06:07,239] INFO: extrinsics           torch.Size([1, 4, 4])                   -67.90      13.78\n",
      "[2025-08-27 15:06:07,240] INFO: boxes2d              torch.Size([1, 10, 4])                    0.00    1217.00\n",
      "[2025-08-27 15:06:07,241] INFO: boxes2d_classes      torch.Size([1, 10])                       0.00       2.00\n",
      "[2025-08-27 15:06:07,242] INFO: boxes2d_track_ids    torch.Size([1, 10])                       0.00       9.00\n",
      "[2025-08-27 15:06:07,250] INFO: images               torch.Size([1, 1, 3, 800, 1280])          0.00     255.00\n",
      "[2025-08-27 15:06:08,198] INFO: Video name: 011b-c078\n",
      "[2025-08-27 15:06:08,199] INFO: Sample indices within a video: [0, 1, 2, 3, 4, 5, 6, 7, 8, 9, 10, 11, 12, 13, 14, 15, 16, 17, 18, 19, 20, 21, 22, 23, 24, 25, 26, 27, 28, 29, 30, 31, 32, 33, 34, 35, 36, 37, 38, 39, 40, 41, 42, 43, 44, 45, 46, 47, 48, 49]\n",
      "[2025-08-27 15:06:08,201] INFO: INFO: Downloading 'SHIFT_SUBSET' from file server to /workspace/ptta/data/SHIFT/discrete...\n",
      "[2025-08-27 15:06:08,202] INFO: INFO: Dataset archive found in the root directory. Skipping download.\n",
      "[2025-08-27 15:06:08,203] INFO: INFO: Subset split for 'SHIFT_SUBSET' dataset is already done. Skipping...\n",
      "[2025-08-27 15:06:08,204] INFO: INFO: Downloading 'SHIFT_SUBSET' from file server to /workspace/ptta/data/SHIFT/discrete...\n",
      "[2025-08-27 15:06:08,205] INFO: INFO: Dataset archive found in the root directory. Skipping download.\n",
      "[08/27/2025 15:06:08] SHIFT DevKit - INFO - Base: /workspace/ptta/data/SHIFT/discrete/images/val. Backend: <shift_dev.utils.backend.ZipBackend object at 0x7f01c9a4b8d0>\n",
      "[08/27/2025 15:06:08] SHIFT DevKit - INFO - Loading annotation from '/workspace/ptta/data/SHIFT_SUBSET/overcast_daytime/discrete/images/val/front/det_2d.json' ...\n",
      "[08/27/2025 15:06:08] SHIFT DevKit - INFO - Loading annotation from '/workspace/ptta/data/SHIFT_SUBSET/overcast_daytime/discrete/images/val/front/det_2d.json' Done.\n",
      "[08/27/2025 15:06:08] SHIFT DevKit - INFO - Loading annotation takes 0.70 seconds.\n",
      "[2025-08-27 15:06:08,941] INFO: Batch 0:\n",
      "[2025-08-27 15:06:08,943] INFO: Item                 Shape                               Min        Max       \n",
      "[2025-08-27 15:06:08,944] INFO: --------------------------------------------------------------------------------\n",
      "[2025-08-27 15:06:08,946] INFO: original_hw          [tensor([800]), tensor([1280])]\n",
      "[2025-08-27 15:06:08,947] INFO: input_hw             [tensor([800]), tensor([1280])]\n",
      "[2025-08-27 15:06:08,948] INFO: frame_ids            torch.Size([1])                           0.00       0.00\n",
      "[2025-08-27 15:06:08,949] INFO: name                 ['00000000_img_front.jpg']\n",
      "[2025-08-27 15:06:08,949] INFO: videoName            ['0aee-69fd']\n",
      "[2025-08-27 15:06:08,951] INFO: intrinsics           torch.Size([1, 3, 3])                     0.00     640.00\n",
      "[2025-08-27 15:06:08,952] INFO: extrinsics           torch.Size([1, 4, 4])                    -5.76     162.09\n",
      "[2025-08-27 15:06:08,953] INFO: boxes2d              torch.Size([1, 5, 4])                   255.00     881.00\n",
      "[2025-08-27 15:06:08,954] INFO: boxes2d_classes      torch.Size([1, 5])                        1.00       5.00\n",
      "[2025-08-27 15:06:08,955] INFO: boxes2d_track_ids    torch.Size([1, 5])                        0.00       4.00\n",
      "[2025-08-27 15:06:08,958] INFO: images               torch.Size([1, 1, 3, 800, 1280])          0.00     255.00\n",
      "[2025-08-27 15:06:09,151] INFO: Video name: 0aee-69fd\n",
      "[2025-08-27 15:06:09,151] INFO: Sample indices within a video: [0, 1, 2, 3, 4, 5, 6, 7, 8, 9, 10, 11, 12, 13, 14, 15, 16, 17, 18, 19, 20, 21, 22, 23, 24, 25, 26, 27, 28, 29, 30, 31, 32, 33, 34, 35, 36, 37, 38, 39, 40, 41, 42, 43, 44, 45, 46, 47, 48, 49]\n"
     ]
    },
    {
     "data": {
      "application/vnd.jupyter.widget-view+json": {
       "model_id": "e9fdf81021664072958c50c2194e6386",
       "version_major": 2,
       "version_minor": 0
      },
      "text/plain": [
       "  0%|          | 0/7850 [00:00<?, ?it/s]"
      ]
     },
     "metadata": {},
     "output_type": "display_data"
    },
    {
     "data": {
      "application/vnd.jupyter.widget-view+json": {
       "model_id": "c6c3aa747fe74953b6ab715ddc981a59",
       "version_major": 2,
       "version_minor": 0
      },
      "text/plain": [
       "  0%|          | 0/100 [00:00<?, ?it/s]"
      ]
     },
     "metadata": {},
     "output_type": "display_data"
    },
    {
     "name": "stderr",
     "output_type": "stream",
     "text": [
      "[2025-08-27 15:09:15,042] INFO: mAP@0.95_overcast: 0.369\n",
      "[2025-08-27 15:09:15,045] INFO: mAP50_overcast: 0.508\n",
      "[2025-08-27 15:09:15,046] INFO: mAP75_overcast: 0.394\n",
      "[2025-08-27 15:09:15,047] INFO: pedestrian_mAP@0.95_overcast: 0.419\n",
      "[2025-08-27 15:09:15,048] INFO: car_mAP@0.95_overcast: 0.476\n",
      "[2025-08-27 15:09:15,048] INFO: truck_mAP@0.95_overcast: 0.498\n",
      "[2025-08-27 15:09:15,049] INFO: bus_mAP@0.95_overcast: 0.245\n",
      "[2025-08-27 15:09:15,050] INFO: motorcycle_mAP@0.95_overcast: 0.312\n",
      "[2025-08-27 15:09:15,051] INFO: bicycle_mAP@0.95_overcast: 0.265\n",
      "[2025-08-27 15:09:15,066] INFO: [overcast] batch 0: mAP50 -1.0000 -> 0.5079 ✔\n"
     ]
    },
    {
     "data": {
      "application/vnd.jupyter.widget-view+json": {
       "model_id": "ed96d0cf89ea45ff953c01425de318fa",
       "version_major": 2,
       "version_minor": 0
      },
      "text/plain": [
       "  0%|          | 0/100 [00:00<?, ?it/s]"
      ]
     },
     "metadata": {},
     "output_type": "display_data"
    },
    {
     "name": "stderr",
     "output_type": "stream",
     "text": [
      "[2025-08-27 15:12:22,054] INFO: mAP@0.95_overcast: 0.367\n",
      "[2025-08-27 15:12:22,057] INFO: mAP50_overcast: 0.509\n",
      "[2025-08-27 15:12:22,058] INFO: mAP75_overcast: 0.394\n",
      "[2025-08-27 15:12:22,059] INFO: pedestrian_mAP@0.95_overcast: 0.417\n",
      "[2025-08-27 15:12:22,060] INFO: car_mAP@0.95_overcast: 0.477\n",
      "[2025-08-27 15:12:22,061] INFO: truck_mAP@0.95_overcast: 0.502\n",
      "[2025-08-27 15:12:22,062] INFO: bus_mAP@0.95_overcast: 0.243\n",
      "[2025-08-27 15:12:22,063] INFO: motorcycle_mAP@0.95_overcast: 0.305\n",
      "[2025-08-27 15:12:22,064] INFO: bicycle_mAP@0.95_overcast: 0.258\n",
      "[2025-08-27 15:12:22,079] INFO: [overcast] batch 10: mAP50 0.5079 -> 0.5086 ✔\n"
     ]
    },
    {
     "data": {
      "application/vnd.jupyter.widget-view+json": {
       "model_id": "3cdddd364761497e9fd1a915d4579fbb",
       "version_major": 2,
       "version_minor": 0
      },
      "text/plain": [
       "  0%|          | 0/100 [00:00<?, ?it/s]"
      ]
     },
     "metadata": {},
     "output_type": "display_data"
    },
    {
     "name": "stderr",
     "output_type": "stream",
     "text": [
      "[2025-08-27 15:15:29,204] INFO: mAP@0.95_overcast: 0.367\n",
      "[2025-08-27 15:15:29,207] INFO: mAP50_overcast: 0.508\n",
      "[2025-08-27 15:15:29,209] INFO: mAP75_overcast: 0.394\n",
      "[2025-08-27 15:15:29,209] INFO: pedestrian_mAP@0.95_overcast: 0.415\n",
      "[2025-08-27 15:15:29,211] INFO: car_mAP@0.95_overcast: 0.477\n",
      "[2025-08-27 15:15:29,212] INFO: truck_mAP@0.95_overcast: 0.502\n",
      "[2025-08-27 15:15:29,212] INFO: bus_mAP@0.95_overcast: 0.245\n",
      "[2025-08-27 15:15:29,213] INFO: motorcycle_mAP@0.95_overcast: 0.304\n",
      "[2025-08-27 15:15:29,215] INFO: bicycle_mAP@0.95_overcast: 0.257\n",
      "[2025-08-27 15:15:29,234] INFO: [overcast] batch 20: mAP50 0.5080 (no-imp 1/10)\n"
     ]
    },
    {
     "data": {
      "application/vnd.jupyter.widget-view+json": {
       "model_id": "f32d9f3169184f6592dc0615eb690d16",
       "version_major": 2,
       "version_minor": 0
      },
      "text/plain": [
       "  0%|          | 0/100 [00:00<?, ?it/s]"
      ]
     },
     "metadata": {},
     "output_type": "display_data"
    },
    {
     "name": "stderr",
     "output_type": "stream",
     "text": [
      "[2025-08-27 15:18:38,329] INFO: mAP@0.95_overcast: 0.367\n",
      "[2025-08-27 15:18:38,333] INFO: mAP50_overcast: 0.510\n",
      "[2025-08-27 15:18:38,334] INFO: mAP75_overcast: 0.395\n",
      "[2025-08-27 15:18:38,335] INFO: pedestrian_mAP@0.95_overcast: 0.422\n",
      "[2025-08-27 15:18:38,337] INFO: car_mAP@0.95_overcast: 0.478\n",
      "[2025-08-27 15:18:38,338] INFO: truck_mAP@0.95_overcast: 0.503\n",
      "[2025-08-27 15:18:38,339] INFO: bus_mAP@0.95_overcast: 0.246\n",
      "[2025-08-27 15:18:38,340] INFO: motorcycle_mAP@0.95_overcast: 0.302\n",
      "[2025-08-27 15:18:38,340] INFO: bicycle_mAP@0.95_overcast: 0.252\n",
      "[2025-08-27 15:18:38,358] INFO: [overcast] batch 30: mAP50 0.5086 -> 0.5101 ✔\n"
     ]
    },
    {
     "data": {
      "application/vnd.jupyter.widget-view+json": {
       "model_id": "2a1f9269905142b68997fcf58dab27dc",
       "version_major": 2,
       "version_minor": 0
      },
      "text/plain": [
       "  0%|          | 0/100 [00:00<?, ?it/s]"
      ]
     },
     "metadata": {},
     "output_type": "display_data"
    },
    {
     "name": "stderr",
     "output_type": "stream",
     "text": [
      "[2025-08-27 15:21:45,234] INFO: mAP@0.95_overcast: 0.368\n",
      "[2025-08-27 15:21:45,237] INFO: mAP50_overcast: 0.509\n",
      "[2025-08-27 15:21:45,238] INFO: mAP75_overcast: 0.395\n",
      "[2025-08-27 15:21:45,239] INFO: pedestrian_mAP@0.95_overcast: 0.420\n",
      "[2025-08-27 15:21:45,240] INFO: car_mAP@0.95_overcast: 0.480\n",
      "[2025-08-27 15:21:45,241] INFO: truck_mAP@0.95_overcast: 0.504\n",
      "[2025-08-27 15:21:45,242] INFO: bus_mAP@0.95_overcast: 0.244\n",
      "[2025-08-27 15:21:45,243] INFO: motorcycle_mAP@0.95_overcast: 0.305\n",
      "[2025-08-27 15:21:45,244] INFO: bicycle_mAP@0.95_overcast: 0.256\n",
      "[2025-08-27 15:21:45,263] INFO: [overcast] batch 40: mAP50 0.5088 (no-imp 1/10)\n"
     ]
    },
    {
     "data": {
      "application/vnd.jupyter.widget-view+json": {
       "model_id": "3bc976654d534d87964776335b29ef53",
       "version_major": 2,
       "version_minor": 0
      },
      "text/plain": [
       "  0%|          | 0/100 [00:00<?, ?it/s]"
      ]
     },
     "metadata": {},
     "output_type": "display_data"
    },
    {
     "name": "stderr",
     "output_type": "stream",
     "text": [
      "[2025-08-27 15:24:53,489] INFO: mAP@0.95_overcast: 0.367\n",
      "[2025-08-27 15:24:53,493] INFO: mAP50_overcast: 0.509\n",
      "[2025-08-27 15:24:53,494] INFO: mAP75_overcast: 0.394\n",
      "[2025-08-27 15:24:53,495] INFO: pedestrian_mAP@0.95_overcast: 0.417\n",
      "[2025-08-27 15:24:53,496] INFO: car_mAP@0.95_overcast: 0.479\n",
      "[2025-08-27 15:24:53,497] INFO: truck_mAP@0.95_overcast: 0.501\n",
      "[2025-08-27 15:24:53,498] INFO: bus_mAP@0.95_overcast: 0.245\n",
      "[2025-08-27 15:24:53,499] INFO: motorcycle_mAP@0.95_overcast: 0.306\n",
      "[2025-08-27 15:24:53,500] INFO: bicycle_mAP@0.95_overcast: 0.254\n",
      "[2025-08-27 15:24:53,520] INFO: [overcast] batch 50: mAP50 0.5089 (no-imp 2/10)\n"
     ]
    },
    {
     "data": {
      "application/vnd.jupyter.widget-view+json": {
       "model_id": "5a4015a394b74a07a8cdec4a204998f1",
       "version_major": 2,
       "version_minor": 0
      },
      "text/plain": [
       "  0%|          | 0/100 [00:00<?, ?it/s]"
      ]
     },
     "metadata": {},
     "output_type": "display_data"
    },
    {
     "name": "stderr",
     "output_type": "stream",
     "text": [
      "[2025-08-27 15:27:57,005] INFO: mAP@0.95_overcast: 0.365\n",
      "[2025-08-27 15:27:57,008] INFO: mAP50_overcast: 0.504\n",
      "[2025-08-27 15:27:57,009] INFO: mAP75_overcast: 0.391\n",
      "[2025-08-27 15:27:57,009] INFO: pedestrian_mAP@0.95_overcast: 0.411\n",
      "[2025-08-27 15:27:57,011] INFO: car_mAP@0.95_overcast: 0.465\n",
      "[2025-08-27 15:27:57,011] INFO: truck_mAP@0.95_overcast: 0.497\n",
      "[2025-08-27 15:27:57,012] INFO: bus_mAP@0.95_overcast: 0.239\n",
      "[2025-08-27 15:27:57,013] INFO: motorcycle_mAP@0.95_overcast: 0.310\n",
      "[2025-08-27 15:27:57,014] INFO: bicycle_mAP@0.95_overcast: 0.268\n",
      "[2025-08-27 15:27:57,028] INFO: [overcast] batch 60: mAP50 0.5045 (no-imp 3/10)\n"
     ]
    },
    {
     "data": {
      "application/vnd.jupyter.widget-view+json": {
       "model_id": "5efae02cbd2d48f8b054862821abe380",
       "version_major": 2,
       "version_minor": 0
      },
      "text/plain": [
       "  0%|          | 0/100 [00:00<?, ?it/s]"
      ]
     },
     "metadata": {},
     "output_type": "display_data"
    },
    {
     "name": "stderr",
     "output_type": "stream",
     "text": [
      "[2025-08-27 15:30:59,789] INFO: mAP@0.95_overcast: 0.364\n",
      "[2025-08-27 15:30:59,791] INFO: mAP50_overcast: 0.504\n",
      "[2025-08-27 15:30:59,792] INFO: mAP75_overcast: 0.389\n",
      "[2025-08-27 15:30:59,793] INFO: pedestrian_mAP@0.95_overcast: 0.411\n",
      "[2025-08-27 15:30:59,794] INFO: car_mAP@0.95_overcast: 0.460\n",
      "[2025-08-27 15:30:59,795] INFO: truck_mAP@0.95_overcast: 0.497\n",
      "[2025-08-27 15:30:59,796] INFO: bus_mAP@0.95_overcast: 0.236\n",
      "[2025-08-27 15:30:59,797] INFO: motorcycle_mAP@0.95_overcast: 0.310\n",
      "[2025-08-27 15:30:59,798] INFO: bicycle_mAP@0.95_overcast: 0.271\n",
      "[2025-08-27 15:30:59,820] INFO: [overcast] batch 70: mAP50 0.5040 (no-imp 4/10)\n"
     ]
    },
    {
     "data": {
      "application/vnd.jupyter.widget-view+json": {
       "model_id": "544b992e46a540d9b1d9056cc2625666",
       "version_major": 2,
       "version_minor": 0
      },
      "text/plain": [
       "  0%|          | 0/100 [00:00<?, ?it/s]"
      ]
     },
     "metadata": {},
     "output_type": "display_data"
    },
    {
     "name": "stderr",
     "output_type": "stream",
     "text": [
      "[2025-08-27 15:34:02,477] INFO: mAP@0.95_overcast: 0.364\n",
      "[2025-08-27 15:34:02,480] INFO: mAP50_overcast: 0.503\n",
      "[2025-08-27 15:34:02,481] INFO: mAP75_overcast: 0.390\n",
      "[2025-08-27 15:34:02,482] INFO: pedestrian_mAP@0.95_overcast: 0.410\n",
      "[2025-08-27 15:34:02,483] INFO: car_mAP@0.95_overcast: 0.461\n",
      "[2025-08-27 15:34:02,483] INFO: truck_mAP@0.95_overcast: 0.496\n",
      "[2025-08-27 15:34:02,484] INFO: bus_mAP@0.95_overcast: 0.234\n",
      "[2025-08-27 15:34:02,485] INFO: motorcycle_mAP@0.95_overcast: 0.309\n",
      "[2025-08-27 15:34:02,486] INFO: bicycle_mAP@0.95_overcast: 0.273\n",
      "[2025-08-27 15:34:02,504] INFO: [overcast] batch 80: mAP50 0.5034 (no-imp 5/10)\n"
     ]
    },
    {
     "data": {
      "application/vnd.jupyter.widget-view+json": {
       "model_id": "a689befcaa7a4aabb7857c5a24521744",
       "version_major": 2,
       "version_minor": 0
      },
      "text/plain": [
       "  0%|          | 0/100 [00:00<?, ?it/s]"
      ]
     },
     "metadata": {},
     "output_type": "display_data"
    },
    {
     "name": "stderr",
     "output_type": "stream",
     "text": [
      "[2025-08-27 15:37:06,763] INFO: mAP@0.95_overcast: 0.365\n",
      "[2025-08-27 15:37:06,767] INFO: mAP50_overcast: 0.504\n",
      "[2025-08-27 15:37:06,768] INFO: mAP75_overcast: 0.391\n",
      "[2025-08-27 15:37:06,769] INFO: pedestrian_mAP@0.95_overcast: 0.412\n",
      "[2025-08-27 15:37:06,770] INFO: car_mAP@0.95_overcast: 0.462\n",
      "[2025-08-27 15:37:06,771] INFO: truck_mAP@0.95_overcast: 0.495\n",
      "[2025-08-27 15:37:06,772] INFO: bus_mAP@0.95_overcast: 0.234\n",
      "[2025-08-27 15:37:06,773] INFO: motorcycle_mAP@0.95_overcast: 0.309\n",
      "[2025-08-27 15:37:06,774] INFO: bicycle_mAP@0.95_overcast: 0.277\n",
      "[2025-08-27 15:37:06,792] INFO: [overcast] batch 90: mAP50 0.5040 (no-imp 6/10)\n"
     ]
    },
    {
     "data": {
      "application/vnd.jupyter.widget-view+json": {
       "model_id": "9c29479e123b43bc96ecfdf3e768f06a",
       "version_major": 2,
       "version_minor": 0
      },
      "text/plain": [
       "  0%|          | 0/100 [00:00<?, ?it/s]"
      ]
     },
     "metadata": {},
     "output_type": "display_data"
    },
    {
     "name": "stderr",
     "output_type": "stream",
     "text": [
      "[2025-08-27 15:40:10,775] INFO: mAP@0.95_overcast: 0.367\n",
      "[2025-08-27 15:40:10,779] INFO: mAP50_overcast: 0.506\n",
      "[2025-08-27 15:40:10,780] INFO: mAP75_overcast: 0.393\n",
      "[2025-08-27 15:40:10,781] INFO: pedestrian_mAP@0.95_overcast: 0.415\n",
      "[2025-08-27 15:40:10,782] INFO: car_mAP@0.95_overcast: 0.467\n",
      "[2025-08-27 15:40:10,783] INFO: truck_mAP@0.95_overcast: 0.498\n",
      "[2025-08-27 15:40:10,784] INFO: bus_mAP@0.95_overcast: 0.237\n",
      "[2025-08-27 15:40:10,784] INFO: motorcycle_mAP@0.95_overcast: 0.311\n",
      "[2025-08-27 15:40:10,786] INFO: bicycle_mAP@0.95_overcast: 0.273\n",
      "[2025-08-27 15:40:10,803] INFO: [overcast] batch 100: mAP50 0.5065 (no-imp 7/10)\n"
     ]
    },
    {
     "data": {
      "application/vnd.jupyter.widget-view+json": {
       "model_id": "4905a8f902394dca9123fee6515478ba",
       "version_major": 2,
       "version_minor": 0
      },
      "text/plain": [
       "  0%|          | 0/100 [00:00<?, ?it/s]"
      ]
     },
     "metadata": {},
     "output_type": "display_data"
    },
    {
     "name": "stderr",
     "output_type": "stream",
     "text": [
      "[2025-08-27 15:43:15,693] INFO: mAP@0.95_overcast: 0.368\n",
      "[2025-08-27 15:43:15,695] INFO: mAP50_overcast: 0.509\n",
      "[2025-08-27 15:43:15,696] INFO: mAP75_overcast: 0.394\n",
      "[2025-08-27 15:43:15,697] INFO: pedestrian_mAP@0.95_overcast: 0.415\n",
      "[2025-08-27 15:43:15,698] INFO: car_mAP@0.95_overcast: 0.474\n",
      "[2025-08-27 15:43:15,699] INFO: truck_mAP@0.95_overcast: 0.501\n",
      "[2025-08-27 15:43:15,699] INFO: bus_mAP@0.95_overcast: 0.243\n",
      "[2025-08-27 15:43:15,700] INFO: motorcycle_mAP@0.95_overcast: 0.314\n",
      "[2025-08-27 15:43:15,701] INFO: bicycle_mAP@0.95_overcast: 0.263\n",
      "[2025-08-27 15:43:15,719] INFO: [overcast] batch 110: mAP50 0.5090 (no-imp 8/10)\n"
     ]
    },
    {
     "data": {
      "application/vnd.jupyter.widget-view+json": {
       "model_id": "ae3bef045bf24a7fb786b7ae6a98046e",
       "version_major": 2,
       "version_minor": 0
      },
      "text/plain": [
       "  0%|          | 0/100 [00:00<?, ?it/s]"
      ]
     },
     "metadata": {},
     "output_type": "display_data"
    },
    {
     "name": "stderr",
     "output_type": "stream",
     "text": [
      "[2025-08-27 15:46:21,902] INFO: mAP@0.95_overcast: 0.367\n",
      "[2025-08-27 15:46:21,906] INFO: mAP50_overcast: 0.507\n",
      "[2025-08-27 15:46:21,907] INFO: mAP75_overcast: 0.392\n",
      "[2025-08-27 15:46:21,908] INFO: pedestrian_mAP@0.95_overcast: 0.414\n",
      "[2025-08-27 15:46:21,909] INFO: car_mAP@0.95_overcast: 0.473\n",
      "[2025-08-27 15:46:21,910] INFO: truck_mAP@0.95_overcast: 0.499\n",
      "[2025-08-27 15:46:21,911] INFO: bus_mAP@0.95_overcast: 0.242\n",
      "[2025-08-27 15:46:21,912] INFO: motorcycle_mAP@0.95_overcast: 0.311\n",
      "[2025-08-27 15:46:21,912] INFO: bicycle_mAP@0.95_overcast: 0.265\n",
      "[2025-08-27 15:46:21,931] INFO: [overcast] batch 120: mAP50 0.5073 (no-imp 9/10)\n"
     ]
    },
    {
     "data": {
      "application/vnd.jupyter.widget-view+json": {
       "model_id": "80aa4ecf30864125bbbfc4329c41f195",
       "version_major": 2,
       "version_minor": 0
      },
      "text/plain": [
       "  0%|          | 0/100 [00:00<?, ?it/s]"
      ]
     },
     "metadata": {},
     "output_type": "display_data"
    },
    {
     "name": "stderr",
     "output_type": "stream",
     "text": [
      "[2025-08-27 15:49:28,744] INFO: mAP@0.95_overcast: 0.367\n",
      "[2025-08-27 15:49:28,746] INFO: mAP50_overcast: 0.507\n",
      "[2025-08-27 15:49:28,748] INFO: mAP75_overcast: 0.392\n",
      "[2025-08-27 15:49:28,749] INFO: pedestrian_mAP@0.95_overcast: 0.413\n",
      "[2025-08-27 15:49:28,749] INFO: car_mAP@0.95_overcast: 0.473\n",
      "[2025-08-27 15:49:28,750] INFO: truck_mAP@0.95_overcast: 0.499\n",
      "[2025-08-27 15:49:28,751] INFO: bus_mAP@0.95_overcast: 0.243\n",
      "[2025-08-27 15:49:28,752] INFO: motorcycle_mAP@0.95_overcast: 0.312\n",
      "[2025-08-27 15:49:28,753] INFO: bicycle_mAP@0.95_overcast: 0.261\n",
      "[2025-08-27 15:49:28,767] INFO: [overcast] batch 130: mAP50 0.5069 (no-imp 10/10)\n",
      "[2025-08-27 15:49:28,768] INFO: [overcast] Early stop at batch 130 (no improvement 10 times).\n"
     ]
    },
    {
     "data": {
      "application/vnd.jupyter.widget-view+json": {
       "model_id": "f35f356f84b44352921b4869bbe42576",
       "version_major": 2,
       "version_minor": 0
      },
      "text/plain": [
       "  0%|          | 0/100 [00:00<?, ?it/s]"
      ]
     },
     "metadata": {},
     "output_type": "display_data"
    },
    {
     "name": "stderr",
     "output_type": "stream",
     "text": [
      "[2025-08-27 15:52:35,375] INFO: mAP@0.95_overcast: 0.367\n",
      "[2025-08-27 15:52:35,378] INFO: mAP50_overcast: 0.510\n",
      "[2025-08-27 15:52:35,379] INFO: mAP75_overcast: 0.395\n",
      "[2025-08-27 15:52:35,379] INFO: pedestrian_mAP@0.95_overcast: 0.422\n",
      "[2025-08-27 15:52:35,380] INFO: car_mAP@0.95_overcast: 0.478\n",
      "[2025-08-27 15:52:35,381] INFO: truck_mAP@0.95_overcast: 0.503\n",
      "[2025-08-27 15:52:35,381] INFO: bus_mAP@0.95_overcast: 0.246\n",
      "[2025-08-27 15:52:35,383] INFO: motorcycle_mAP@0.95_overcast: 0.302\n",
      "[2025-08-27 15:52:35,384] INFO: bicycle_mAP@0.95_overcast: 0.252\n",
      "[2025-08-27 15:52:35,750] INFO: Saved adapted model after task [overcast] → ./norm_checkpoints/model_overcast.pth\n",
      "[2025-08-27 15:52:35,838] INFO: start foggy\n",
      "[2025-08-27 15:52:35,964] INFO: INFO: Downloading 'SHIFT_SUBSET' from file server to /workspace/ptta/data/SHIFT/discrete...\n",
      "[2025-08-27 15:52:35,965] INFO: INFO: Dataset archive found in the root directory. Skipping download.\n",
      "[2025-08-27 15:52:35,966] INFO: INFO: Subset split for 'SHIFT_SUBSET' dataset is already done. Skipping...\n",
      "[2025-08-27 15:52:35,967] INFO: INFO: Downloading 'SHIFT_SUBSET' from file server to /workspace/ptta/data/SHIFT/discrete...\n",
      "[2025-08-27 15:52:35,968] INFO: INFO: Dataset archive found in the root directory. Skipping download.\n",
      "[08/27/2025 15:52:35] SHIFT DevKit - INFO - Base: /workspace/ptta/data/SHIFT/discrete/images/train. Backend: <shift_dev.utils.backend.ZipBackend object at 0x7f01c9a4b8d0>\n",
      "[08/27/2025 15:52:35] SHIFT DevKit - INFO - Loading annotation from '/workspace/ptta/data/SHIFT_SUBSET/foggy_daytime/discrete/images/train/front/det_2d.json' ...\n",
      "[08/27/2025 15:52:36] SHIFT DevKit - INFO - Loading annotation from '/workspace/ptta/data/SHIFT_SUBSET/foggy_daytime/discrete/images/train/front/det_2d.json' Done.\n",
      "[08/27/2025 15:52:42] SHIFT DevKit - INFO - Loading annotation takes 6.15 seconds.\n",
      "[2025-08-27 15:52:42,284] INFO: Batch 0:\n",
      "[2025-08-27 15:52:42,287] INFO: Item                 Shape                               Min        Max       \n",
      "[2025-08-27 15:52:42,288] INFO: --------------------------------------------------------------------------------\n",
      "[2025-08-27 15:52:42,290] INFO: original_hw          [tensor([800]), tensor([1280])]\n",
      "[2025-08-27 15:52:42,291] INFO: input_hw             [tensor([800]), tensor([1280])]\n",
      "[2025-08-27 15:52:42,292] INFO: frame_ids            torch.Size([1])                           0.00       0.00\n",
      "[2025-08-27 15:52:42,293] INFO: name                 ['00000000_img_front.jpg']\n",
      "[2025-08-27 15:52:42,294] INFO: videoName            ['006a-2133']\n",
      "[2025-08-27 15:52:42,296] INFO: intrinsics           torch.Size([1, 3, 3])                     0.00     640.00\n",
      "[2025-08-27 15:52:42,297] INFO: extrinsics           torch.Size([1, 4, 4])                  -198.18       1.57\n",
      "[2025-08-27 15:52:42,298] INFO: boxes2d              torch.Size([1, 1, 4])                   398.00     707.00\n",
      "[2025-08-27 15:52:42,299] INFO: boxes2d_classes      torch.Size([1, 1])                        2.00       2.00\n",
      "[2025-08-27 15:52:42,300] INFO: boxes2d_track_ids    torch.Size([1, 1])                        0.00       0.00\n",
      "[2025-08-27 15:52:42,304] INFO: images               torch.Size([1, 1, 3, 800, 1280])         19.00     234.00\n",
      "[2025-08-27 15:52:43,779] INFO: Video name: 006a-2133\n",
      "[2025-08-27 15:52:43,781] INFO: Sample indices within a video: [0, 1, 2, 3, 4, 5, 6, 7, 8, 9, 10, 11, 12, 13, 14, 15, 16, 17, 18, 19, 20, 21, 22, 23, 24, 25, 26, 27, 28, 29, 30, 31, 32, 33, 34, 35, 36, 37, 38, 39, 40, 41, 42, 43, 44, 45, 46, 47, 48, 49]\n",
      "[2025-08-27 15:52:43,783] INFO: INFO: Downloading 'SHIFT_SUBSET' from file server to /workspace/ptta/data/SHIFT/discrete...\n",
      "[2025-08-27 15:52:43,784] INFO: INFO: Dataset archive found in the root directory. Skipping download.\n",
      "[2025-08-27 15:52:43,785] INFO: INFO: Subset split for 'SHIFT_SUBSET' dataset is already done. Skipping...\n",
      "[2025-08-27 15:52:43,786] INFO: INFO: Downloading 'SHIFT_SUBSET' from file server to /workspace/ptta/data/SHIFT/discrete...\n",
      "[2025-08-27 15:52:43,787] INFO: INFO: Dataset archive found in the root directory. Skipping download.\n",
      "[08/27/2025 15:52:43] SHIFT DevKit - INFO - Base: /workspace/ptta/data/SHIFT/discrete/images/val. Backend: <shift_dev.utils.backend.ZipBackend object at 0x7f01c9a4b8d0>\n",
      "[08/27/2025 15:52:43] SHIFT DevKit - INFO - Loading annotation from '/workspace/ptta/data/SHIFT_SUBSET/foggy_daytime/discrete/images/val/front/det_2d.json' ...\n",
      "[08/27/2025 15:52:44] SHIFT DevKit - INFO - Loading annotation from '/workspace/ptta/data/SHIFT_SUBSET/foggy_daytime/discrete/images/val/front/det_2d.json' Done.\n",
      "[08/27/2025 15:52:45] SHIFT DevKit - INFO - Loading annotation takes 1.27 seconds.\n",
      "[2025-08-27 15:52:45,105] INFO: Batch 0:\n",
      "[2025-08-27 15:52:45,110] INFO: Item                 Shape                               Min        Max       \n",
      "[2025-08-27 15:52:45,112] INFO: --------------------------------------------------------------------------------\n",
      "[2025-08-27 15:52:45,114] INFO: original_hw          [tensor([800]), tensor([1280])]\n",
      "[2025-08-27 15:52:45,115] INFO: input_hw             [tensor([800]), tensor([1280])]\n",
      "[2025-08-27 15:52:45,116] INFO: frame_ids            torch.Size([1])                           0.00       0.00\n",
      "[2025-08-27 15:52:45,117] INFO: name                 ['00000000_img_front.jpg']\n",
      "[2025-08-27 15:52:45,118] INFO: videoName            ['0188-aef6']\n",
      "[2025-08-27 15:52:45,119] INFO: intrinsics           torch.Size([1, 3, 3])                     0.00     640.00\n",
      "[2025-08-27 15:52:45,120] INFO: extrinsics           torch.Size([1, 4, 4])                  -136.69       1.57\n",
      "[2025-08-27 15:52:45,121] INFO: boxes2d              torch.Size([1, 5, 4])                   275.00     661.00\n",
      "[2025-08-27 15:52:45,122] INFO: boxes2d_classes      torch.Size([1, 5])                        0.00       1.00\n",
      "[2025-08-27 15:52:45,123] INFO: boxes2d_track_ids    torch.Size([1, 5])                        0.00       4.00\n",
      "[2025-08-27 15:52:45,132] INFO: images               torch.Size([1, 1, 3, 800, 1280])         17.00     255.00\n",
      "[2025-08-27 15:52:45,420] INFO: Video name: 0188-aef6\n",
      "[2025-08-27 15:52:45,421] INFO: Sample indices within a video: [0, 1, 2, 3, 4, 5, 6, 7, 8, 9, 10, 11, 12, 13, 14, 15, 16, 17, 18, 19, 20, 21, 22, 23, 24, 25, 26, 27, 28, 29, 30, 31, 32, 33, 34, 35, 36, 37, 38, 39, 40, 41, 42, 43, 44, 45, 46, 47, 48, 49]\n"
     ]
    },
    {
     "data": {
      "application/vnd.jupyter.widget-view+json": {
       "model_id": "a54ebb56ae58486d8ec5f6b889c5b651",
       "version_major": 2,
       "version_minor": 0
      },
      "text/plain": [
       "  0%|          | 0/12900 [00:00<?, ?it/s]"
      ]
     },
     "metadata": {},
     "output_type": "display_data"
    },
    {
     "data": {
      "application/vnd.jupyter.widget-view+json": {
       "model_id": "3a193b0f74ff48d89f5e1c9d0a0b87ca",
       "version_major": 2,
       "version_minor": 0
      },
      "text/plain": [
       "  0%|          | 0/166 [00:00<?, ?it/s]"
      ]
     },
     "metadata": {},
     "output_type": "display_data"
    },
    {
     "name": "stderr",
     "output_type": "stream",
     "text": [
      "[2025-08-27 15:57:34,353] INFO: mAP@0.95_foggy: 0.294\n",
      "[2025-08-27 15:57:34,356] INFO: mAP50_foggy: 0.387\n",
      "[2025-08-27 15:57:34,357] INFO: mAP75_foggy: 0.324\n",
      "[2025-08-27 15:57:34,358] INFO: pedestrian_mAP@0.95_foggy: 0.359\n",
      "[2025-08-27 15:57:34,359] INFO: car_mAP@0.95_foggy: 0.294\n",
      "[2025-08-27 15:57:34,360] INFO: truck_mAP@0.95_foggy: 0.319\n",
      "[2025-08-27 15:57:34,360] INFO: bus_mAP@0.95_foggy: 0.212\n",
      "[2025-08-27 15:57:34,361] INFO: motorcycle_mAP@0.95_foggy: 0.306\n",
      "[2025-08-27 15:57:34,362] INFO: bicycle_mAP@0.95_foggy: 0.277\n",
      "[2025-08-27 15:57:34,400] INFO: [foggy] batch 0: mAP50 -1.0000 -> 0.3867 ✔\n"
     ]
    },
    {
     "data": {
      "application/vnd.jupyter.widget-view+json": {
       "model_id": "c7ca62776a174a7482bcecfb042b140b",
       "version_major": 2,
       "version_minor": 0
      },
      "text/plain": [
       "  0%|          | 0/166 [00:00<?, ?it/s]"
      ]
     },
     "metadata": {},
     "output_type": "display_data"
    },
    {
     "name": "stderr",
     "output_type": "stream",
     "text": [
      "[2025-08-27 16:02:23,841] INFO: mAP@0.95_foggy: 0.283\n",
      "[2025-08-27 16:02:23,844] INFO: mAP50_foggy: 0.369\n",
      "[2025-08-27 16:02:23,846] INFO: mAP75_foggy: 0.309\n",
      "[2025-08-27 16:02:23,847] INFO: pedestrian_mAP@0.95_foggy: 0.352\n",
      "[2025-08-27 16:02:23,848] INFO: car_mAP@0.95_foggy: 0.281\n",
      "[2025-08-27 16:02:23,849] INFO: truck_mAP@0.95_foggy: 0.306\n",
      "[2025-08-27 16:02:23,850] INFO: bus_mAP@0.95_foggy: 0.178\n",
      "[2025-08-27 16:02:23,850] INFO: motorcycle_mAP@0.95_foggy: 0.299\n",
      "[2025-08-27 16:02:23,851] INFO: bicycle_mAP@0.95_foggy: 0.283\n",
      "[2025-08-27 16:02:23,959] INFO: [foggy] batch 10: mAP50 0.3688 (no-imp 1/10)\n"
     ]
    },
    {
     "data": {
      "application/vnd.jupyter.widget-view+json": {
       "model_id": "f08ecd390175494caeb3929ba861187e",
       "version_major": 2,
       "version_minor": 0
      },
      "text/plain": [
       "  0%|          | 0/166 [00:00<?, ?it/s]"
      ]
     },
     "metadata": {},
     "output_type": "display_data"
    },
    {
     "name": "stderr",
     "output_type": "stream",
     "text": [
      "[2025-08-27 16:07:08,729] INFO: mAP@0.95_foggy: 0.290\n",
      "[2025-08-27 16:07:08,732] INFO: mAP50_foggy: 0.376\n",
      "[2025-08-27 16:07:08,733] INFO: mAP75_foggy: 0.316\n",
      "[2025-08-27 16:07:08,734] INFO: pedestrian_mAP@0.95_foggy: 0.353\n",
      "[2025-08-27 16:07:08,735] INFO: car_mAP@0.95_foggy: 0.290\n",
      "[2025-08-27 16:07:08,736] INFO: truck_mAP@0.95_foggy: 0.305\n",
      "[2025-08-27 16:07:08,736] INFO: bus_mAP@0.95_foggy: 0.196\n",
      "[2025-08-27 16:07:08,737] INFO: motorcycle_mAP@0.95_foggy: 0.304\n",
      "[2025-08-27 16:07:08,738] INFO: bicycle_mAP@0.95_foggy: 0.289\n",
      "[2025-08-27 16:07:08,762] INFO: [foggy] batch 20: mAP50 0.3761 (no-imp 2/10)\n"
     ]
    },
    {
     "data": {
      "application/vnd.jupyter.widget-view+json": {
       "model_id": "1d3da9e0ca0a47d2b2fc160e273c63c1",
       "version_major": 2,
       "version_minor": 0
      },
      "text/plain": [
       "  0%|          | 0/166 [00:00<?, ?it/s]"
      ]
     },
     "metadata": {},
     "output_type": "display_data"
    },
    {
     "name": "stderr",
     "output_type": "stream",
     "text": [
      "[2025-08-27 16:11:57,425] INFO: mAP@0.95_foggy: 0.285\n",
      "[2025-08-27 16:11:57,429] INFO: mAP50_foggy: 0.370\n",
      "[2025-08-27 16:11:57,430] INFO: mAP75_foggy: 0.312\n",
      "[2025-08-27 16:11:57,431] INFO: pedestrian_mAP@0.95_foggy: 0.353\n",
      "[2025-08-27 16:11:57,432] INFO: car_mAP@0.95_foggy: 0.281\n",
      "[2025-08-27 16:11:57,433] INFO: truck_mAP@0.95_foggy: 0.303\n",
      "[2025-08-27 16:11:57,434] INFO: bus_mAP@0.95_foggy: 0.186\n",
      "[2025-08-27 16:11:57,436] INFO: motorcycle_mAP@0.95_foggy: 0.299\n",
      "[2025-08-27 16:11:57,437] INFO: bicycle_mAP@0.95_foggy: 0.290\n",
      "[2025-08-27 16:11:57,459] INFO: [foggy] batch 30: mAP50 0.3700 (no-imp 3/10)\n"
     ]
    },
    {
     "data": {
      "application/vnd.jupyter.widget-view+json": {
       "model_id": "829e76f139594eab8e30bc5797eb5589",
       "version_major": 2,
       "version_minor": 0
      },
      "text/plain": [
       "  0%|          | 0/166 [00:00<?, ?it/s]"
      ]
     },
     "metadata": {},
     "output_type": "display_data"
    },
    {
     "name": "stderr",
     "output_type": "stream",
     "text": [
      "[2025-08-27 16:16:49,606] INFO: mAP@0.95_foggy: 0.282\n",
      "[2025-08-27 16:16:49,609] INFO: mAP50_foggy: 0.368\n",
      "[2025-08-27 16:16:49,611] INFO: mAP75_foggy: 0.310\n",
      "[2025-08-27 16:16:49,612] INFO: pedestrian_mAP@0.95_foggy: 0.351\n",
      "[2025-08-27 16:16:49,613] INFO: car_mAP@0.95_foggy: 0.282\n",
      "[2025-08-27 16:16:49,614] INFO: truck_mAP@0.95_foggy: 0.304\n",
      "[2025-08-27 16:16:49,615] INFO: bus_mAP@0.95_foggy: 0.180\n",
      "[2025-08-27 16:16:49,617] INFO: motorcycle_mAP@0.95_foggy: 0.296\n",
      "[2025-08-27 16:16:49,617] INFO: bicycle_mAP@0.95_foggy: 0.280\n",
      "[2025-08-27 16:16:49,642] INFO: [foggy] batch 40: mAP50 0.3680 (no-imp 4/10)\n"
     ]
    },
    {
     "data": {
      "application/vnd.jupyter.widget-view+json": {
       "model_id": "95ac1997cde4436a81b963a181ecde84",
       "version_major": 2,
       "version_minor": 0
      },
      "text/plain": [
       "  0%|          | 0/166 [00:00<?, ?it/s]"
      ]
     },
     "metadata": {},
     "output_type": "display_data"
    },
    {
     "name": "stderr",
     "output_type": "stream",
     "text": [
      "[2025-08-27 16:21:55,876] INFO: mAP@0.95_foggy: 0.287\n",
      "[2025-08-27 16:21:55,880] INFO: mAP50_foggy: 0.373\n",
      "[2025-08-27 16:21:55,881] INFO: mAP75_foggy: 0.313\n",
      "[2025-08-27 16:21:55,882] INFO: pedestrian_mAP@0.95_foggy: 0.352\n",
      "[2025-08-27 16:21:55,883] INFO: car_mAP@0.95_foggy: 0.287\n",
      "[2025-08-27 16:21:55,884] INFO: truck_mAP@0.95_foggy: 0.307\n",
      "[2025-08-27 16:21:55,885] INFO: bus_mAP@0.95_foggy: 0.189\n",
      "[2025-08-27 16:21:55,886] INFO: motorcycle_mAP@0.95_foggy: 0.301\n",
      "[2025-08-27 16:21:55,887] INFO: bicycle_mAP@0.95_foggy: 0.282\n",
      "[2025-08-27 16:21:55,914] INFO: [foggy] batch 50: mAP50 0.3729 (no-imp 5/10)\n"
     ]
    },
    {
     "data": {
      "application/vnd.jupyter.widget-view+json": {
       "model_id": "9609cd29ea4645ada94a071e3352e0cc",
       "version_major": 2,
       "version_minor": 0
      },
      "text/plain": [
       "  0%|          | 0/166 [00:00<?, ?it/s]"
      ]
     },
     "metadata": {},
     "output_type": "display_data"
    },
    {
     "name": "stderr",
     "output_type": "stream",
     "text": [
      "[2025-08-27 16:26:45,839] INFO: mAP@0.95_foggy: 0.308\n",
      "[2025-08-27 16:26:45,843] INFO: mAP50_foggy: 0.399\n",
      "[2025-08-27 16:26:45,845] INFO: mAP75_foggy: 0.331\n",
      "[2025-08-27 16:26:45,846] INFO: pedestrian_mAP@0.95_foggy: 0.367\n",
      "[2025-08-27 16:26:45,847] INFO: car_mAP@0.95_foggy: 0.311\n",
      "[2025-08-27 16:26:45,848] INFO: truck_mAP@0.95_foggy: 0.322\n",
      "[2025-08-27 16:26:45,849] INFO: bus_mAP@0.95_foggy: 0.223\n",
      "[2025-08-27 16:26:45,850] INFO: motorcycle_mAP@0.95_foggy: 0.318\n",
      "[2025-08-27 16:26:45,851] INFO: bicycle_mAP@0.95_foggy: 0.311\n",
      "[2025-08-27 16:26:45,886] INFO: [foggy] batch 60: mAP50 0.3867 -> 0.3987 ✔\n"
     ]
    },
    {
     "data": {
      "application/vnd.jupyter.widget-view+json": {
       "model_id": "4baeec75bd744de4922fea6c981ca294",
       "version_major": 2,
       "version_minor": 0
      },
      "text/plain": [
       "  0%|          | 0/166 [00:00<?, ?it/s]"
      ]
     },
     "metadata": {},
     "output_type": "display_data"
    },
    {
     "name": "stderr",
     "output_type": "stream",
     "text": [
      "[2025-08-27 16:31:43,732] INFO: mAP@0.95_foggy: 0.309\n",
      "[2025-08-27 16:31:43,736] INFO: mAP50_foggy: 0.400\n",
      "[2025-08-27 16:31:43,737] INFO: mAP75_foggy: 0.332\n",
      "[2025-08-27 16:31:43,737] INFO: pedestrian_mAP@0.95_foggy: 0.366\n",
      "[2025-08-27 16:31:43,739] INFO: car_mAP@0.95_foggy: 0.312\n",
      "[2025-08-27 16:31:43,739] INFO: truck_mAP@0.95_foggy: 0.324\n",
      "[2025-08-27 16:31:43,741] INFO: bus_mAP@0.95_foggy: 0.223\n",
      "[2025-08-27 16:31:43,741] INFO: motorcycle_mAP@0.95_foggy: 0.316\n",
      "[2025-08-27 16:31:43,742] INFO: bicycle_mAP@0.95_foggy: 0.312\n",
      "[2025-08-27 16:31:43,769] INFO: [foggy] batch 70: mAP50 0.3987 -> 0.4003 ✔\n"
     ]
    },
    {
     "data": {
      "application/vnd.jupyter.widget-view+json": {
       "model_id": "4a977c3818074aa5bca2fffc18092e88",
       "version_major": 2,
       "version_minor": 0
      },
      "text/plain": [
       "  0%|          | 0/166 [00:00<?, ?it/s]"
      ]
     },
     "metadata": {},
     "output_type": "display_data"
    },
    {
     "name": "stderr",
     "output_type": "stream",
     "text": [
      "[2025-08-27 16:36:54,028] INFO: mAP@0.95_foggy: 0.309\n",
      "[2025-08-27 16:36:54,033] INFO: mAP50_foggy: 0.401\n",
      "[2025-08-27 16:36:54,035] INFO: mAP75_foggy: 0.332\n",
      "[2025-08-27 16:36:54,036] INFO: pedestrian_mAP@0.95_foggy: 0.365\n",
      "[2025-08-27 16:36:54,037] INFO: car_mAP@0.95_foggy: 0.312\n",
      "[2025-08-27 16:36:54,038] INFO: truck_mAP@0.95_foggy: 0.324\n",
      "[2025-08-27 16:36:54,039] INFO: bus_mAP@0.95_foggy: 0.227\n",
      "[2025-08-27 16:36:54,040] INFO: motorcycle_mAP@0.95_foggy: 0.315\n",
      "[2025-08-27 16:36:54,041] INFO: bicycle_mAP@0.95_foggy: 0.313\n",
      "[2025-08-27 16:36:54,071] INFO: [foggy] batch 80: mAP50 0.4003 -> 0.4007 ✔\n"
     ]
    },
    {
     "data": {
      "application/vnd.jupyter.widget-view+json": {
       "model_id": "253527e26edf45a19e7764f39a342a00",
       "version_major": 2,
       "version_minor": 0
      },
      "text/plain": [
       "  0%|          | 0/166 [00:00<?, ?it/s]"
      ]
     },
     "metadata": {},
     "output_type": "display_data"
    },
    {
     "name": "stderr",
     "output_type": "stream",
     "text": [
      "[2025-08-27 16:42:37,348] INFO: mAP@0.95_foggy: 0.308\n",
      "[2025-08-27 16:42:37,352] INFO: mAP50_foggy: 0.399\n",
      "[2025-08-27 16:42:37,354] INFO: mAP75_foggy: 0.332\n",
      "[2025-08-27 16:42:37,355] INFO: pedestrian_mAP@0.95_foggy: 0.365\n",
      "[2025-08-27 16:42:37,356] INFO: car_mAP@0.95_foggy: 0.311\n",
      "[2025-08-27 16:42:37,357] INFO: truck_mAP@0.95_foggy: 0.323\n",
      "[2025-08-27 16:42:37,358] INFO: bus_mAP@0.95_foggy: 0.224\n",
      "[2025-08-27 16:42:37,358] INFO: motorcycle_mAP@0.95_foggy: 0.315\n",
      "[2025-08-27 16:42:37,360] INFO: bicycle_mAP@0.95_foggy: 0.312\n",
      "[2025-08-27 16:42:37,407] INFO: [foggy] batch 90: mAP50 0.3990 (no-imp 1/10)\n"
     ]
    },
    {
     "data": {
      "application/vnd.jupyter.widget-view+json": {
       "model_id": "839af4d63a6447ba96f0d942cbbaac62",
       "version_major": 2,
       "version_minor": 0
      },
      "text/plain": [
       "  0%|          | 0/166 [00:00<?, ?it/s]"
      ]
     },
     "metadata": {},
     "output_type": "display_data"
    },
    {
     "name": "stderr",
     "output_type": "stream",
     "text": [
      "[2025-08-27 16:48:13,592] INFO: mAP@0.95_foggy: 0.305\n",
      "[2025-08-27 16:48:13,596] INFO: mAP50_foggy: 0.396\n",
      "[2025-08-27 16:48:13,597] INFO: mAP75_foggy: 0.328\n",
      "[2025-08-27 16:48:13,598] INFO: pedestrian_mAP@0.95_foggy: 0.363\n",
      "[2025-08-27 16:48:13,599] INFO: car_mAP@0.95_foggy: 0.306\n",
      "[2025-08-27 16:48:13,600] INFO: truck_mAP@0.95_foggy: 0.321\n",
      "[2025-08-27 16:48:13,601] INFO: bus_mAP@0.95_foggy: 0.218\n",
      "[2025-08-27 16:48:13,604] INFO: motorcycle_mAP@0.95_foggy: 0.314\n",
      "[2025-08-27 16:48:13,606] INFO: bicycle_mAP@0.95_foggy: 0.306\n",
      "[2025-08-27 16:48:13,637] INFO: [foggy] batch 100: mAP50 0.3957 (no-imp 2/10)\n"
     ]
    },
    {
     "data": {
      "application/vnd.jupyter.widget-view+json": {
       "model_id": "dd20966819e64fae8f73f13842e4059d",
       "version_major": 2,
       "version_minor": 0
      },
      "text/plain": [
       "  0%|          | 0/166 [00:00<?, ?it/s]"
      ]
     },
     "metadata": {},
     "output_type": "display_data"
    },
    {
     "name": "stderr",
     "output_type": "stream",
     "text": [
      "[2025-08-27 16:53:55,442] INFO: mAP@0.95_foggy: 0.288\n",
      "[2025-08-27 16:53:55,446] INFO: mAP50_foggy: 0.377\n",
      "[2025-08-27 16:53:55,447] INFO: mAP75_foggy: 0.314\n",
      "[2025-08-27 16:53:55,448] INFO: pedestrian_mAP@0.95_foggy: 0.350\n",
      "[2025-08-27 16:53:55,449] INFO: car_mAP@0.95_foggy: 0.291\n",
      "[2025-08-27 16:53:55,450] INFO: truck_mAP@0.95_foggy: 0.311\n",
      "[2025-08-27 16:53:55,451] INFO: bus_mAP@0.95_foggy: 0.191\n",
      "[2025-08-27 16:53:55,452] INFO: motorcycle_mAP@0.95_foggy: 0.303\n",
      "[2025-08-27 16:53:55,453] INFO: bicycle_mAP@0.95_foggy: 0.282\n",
      "[2025-08-27 16:53:55,479] INFO: [foggy] batch 110: mAP50 0.3774 (no-imp 3/10)\n"
     ]
    },
    {
     "data": {
      "application/vnd.jupyter.widget-view+json": {
       "model_id": "58a5597eb640453486a36531c102b4a4",
       "version_major": 2,
       "version_minor": 0
      },
      "text/plain": [
       "  0%|          | 0/166 [00:00<?, ?it/s]"
      ]
     },
     "metadata": {},
     "output_type": "display_data"
    },
    {
     "name": "stderr",
     "output_type": "stream",
     "text": [
      "[2025-08-27 16:59:26,247] INFO: mAP@0.95_foggy: 0.297\n",
      "[2025-08-27 16:59:26,251] INFO: mAP50_foggy: 0.386\n",
      "[2025-08-27 16:59:26,252] INFO: mAP75_foggy: 0.321\n",
      "[2025-08-27 16:59:26,253] INFO: pedestrian_mAP@0.95_foggy: 0.357\n",
      "[2025-08-27 16:59:26,254] INFO: car_mAP@0.95_foggy: 0.298\n",
      "[2025-08-27 16:59:26,255] INFO: truck_mAP@0.95_foggy: 0.312\n",
      "[2025-08-27 16:59:26,256] INFO: bus_mAP@0.95_foggy: 0.210\n",
      "[2025-08-27 16:59:26,257] INFO: motorcycle_mAP@0.95_foggy: 0.308\n",
      "[2025-08-27 16:59:26,258] INFO: bicycle_mAP@0.95_foggy: 0.296\n",
      "[2025-08-27 16:59:26,324] INFO: [foggy] batch 120: mAP50 0.3856 (no-imp 4/10)\n"
     ]
    },
    {
     "data": {
      "application/vnd.jupyter.widget-view+json": {
       "model_id": "90a78553fb904777a81e189c4aec61f6",
       "version_major": 2,
       "version_minor": 0
      },
      "text/plain": [
       "  0%|          | 0/166 [00:00<?, ?it/s]"
      ]
     },
     "metadata": {},
     "output_type": "display_data"
    },
    {
     "name": "stderr",
     "output_type": "stream",
     "text": [
      "[2025-08-27 17:04:49,654] INFO: mAP@0.95_foggy: 0.286\n",
      "[2025-08-27 17:04:49,735] INFO: mAP50_foggy: 0.374\n",
      "[2025-08-27 17:04:49,736] INFO: mAP75_foggy: 0.311\n",
      "[2025-08-27 17:04:49,737] INFO: pedestrian_mAP@0.95_foggy: 0.351\n",
      "[2025-08-27 17:04:49,739] INFO: car_mAP@0.95_foggy: 0.287\n",
      "[2025-08-27 17:04:49,740] INFO: truck_mAP@0.95_foggy: 0.306\n",
      "[2025-08-27 17:04:49,741] INFO: bus_mAP@0.95_foggy: 0.192\n",
      "[2025-08-27 17:04:49,742] INFO: motorcycle_mAP@0.95_foggy: 0.300\n",
      "[2025-08-27 17:04:49,743] INFO: bicycle_mAP@0.95_foggy: 0.280\n",
      "[2025-08-27 17:04:49,770] INFO: [foggy] batch 130: mAP50 0.3735 (no-imp 5/10)\n"
     ]
    },
    {
     "data": {
      "application/vnd.jupyter.widget-view+json": {
       "model_id": "8179ece87a96435e90a5750033b4c684",
       "version_major": 2,
       "version_minor": 0
      },
      "text/plain": [
       "  0%|          | 0/166 [00:00<?, ?it/s]"
      ]
     },
     "metadata": {},
     "output_type": "display_data"
    },
    {
     "name": "stderr",
     "output_type": "stream",
     "text": [
      "[2025-08-27 17:10:09,963] INFO: mAP@0.95_foggy: 0.285\n",
      "[2025-08-27 17:10:09,965] INFO: mAP50_foggy: 0.374\n",
      "[2025-08-27 17:10:09,967] INFO: mAP75_foggy: 0.312\n",
      "[2025-08-27 17:10:09,968] INFO: pedestrian_mAP@0.95_foggy: 0.352\n",
      "[2025-08-27 17:10:09,969] INFO: car_mAP@0.95_foggy: 0.287\n",
      "[2025-08-27 17:10:09,970] INFO: truck_mAP@0.95_foggy: 0.306\n",
      "[2025-08-27 17:10:09,971] INFO: bus_mAP@0.95_foggy: 0.187\n",
      "[2025-08-27 17:10:09,971] INFO: motorcycle_mAP@0.95_foggy: 0.303\n",
      "[2025-08-27 17:10:09,972] INFO: bicycle_mAP@0.95_foggy: 0.275\n",
      "[2025-08-27 17:10:10,002] INFO: [foggy] batch 140: mAP50 0.3738 (no-imp 6/10)\n"
     ]
    },
    {
     "data": {
      "application/vnd.jupyter.widget-view+json": {
       "model_id": "a6e17228e95746e8b8232261a79a6730",
       "version_major": 2,
       "version_minor": 0
      },
      "text/plain": [
       "  0%|          | 0/166 [00:00<?, ?it/s]"
      ]
     },
     "metadata": {},
     "output_type": "display_data"
    },
    {
     "name": "stderr",
     "output_type": "stream",
     "text": [
      "[2025-08-27 17:15:07,611] INFO: mAP@0.95_foggy: 0.294\n",
      "[2025-08-27 17:15:07,613] INFO: mAP50_foggy: 0.383\n",
      "[2025-08-27 17:15:07,614] INFO: mAP75_foggy: 0.320\n",
      "[2025-08-27 17:15:07,616] INFO: pedestrian_mAP@0.95_foggy: 0.356\n",
      "[2025-08-27 17:15:07,617] INFO: car_mAP@0.95_foggy: 0.295\n",
      "[2025-08-27 17:15:07,618] INFO: truck_mAP@0.95_foggy: 0.301\n",
      "[2025-08-27 17:15:07,619] INFO: bus_mAP@0.95_foggy: 0.203\n",
      "[2025-08-27 17:15:07,620] INFO: motorcycle_mAP@0.95_foggy: 0.310\n",
      "[2025-08-27 17:15:07,621] INFO: bicycle_mAP@0.95_foggy: 0.296\n",
      "[2025-08-27 17:15:07,655] INFO: [foggy] batch 150: mAP50 0.3827 (no-imp 7/10)\n"
     ]
    },
    {
     "data": {
      "application/vnd.jupyter.widget-view+json": {
       "model_id": "a754a5d0eb9647ebb85cad2d1bca733d",
       "version_major": 2,
       "version_minor": 0
      },
      "text/plain": [
       "  0%|          | 0/166 [00:00<?, ?it/s]"
      ]
     },
     "metadata": {},
     "output_type": "display_data"
    },
    {
     "name": "stderr",
     "output_type": "stream",
     "text": [
      "[2025-08-27 17:20:07,941] INFO: mAP@0.95_foggy: 0.297\n",
      "[2025-08-27 17:20:07,945] INFO: mAP50_foggy: 0.386\n",
      "[2025-08-27 17:20:07,946] INFO: mAP75_foggy: 0.320\n",
      "[2025-08-27 17:20:07,947] INFO: pedestrian_mAP@0.95_foggy: 0.356\n",
      "[2025-08-27 17:20:07,948] INFO: car_mAP@0.95_foggy: 0.299\n",
      "[2025-08-27 17:20:07,949] INFO: truck_mAP@0.95_foggy: 0.315\n",
      "[2025-08-27 17:20:07,951] INFO: bus_mAP@0.95_foggy: 0.202\n",
      "[2025-08-27 17:20:07,952] INFO: motorcycle_mAP@0.95_foggy: 0.310\n",
      "[2025-08-27 17:20:07,952] INFO: bicycle_mAP@0.95_foggy: 0.300\n",
      "[2025-08-27 17:20:07,978] INFO: [foggy] batch 160: mAP50 0.3865 (no-imp 8/10)\n"
     ]
    },
    {
     "data": {
      "application/vnd.jupyter.widget-view+json": {
       "model_id": "cda4cf3602f34ad89d048601015d467d",
       "version_major": 2,
       "version_minor": 0
      },
      "text/plain": [
       "  0%|          | 0/166 [00:00<?, ?it/s]"
      ]
     },
     "metadata": {},
     "output_type": "display_data"
    },
    {
     "name": "stderr",
     "output_type": "stream",
     "text": [
      "[2025-08-27 17:25:36,840] INFO: mAP@0.95_foggy: 0.296\n",
      "[2025-08-27 17:25:36,844] INFO: mAP50_foggy: 0.385\n",
      "[2025-08-27 17:25:36,845] INFO: mAP75_foggy: 0.320\n",
      "[2025-08-27 17:25:36,845] INFO: pedestrian_mAP@0.95_foggy: 0.354\n",
      "[2025-08-27 17:25:36,847] INFO: car_mAP@0.95_foggy: 0.299\n",
      "[2025-08-27 17:25:36,848] INFO: truck_mAP@0.95_foggy: 0.314\n",
      "[2025-08-27 17:25:36,848] INFO: bus_mAP@0.95_foggy: 0.203\n",
      "[2025-08-27 17:25:36,850] INFO: motorcycle_mAP@0.95_foggy: 0.309\n",
      "[2025-08-27 17:25:36,851] INFO: bicycle_mAP@0.95_foggy: 0.298\n",
      "[2025-08-27 17:25:36,874] INFO: [foggy] batch 170: mAP50 0.3852 (no-imp 9/10)\n"
     ]
    },
    {
     "data": {
      "application/vnd.jupyter.widget-view+json": {
       "model_id": "ca4c14c13feb4246bd7b59e964abaf3f",
       "version_major": 2,
       "version_minor": 0
      },
      "text/plain": [
       "  0%|          | 0/166 [00:00<?, ?it/s]"
      ]
     },
     "metadata": {},
     "output_type": "display_data"
    },
    {
     "name": "stderr",
     "output_type": "stream",
     "text": [
      "[2025-08-27 17:31:03,491] INFO: mAP@0.95_foggy: 0.297\n",
      "[2025-08-27 17:31:03,495] INFO: mAP50_foggy: 0.387\n",
      "[2025-08-27 17:31:03,496] INFO: mAP75_foggy: 0.321\n",
      "[2025-08-27 17:31:03,497] INFO: pedestrian_mAP@0.95_foggy: 0.356\n",
      "[2025-08-27 17:31:03,498] INFO: car_mAP@0.95_foggy: 0.299\n",
      "[2025-08-27 17:31:03,499] INFO: truck_mAP@0.95_foggy: 0.317\n",
      "[2025-08-27 17:31:03,500] INFO: bus_mAP@0.95_foggy: 0.207\n",
      "[2025-08-27 17:31:03,501] INFO: motorcycle_mAP@0.95_foggy: 0.308\n",
      "[2025-08-27 17:31:03,502] INFO: bicycle_mAP@0.95_foggy: 0.297\n",
      "[2025-08-27 17:31:03,528] INFO: [foggy] batch 180: mAP50 0.3875 (no-imp 10/10)\n",
      "[2025-08-27 17:31:03,530] INFO: [foggy] Early stop at batch 180 (no improvement 10 times).\n"
     ]
    },
    {
     "data": {
      "application/vnd.jupyter.widget-view+json": {
       "model_id": "8afe609a219d4bae8b5a5c1ffa25ba95",
       "version_major": 2,
       "version_minor": 0
      },
      "text/plain": [
       "  0%|          | 0/166 [00:00<?, ?it/s]"
      ]
     },
     "metadata": {},
     "output_type": "display_data"
    },
    {
     "name": "stderr",
     "output_type": "stream",
     "text": [
      "[2025-08-27 17:36:23,041] INFO: mAP@0.95_foggy: 0.309\n",
      "[2025-08-27 17:36:23,045] INFO: mAP50_foggy: 0.401\n",
      "[2025-08-27 17:36:23,046] INFO: mAP75_foggy: 0.332\n",
      "[2025-08-27 17:36:23,047] INFO: pedestrian_mAP@0.95_foggy: 0.365\n",
      "[2025-08-27 17:36:23,048] INFO: car_mAP@0.95_foggy: 0.312\n",
      "[2025-08-27 17:36:23,049] INFO: truck_mAP@0.95_foggy: 0.324\n",
      "[2025-08-27 17:36:23,050] INFO: bus_mAP@0.95_foggy: 0.227\n",
      "[2025-08-27 17:36:23,051] INFO: motorcycle_mAP@0.95_foggy: 0.315\n",
      "[2025-08-27 17:36:23,052] INFO: bicycle_mAP@0.95_foggy: 0.313\n",
      "[2025-08-27 17:36:23,564] INFO: Saved adapted model after task [foggy] → ./norm_checkpoints/model_foggy.pth\n",
      "[2025-08-27 17:36:23,704] INFO: start rainy\n",
      "[2025-08-27 17:36:23,833] INFO: INFO: Downloading 'SHIFT_SUBSET' from file server to /workspace/ptta/data/SHIFT/discrete...\n",
      "[2025-08-27 17:36:23,835] INFO: INFO: Dataset archive found in the root directory. Skipping download.\n",
      "[2025-08-27 17:36:23,870] INFO: INFO: Subset split for 'SHIFT_SUBSET' dataset is already done. Skipping...\n",
      "[2025-08-27 17:36:23,871] INFO: INFO: Downloading 'SHIFT_SUBSET' from file server to /workspace/ptta/data/SHIFT/discrete...\n",
      "[2025-08-27 17:36:23,873] INFO: INFO: Dataset archive found in the root directory. Skipping download.\n",
      "[08/27/2025 17:36:23] SHIFT DevKit - INFO - Base: /workspace/ptta/data/SHIFT/discrete/images/train. Backend: <shift_dev.utils.backend.ZipBackend object at 0x7f01c9a4b8d0>\n",
      "[08/27/2025 17:36:23] SHIFT DevKit - INFO - Loading annotation from '/workspace/ptta/data/SHIFT_SUBSET/rainy_daytime/discrete/images/train/front/det_2d.json' ...\n",
      "[08/27/2025 17:36:25] SHIFT DevKit - INFO - Loading annotation from '/workspace/ptta/data/SHIFT_SUBSET/rainy_daytime/discrete/images/train/front/det_2d.json' Done.\n",
      "[08/27/2025 17:36:34] SHIFT DevKit - INFO - Loading annotation takes 10.26 seconds.\n",
      "[2025-08-27 17:36:34,395] INFO: Batch 0:\n",
      "[2025-08-27 17:36:34,397] INFO: Item                 Shape                               Min        Max       \n",
      "[2025-08-27 17:36:34,399] INFO: --------------------------------------------------------------------------------\n",
      "[2025-08-27 17:36:34,432] INFO: original_hw          [tensor([800]), tensor([1280])]\n",
      "[2025-08-27 17:36:34,434] INFO: input_hw             [tensor([800]), tensor([1280])]\n",
      "[2025-08-27 17:36:34,437] INFO: frame_ids            torch.Size([1])                           0.00       0.00\n",
      "[2025-08-27 17:36:34,438] INFO: name                 ['00000000_img_front.jpg']\n",
      "[2025-08-27 17:36:34,439] INFO: videoName            ['0093-8f1e']\n",
      "[2025-08-27 17:36:34,440] INFO: intrinsics           torch.Size([1, 3, 3])                     0.00     640.00\n",
      "[2025-08-27 17:36:34,441] INFO: extrinsics           torch.Size([1, 4, 4])                    -0.89     392.47\n",
      "[2025-08-27 17:36:34,442] INFO: boxes2d              torch.Size([1, 6, 4])                   267.00     661.00\n",
      "[2025-08-27 17:36:34,443] INFO: boxes2d_classes      torch.Size([1, 6])                        0.00       1.00\n",
      "[2025-08-27 17:36:34,444] INFO: boxes2d_track_ids    torch.Size([1, 6])                        0.00       5.00\n",
      "[2025-08-27 17:36:34,506] INFO: images               torch.Size([1, 1, 3, 800, 1280])          0.00     255.00\n",
      "[2025-08-27 17:36:36,733] INFO: Video name: 0093-8f1e\n",
      "[2025-08-27 17:36:36,734] INFO: Sample indices within a video: [0, 1, 2, 3, 4, 5, 6, 7, 8, 9, 10, 11, 12, 13, 14, 15, 16, 17, 18, 19, 20, 21, 22, 23, 24, 25, 26, 27, 28, 29, 30, 31, 32, 33, 34, 35, 36, 37, 38, 39, 40, 41, 42, 43, 44, 45, 46, 47, 48, 49]\n",
      "[2025-08-27 17:36:36,736] INFO: INFO: Downloading 'SHIFT_SUBSET' from file server to /workspace/ptta/data/SHIFT/discrete...\n",
      "[2025-08-27 17:36:36,738] INFO: INFO: Dataset archive found in the root directory. Skipping download.\n",
      "[2025-08-27 17:36:36,739] INFO: INFO: Subset split for 'SHIFT_SUBSET' dataset is already done. Skipping...\n",
      "[2025-08-27 17:36:36,740] INFO: INFO: Downloading 'SHIFT_SUBSET' from file server to /workspace/ptta/data/SHIFT/discrete...\n",
      "[2025-08-27 17:36:36,741] INFO: INFO: Dataset archive found in the root directory. Skipping download.\n",
      "[08/27/2025 17:36:36] SHIFT DevKit - INFO - Base: /workspace/ptta/data/SHIFT/discrete/images/val. Backend: <shift_dev.utils.backend.ZipBackend object at 0x7f01c9a4b8d0>\n",
      "[08/27/2025 17:36:36] SHIFT DevKit - INFO - Loading annotation from '/workspace/ptta/data/SHIFT_SUBSET/rainy_daytime/discrete/images/val/front/det_2d.json' ...\n",
      "[08/27/2025 17:36:37] SHIFT DevKit - INFO - Loading annotation from '/workspace/ptta/data/SHIFT_SUBSET/rainy_daytime/discrete/images/val/front/det_2d.json' Done.\n",
      "[08/27/2025 17:36:38] SHIFT DevKit - INFO - Loading annotation takes 1.94 seconds.\n",
      "[2025-08-27 17:36:38,767] INFO: Batch 0:\n",
      "[2025-08-27 17:36:38,771] INFO: Item                 Shape                               Min        Max       \n",
      "[2025-08-27 17:36:38,772] INFO: --------------------------------------------------------------------------------\n",
      "[2025-08-27 17:36:38,774] INFO: original_hw          [tensor([800]), tensor([1280])]\n",
      "[2025-08-27 17:36:38,775] INFO: input_hw             [tensor([800]), tensor([1280])]\n",
      "[2025-08-27 17:36:38,776] INFO: frame_ids            torch.Size([1])                           0.00       0.00\n",
      "[2025-08-27 17:36:38,777] INFO: name                 ['00000000_img_front.jpg']\n",
      "[2025-08-27 17:36:38,778] INFO: videoName            ['01cb-e76a']\n",
      "[2025-08-27 17:36:38,779] INFO: intrinsics           torch.Size([1, 3, 3])                     0.00     640.00\n",
      "[2025-08-27 17:36:38,780] INFO: extrinsics           torch.Size([1, 4, 4])                    -2.40      50.31\n",
      "[2025-08-27 17:36:38,781] INFO: boxes2d              torch.Size([1, 19, 4])                   97.00    1248.00\n",
      "[2025-08-27 17:36:38,782] INFO: boxes2d_classes      torch.Size([1, 19])                       0.00       4.00\n",
      "[2025-08-27 17:36:38,783] INFO: boxes2d_track_ids    torch.Size([1, 19])                       0.00      18.00\n",
      "[2025-08-27 17:36:38,786] INFO: images               torch.Size([1, 1, 3, 800, 1280])          0.00     255.00\n",
      "[2025-08-27 17:36:39,175] INFO: Video name: 01cb-e76a\n",
      "[2025-08-27 17:36:39,176] INFO: Sample indices within a video: [0, 1, 2, 3, 4, 5, 6, 7, 8, 9, 10, 11, 12, 13, 14, 15, 16, 17, 18, 19, 20, 21, 22, 23, 24, 25, 26, 27, 28, 29, 30, 31, 32, 33, 34, 35, 36, 37, 38, 39, 40, 41, 42, 43, 44, 45, 46, 47, 48, 49]\n"
     ]
    },
    {
     "data": {
      "application/vnd.jupyter.widget-view+json": {
       "model_id": "f457df6a3bf444f1b03e0210867847f5",
       "version_major": 2,
       "version_minor": 0
      },
      "text/plain": [
       "  0%|          | 0/20600 [00:00<?, ?it/s]"
      ]
     },
     "metadata": {},
     "output_type": "display_data"
    },
    {
     "data": {
      "application/vnd.jupyter.widget-view+json": {
       "model_id": "34efe79c6bc84b7990055b8bdb55dc53",
       "version_major": 2,
       "version_minor": 0
      },
      "text/plain": [
       "  0%|          | 0/200 [00:00<?, ?it/s]"
      ]
     },
     "metadata": {},
     "output_type": "display_data"
    },
    {
     "name": "stderr",
     "output_type": "stream",
     "text": [
      "[2025-08-27 17:42:41,625] INFO: mAP@0.95_rainy: 0.452\n",
      "[2025-08-27 17:42:41,629] INFO: mAP50_rainy: 0.604\n",
      "[2025-08-27 17:42:41,630] INFO: mAP75_rainy: 0.485\n",
      "[2025-08-27 17:42:41,631] INFO: pedestrian_mAP@0.95_rainy: 0.435\n",
      "[2025-08-27 17:42:41,632] INFO: car_mAP@0.95_rainy: 0.529\n",
      "[2025-08-27 17:42:41,633] INFO: truck_mAP@0.95_rainy: 0.567\n",
      "[2025-08-27 17:42:41,634] INFO: bus_mAP@0.95_rainy: 0.331\n",
      "[2025-08-27 17:42:41,635] INFO: motorcycle_mAP@0.95_rainy: 0.434\n",
      "[2025-08-27 17:42:41,636] INFO: bicycle_mAP@0.95_rainy: 0.414\n",
      "[2025-08-27 17:42:41,667] INFO: [rainy] batch 0: mAP50 -1.0000 -> 0.6038 ✔\n"
     ]
    },
    {
     "data": {
      "application/vnd.jupyter.widget-view+json": {
       "model_id": "c38ca0ee53b04a9ebf6c144a4b8a0d5e",
       "version_major": 2,
       "version_minor": 0
      },
      "text/plain": [
       "  0%|          | 0/200 [00:00<?, ?it/s]"
      ]
     },
     "metadata": {},
     "output_type": "display_data"
    },
    {
     "name": "stderr",
     "output_type": "stream",
     "text": [
      "[2025-08-27 17:48:44,311] INFO: mAP@0.95_rainy: 0.458\n",
      "[2025-08-27 17:48:44,315] INFO: mAP50_rainy: 0.608\n",
      "[2025-08-27 17:48:44,317] INFO: mAP75_rainy: 0.495\n",
      "[2025-08-27 17:48:44,318] INFO: pedestrian_mAP@0.95_rainy: 0.446\n",
      "[2025-08-27 17:48:44,320] INFO: car_mAP@0.95_rainy: 0.538\n",
      "[2025-08-27 17:48:44,321] INFO: truck_mAP@0.95_rainy: 0.573\n",
      "[2025-08-27 17:48:44,322] INFO: bus_mAP@0.95_rainy: 0.333\n",
      "[2025-08-27 17:48:44,323] INFO: motorcycle_mAP@0.95_rainy: 0.440\n",
      "[2025-08-27 17:48:44,324] INFO: bicycle_mAP@0.95_rainy: 0.420\n",
      "[2025-08-27 17:48:44,357] INFO: [rainy] batch 10: mAP50 0.6038 -> 0.6080 ✔\n"
     ]
    },
    {
     "data": {
      "application/vnd.jupyter.widget-view+json": {
       "model_id": "af042932d6f440eaafe620aac6d50410",
       "version_major": 2,
       "version_minor": 0
      },
      "text/plain": [
       "  0%|          | 0/200 [00:00<?, ?it/s]"
      ]
     },
     "metadata": {},
     "output_type": "display_data"
    },
    {
     "name": "stderr",
     "output_type": "stream",
     "text": [
      "[2025-08-27 17:54:58,744] INFO: mAP@0.95_rainy: 0.456\n",
      "[2025-08-27 17:54:58,748] INFO: mAP50_rainy: 0.607\n",
      "[2025-08-27 17:54:58,749] INFO: mAP75_rainy: 0.493\n",
      "[2025-08-27 17:54:58,751] INFO: pedestrian_mAP@0.95_rainy: 0.445\n",
      "[2025-08-27 17:54:58,752] INFO: car_mAP@0.95_rainy: 0.533\n",
      "[2025-08-27 17:54:58,753] INFO: truck_mAP@0.95_rainy: 0.572\n",
      "[2025-08-27 17:54:58,754] INFO: bus_mAP@0.95_rainy: 0.332\n",
      "[2025-08-27 17:54:58,755] INFO: motorcycle_mAP@0.95_rainy: 0.436\n",
      "[2025-08-27 17:54:58,756] INFO: bicycle_mAP@0.95_rainy: 0.419\n",
      "[2025-08-27 17:54:58,791] INFO: [rainy] batch 20: mAP50 0.6072 (no-imp 1/10)\n"
     ]
    },
    {
     "data": {
      "application/vnd.jupyter.widget-view+json": {
       "model_id": "f55d0b3546464ffcb264b9eb762bb510",
       "version_major": 2,
       "version_minor": 0
      },
      "text/plain": [
       "  0%|          | 0/200 [00:00<?, ?it/s]"
      ]
     },
     "metadata": {},
     "output_type": "display_data"
    },
    {
     "name": "stderr",
     "output_type": "stream",
     "text": [
      "[2025-08-27 18:01:13,987] INFO: mAP@0.95_rainy: 0.457\n",
      "[2025-08-27 18:01:13,991] INFO: mAP50_rainy: 0.606\n",
      "[2025-08-27 18:01:13,992] INFO: mAP75_rainy: 0.492\n",
      "[2025-08-27 18:01:13,993] INFO: pedestrian_mAP@0.95_rainy: 0.444\n",
      "[2025-08-27 18:01:13,994] INFO: car_mAP@0.95_rainy: 0.536\n",
      "[2025-08-27 18:01:13,995] INFO: truck_mAP@0.95_rainy: 0.574\n",
      "[2025-08-27 18:01:13,996] INFO: bus_mAP@0.95_rainy: 0.334\n",
      "[2025-08-27 18:01:13,997] INFO: motorcycle_mAP@0.95_rainy: 0.437\n",
      "[2025-08-27 18:01:13,998] INFO: bicycle_mAP@0.95_rainy: 0.415\n",
      "[2025-08-27 18:01:14,031] INFO: [rainy] batch 30: mAP50 0.6063 (no-imp 2/10)\n"
     ]
    },
    {
     "data": {
      "application/vnd.jupyter.widget-view+json": {
       "model_id": "d97c68ffd6a3409c8406daebd7ab7a7a",
       "version_major": 2,
       "version_minor": 0
      },
      "text/plain": [
       "  0%|          | 0/200 [00:00<?, ?it/s]"
      ]
     },
     "metadata": {},
     "output_type": "display_data"
    },
    {
     "name": "stderr",
     "output_type": "stream",
     "text": [
      "[2025-08-27 18:07:13,809] INFO: mAP@0.95_rainy: 0.455\n",
      "[2025-08-27 18:07:13,814] INFO: mAP50_rainy: 0.604\n",
      "[2025-08-27 18:07:13,815] INFO: mAP75_rainy: 0.491\n",
      "[2025-08-27 18:07:13,816] INFO: pedestrian_mAP@0.95_rainy: 0.438\n",
      "[2025-08-27 18:07:13,817] INFO: car_mAP@0.95_rainy: 0.536\n",
      "[2025-08-27 18:07:13,817] INFO: truck_mAP@0.95_rainy: 0.573\n",
      "[2025-08-27 18:07:13,818] INFO: bus_mAP@0.95_rainy: 0.325\n",
      "[2025-08-27 18:07:13,819] INFO: motorcycle_mAP@0.95_rainy: 0.440\n",
      "[2025-08-27 18:07:13,820] INFO: bicycle_mAP@0.95_rainy: 0.418\n",
      "[2025-08-27 18:07:13,848] INFO: [rainy] batch 40: mAP50 0.6042 (no-imp 3/10)\n"
     ]
    },
    {
     "data": {
      "application/vnd.jupyter.widget-view+json": {
       "model_id": "e20c062f714347a4a5ec097be713cd6e",
       "version_major": 2,
       "version_minor": 0
      },
      "text/plain": [
       "  0%|          | 0/200 [00:00<?, ?it/s]"
      ]
     },
     "metadata": {},
     "output_type": "display_data"
    },
    {
     "name": "stderr",
     "output_type": "stream",
     "text": [
      "[2025-08-27 18:13:13,920] INFO: mAP@0.95_rainy: 0.456\n",
      "[2025-08-27 18:13:13,923] INFO: mAP50_rainy: 0.605\n",
      "[2025-08-27 18:13:13,924] INFO: mAP75_rainy: 0.491\n",
      "[2025-08-27 18:13:13,925] INFO: pedestrian_mAP@0.95_rainy: 0.438\n",
      "[2025-08-27 18:13:13,926] INFO: car_mAP@0.95_rainy: 0.537\n",
      "[2025-08-27 18:13:13,927] INFO: truck_mAP@0.95_rainy: 0.573\n",
      "[2025-08-27 18:13:13,928] INFO: bus_mAP@0.95_rainy: 0.329\n",
      "[2025-08-27 18:13:13,928] INFO: motorcycle_mAP@0.95_rainy: 0.440\n",
      "[2025-08-27 18:13:13,929] INFO: bicycle_mAP@0.95_rainy: 0.419\n",
      "[2025-08-27 18:13:13,965] INFO: [rainy] batch 50: mAP50 0.6055 (no-imp 4/10)\n"
     ]
    },
    {
     "data": {
      "application/vnd.jupyter.widget-view+json": {
       "model_id": "c02c17ae119543cd9077df3e33fe6f5e",
       "version_major": 2,
       "version_minor": 0
      },
      "text/plain": [
       "  0%|          | 0/200 [00:00<?, ?it/s]"
      ]
     },
     "metadata": {},
     "output_type": "display_data"
    },
    {
     "name": "stderr",
     "output_type": "stream",
     "text": [
      "[2025-08-27 18:19:30,148] INFO: mAP@0.95_rainy: 0.454\n",
      "[2025-08-27 18:19:30,152] INFO: mAP50_rainy: 0.607\n",
      "[2025-08-27 18:19:30,154] INFO: mAP75_rainy: 0.488\n",
      "[2025-08-27 18:19:30,155] INFO: pedestrian_mAP@0.95_rainy: 0.440\n",
      "[2025-08-27 18:19:30,156] INFO: car_mAP@0.95_rainy: 0.532\n",
      "[2025-08-27 18:19:30,157] INFO: truck_mAP@0.95_rainy: 0.570\n",
      "[2025-08-27 18:19:30,158] INFO: bus_mAP@0.95_rainy: 0.324\n",
      "[2025-08-27 18:19:30,159] INFO: motorcycle_mAP@0.95_rainy: 0.435\n",
      "[2025-08-27 18:19:30,160] INFO: bicycle_mAP@0.95_rainy: 0.422\n",
      "[2025-08-27 18:19:30,192] INFO: [rainy] batch 60: mAP50 0.6071 (no-imp 5/10)\n"
     ]
    },
    {
     "data": {
      "application/vnd.jupyter.widget-view+json": {
       "model_id": "ca00984658c840bc837d421dd89cc848",
       "version_major": 2,
       "version_minor": 0
      },
      "text/plain": [
       "  0%|          | 0/200 [00:00<?, ?it/s]"
      ]
     },
     "metadata": {},
     "output_type": "display_data"
    },
    {
     "name": "stderr",
     "output_type": "stream",
     "text": [
      "[2025-08-27 18:27:41,628] INFO: mAP@0.95_rainy: 0.448\n",
      "[2025-08-27 18:27:41,641] INFO: mAP50_rainy: 0.602\n",
      "[2025-08-27 18:27:41,642] INFO: mAP75_rainy: 0.483\n",
      "[2025-08-27 18:27:41,643] INFO: pedestrian_mAP@0.95_rainy: 0.436\n",
      "[2025-08-27 18:27:41,644] INFO: car_mAP@0.95_rainy: 0.522\n",
      "[2025-08-27 18:27:41,645] INFO: truck_mAP@0.95_rainy: 0.559\n",
      "[2025-08-27 18:27:41,646] INFO: bus_mAP@0.95_rainy: 0.311\n",
      "[2025-08-27 18:27:41,647] INFO: motorcycle_mAP@0.95_rainy: 0.434\n",
      "[2025-08-27 18:27:41,648] INFO: bicycle_mAP@0.95_rainy: 0.423\n",
      "[2025-08-27 18:27:41,679] INFO: [rainy] batch 70: mAP50 0.6015 (no-imp 6/10)\n"
     ]
    },
    {
     "data": {
      "application/vnd.jupyter.widget-view+json": {
       "model_id": "17d59f6fefe644f6ae49de20ae0e88e6",
       "version_major": 2,
       "version_minor": 0
      },
      "text/plain": [
       "  0%|          | 0/200 [00:00<?, ?it/s]"
      ]
     },
     "metadata": {},
     "output_type": "display_data"
    },
    {
     "name": "stderr",
     "output_type": "stream",
     "text": [
      "[2025-08-27 18:34:03,301] INFO: mAP@0.95_rainy: 0.450\n",
      "[2025-08-27 18:34:03,305] INFO: mAP50_rainy: 0.603\n",
      "[2025-08-27 18:34:03,306] INFO: mAP75_rainy: 0.486\n",
      "[2025-08-27 18:34:03,307] INFO: pedestrian_mAP@0.95_rainy: 0.433\n",
      "[2025-08-27 18:34:03,308] INFO: car_mAP@0.95_rainy: 0.527\n",
      "[2025-08-27 18:34:03,309] INFO: truck_mAP@0.95_rainy: 0.565\n",
      "[2025-08-27 18:34:03,310] INFO: bus_mAP@0.95_rainy: 0.322\n",
      "[2025-08-27 18:34:03,311] INFO: motorcycle_mAP@0.95_rainy: 0.436\n",
      "[2025-08-27 18:34:03,312] INFO: bicycle_mAP@0.95_rainy: 0.420\n",
      "[2025-08-27 18:34:03,345] INFO: [rainy] batch 80: mAP50 0.6027 (no-imp 7/10)\n"
     ]
    },
    {
     "data": {
      "application/vnd.jupyter.widget-view+json": {
       "model_id": "7affe7e3ac6b43ef99246bb8f19569f4",
       "version_major": 2,
       "version_minor": 0
      },
      "text/plain": [
       "  0%|          | 0/200 [00:00<?, ?it/s]"
      ]
     },
     "metadata": {},
     "output_type": "display_data"
    },
    {
     "name": "stderr",
     "output_type": "stream",
     "text": [
      "[2025-08-27 18:40:35,029] INFO: mAP@0.95_rainy: 0.453\n",
      "[2025-08-27 18:40:35,034] INFO: mAP50_rainy: 0.607\n",
      "[2025-08-27 18:40:35,035] INFO: mAP75_rainy: 0.489\n",
      "[2025-08-27 18:40:35,036] INFO: pedestrian_mAP@0.95_rainy: 0.438\n",
      "[2025-08-27 18:40:35,037] INFO: car_mAP@0.95_rainy: 0.531\n",
      "[2025-08-27 18:40:35,038] INFO: truck_mAP@0.95_rainy: 0.570\n",
      "[2025-08-27 18:40:35,039] INFO: bus_mAP@0.95_rainy: 0.325\n",
      "[2025-08-27 18:40:35,040] INFO: motorcycle_mAP@0.95_rainy: 0.437\n",
      "[2025-08-27 18:40:35,041] INFO: bicycle_mAP@0.95_rainy: 0.419\n",
      "[2025-08-27 18:40:35,074] INFO: [rainy] batch 90: mAP50 0.6068 (no-imp 8/10)\n"
     ]
    },
    {
     "data": {
      "application/vnd.jupyter.widget-view+json": {
       "model_id": "c572f4bae46c44729737df21e637102b",
       "version_major": 2,
       "version_minor": 0
      },
      "text/plain": [
       "  0%|          | 0/200 [00:00<?, ?it/s]"
      ]
     },
     "metadata": {},
     "output_type": "display_data"
    },
    {
     "name": "stderr",
     "output_type": "stream",
     "text": [
      "[2025-08-27 18:47:00,699] INFO: mAP@0.95_rainy: 0.452\n",
      "[2025-08-27 18:47:00,705] INFO: mAP50_rainy: 0.607\n",
      "[2025-08-27 18:47:00,712] INFO: mAP75_rainy: 0.487\n",
      "[2025-08-27 18:47:00,715] INFO: pedestrian_mAP@0.95_rainy: 0.438\n",
      "[2025-08-27 18:47:00,720] INFO: car_mAP@0.95_rainy: 0.530\n",
      "[2025-08-27 18:47:00,723] INFO: truck_mAP@0.95_rainy: 0.565\n",
      "[2025-08-27 18:47:00,727] INFO: bus_mAP@0.95_rainy: 0.323\n",
      "[2025-08-27 18:47:00,731] INFO: motorcycle_mAP@0.95_rainy: 0.436\n",
      "[2025-08-27 18:47:00,735] INFO: bicycle_mAP@0.95_rainy: 0.420\n",
      "[2025-08-27 18:47:00,790] INFO: [rainy] batch 100: mAP50 0.6066 (no-imp 9/10)\n"
     ]
    },
    {
     "data": {
      "application/vnd.jupyter.widget-view+json": {
       "model_id": "9f81fa1787344308a396eab766c66190",
       "version_major": 2,
       "version_minor": 0
      },
      "text/plain": [
       "  0%|          | 0/200 [00:00<?, ?it/s]"
      ]
     },
     "metadata": {},
     "output_type": "display_data"
    },
    {
     "name": "stderr",
     "output_type": "stream",
     "text": [
      "[2025-08-27 18:53:25,154] INFO: mAP@0.95_rainy: 0.452\n",
      "[2025-08-27 18:53:25,159] INFO: mAP50_rainy: 0.608\n",
      "[2025-08-27 18:53:25,160] INFO: mAP75_rainy: 0.485\n",
      "[2025-08-27 18:53:25,161] INFO: pedestrian_mAP@0.95_rainy: 0.436\n",
      "[2025-08-27 18:53:25,163] INFO: car_mAP@0.95_rainy: 0.526\n",
      "[2025-08-27 18:53:25,164] INFO: truck_mAP@0.95_rainy: 0.569\n",
      "[2025-08-27 18:53:25,165] INFO: bus_mAP@0.95_rainy: 0.332\n",
      "[2025-08-27 18:53:25,167] INFO: motorcycle_mAP@0.95_rainy: 0.435\n",
      "[2025-08-27 18:53:25,168] INFO: bicycle_mAP@0.95_rainy: 0.417\n",
      "[2025-08-27 18:53:25,203] INFO: [rainy] batch 110: mAP50 0.6080 -> 0.6082 ✔\n"
     ]
    },
    {
     "data": {
      "application/vnd.jupyter.widget-view+json": {
       "model_id": "a7ca7eef49f0480b9c86b77a84b41c82",
       "version_major": 2,
       "version_minor": 0
      },
      "text/plain": [
       "  0%|          | 0/200 [00:00<?, ?it/s]"
      ]
     },
     "metadata": {},
     "output_type": "display_data"
    },
    {
     "name": "stderr",
     "output_type": "stream",
     "text": [
      "[2025-08-27 18:59:55,859] INFO: mAP@0.95_rainy: 0.453\n",
      "[2025-08-27 18:59:55,861] INFO: mAP50_rainy: 0.609\n",
      "[2025-08-27 18:59:55,862] INFO: mAP75_rainy: 0.485\n",
      "[2025-08-27 18:59:55,864] INFO: pedestrian_mAP@0.95_rainy: 0.437\n",
      "[2025-08-27 18:59:55,866] INFO: car_mAP@0.95_rainy: 0.528\n",
      "[2025-08-27 18:59:55,867] INFO: truck_mAP@0.95_rainy: 0.571\n",
      "[2025-08-27 18:59:55,868] INFO: bus_mAP@0.95_rainy: 0.329\n",
      "[2025-08-27 18:59:55,870] INFO: motorcycle_mAP@0.95_rainy: 0.436\n",
      "[2025-08-27 18:59:55,871] INFO: bicycle_mAP@0.95_rainy: 0.416\n",
      "[2025-08-27 18:59:55,902] INFO: [rainy] batch 120: mAP50 0.6082 -> 0.6085 ✔\n"
     ]
    },
    {
     "data": {
      "application/vnd.jupyter.widget-view+json": {
       "model_id": "3d0c0d6f9d794e1bb28709c7f859e858",
       "version_major": 2,
       "version_minor": 0
      },
      "text/plain": [
       "  0%|          | 0/200 [00:00<?, ?it/s]"
      ]
     },
     "metadata": {},
     "output_type": "display_data"
    },
    {
     "name": "stderr",
     "output_type": "stream",
     "text": [
      "[2025-08-27 19:07:01,587] INFO: mAP@0.95_rainy: 0.453\n",
      "[2025-08-27 19:07:01,591] INFO: mAP50_rainy: 0.608\n",
      "[2025-08-27 19:07:01,592] INFO: mAP75_rainy: 0.485\n",
      "[2025-08-27 19:07:01,593] INFO: pedestrian_mAP@0.95_rainy: 0.436\n",
      "[2025-08-27 19:07:01,594] INFO: car_mAP@0.95_rainy: 0.528\n",
      "[2025-08-27 19:07:01,595] INFO: truck_mAP@0.95_rainy: 0.570\n",
      "[2025-08-27 19:07:01,596] INFO: bus_mAP@0.95_rainy: 0.331\n",
      "[2025-08-27 19:07:01,596] INFO: motorcycle_mAP@0.95_rainy: 0.436\n",
      "[2025-08-27 19:07:01,598] INFO: bicycle_mAP@0.95_rainy: 0.415\n",
      "[2025-08-27 19:07:01,630] INFO: [rainy] batch 130: mAP50 0.6077 (no-imp 1/10)\n"
     ]
    },
    {
     "data": {
      "application/vnd.jupyter.widget-view+json": {
       "model_id": "70be88b2c27e49969afe6375b1910968",
       "version_major": 2,
       "version_minor": 0
      },
      "text/plain": [
       "  0%|          | 0/200 [00:00<?, ?it/s]"
      ]
     },
     "metadata": {},
     "output_type": "display_data"
    },
    {
     "name": "stderr",
     "output_type": "stream",
     "text": [
      "[2025-08-27 19:13:59,254] INFO: mAP@0.95_rainy: 0.455\n",
      "[2025-08-27 19:13:59,258] INFO: mAP50_rainy: 0.608\n",
      "[2025-08-27 19:13:59,259] INFO: mAP75_rainy: 0.489\n",
      "[2025-08-27 19:13:59,261] INFO: pedestrian_mAP@0.95_rainy: 0.437\n",
      "[2025-08-27 19:13:59,262] INFO: car_mAP@0.95_rainy: 0.530\n",
      "[2025-08-27 19:13:59,263] INFO: truck_mAP@0.95_rainy: 0.572\n",
      "[2025-08-27 19:13:59,264] INFO: bus_mAP@0.95_rainy: 0.335\n",
      "[2025-08-27 19:13:59,265] INFO: motorcycle_mAP@0.95_rainy: 0.436\n",
      "[2025-08-27 19:13:59,266] INFO: bicycle_mAP@0.95_rainy: 0.416\n",
      "[2025-08-27 19:13:59,299] INFO: [rainy] batch 140: mAP50 0.6082 (no-imp 2/10)\n"
     ]
    },
    {
     "data": {
      "application/vnd.jupyter.widget-view+json": {
       "model_id": "b2d233a09c9642b4ad64010fd2d39a5c",
       "version_major": 2,
       "version_minor": 0
      },
      "text/plain": [
       "  0%|          | 0/200 [00:00<?, ?it/s]"
      ]
     },
     "metadata": {},
     "output_type": "display_data"
    },
    {
     "name": "stderr",
     "output_type": "stream",
     "text": [
      "[2025-08-27 19:20:31,771] INFO: mAP@0.95_rainy: 0.454\n",
      "[2025-08-27 19:20:31,775] INFO: mAP50_rainy: 0.609\n",
      "[2025-08-27 19:20:31,776] INFO: mAP75_rainy: 0.489\n",
      "[2025-08-27 19:20:31,778] INFO: pedestrian_mAP@0.95_rainy: 0.440\n",
      "[2025-08-27 19:20:31,779] INFO: car_mAP@0.95_rainy: 0.530\n",
      "[2025-08-27 19:20:31,780] INFO: truck_mAP@0.95_rainy: 0.572\n",
      "[2025-08-27 19:20:31,783] INFO: bus_mAP@0.95_rainy: 0.333\n",
      "[2025-08-27 19:20:31,784] INFO: motorcycle_mAP@0.95_rainy: 0.435\n",
      "[2025-08-27 19:20:31,786] INFO: bicycle_mAP@0.95_rainy: 0.416\n",
      "[2025-08-27 19:20:31,819] INFO: [rainy] batch 150: mAP50 0.6085 -> 0.6090 ✔\n"
     ]
    },
    {
     "data": {
      "application/vnd.jupyter.widget-view+json": {
       "model_id": "74586ac279c3480c8c7d674c298b4a7e",
       "version_major": 2,
       "version_minor": 0
      },
      "text/plain": [
       "  0%|          | 0/200 [00:00<?, ?it/s]"
      ]
     },
     "metadata": {},
     "output_type": "display_data"
    },
    {
     "name": "stderr",
     "output_type": "stream",
     "text": [
      "[2025-08-27 19:26:53,128] INFO: mAP@0.95_rainy: 0.453\n",
      "[2025-08-27 19:26:53,132] INFO: mAP50_rainy: 0.610\n",
      "[2025-08-27 19:26:53,133] INFO: mAP75_rainy: 0.488\n",
      "[2025-08-27 19:26:53,134] INFO: pedestrian_mAP@0.95_rainy: 0.437\n",
      "[2025-08-27 19:26:53,135] INFO: car_mAP@0.95_rainy: 0.529\n",
      "[2025-08-27 19:26:53,136] INFO: truck_mAP@0.95_rainy: 0.572\n",
      "[2025-08-27 19:26:53,137] INFO: bus_mAP@0.95_rainy: 0.329\n",
      "[2025-08-27 19:26:53,138] INFO: motorcycle_mAP@0.95_rainy: 0.436\n",
      "[2025-08-27 19:26:53,139] INFO: bicycle_mAP@0.95_rainy: 0.416\n",
      "[2025-08-27 19:26:53,177] INFO: [rainy] batch 160: mAP50 0.6090 -> 0.6100 ✔\n"
     ]
    },
    {
     "data": {
      "application/vnd.jupyter.widget-view+json": {
       "model_id": "9458852edf5149e8a2e72bc2c06ad953",
       "version_major": 2,
       "version_minor": 0
      },
      "text/plain": [
       "  0%|          | 0/200 [00:00<?, ?it/s]"
      ]
     },
     "metadata": {},
     "output_type": "display_data"
    },
    {
     "name": "stderr",
     "output_type": "stream",
     "text": [
      "[2025-08-27 19:33:39,716] INFO: mAP@0.95_rainy: 0.452\n",
      "[2025-08-27 19:33:39,719] INFO: mAP50_rainy: 0.609\n",
      "[2025-08-27 19:33:39,720] INFO: mAP75_rainy: 0.486\n",
      "[2025-08-27 19:33:39,721] INFO: pedestrian_mAP@0.95_rainy: 0.434\n",
      "[2025-08-27 19:33:39,723] INFO: car_mAP@0.95_rainy: 0.528\n",
      "[2025-08-27 19:33:39,723] INFO: truck_mAP@0.95_rainy: 0.572\n",
      "[2025-08-27 19:33:39,725] INFO: bus_mAP@0.95_rainy: 0.324\n",
      "[2025-08-27 19:33:39,726] INFO: motorcycle_mAP@0.95_rainy: 0.438\n",
      "[2025-08-27 19:33:39,728] INFO: bicycle_mAP@0.95_rainy: 0.414\n",
      "[2025-08-27 19:33:39,768] INFO: [rainy] batch 170: mAP50 0.6088 (no-imp 1/10)\n"
     ]
    },
    {
     "data": {
      "application/vnd.jupyter.widget-view+json": {
       "model_id": "973351255eb74e7a921cecccbb4ff3cc",
       "version_major": 2,
       "version_minor": 0
      },
      "text/plain": [
       "  0%|          | 0/200 [00:00<?, ?it/s]"
      ]
     },
     "metadata": {},
     "output_type": "display_data"
    },
    {
     "name": "stderr",
     "output_type": "stream",
     "text": [
      "[2025-08-27 19:39:53,165] INFO: mAP@0.95_rainy: 0.453\n",
      "[2025-08-27 19:39:53,168] INFO: mAP50_rainy: 0.610\n",
      "[2025-08-27 19:39:53,169] INFO: mAP75_rainy: 0.487\n",
      "[2025-08-27 19:39:53,170] INFO: pedestrian_mAP@0.95_rainy: 0.433\n",
      "[2025-08-27 19:39:53,171] INFO: car_mAP@0.95_rainy: 0.530\n",
      "[2025-08-27 19:39:53,172] INFO: truck_mAP@0.95_rainy: 0.572\n",
      "[2025-08-27 19:39:53,172] INFO: bus_mAP@0.95_rainy: 0.328\n",
      "[2025-08-27 19:39:53,173] INFO: motorcycle_mAP@0.95_rainy: 0.439\n",
      "[2025-08-27 19:39:53,174] INFO: bicycle_mAP@0.95_rainy: 0.415\n",
      "[2025-08-27 19:39:53,201] INFO: [rainy] batch 180: mAP50 0.6095 (no-imp 2/10)\n"
     ]
    },
    {
     "data": {
      "application/vnd.jupyter.widget-view+json": {
       "model_id": "2a648bd5a61b41308484c6fce71c8c56",
       "version_major": 2,
       "version_minor": 0
      },
      "text/plain": [
       "  0%|          | 0/200 [00:00<?, ?it/s]"
      ]
     },
     "metadata": {},
     "output_type": "display_data"
    },
    {
     "name": "stderr",
     "output_type": "stream",
     "text": [
      "[2025-08-27 19:46:03,446] INFO: mAP@0.95_rainy: 0.453\n",
      "[2025-08-27 19:46:03,448] INFO: mAP50_rainy: 0.610\n",
      "[2025-08-27 19:46:03,449] INFO: mAP75_rainy: 0.487\n",
      "[2025-08-27 19:46:03,450] INFO: pedestrian_mAP@0.95_rainy: 0.435\n",
      "[2025-08-27 19:46:03,451] INFO: car_mAP@0.95_rainy: 0.529\n",
      "[2025-08-27 19:46:03,452] INFO: truck_mAP@0.95_rainy: 0.572\n",
      "[2025-08-27 19:46:03,453] INFO: bus_mAP@0.95_rainy: 0.329\n",
      "[2025-08-27 19:46:03,453] INFO: motorcycle_mAP@0.95_rainy: 0.436\n",
      "[2025-08-27 19:46:03,454] INFO: bicycle_mAP@0.95_rainy: 0.416\n",
      "[2025-08-27 19:46:03,484] INFO: [rainy] batch 190: mAP50 0.6100 -> 0.6100 ✔\n"
     ]
    },
    {
     "data": {
      "application/vnd.jupyter.widget-view+json": {
       "model_id": "db34a84ee75c4440923f6674d047dac8",
       "version_major": 2,
       "version_minor": 0
      },
      "text/plain": [
       "  0%|          | 0/200 [00:00<?, ?it/s]"
      ]
     },
     "metadata": {},
     "output_type": "display_data"
    },
    {
     "name": "stderr",
     "output_type": "stream",
     "text": [
      "[2025-08-27 19:52:36,328] INFO: mAP@0.95_rainy: 0.452\n",
      "[2025-08-27 19:52:36,344] INFO: mAP50_rainy: 0.608\n",
      "[2025-08-27 19:52:36,346] INFO: mAP75_rainy: 0.486\n",
      "[2025-08-27 19:52:36,368] INFO: pedestrian_mAP@0.95_rainy: 0.435\n",
      "[2025-08-27 19:52:36,370] INFO: car_mAP@0.95_rainy: 0.529\n",
      "[2025-08-27 19:52:36,371] INFO: truck_mAP@0.95_rainy: 0.572\n",
      "[2025-08-27 19:52:36,371] INFO: bus_mAP@0.95_rainy: 0.326\n",
      "[2025-08-27 19:52:36,372] INFO: motorcycle_mAP@0.95_rainy: 0.436\n",
      "[2025-08-27 19:52:36,373] INFO: bicycle_mAP@0.95_rainy: 0.416\n",
      "[2025-08-27 19:52:36,488] INFO: [rainy] batch 200: mAP50 0.6083 (no-imp 1/10)\n"
     ]
    },
    {
     "data": {
      "application/vnd.jupyter.widget-view+json": {
       "model_id": "49d43a691f8a48f28162dc5698f6f404",
       "version_major": 2,
       "version_minor": 0
      },
      "text/plain": [
       "  0%|          | 0/200 [00:00<?, ?it/s]"
      ]
     },
     "metadata": {},
     "output_type": "display_data"
    },
    {
     "name": "stderr",
     "output_type": "stream",
     "text": [
      "[2025-08-27 20:03:26,503] INFO: mAP@0.95_rainy: 0.455\n",
      "[2025-08-27 20:03:26,509] INFO: mAP50_rainy: 0.608\n",
      "[2025-08-27 20:03:26,511] INFO: mAP75_rainy: 0.492\n",
      "[2025-08-27 20:03:26,512] INFO: pedestrian_mAP@0.95_rainy: 0.443\n",
      "[2025-08-27 20:03:26,512] INFO: car_mAP@0.95_rainy: 0.535\n",
      "[2025-08-27 20:03:26,513] INFO: truck_mAP@0.95_rainy: 0.568\n",
      "[2025-08-27 20:03:26,514] INFO: bus_mAP@0.95_rainy: 0.324\n",
      "[2025-08-27 20:03:26,515] INFO: motorcycle_mAP@0.95_rainy: 0.437\n",
      "[2025-08-27 20:03:26,516] INFO: bicycle_mAP@0.95_rainy: 0.421\n",
      "[2025-08-27 20:03:26,549] INFO: [rainy] batch 210: mAP50 0.6079 (no-imp 2/10)\n"
     ]
    },
    {
     "data": {
      "application/vnd.jupyter.widget-view+json": {
       "model_id": "f6459fbb4da64bdd83dbfbc4ac8a9f9e",
       "version_major": 2,
       "version_minor": 0
      },
      "text/plain": [
       "  0%|          | 0/200 [00:00<?, ?it/s]"
      ]
     },
     "metadata": {},
     "output_type": "display_data"
    },
    {
     "name": "stderr",
     "output_type": "stream",
     "text": [
      "[2025-08-27 20:12:25,490] INFO: mAP@0.95_rainy: 0.453\n",
      "[2025-08-27 20:12:25,494] INFO: mAP50_rainy: 0.605\n",
      "[2025-08-27 20:12:25,495] INFO: mAP75_rainy: 0.491\n",
      "[2025-08-27 20:12:25,496] INFO: pedestrian_mAP@0.95_rainy: 0.436\n",
      "[2025-08-27 20:12:25,497] INFO: car_mAP@0.95_rainy: 0.532\n",
      "[2025-08-27 20:12:25,498] INFO: truck_mAP@0.95_rainy: 0.567\n",
      "[2025-08-27 20:12:25,499] INFO: bus_mAP@0.95_rainy: 0.325\n",
      "[2025-08-27 20:12:25,500] INFO: motorcycle_mAP@0.95_rainy: 0.440\n",
      "[2025-08-27 20:12:25,501] INFO: bicycle_mAP@0.95_rainy: 0.419\n",
      "[2025-08-27 20:12:25,532] INFO: [rainy] batch 220: mAP50 0.6052 (no-imp 3/10)\n"
     ]
    },
    {
     "data": {
      "application/vnd.jupyter.widget-view+json": {
       "model_id": "45e869c7864442d4b533cbd3e0a67e05",
       "version_major": 2,
       "version_minor": 0
      },
      "text/plain": [
       "  0%|          | 0/200 [00:00<?, ?it/s]"
      ]
     },
     "metadata": {},
     "output_type": "display_data"
    },
    {
     "name": "stderr",
     "output_type": "stream",
     "text": [
      "[2025-08-27 20:18:25,611] INFO: mAP@0.95_rainy: 0.450\n",
      "[2025-08-27 20:18:25,615] INFO: mAP50_rainy: 0.602\n",
      "[2025-08-27 20:18:25,616] INFO: mAP75_rainy: 0.487\n",
      "[2025-08-27 20:18:25,617] INFO: pedestrian_mAP@0.95_rainy: 0.432\n",
      "[2025-08-27 20:18:25,618] INFO: car_mAP@0.95_rainy: 0.529\n",
      "[2025-08-27 20:18:25,619] INFO: truck_mAP@0.95_rainy: 0.565\n",
      "[2025-08-27 20:18:25,620] INFO: bus_mAP@0.95_rainy: 0.321\n",
      "[2025-08-27 20:18:25,621] INFO: motorcycle_mAP@0.95_rainy: 0.437\n",
      "[2025-08-27 20:18:25,621] INFO: bicycle_mAP@0.95_rainy: 0.416\n",
      "[2025-08-27 20:18:25,653] INFO: [rainy] batch 230: mAP50 0.6019 (no-imp 4/10)\n"
     ]
    },
    {
     "data": {
      "application/vnd.jupyter.widget-view+json": {
       "model_id": "915e238542704666819cbdbbfbf2657b",
       "version_major": 2,
       "version_minor": 0
      },
      "text/plain": [
       "  0%|          | 0/200 [00:00<?, ?it/s]"
      ]
     },
     "metadata": {},
     "output_type": "display_data"
    },
    {
     "name": "stderr",
     "output_type": "stream",
     "text": [
      "[2025-08-27 20:25:08,185] INFO: mAP@0.95_rainy: 0.450\n",
      "[2025-08-27 20:25:08,188] INFO: mAP50_rainy: 0.601\n",
      "[2025-08-27 20:25:08,189] INFO: mAP75_rainy: 0.488\n",
      "[2025-08-27 20:25:08,190] INFO: pedestrian_mAP@0.95_rainy: 0.434\n",
      "[2025-08-27 20:25:08,191] INFO: car_mAP@0.95_rainy: 0.526\n",
      "[2025-08-27 20:25:08,192] INFO: truck_mAP@0.95_rainy: 0.564\n",
      "[2025-08-27 20:25:08,193] INFO: bus_mAP@0.95_rainy: 0.320\n",
      "[2025-08-27 20:25:08,194] INFO: motorcycle_mAP@0.95_rainy: 0.438\n",
      "[2025-08-27 20:25:08,195] INFO: bicycle_mAP@0.95_rainy: 0.416\n",
      "[2025-08-27 20:25:08,227] INFO: [rainy] batch 240: mAP50 0.6008 (no-imp 5/10)\n"
     ]
    },
    {
     "data": {
      "application/vnd.jupyter.widget-view+json": {
       "model_id": "401a69aba48a444bba7882225afac187",
       "version_major": 2,
       "version_minor": 0
      },
      "text/plain": [
       "  0%|          | 0/200 [00:00<?, ?it/s]"
      ]
     },
     "metadata": {},
     "output_type": "display_data"
    },
    {
     "name": "stderr",
     "output_type": "stream",
     "text": [
      "[2025-08-27 20:31:51,918] INFO: mAP@0.95_rainy: 0.449\n",
      "[2025-08-27 20:31:51,922] INFO: mAP50_rainy: 0.600\n",
      "[2025-08-27 20:31:51,923] INFO: mAP75_rainy: 0.486\n",
      "[2025-08-27 20:31:51,924] INFO: pedestrian_mAP@0.95_rainy: 0.434\n",
      "[2025-08-27 20:31:51,925] INFO: car_mAP@0.95_rainy: 0.523\n",
      "[2025-08-27 20:31:51,926] INFO: truck_mAP@0.95_rainy: 0.561\n",
      "[2025-08-27 20:31:51,927] INFO: bus_mAP@0.95_rainy: 0.323\n",
      "[2025-08-27 20:31:51,928] INFO: motorcycle_mAP@0.95_rainy: 0.437\n",
      "[2025-08-27 20:31:51,929] INFO: bicycle_mAP@0.95_rainy: 0.418\n",
      "[2025-08-27 20:31:51,961] INFO: [rainy] batch 250: mAP50 0.6004 (no-imp 6/10)\n"
     ]
    },
    {
     "data": {
      "application/vnd.jupyter.widget-view+json": {
       "model_id": "45abf359a5534691a33250c59eeff9fc",
       "version_major": 2,
       "version_minor": 0
      },
      "text/plain": [
       "  0%|          | 0/200 [00:00<?, ?it/s]"
      ]
     },
     "metadata": {},
     "output_type": "display_data"
    },
    {
     "name": "stderr",
     "output_type": "stream",
     "text": [
      "[2025-08-27 20:38:37,619] INFO: mAP@0.95_rainy: 0.454\n",
      "[2025-08-27 20:38:37,622] INFO: mAP50_rainy: 0.608\n",
      "[2025-08-27 20:38:37,624] INFO: mAP75_rainy: 0.489\n",
      "[2025-08-27 20:38:37,625] INFO: pedestrian_mAP@0.95_rainy: 0.438\n",
      "[2025-08-27 20:38:37,626] INFO: car_mAP@0.95_rainy: 0.530\n",
      "[2025-08-27 20:38:37,627] INFO: truck_mAP@0.95_rainy: 0.571\n",
      "[2025-08-27 20:38:37,628] INFO: bus_mAP@0.95_rainy: 0.333\n",
      "[2025-08-27 20:38:37,629] INFO: motorcycle_mAP@0.95_rainy: 0.435\n",
      "[2025-08-27 20:38:37,630] INFO: bicycle_mAP@0.95_rainy: 0.416\n",
      "[2025-08-27 20:38:37,661] INFO: [rainy] batch 260: mAP50 0.6078 (no-imp 7/10)\n"
     ]
    },
    {
     "data": {
      "application/vnd.jupyter.widget-view+json": {
       "model_id": "8eaf9458e08a43f5ba110841dccc8285",
       "version_major": 2,
       "version_minor": 0
      },
      "text/plain": [
       "  0%|          | 0/200 [00:00<?, ?it/s]"
      ]
     },
     "metadata": {},
     "output_type": "display_data"
    }
   ],
   "source": [
    "# \n",
    "NORM(model_pretrained, MOMENTOM=0.2)"
   ]
  }
 ],
 "metadata": {
  "kernelspec": {
   "display_name": "ttadapters",
   "language": "python",
   "name": "python3"
  },
  "language_info": {
   "codemirror_mode": {
    "name": "ipython",
    "version": 3
   },
   "file_extension": ".py",
   "mimetype": "text/x-python",
   "name": "python",
   "nbconvert_exporter": "python",
   "pygments_lexer": "ipython3",
   "version": "3.11.13"
  }
 },
 "nbformat": 4,
 "nbformat_minor": 5
}
