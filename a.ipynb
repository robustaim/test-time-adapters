{
 "cells": [
  {
   "cell_type": "code",
   "execution_count": 1,
   "id": "ad04ca41",
   "metadata": {},
   "outputs": [],
   "source": [
    "from ttadapters.datasets import SHIFTDiscreteSubsetForObjectDetection\n",
    "\n",
    "SubsetType = SHIFTDiscreteSubsetForObjectDetection.SubsetType"
   ]
  },
  {
   "cell_type": "code",
   "execution_count": 2,
   "id": "0ecfac98",
   "metadata": {},
   "outputs": [
    {
     "name": "stdout",
     "output_type": "stream",
     "text": [
      "INFO: Downloading 'SHIFT_SUBSET' from file server to ./data/SHIFT/discrete...\n",
      "INFO: Dataset archive found in the root directory. Skipping download.\n",
      "INFO: Subset split for 'SHIFT_SUBSET' dataset is started...\n",
      "INFO: Splitting train\n"
     ]
    },
    {
     "name": "stdout",
     "output_type": "stream",
     "text": [
      "INFO: <simple> weather datasets - Normal: 20800, Corrupted: 129200\n",
      "INFO: <clear> weather datasets - Daytime: 20800, Night: 9350, Dawn: 9650\n",
      "INFO: <rainy> weather datasets - Daytime: 20600, Night: 11500, Dawn: 9600\n",
      "INFO: <cloudy> weather datasets - Daytime: 13850, Night: 6000, Dawn: 6750\n",
      "INFO: <foggy> weather datasets - Daytime: 12900, Night: 7200, Dawn: 7450\n",
      "INFO: <overcast> weather datasets - Daytime: 7850, Night: 3250, Dawn: 3250\n",
      "INFO: Splitting val\n",
      "INFO: <simple> weather datasets - Normal: 2800, Corrupted: 22200\n",
      "INFO: <clear> weather datasets - Daytime: 2800, Night: 1200, Dawn: 1400\n",
      "INFO: <rainy> weather datasets - Daytime: 3200, Night: 1950, Dawn: 1400\n",
      "INFO: <cloudy> weather datasets - Daytime: 2400, Night: 1200, Dawn: 1250\n",
      "INFO: <foggy> weather datasets - Daytime: 2650, Night: 1350, Dawn: 1350\n",
      "INFO: <overcast> weather datasets - Daytime: 1600, Night: 700, Dawn: 550\n"
     ]
    },
    {
     "name": "stderr",
     "output_type": "stream",
     "text": [
      "[08/25/2025 04:28:33] SHIFT DevKit - INFO - Base: ./data/SHIFT/discrete/images/val. Backend: <shift_dev.utils.backend.ZipBackend object at 0x7f19b0963230>\n",
      "[08/25/2025 04:28:33] SHIFT DevKit - INFO - Loading annotation from './data/SHIFT_SUBSET/foggy_daytime/discrete/images/val/front/det_2d.json' ...\n",
      "[08/25/2025 04:28:33] SHIFT DevKit - INFO - Loading annotation from './data/SHIFT_SUBSET/foggy_daytime/discrete/images/val/front/det_2d.json' Done.\n"
     ]
    },
    {
     "name": "stdout",
     "output_type": "stream",
     "text": [
      "INFO: Downloading 'SHIFT_SUBSET' from file server to ./data/SHIFT/discrete...\n",
      "INFO: Dataset archive found in the root directory. Skipping download.\n"
     ]
    },
    {
     "name": "stderr",
     "output_type": "stream",
     "text": [
      "[08/25/2025 04:28:34] SHIFT DevKit - INFO - Loading annotation takes 0.71 seconds.\n"
     ]
    },
    {
     "name": "stdout",
     "output_type": "stream",
     "text": [
      "Batch 0:\n",
      "\n",
      "Item                 Shape                               Min        Max       \n",
      "--------------------------------------------------------------------------------\n",
      "original_hw          [tensor([800]), tensor([1280])]\n",
      "input_hw             [tensor([800]), tensor([1280])]\n",
      "frame_ids            torch.Size([1])                           0.00       0.00\n",
      "name                 ['00000000_img_front.jpg']\n",
      "videoName            ['0188-aef6']\n",
      "intrinsics           torch.Size([1, 3, 3])                     0.00     640.00\n",
      "extrinsics           torch.Size([1, 4, 4])                  -136.69       1.57\n",
      "boxes2d              torch.Size([1, 5, 4])                   275.00     661.00\n",
      "boxes2d_classes      torch.Size([1, 5])                        0.00       1.00\n",
      "boxes2d_track_ids    torch.Size([1, 5])                        0.00       4.00\n",
      "images               torch.Size([1, 1, 3, 800, 1280])         17.00     255.00\n",
      "\n",
      "Video name: 0188-aef6\n",
      "Sample indices within a video: [0, 1, 2, 3, 4, 5, 6, 7, 8, 9, 10, 11, 12, 13, 14, 15, 16, 17, 18, 19, 20, 21, 22, 23, 24, 25, 26, 27, 28, 29, 30, 31, 32, 33, 34, 35, 36, 37, 38, 39, 40, 41, 42, 43, 44, 45, 46, 47, 48, 49]\n"
     ]
    }
   ],
   "source": [
    "dt = SHIFTDiscreteSubsetForObjectDetection(\"./data\", valid=True, subset_type=SubsetType.FOGGY_DAYTIME)"
   ]
  },
  {
   "cell_type": "code",
   "execution_count": 3,
   "id": "82b90178",
   "metadata": {},
   "outputs": [
    {
     "data": {
      "text/plain": [
       "2650"
      ]
     },
     "execution_count": 3,
     "metadata": {},
     "output_type": "execute_result"
    }
   ],
   "source": [
    "len(dt)"
   ]
  },
  {
   "cell_type": "code",
   "execution_count": 4,
   "id": "cbe00146",
   "metadata": {},
   "outputs": [
    {
     "data": {
      "text/plain": [
       "{'front': {'original_hw': (800, 1280),\n",
       "  'input_hw': (800, 1280),\n",
       "  'frame_ids': 0,\n",
       "  'name': '00000000_img_front.jpg',\n",
       "  'videoName': '0188-aef6',\n",
       "  'intrinsics': tensor([[640.,   0., 640.],\n",
       "          [  0., 640., 400.],\n",
       "          [  0.,   0.,   1.]]),\n",
       "  'extrinsics': tensor([[ 1.4710e-02,  9.9989e-01, -1.0822e-03, -8.3546e-01],\n",
       "          [-9.9720e-01,  1.4750e-02,  7.3357e-02, -1.3669e+02],\n",
       "          [ 7.3365e-02, -6.0722e-10,  9.9731e-01,  1.5672e+00],\n",
       "          [ 0.0000e+00,  0.0000e+00,  0.0000e+00,  1.0000e+00]]),\n",
       "  'boxes2d': tensor([[609., 401., 624., 412.],\n",
       "          [619., 402., 661., 434.],\n",
       "          [397., 404., 532., 485.],\n",
       "          [275., 387., 433., 439.],\n",
       "          [286., 379., 312., 451.]]),\n",
       "  'boxes2d_classes': tensor([1, 1, 1, 1, 0]),\n",
       "  'boxes2d_track_ids': tensor([0, 1, 2, 3, 4]),\n",
       "  'images': tensor([[[[187., 187., 187.,  ..., 184., 184., 184.],\n",
       "            [187., 187., 187.,  ..., 185., 184., 184.],\n",
       "            [187., 187., 187.,  ..., 185., 185., 184.],\n",
       "            ...,\n",
       "            [134., 135., 135.,  ..., 105., 103., 101.],\n",
       "            [134., 134., 135.,  ..., 109., 107., 105.],\n",
       "            [134., 134., 134.,  ..., 112., 109., 108.]],\n",
       "  \n",
       "           [[186., 186., 186.,  ..., 183., 183., 183.],\n",
       "            [186., 186., 186.,  ..., 184., 183., 183.],\n",
       "            [186., 186., 186.,  ..., 184., 184., 183.],\n",
       "            ...,\n",
       "            [133., 134., 134.,  ..., 104., 102., 100.],\n",
       "            [133., 133., 134.,  ..., 109., 107., 105.],\n",
       "            [133., 133., 133.,  ..., 112., 109., 108.]],\n",
       "  \n",
       "           [[191., 191., 191.,  ..., 189., 189., 189.],\n",
       "            [191., 191., 191.,  ..., 190., 189., 189.],\n",
       "            [191., 191., 191.,  ..., 190., 190., 189.],\n",
       "            ...,\n",
       "            [139., 140., 140.,  ...,  83.,  81.,  79.],\n",
       "            [139., 139., 140.,  ...,  85.,  83.,  81.],\n",
       "            [139., 139., 139.,  ...,  88.,  85.,  84.]]]])}}"
      ]
     },
     "execution_count": 4,
     "metadata": {},
     "output_type": "execute_result"
    }
   ],
   "source": [
    "dt[0]"
   ]
  },
  {
   "cell_type": "code",
   "execution_count": null,
   "id": "f4b7a016",
   "metadata": {},
   "outputs": [],
   "source": []
  }
 ],
 "metadata": {
  "kernelspec": {
   "display_name": "ttadapters",
   "language": "python",
   "name": "python3"
  },
  "language_info": {
   "codemirror_mode": {
    "name": "ipython",
    "version": 3
   },
   "file_extension": ".py",
   "mimetype": "text/x-python",
   "name": "python",
   "nbconvert_exporter": "python",
   "pygments_lexer": "ipython3",
   "version": "3.13.6"
  }
 },
 "nbformat": 4,
 "nbformat_minor": 5
}
