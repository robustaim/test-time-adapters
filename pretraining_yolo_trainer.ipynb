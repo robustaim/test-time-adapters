{
 "cells": [
  {
   "cell_type": "markdown",
   "metadata": {},
   "source": [
    "# RT-DETR Pretraining with SHIFT-Discrete Dataset"
   ]
  },
  {
   "cell_type": "markdown",
   "metadata": {},
   "source": [
    "## Check GPU Availability"
   ]
  },
  {
   "cell_type": "code",
   "execution_count": null,
   "metadata": {},
   "outputs": [
    {
     "name": "stdout",
     "output_type": "stream",
     "text": [
      "Wed Jul 23 20:37:38 2025       \n",
      "+---------------------------------------------------------------------------------------+\n",
      "| NVIDIA-SMI 535.183.01             Driver Version: 535.183.01   CUDA Version: 12.2     |\n",
      "|-----------------------------------------+----------------------+----------------------+\n",
      "| GPU  Name                 Persistence-M | Bus-Id        Disp.A | Volatile Uncorr. ECC |\n",
      "| Fan  Temp   Perf          Pwr:Usage/Cap |         Memory-Usage | GPU-Util  Compute M. |\n",
      "|                                         |                      |               MIG M. |\n",
      "|=========================================+======================+======================|\n",
      "|   0  Tesla P100-PCIE-16GB           Off | 00000000:04:00.0 Off |                    0 |\n",
      "| N/A   44C    P0              35W / 250W |  13146MiB / 16384MiB |      0%      Default |\n",
      "|                                         |                      |                  N/A |\n",
      "+-----------------------------------------+----------------------+----------------------+\n",
      "|   1  Tesla P100-PCIE-16GB           Off | 00000000:06:00.0 Off |                    0 |\n",
      "| N/A   43C    P0              31W / 250W |   6302MiB / 16384MiB |      0%      Default |\n",
      "|                                         |                      |                  N/A |\n",
      "+-----------------------------------------+----------------------+----------------------+\n",
      "|   2  Tesla P100-PCIE-16GB           Off | 00000000:07:00.0 Off |                    0 |\n",
      "| N/A   48C    P0              35W / 250W |   8370MiB / 16384MiB |      0%      Default |\n",
      "|                                         |                      |                  N/A |\n",
      "+-----------------------------------------+----------------------+----------------------+\n",
      "|   3  Tesla P100-PCIE-16GB           Off | 00000000:08:00.0 Off |                    0 |\n",
      "| N/A   43C    P0              33W / 250W |    930MiB / 16384MiB |      0%      Default |\n",
      "|                                         |                      |                  N/A |\n",
      "+-----------------------------------------+----------------------+----------------------+\n",
      "|   4  Tesla P100-PCIE-16GB           Off | 00000000:0C:00.0 Off |                    0 |\n",
      "| N/A   44C    P0              43W / 250W |  13762MiB / 16384MiB |     14%      Default |\n",
      "|                                         |                      |                  N/A |\n",
      "+-----------------------------------------+----------------------+----------------------+\n",
      "|   5  Tesla P100-PCIE-16GB           Off | 00000000:0D:00.0 Off |                    0 |\n",
      "| N/A   47C    P0              37W / 250W |   8904MiB / 16384MiB |     27%      Default |\n",
      "|                                         |                      |                  N/A |\n",
      "+-----------------------------------------+----------------------+----------------------+\n",
      "|   6  Tesla P100-PCIE-16GB           Off | 00000000:0E:00.0 Off |                    0 |\n",
      "| N/A   42C    P0              36W / 250W |   5378MiB / 16384MiB |      0%      Default |\n",
      "|                                         |                      |                  N/A |\n",
      "+-----------------------------------------+----------------------+----------------------+\n",
      "|   7  Tesla P100-PCIE-16GB           Off | 00000000:0F:00.0 Off |                    0 |\n",
      "| N/A   43C    P0              33W / 250W |  12700MiB / 16384MiB |     14%      Default |\n",
      "|                                         |                      |                  N/A |\n",
      "+-----------------------------------------+----------------------+----------------------+\n",
      "                                                                                         \n",
      "+---------------------------------------------------------------------------------------+\n",
      "| Processes:                                                                            |\n",
      "|  GPU   GI   CI        PID   Type   Process name                            GPU Memory |\n",
      "|        ID   ID                                                             Usage      |\n",
      "|=======================================================================================|\n",
      "+---------------------------------------------------------------------------------------+\n"
     ]
    }
   ],
   "source": [
    "\n",
    "\n",
    "\n",
    "\n",
    "!nvidia-smi"
   ]
  },
  {
   "cell_type": "code",
   "execution_count": 2,
   "metadata": {},
   "outputs": [
    {
     "data": {
      "text/plain": [
       "'6'"
      ]
     },
     "execution_count": 2,
     "metadata": {},
     "output_type": "execute_result"
    }
   ],
   "source": [
    "# Set CUDA Device Number\n",
    "DEVICE_NUM = 6\n",
    "ADDITIONAL_GPU = 0\n",
    "\n",
    "from os import environ\n",
    "environ[\"CUDA_VISIBLE_DEVICES\"] = \",\".join([f\"{i+DEVICE_NUM}\" for i in range(0, ADDITIONAL_GPU+1)])\n",
    "environ[\"CUDA_VISIBLE_DEVICES\"]"
   ]
  },
  {
   "cell_type": "markdown",
   "metadata": {},
   "source": [
    "## Imports"
   ]
  },
  {
   "cell_type": "code",
   "execution_count": 3,
   "metadata": {},
   "outputs": [],
   "source": [
    "from os import path\n",
    "\n",
    "import torch\n",
    "import torch.nn as nn\n",
    "from torch.utils.data import DataLoader\n",
    "\n",
    "from ttadapters.datasets import BaseDataset, DatasetHolder, DataLoaderHolder\n",
    "from ttadapters.datasets import SHIFTClearDatasetForObjectDetection, SHIFTCorruptedDatasetForObjectDetection\n",
    "from transformers import Trainer, TrainingArguments, EarlyStoppingCallback\n",
    "from accelerate import Accelerator, notebook_launcher\n",
    "\n",
    "# import wandb\n",
    "import supervision as sv\n",
    "from tqdm.auto import tqdm\n",
    "import matplotlib.pyplot as plt\n",
    "\n",
    "from ultralytics import YOLO"
   ]
  },
  {
   "cell_type": "code",
   "execution_count": 4,
   "metadata": {},
   "outputs": [
    {
     "name": "stdout",
     "output_type": "stream",
     "text": [
      "INFO: Using device - cuda\n"
     ]
    }
   ],
   "source": [
    "if torch.cuda.is_available():\n",
    "    if ADDITIONAL_GPU:\n",
    "        device = torch.device(\"cuda\")\n",
    "    else:\n",
    "        device = torch.device(f\"cuda\")  # torch.device(f\"cuda:{DEVICE_NUM}\")\n",
    "else:\n",
    "    device = torch.device(\"cpu\")\n",
    "    DEVICE_NUM = -1\n",
    "\n",
    "print(f\"INFO: Using device - {device}\" + (f\":{DEVICE_NUM}\" if ADDITIONAL_GPU else \"\"))"
   ]
  },
  {
   "cell_type": "code",
   "execution_count": 5,
   "metadata": {},
   "outputs": [
    {
     "data": {
      "application/vnd.jupyter.widget-view+json": {
       "model_id": "61d1f74a10a2494fbc5c1d5435a34500",
       "version_major": 2,
       "version_minor": 0
      },
      "text/plain": [
       "  0%|          | 0/100 [00:00<?, ?it/s]"
      ]
     },
     "metadata": {},
     "output_type": "display_data"
    }
   ],
   "source": [
    "# Tqdm Test\n",
    "for _ in tqdm(range(100)):\n",
    "    pass"
   ]
  },
  {
   "cell_type": "code",
   "execution_count": 6,
   "metadata": {},
   "outputs": [],
   "source": [
    "PROJECT_NAME = \"APT_SHIFT_Pretraining\"\n",
    "RUN_NAME = \"RT-DETR_50\"\n",
    "\n",
    "# # WandB Initialization\n",
    "# wandb.init(project=PROJECT_NAME, name=RUN_NAME)"
   ]
  },
  {
   "cell_type": "markdown",
   "metadata": {},
   "source": [
    "## Define Dataset"
   ]
  },
  {
   "cell_type": "code",
   "execution_count": 7,
   "metadata": {},
   "outputs": [
    {
     "name": "stderr",
     "output_type": "stream",
     "text": [
      "[07/23/2025 20:37:49] SHIFT DevKit - INFO - Base: ./data/SHIFT/discrete/images/train. Backend: <shift_dev.utils.backend.ZipBackend object at 0x7f9866a68f10>\n",
      "[07/23/2025 20:37:49] SHIFT DevKit - INFO - Loading annotation from './data/SHIFT_SUBSET/normal/discrete/images/train/front/det_2d.json' ...\n"
     ]
    },
    {
     "name": "stdout",
     "output_type": "stream",
     "text": [
      "INFO: Downloading 'SHIFT_SUBSET' from file server to ./data/SHIFT/discrete...\n",
      "INFO: Dataset archive found in the root directory. Skipping download.\n",
      "INFO: Subset split for 'SHIFT_SUBSET' dataset is already done. Skipping...\n",
      "INFO: Downloading 'SHIFT_SUBSET' from file server to ./data/SHIFT/discrete...\n",
      "INFO: Dataset archive found in the root directory. Skipping download.\n"
     ]
    },
    {
     "name": "stderr",
     "output_type": "stream",
     "text": [
      "[07/23/2025 20:37:51] SHIFT DevKit - INFO - Loading annotation from './data/SHIFT_SUBSET/normal/discrete/images/train/front/det_2d.json' Done.\n",
      "[07/23/2025 20:38:01] SHIFT DevKit - INFO - Loading annotation takes 12.47 seconds.\n"
     ]
    },
    {
     "name": "stdout",
     "output_type": "stream",
     "text": [
      "Batch 0:\n",
      "\n",
      "Item                 Shape                               Min        Max       \n",
      "--------------------------------------------------------------------------------\n",
      "original_hw          [tensor([800]), tensor([1280])]\n",
      "input_hw             [tensor([800]), tensor([1280])]\n",
      "frame_ids            torch.Size([1])                           0.00       0.00\n",
      "name                 ['00000000_img_front.jpg']\n",
      "videoName            ['0016-1b62']\n",
      "intrinsics           torch.Size([1, 3, 3])                     0.00     640.00\n",
      "extrinsics           torch.Size([1, 4, 4])                    -7.53     219.91\n",
      "boxes2d              torch.Size([1, 26, 4])                    5.00     974.00\n",
      "boxes2d_classes      torch.Size([1, 26])                       0.00       3.00\n",
      "boxes2d_track_ids    torch.Size([1, 26])                       0.00      25.00\n",
      "images               torch.Size([1, 1, 3, 800, 1280])          0.00     255.00\n",
      "\n"
     ]
    },
    {
     "name": "stderr",
     "output_type": "stream",
     "text": [
      "[07/23/2025 20:38:06] SHIFT DevKit - INFO - Base: ./data/SHIFT/discrete/images/val. Backend: <shift_dev.utils.backend.ZipBackend object at 0x7f9866a68f10>\n",
      "[07/23/2025 20:38:06] SHIFT DevKit - INFO - Loading annotation from './data/SHIFT_SUBSET/normal/discrete/images/val/front/det_2d.json' ...\n",
      "[07/23/2025 20:38:07] SHIFT DevKit - INFO - Loading annotation from './data/SHIFT_SUBSET/normal/discrete/images/val/front/det_2d.json' Done.\n"
     ]
    },
    {
     "name": "stdout",
     "output_type": "stream",
     "text": [
      "Video name: 0016-1b62\n",
      "Sample indices within a video: [0, 1, 2, 3, 4, 5, 6, 7, 8, 9, 10, 11, 12, 13, 14, 15, 16, 17, 18, 19, 20, 21, 22, 23, 24, 25, 26, 27, 28, 29, 30, 31, 32, 33, 34, 35, 36, 37, 38, 39, 40, 41, 42, 43, 44, 45, 46, 47, 48, 49]\n",
      "INFO: Downloading 'SHIFT_SUBSET' from file server to ./data/SHIFT/discrete...\n",
      "INFO: Dataset archive found in the root directory. Skipping download.\n",
      "INFO: Subset split for 'SHIFT_SUBSET' dataset is already done. Skipping...\n",
      "INFO: Downloading 'SHIFT_SUBSET' from file server to ./data/SHIFT/discrete...\n",
      "INFO: Dataset archive found in the root directory. Skipping download.\n"
     ]
    },
    {
     "name": "stderr",
     "output_type": "stream",
     "text": [
      "[07/23/2025 20:38:08] SHIFT DevKit - INFO - Loading annotation takes 1.55 seconds.\n"
     ]
    },
    {
     "name": "stdout",
     "output_type": "stream",
     "text": [
      "Batch 0:\n",
      "\n",
      "Item                 Shape                               Min        Max       \n",
      "--------------------------------------------------------------------------------\n",
      "original_hw          [tensor([800]), tensor([1280])]\n",
      "input_hw             [tensor([800]), tensor([1280])]\n",
      "frame_ids            torch.Size([1])                           0.00       0.00\n",
      "name                 ['00000000_img_front.jpg']\n",
      "videoName            ['0116-4859']\n",
      "intrinsics           torch.Size([1, 3, 3])                     0.00     640.00\n",
      "extrinsics           torch.Size([1, 4, 4])                    -0.90     138.34\n",
      "boxes2d              torch.Size([1, 6, 4])                   246.00     859.00\n",
      "boxes2d_classes      torch.Size([1, 6])                        1.00       5.00\n",
      "boxes2d_track_ids    torch.Size([1, 6])                        0.00       5.00\n",
      "images               torch.Size([1, 1, 3, 800, 1280])          0.00     255.00\n",
      "\n"
     ]
    },
    {
     "name": "stderr",
     "output_type": "stream",
     "text": [
      "[07/23/2025 20:38:09] SHIFT DevKit - INFO - Base: ./data/SHIFT/discrete/images/val. Backend: <shift_dev.utils.backend.ZipBackend object at 0x7f9866a68f10>\n",
      "[07/23/2025 20:38:09] SHIFT DevKit - INFO - Loading annotation from './data/SHIFT_SUBSET/corrupted/discrete/images/val/front/det_2d.json' ...\n"
     ]
    },
    {
     "name": "stdout",
     "output_type": "stream",
     "text": [
      "Video name: 0116-4859\n",
      "Sample indices within a video: [0, 1, 2, 3, 4, 5, 6, 7, 8, 9, 10, 11, 12, 13, 14, 15, 16, 17, 18, 19, 20, 21, 22, 23, 24, 25, 26, 27, 28, 29, 30, 31, 32, 33, 34, 35, 36, 37, 38, 39, 40, 41, 42, 43, 44, 45, 46, 47, 48, 49]\n",
      "INFO: Downloading 'SHIFT_SUBSET' from file server to ./data/SHIFT/discrete...\n",
      "INFO: Dataset archive found in the root directory. Skipping download.\n",
      "INFO: Subset split for 'SHIFT_SUBSET' dataset is already done. Skipping...\n",
      "INFO: Downloading 'SHIFT_SUBSET' from file server to ./data/SHIFT/discrete...\n",
      "INFO: Dataset archive found in the root directory. Skipping download.\n"
     ]
    },
    {
     "name": "stderr",
     "output_type": "stream",
     "text": [
      "[07/23/2025 20:38:10] SHIFT DevKit - INFO - Loading annotation from './data/SHIFT_SUBSET/corrupted/discrete/images/val/front/det_2d.json' Done.\n",
      "[07/23/2025 20:38:27] SHIFT DevKit - INFO - Loading annotation takes 18.17 seconds.\n"
     ]
    },
    {
     "name": "stdout",
     "output_type": "stream",
     "text": [
      "Batch 0:\n",
      "\n",
      "Item                 Shape                               Min        Max       \n",
      "--------------------------------------------------------------------------------\n",
      "original_hw          [tensor([800]), tensor([1280])]\n",
      "input_hw             [tensor([800]), tensor([1280])]\n",
      "frame_ids            torch.Size([1])                           0.00       0.00\n",
      "name                 ['00000000_img_front.jpg']\n",
      "videoName            ['007b-4e72']\n",
      "intrinsics           torch.Size([1, 3, 3])                     0.00     640.00\n",
      "extrinsics           torch.Size([1, 4, 4])                  -311.22     226.46\n",
      "boxes2d              torch.Size([1, 3, 4])                   233.00     802.00\n",
      "boxes2d_classes      torch.Size([1, 3])                        0.00       1.00\n",
      "boxes2d_track_ids    torch.Size([1, 3])                        0.00       2.00\n",
      "images               torch.Size([1, 1, 3, 800, 1280])          0.00     255.00\n",
      "\n",
      "Video name: 007b-4e72\n",
      "Sample indices within a video: [0, 1, 2, 3, 4, 5, 6, 7, 8, 9, 10, 11, 12, 13, 14, 15, 16, 17, 18, 19, 20, 21, 22, 23, 24, 25, 26, 27, 28, 29, 30, 31, 32, 33, 34, 35, 36, 37, 38, 39, 40, 41, 42, 43, 44, 45, 46, 47, 48, 49]\n",
      "INFO: Dataset loaded successfully. Number of samples - Train: 20800, Valid: 2800, Test: 22200\n",
      "\n"
     ]
    }
   ],
   "source": [
    "DATA_ROOT = path.join(\".\", \"data\")\n",
    "\n",
    "dataset = DatasetHolder(\n",
    "    train=SHIFTClearDatasetForObjectDetection(root=DATA_ROOT, train=True),\n",
    "    valid=SHIFTClearDatasetForObjectDetection(root=DATA_ROOT, valid=True),\n",
    "    test=SHIFTCorruptedDatasetForObjectDetection(root=DATA_ROOT, valid=True)\n",
    ")"
   ]
  },
  {
   "cell_type": "code",
   "execution_count": 8,
   "metadata": {},
   "outputs": [
    {
     "data": {
      "text/plain": [
       "dict_keys(['original_hw', 'input_hw', 'frame_ids', 'name', 'videoName', 'intrinsics', 'extrinsics', 'boxes2d', 'boxes2d_classes', 'boxes2d_track_ids', 'images'])"
      ]
     },
     "execution_count": 8,
     "metadata": {},
     "output_type": "execute_result"
    }
   ],
   "source": [
    "dataset.train[1]['front'].keys()"
   ]
  },
  {
   "cell_type": "code",
   "execution_count": 9,
   "metadata": {},
   "outputs": [
    {
     "data": {
      "text/plain": [
       "{'front': {'original_hw': (800, 1280),\n",
       "  'input_hw': (800, 1280),\n",
       "  'frame_ids': 490,\n",
       "  'name': '00000490_img_front.jpg',\n",
       "  'videoName': '0c9d-eefc',\n",
       "  'intrinsics': tensor([[640.,   0., 640.],\n",
       "          [  0., 640., 400.],\n",
       "          [  0.,   0.,   1.]]),\n",
       "  'extrinsics': tensor([[-5.7429e-01,  7.7804e-01, -2.5465e-01,  1.6100e+02],\n",
       "          [-7.0979e-01, -6.2821e-01, -3.1867e-01, -2.0023e+01],\n",
       "          [-4.0791e-01, -2.2626e-03,  9.1302e-01,  1.5929e+00],\n",
       "          [ 0.0000e+00,  0.0000e+00,  0.0000e+00,  1.0000e+00]]),\n",
       "  'boxes2d': tensor([[ 457.,  405.,  525.,  467.],\n",
       "          [ 599.,  391.,  612.,  403.],\n",
       "          [ 599.,  398.,  677.,  459.],\n",
       "          [ 835.,  391., 1280.,  605.],\n",
       "          [ 655.,  396.,  668.,  402.],\n",
       "          [ 392.,  394.,  404.,  401.],\n",
       "          [ 665.,  396.,  676.,  402.],\n",
       "          [ 842.,  390.,  848.,  397.],\n",
       "          [1207.,  380., 1217.,  399.]]),\n",
       "  'boxes2d_classes': tensor([1, 2, 1, 1, 1, 2, 1, 0, 0]),\n",
       "  'boxes2d_track_ids': tensor([ 4,  1,  0,  8, 14, 10, 13, 15,  9]),\n",
       "  'images': tensor([[[[133., 133., 133.,  ..., 125., 124., 123.],\n",
       "            [135., 135., 135.,  ..., 125., 124., 123.],\n",
       "            [140., 140., 139.,  ..., 125., 123., 122.],\n",
       "            ...,\n",
       "            [199., 202., 205.,  ..., 208., 211., 213.],\n",
       "            [204., 205., 206.,  ..., 206., 208., 209.],\n",
       "            [208., 208., 206.,  ..., 205., 205., 204.]],\n",
       "  \n",
       "           [[152., 152., 152.,  ..., 153., 152., 151.],\n",
       "            [154., 154., 154.,  ..., 153., 152., 151.],\n",
       "            [157., 157., 156.,  ..., 152., 151., 150.],\n",
       "            ...,\n",
       "            [190., 193., 196.,  ..., 194., 196., 198.],\n",
       "            [195., 196., 197.,  ..., 192., 193., 194.],\n",
       "            [200., 200., 197.,  ..., 191., 190., 189.]],\n",
       "  \n",
       "           [[169., 169., 169.,  ..., 175., 174., 173.],\n",
       "            [171., 171., 171.,  ..., 175., 174., 173.],\n",
       "            [173., 173., 172.,  ..., 173., 173., 172.],\n",
       "            ...,\n",
       "            [175., 178., 181.,  ..., 185., 191., 193.],\n",
       "            [178., 179., 180.,  ..., 183., 188., 189.],\n",
       "            [181., 181., 180.,  ..., 182., 185., 184.]]]])}}"
      ]
     },
     "execution_count": 9,
     "metadata": {},
     "output_type": "execute_result"
    }
   ],
   "source": [
    "dataset.train[999]"
   ]
  },
  {
   "cell_type": "code",
   "execution_count": 10,
   "metadata": {},
   "outputs": [
    {
     "data": {
      "text/plain": [
       "torch.Size([1, 3, 800, 1280])"
      ]
     },
     "execution_count": 10,
     "metadata": {},
     "output_type": "execute_result"
    }
   ],
   "source": [
    "dataset.train[1000]['front']['images'].shape  # should be (batch_size, num_channels, height, width)"
   ]
  },
  {
   "cell_type": "markdown",
   "metadata": {},
   "source": [
    "## DataLoader"
   ]
  },
  {
   "cell_type": "code",
   "execution_count": 11,
   "metadata": {},
   "outputs": [
    {
     "name": "stdout",
     "output_type": "stream",
     "text": [
      "INFO: Set batch size - Train: 1, Valid: 32, Test: 32\n",
      "INFO: Number of classes - 6 ['pedestrian', 'car', 'truck', 'bus', 'motorcycle', 'bicycle']\n"
     ]
    }
   ],
   "source": [
    "# Set Batch Size\n",
    "BATCH_SIZE = 1, 32, 32\n",
    "\n",
    "# Dataset Configs\n",
    "CLASSES = dataset.train.classes\n",
    "NUM_CLASSES = len(CLASSES)\n",
    "\n",
    "print(f\"INFO: Set batch size - Train: {BATCH_SIZE[0]}, Valid: {BATCH_SIZE[1]}, Test: {BATCH_SIZE[2]}\")\n",
    "print(f\"INFO: Number of classes - {NUM_CLASSES} {CLASSES}\")"
   ]
  },
  {
   "cell_type": "code",
   "execution_count": 12,
   "metadata": {},
   "outputs": [],
   "source": [
    "class DatasetAdapterForTransformers(BaseDataset):\n",
    "    def __init__(self, original_dataset, camera='front'):\n",
    "        self.dataset = original_dataset\n",
    "        self.camera = camera\n",
    "\n",
    "    def __len__(self):\n",
    "        return len(self.dataset)\n",
    "\n",
    "    def __getitem__(self, idx):\n",
    "        item = self.dataset[idx][self.camera]\n",
    "        image = item['images'].squeeze(0)\n",
    "\n",
    "        # Convert to COCO_Detection Format\n",
    "        annotations = []\n",
    "        target = dict(image_id=idx, annotations=annotations)\n",
    "        for box, cls in zip(item['boxes2d'], item['boxes2d_classes']):\n",
    "            x1, y1, x2, y2 = box.tolist()  # from Pascal VOC format (x1, y1, x2, y2)\n",
    "            width, height = x2 - x1, y2 - y1\n",
    "            annotations.append(dict(\n",
    "                bbox=[x1, y1, width, height],  # to COCO format: [x, y, width, height]\n",
    "                category_id=cls.item(),\n",
    "                area=width * height,\n",
    "                iscrowd=0\n",
    "            ))\n",
    "\n",
    "        # Following prepare_coco_detection_annotation's expected format\n",
    "        # RT-DETR ImageProcessor converts the COCO bbox to center format (cx, cy, w, h) during preprocessing\n",
    "        # But, eventually re-converts the bbox to Pascal VOC (x1, y1, x2, y2) format after post-processing\n",
    "        return dict(image=image, target=target)"
   ]
  },
  {
   "cell_type": "code",
   "execution_count": 13,
   "metadata": {},
   "outputs": [],
   "source": [
    "# def collate_fn(batch, preprocessor=None):\n",
    "#     print(batch)\n",
    "#     images = [item['image'] for item in batch]\n",
    "#     if preprocessor is not None:\n",
    "#         target = [item['target'] for item in batch]\n",
    "#         return preprocessor(images=images, annotations=target, return_tensors=\"pt\")\n",
    "#     else:\n",
    "#         # If no preprocessor is provided, just assume images are already in tensor format\n",
    "#         return dict(\n",
    "#             pixel_values=dict(pixel_values=torch.stack(images)),\n",
    "#             labels=[dict(\n",
    "#                 class_labels=item['boxes2d_classes'].long(),\n",
    "#                 boxes=item[\"boxes2d\"].float()\n",
    "#             ) for item in batch]\n",
    "#         )\n",
    "def yolo_collate_fn(batch, preprocessor=None):\n",
    "    \"\"\"\n",
    "    batch: [\n",
    "      {\n",
    "        'image': Tensor[3,H,W],\n",
    "        'target': {\n",
    "          'image_id': int,\n",
    "          'annotations': [\n",
    "              {'bbox': [x,y,w,h], 'category_id': int, …},\n",
    "              …\n",
    "          ]\n",
    "        }\n",
    "      },\n",
    "      …\n",
    "    ]\n",
    "    \"\"\"\n",
    "    # 1) 이미지들만 [B,3,H,W] 로 쌓기\n",
    "    images = torch.stack([item['image'] for item in batch], dim=0)\n",
    "\n",
    "    # 2) image_id들 리스트로\n",
    "    image_ids = [item['target']['image_id'] for item in batch]\n",
    "\n",
    "    # 3) annotations 만 리스트 형태로 묶어서 보존\n",
    "    annotations = [item['target']['annotations'] for item in batch]\n",
    "\n",
    "    return {\n",
    "        'image': images,\n",
    "        'target': {\n",
    "            'image_id':    image_ids,\n",
    "            'annotations': annotations\n",
    "        }\n",
    "    }"
   ]
  },
  {
   "cell_type": "markdown",
   "metadata": {},
   "source": [
    "## Load Model"
   ]
  },
  {
   "cell_type": "code",
   "execution_count": 14,
   "metadata": {},
   "outputs": [],
   "source": [
    "from transformers import RTDetrForObjectDetection, RTDetrImageProcessorFast, RTDetrConfig\n",
    "from transformers.image_utils import AnnotationFormat"
   ]
  },
  {
   "cell_type": "code",
   "execution_count": 15,
   "metadata": {},
   "outputs": [],
   "source": [
    "USE_PRETRAINED_MODEL = False"
   ]
  },
  {
   "cell_type": "code",
   "execution_count": 16,
   "metadata": {},
   "outputs": [],
   "source": [
    "reference_model_id = \"PekingU/rtdetr_r50vd\"\n",
    "\n",
    "# Load the reference model configuration\n",
    "reference_config = RTDetrConfig.from_pretrained(reference_model_id, torch_dtype=torch.float32, return_dict=True)\n",
    "reference_config.num_labels = NUM_CLASSES\n",
    "\n",
    "# Load the reference model image processor\n",
    "reference_preprocessor = RTDetrImageProcessorFast.from_pretrained(reference_model_id)\n",
    "reference_preprocessor.format = AnnotationFormat.COCO_DETECTION  # COCO Format / Detection BBOX Format"
   ]
  },
  {
   "cell_type": "code",
   "execution_count": 17,
   "metadata": {},
   "outputs": [
    {
     "name": "stdout",
     "output_type": "stream",
     "text": [
      "{'task': 'detect', 'mode': 'train', 'model': None, 'data': None, 'epochs': 100, 'time': None, 'patience': 100, 'batch': 16, 'imgsz': 640, 'save': True, 'save_period': -1, 'cache': False, 'device': None, 'workers': 8, 'project': None, 'name': None, 'exist_ok': False, 'pretrained': True, 'optimizer': 'auto', 'verbose': True, 'seed': 0, 'deterministic': True, 'single_cls': False, 'rect': False, 'cos_lr': False, 'close_mosaic': 10, 'resume': False, 'amp': True, 'fraction': 1.0, 'profile': False, 'freeze': None, 'multi_scale': False, 'overlap_mask': True, 'mask_ratio': 4, 'dropout': 0.0, 'val': True, 'split': 'val', 'save_json': False, 'conf': None, 'iou': 0.7, 'max_det': 300, 'half': False, 'dnn': False, 'plots': True, 'source': None, 'vid_stride': 1, 'stream_buffer': False, 'visualize': False, 'augment': False, 'agnostic_nms': False, 'classes': None, 'retina_masks': False, 'embed': None, 'show': False, 'save_frames': False, 'save_txt': False, 'save_conf': False, 'save_crop': False, 'show_labels': True, 'show_conf': True, 'show_boxes': True, 'line_width': None, 'format': 'torchscript', 'keras': False, 'optimize': False, 'int8': False, 'dynamic': False, 'simplify': True, 'opset': None, 'workspace': None, 'nms': False, 'lr0': 0.01, 'lrf': 0.01, 'momentum': 0.937, 'weight_decay': 0.0005, 'warmup_epochs': 3.0, 'warmup_momentum': 0.8, 'warmup_bias_lr': 0.1, 'box': 7.5, 'cls': 0.5, 'dfl': 1.5, 'pose': 12.0, 'kobj': 1.0, 'nbs': 64, 'hsv_h': 0.015, 'hsv_s': 0.7, 'hsv_v': 0.4, 'degrees': 0.0, 'translate': 0.1, 'scale': 0.5, 'shear': 0.0, 'perspective': 0.0, 'flipud': 0.0, 'fliplr': 0.5, 'bgr': 0.0, 'mosaic': 1.0, 'mixup': 0.0, 'cutmix': 0.0, 'copy_paste': 0.0, 'copy_paste_mode': 'flip', 'auto_augment': 'randaugment', 'erasing': 0.4, 'cfg': None, 'tracker': 'botsort.yaml'}\n"
     ]
    }
   ],
   "source": [
    "from ultralytics.utils import DEFAULT_CFG\n",
    "print(dict(DEFAULT_CFG))"
   ]
  },
  {
   "cell_type": "code",
   "execution_count": null,
   "metadata": {},
   "outputs": [
    {
     "name": "stderr",
     "output_type": "stream",
     "text": [
      "[07/23/2025 22:10:39] SHIFT DevKit - INFO - Base: ./data/SHIFT/discrete/images/train. Backend: <shift_dev.utils.backend.ZipBackend object at 0x7f9866a68f10>\n",
      "[07/23/2025 22:10:39] SHIFT DevKit - INFO - Loading annotation from './data/SHIFT_SUBSET/normal/discrete/images/train/front/det_2d.json' ...\n"
     ]
    },
    {
     "name": "stdout",
     "output_type": "stream",
     "text": [
      "INFO: Downloading 'SHIFT_SUBSET' from file server to ./data/SHIFT/discrete...\n",
      "INFO: Dataset archive found in the root directory. Skipping download.\n",
      "INFO: Subset split for 'SHIFT_SUBSET' dataset is already done. Skipping...\n",
      "INFO: Downloading 'SHIFT_SUBSET' from file server to ./data/SHIFT/discrete...\n",
      "INFO: Dataset archive found in the root directory. Skipping download.\n"
     ]
    },
    {
     "name": "stderr",
     "output_type": "stream",
     "text": [
      "[07/23/2025 22:10:41] SHIFT DevKit - INFO - Loading annotation from './data/SHIFT_SUBSET/normal/discrete/images/train/front/det_2d.json' Done.\n",
      "[07/23/2025 22:10:58] SHIFT DevKit - INFO - Loading annotation takes 19.28 seconds.\n"
     ]
    },
    {
     "name": "stdout",
     "output_type": "stream",
     "text": [
      "Batch 0:\n",
      "\n",
      "Item                 Shape                               Min        Max       \n",
      "--------------------------------------------------------------------------------\n",
      "original_hw          [tensor([800]), tensor([1280])]\n",
      "input_hw             [tensor([800]), tensor([1280])]\n",
      "frame_ids            torch.Size([1])                           0.00       0.00\n",
      "name                 ['00000000_img_front.jpg']\n",
      "videoName            ['0016-1b62']\n",
      "intrinsics           torch.Size([1, 3, 3])                     0.00     640.00\n",
      "extrinsics           torch.Size([1, 4, 4])                    -7.53     219.91\n",
      "boxes2d              torch.Size([1, 26, 4])                    5.00     974.00\n",
      "boxes2d_classes      torch.Size([1, 26])                       0.00       3.00\n",
      "boxes2d_track_ids    torch.Size([1, 26])                       0.00      25.00\n",
      "images               torch.Size([1, 1, 3, 800, 1280])          0.00     255.00\n",
      "\n"
     ]
    },
    {
     "name": "stderr",
     "output_type": "stream",
     "text": [
      "[07/23/2025 22:11:01] SHIFT DevKit - INFO - Base: ./data/SHIFT/discrete/images/val. Backend: <shift_dev.utils.backend.ZipBackend object at 0x7f9866a68f10>\n",
      "[07/23/2025 22:11:01] SHIFT DevKit - INFO - Loading annotation from './data/SHIFT_SUBSET/normal/discrete/images/val/front/det_2d.json' ...\n",
      "[07/23/2025 22:11:01] SHIFT DevKit - INFO - Loading annotation from './data/SHIFT_SUBSET/normal/discrete/images/val/front/det_2d.json' Done.\n"
     ]
    },
    {
     "name": "stdout",
     "output_type": "stream",
     "text": [
      "Video name: 0016-1b62\n",
      "Sample indices within a video: [0, 1, 2, 3, 4, 5, 6, 7, 8, 9, 10, 11, 12, 13, 14, 15, 16, 17, 18, 19, 20, 21, 22, 23, 24, 25, 26, 27, 28, 29, 30, 31, 32, 33, 34, 35, 36, 37, 38, 39, 40, 41, 42, 43, 44, 45, 46, 47, 48, 49]\n",
      "INFO: Downloading 'SHIFT_SUBSET' from file server to ./data/SHIFT/discrete...\n",
      "INFO: Dataset archive found in the root directory. Skipping download.\n",
      "INFO: Subset split for 'SHIFT_SUBSET' dataset is already done. Skipping...\n",
      "INFO: Downloading 'SHIFT_SUBSET' from file server to ./data/SHIFT/discrete...\n",
      "INFO: Dataset archive found in the root directory. Skipping download.\n"
     ]
    },
    {
     "name": "stderr",
     "output_type": "stream",
     "text": [
      "[07/23/2025 22:11:02] SHIFT DevKit - INFO - Loading annotation takes 1.16 seconds.\n"
     ]
    },
    {
     "name": "stdout",
     "output_type": "stream",
     "text": [
      "Batch 0:\n",
      "\n",
      "Item                 Shape                               Min        Max       \n",
      "--------------------------------------------------------------------------------\n",
      "original_hw          [tensor([800]), tensor([1280])]\n",
      "input_hw             [tensor([800]), tensor([1280])]\n",
      "frame_ids            torch.Size([1])                           0.00       0.00\n",
      "name                 ['00000000_img_front.jpg']\n",
      "videoName            ['0116-4859']\n",
      "intrinsics           torch.Size([1, 3, 3])                     0.00     640.00\n",
      "extrinsics           torch.Size([1, 4, 4])                    -0.90     138.34\n",
      "boxes2d              torch.Size([1, 6, 4])                   246.00     859.00\n",
      "boxes2d_classes      torch.Size([1, 6])                        1.00       5.00\n",
      "boxes2d_track_ids    torch.Size([1, 6])                        0.00       5.00\n",
      "images               torch.Size([1, 1, 3, 800, 1280])          0.00     255.00\n",
      "\n"
     ]
    },
    {
     "name": "stderr",
     "output_type": "stream",
     "text": [
      "[07/23/2025 22:11:03] SHIFT DevKit - INFO - Base: ./data/SHIFT/discrete/images/val. Backend: <shift_dev.utils.backend.ZipBackend object at 0x7f9866a68f10>\n",
      "[07/23/2025 22:11:03] SHIFT DevKit - INFO - Loading annotation from './data/SHIFT_SUBSET/corrupted/discrete/images/val/front/det_2d.json' ...\n"
     ]
    },
    {
     "name": "stdout",
     "output_type": "stream",
     "text": [
      "Video name: 0116-4859\n",
      "Sample indices within a video: [0, 1, 2, 3, 4, 5, 6, 7, 8, 9, 10, 11, 12, 13, 14, 15, 16, 17, 18, 19, 20, 21, 22, 23, 24, 25, 26, 27, 28, 29, 30, 31, 32, 33, 34, 35, 36, 37, 38, 39, 40, 41, 42, 43, 44, 45, 46, 47, 48, 49]\n",
      "INFO: Downloading 'SHIFT_SUBSET' from file server to ./data/SHIFT/discrete...\n",
      "INFO: Dataset archive found in the root directory. Skipping download.\n",
      "INFO: Subset split for 'SHIFT_SUBSET' dataset is already done. Skipping...\n",
      "INFO: Downloading 'SHIFT_SUBSET' from file server to ./data/SHIFT/discrete...\n",
      "INFO: Dataset archive found in the root directory. Skipping download.\n"
     ]
    },
    {
     "name": "stderr",
     "output_type": "stream",
     "text": [
      "[07/23/2025 22:11:05] SHIFT DevKit - INFO - Loading annotation from './data/SHIFT_SUBSET/corrupted/discrete/images/val/front/det_2d.json' Done.\n"
     ]
    }
   ],
   "source": [
    "from ultralytics.utils import LOGGER, RANK\n",
    "from ultralytics.utils.dist import generate_ddp_command, ddp_cleanup\n",
    "from ultralytics.engine.trainer import BaseTrainer\n",
    "import subprocess\n",
    "from types import SimpleNamespace\n",
    "\n",
    "from typing import Any, Dict, List, Optional, Tuple, Union\n",
    "from copy import copy\n",
    "\n",
    "from ultralytics.models import yolo\n",
    "from ultralytics.nn.tasks import DetectionModel\n",
    "\n",
    "from ultralytics.utils import DEFAULT_CFG\n",
    "\n",
    "from pathlib import Path\n",
    "\n",
    "BATCH_SIZE = 2, 32, 32\n",
    "datasets = DatasetHolder(\n",
    "    train=SHIFTClearDatasetForObjectDetection(root=DATA_ROOT, train=True),\n",
    "    valid=SHIFTClearDatasetForObjectDetection(root=DATA_ROOT, valid=True),\n",
    "    test=SHIFTCorruptedDatasetForObjectDetection(root=DATA_ROOT, valid=True)\n",
    ")\n",
    "\n",
    "\n",
    "class YOLO_trainer :\n",
    "    def __init__(self, datasets: DatasetHolder, BATCH_SIZE):\n",
    "        self.dataset = datasets\n",
    "        self.train_dataset = DatasetAdapterForTransformers(datasets.train)\n",
    "        self.valid_dataset = DatasetAdapterForTransformers(datasets.valid)\n",
    "        self.train_batch_size, self.valid_batch_size = BATCH_SIZE[0], BATCH_SIZE[1]\n",
    "        self.training = False\n",
    "        \n",
    "\n",
    "    def get_dataloader(self, rank: int = 0, mode: str = \"train\"):\n",
    "        \"\"\"\n",
    "        Construct and return dataloader for the specified mode.\n",
    "\n",
    "        Args:\n",
    "            dataset_path (str): Path to the dataset.\n",
    "            batch_size (int): Number of images per batch.\n",
    "            rank (int): Process rank for distributed training.\n",
    "            mode (str): 'train' for training dataloader, 'val' for validation dataloader.\n",
    "\n",
    "        Returns:\n",
    "            (DataLoader): PyTorch dataloader object.\n",
    "        \"\"\"\n",
    "        assert mode in {\"train\", \"val\"}, f\"Mode must be 'train' or 'val', not {mode}.\"\n",
    "        if mode == 'train':\n",
    "            return DataLoader(dataset=self.train_dataset, \n",
    "                              batch_size=self.train_batch_size,\n",
    "                              shuffle=True,\n",
    "                              collate_fn=yolo_collate_fn\n",
    "                              )\n",
    "        else :\n",
    "            return DataLoader(dataset=self.valid_dataset, \n",
    "                              batch_size=self.valid_batch_size,\n",
    "                              shuffle=False,\n",
    "                              collate_fn=yolo_collate_fn\n",
    "                              )\n",
    "    \n",
    "    def preprocess_batch(self, pixel_values: Dict, labels: Dict) -> Dict:\n",
    "        if getattr(self, \"model\", None) is not None and self.model.training:\n",
    "            \n",
    "            batch_idx, cls, bboxes = [], [], []\n",
    "            for i, ann_list in enumerate(labels):\n",
    "                # ann_list: image i 의 [ { 'bbox':…, 'category_id':… }, … ]\n",
    "                for ann in ann_list:\n",
    "                    # 1) 클래스 레이블\n",
    "                    ci = torch.tensor(ann['category_id'], dtype=torch.long, device=device)\n",
    "                    # 2) bbox: [x,y,w,h]\n",
    "                    bi = torch.tensor(ann['bbox'],        dtype=torch.float, device=device)\n",
    "\n",
    "                    batch_idx.append(torch.full((1,), i, dtype=torch.long, device=device))\n",
    "                    cls.append(ci.unsqueeze(0))      # (1,) → (1,)\n",
    "                    bboxes.append(bi.unsqueeze(0))   # (4,) → (1,4)\n",
    "        \n",
    "            if len(batch_idx) == 0:\n",
    "                batch_idx_tensor = torch.empty(0, dtype=torch.long, device=device)\n",
    "                cls_tensor = torch.empty(0, dtype=torch.long, device=device)\n",
    "                bboxes_tensor = torch.empty((0, 4), dtype=torch.float, device=device)\n",
    "            else :\n",
    "                batch_idx_tensor = torch.cat(batch_idx, dim=0)\n",
    "                cls_tensor = torch.cat(cls, dim=0)\n",
    "                bboxes_tensor = torch.cat(bboxes, dim=0)\n",
    "        \n",
    "            batch = {\n",
    "                'img':       pixel_values.to(device).float() / 255,\n",
    "                'batch_idx': batch_idx_tensor,\n",
    "                'cls':       cls_tensor,\n",
    "                'bboxes':    bboxes_tensor,\n",
    "            }\n",
    "        return batch\n",
    "\n",
    "    def get_model(self, cfg: Optional[str] = None, weights: Optional[str] = None, hyp: dict = None, verbose: bool = True):\n",
    "        \"\"\"\n",
    "        Return a YOLO detection model.\n",
    "\n",
    "        Args:\n",
    "            cfg (str, optional): Path to model configuration file.\n",
    "            weights (str, optional): Path to model weights.\n",
    "            verbose (bool): Whether to display model information.\n",
    "\n",
    "        Returns:\n",
    "            (DetectionModel): YOLO detection model.\n",
    "        \"\"\"\n",
    "        model = DetectionModel(cfg, nc=reference_config.num_labels, ch=3, verbose=verbose and RANK == -1)\n",
    "        if weights:\n",
    "            ckpt = torch.load(weights, map_location=\"cpu\", weights_only=False)  # ① 파일을 dict로 읽음\n",
    "            model.load(ckpt)                               # ② dict을 load()에 넘김\n",
    "            model.args = SimpleNamespace(**dict(DEFAULT_CFG))\n",
    "\n",
    "        return model\n",
    "    \n",
    "    def get_validator(self, dataloader, save_dir, args):\n",
    "        \"\"\"Return a DetectionValidator for YOLO model validation.\"\"\"\n",
    "        save_path = Path(save_dir)\n",
    "        return yolo.detect.DetectionValidator(\n",
    "            dataloader, save_dir=save_path, args=args\n",
    "        )\n",
    "    \n",
    "    def train(self, epochs: int = 100, val_interval: int = 1):\n",
    "        # train_dataloader\n",
    "        train_dataloader = self.get_dataloader(mode=\"train\")\n",
    "        # valid_dataloader\n",
    "        val_dataloader = self.get_dataloader(mode=\"val\")\n",
    "        \n",
    "        self.model = self.get_model(cfg='yolo11n.yaml', weights='yolo11n.pt')\n",
    "        self.model = self.model.to(device)\n",
    "        self.optimizer = torch.optim.Adam(\n",
    "            self.model.parameters(),\n",
    "            lr=1e-4,\n",
    "            weight_decay=1e-5\n",
    "        )\n",
    "        \n",
    "        # train\n",
    "        \n",
    "        self.training = True\n",
    "        \n",
    "        for epoch in range(epochs):\n",
    "            self.model.train()\n",
    "            total_epoch_loss = 0.0\n",
    "            \n",
    "            train_pbar = tqdm(\n",
    "                train_dataloader,\n",
    "                desc=f\"Epoch {epoch}/{epochs} ▶️\",\n",
    "                leave=False,\n",
    "                unit=\"batch\"\n",
    "            )\n",
    "            \n",
    "            for batch in train_pbar:\n",
    "                pixel_values = batch[\"image\"]                   # Tensor[B,3,H,W]\n",
    "                labels       = batch[\"target\"][\"annotations\"]\n",
    "                train_batch = self.preprocess_batch(pixel_values, labels)\n",
    "        \n",
    "                self.optimizer.zero_grad()\n",
    "                total_loss, loss_items = self.model(train_batch)\n",
    "                total_loss = total_loss.sum()\n",
    "                # print(\"total_loss :\", total_loss)\n",
    "                # print(\"loss_items :\", loss_items)\n",
    "        \n",
    "                total_loss.backward()\n",
    "                self.optimizer.step()\n",
    "                \n",
    "                total_epoch_loss += total_loss.item()\n",
    "            \n",
    "            avg_train_loss = total_epoch_loss / len(train_dataloader)\n",
    "            print(f\"[Epoch {epoch/epochs}] -> Train Loss: {avg_train_loss:.4f} | Last batch losses: {loss_items.tolist()}\")\n",
    "            \n",
    "            if epoch % val_interval == 0:\n",
    "                self.model.eval()\n",
    "                with torch.no_grad():\n",
    "                    stats = self.get_validator(val_dataloader, dir='/workspace/ptta/output', args=copy(self.model.args))\n",
    "                    \n",
    "                print(f\"[Epoch {epoch}/{epochs}] ->  Validation: {stats}\")\n",
    "                self.model.train()\n",
    "\n",
    "        return print(\"train finish~!\")\n",
    "        \n",
    "trainer = YOLO_trainer(datasets, BATCH_SIZE)\n",
    "\n",
    "  \n",
    "trainer.train()\n",
    "        "
   ]
  },
  {
   "cell_type": "code",
   "execution_count": null,
   "metadata": {},
   "outputs": [],
   "source": [
    "if USE_PRETRAINED_MODEL:\n",
    "    # Load the pre-trained model\n",
    "    model = HFDetectionModel(\n",
    "    yolo_cfg=\"yolo11n.yaml\",\n",
    "    pretrained_weights=\"yolo11n.pt\",\n",
    "    device=\"cuda\"\n",
    ")\n",
    "else:\n",
    "    # Initialize a new model with the reference configuration\n",
    "    model = HFDetectionModel(\n",
    "    yolo_cfg=\"yolo11n.yaml\",\n",
    "    pretrained_weights=None,\n",
    "    device=\"cuda\"\n",
    ")\n",
    "model.to(device)"
   ]
  },
  {
   "cell_type": "code",
   "execution_count": null,
   "metadata": {},
   "outputs": [],
   "source": [
    "test_d = DatasetAdapterForTransformers(dataset.train)[5]\n",
    "test_d"
   ]
  },
  {
   "cell_type": "code",
   "execution_count": null,
   "metadata": {},
   "outputs": [],
   "source": [
    "reference_preprocessor(images=test_d['image'], annotations=test_d['target'])"
   ]
  },
  {
   "cell_type": "code",
   "execution_count": null,
   "metadata": {},
   "outputs": [],
   "source": [
    "# Set Epoch Count & Learning Rate\n",
    "EPOCHS = 20\n",
    "LEARNING_RATE = 2e-5\n",
    "\n",
    "training_args = TrainingArguments(\n",
    "    learning_rate=LEARNING_RATE,\n",
    "    warmup_ratio=0.1,\n",
    "    num_train_epochs=EPOCHS,\n",
    "    per_device_train_batch_size=BATCH_SIZE[0],\n",
    "    per_device_eval_batch_size=BATCH_SIZE[1],\n",
    "    eval_accumulation_steps=BATCH_SIZE[1],\n",
    "    batch_eval_metrics=True,\n",
    "    remove_unused_columns=False,\n",
    "    optim=\"adamw_torch\",\n",
    "    lr_scheduler_type=\"cosine\",\n",
    "    eval_strategy=\"steps\",\n",
    "    eval_steps=100,\n",
    "    save_steps=100,\n",
    "    save_total_limit=10,\n",
    "    save_strategy=\"steps\",\n",
    "    load_best_model_at_end=True,\n",
    "    metric_for_best_model=\"mAP@0.50:0.95\",\n",
    "    greater_is_better=True,\n",
    "    #metric_for_best_model=\"eval_loss\",\n",
    "    #greater_is_better=False,\n",
    "    # report_to=\"wandb\",\n",
    "    output_dir=\"./results/\"+RUN_NAME,\n",
    "    logging_dir=\"./logs/\"+RUN_NAME,\n",
    "    run_name=RUN_NAME,\n",
    "    #fp16=True,\n",
    ")\n",
    "\n",
    "testing_args = TrainingArguments(\n",
    "    per_device_eval_batch_size=BATCH_SIZE[2],\n",
    "    batch_eval_metrics=True,\n",
    "    remove_unused_columns=False,\n",
    ")"
   ]
  },
  {
   "cell_type": "code",
   "execution_count": null,
   "metadata": {},
   "outputs": [],
   "source": [
    "from transformers.trainer_utils import EvalPrediction\n",
    "from torchvision.ops import box_convert\n",
    "from dataclasses import dataclass\n",
    "\n",
    "\n",
    "@dataclass\n",
    "class ModelOutput:\n",
    "    logits: torch.Tensor\n",
    "    pred_boxes: torch.Tensor\n",
    "\n",
    "\n",
    "def de_normalize_boxes(boxes, height, width):\n",
    "    # 1. cxcywh → xyxy\n",
    "    boxes_xyxy_norm = box_convert(boxes, 'cxcywh', 'xyxy')\n",
    "\n",
    "    # 2. de-normalize (convert to actual pixel coordinates)\n",
    "    boxes_xyxy_norm[:, [0, 2]] *= width\n",
    "    boxes_xyxy_norm[:, [1, 3]] *= height\n",
    "    return boxes_xyxy_norm\n",
    "\n",
    "\n",
    "def map_compute_metrics(eval_pred: EvalPrediction, compute_result=False, preprocessor=reference_preprocessor, threshold=0.3):\n",
    "    print(\"eval_pred :\", eval_pred)\n",
    "    preds_tuple = eval_pred.predictions\n",
    "    print(\"preds_tuple : \", preds_tuple)\n",
    "    logits, pred_boxes = preds_tuple\n",
    "    \n",
    "    preds = ModelOutput(logits=logits, pred_boxes=pred_boxes)\n",
    "    labels = eval_pred.label_ids\n",
    "\n",
    "    results = preprocessor.post_process_object_detection(\n",
    "        preds, target_sizes=[label['orig_size'].cpu().tolist() for label in labels], threshold=threshold\n",
    "    )\n",
    "\n",
    "    predictions = [sv.Detections.from_transformers(result) for result in results]\n",
    "    targets = [sv.Detections(\n",
    "        xyxy=de_normalize_boxes(label['boxes'], *label['orig_size']).cpu().numpy(),\n",
    "        class_id=label['class_labels'].cpu().numpy(),\n",
    "    ) for label in labels]\n",
    "\n",
    "    m_ap = sv.MeanAveragePrecision.from_detections(\n",
    "        predictions=predictions,\n",
    "        targets=targets,\n",
    "    )\n",
    "    try: # [0.50, 0.55, 0.60, 0.65, 0.70, 0.75, 0.80, 0.85, 0.90, 0.95]\n",
    "        per_class_map = {f\"{CLASSES[i]}_mAP@0.50:0.95\": sum(v)/len(v) for i, v in enumerate(m_ap.per_class_ap50_95.tolist())}  # Shape: [num_classes, 10]\n",
    "    except AttributeError:\n",
    "        per_class_map = {}\n",
    "\n",
    "    result = {\n",
    "        \"mAP@0.50:0.95\": m_ap.map50_95,\n",
    "        \"mAP@0.50\": m_ap.map50,\n",
    "        \"mAP@0.75\": m_ap.map75,\n",
    "        **per_class_map\n",
    "    }\n",
    "\n",
    "    print(f\"\\rINFO: Computed Metrics - {result}\", end=\"\")\n",
    "\n",
    "    return result"
   ]
  },
  {
   "cell_type": "code",
   "execution_count": null,
   "metadata": {},
   "outputs": [],
   "source": [
    "from functools import partial\n",
    "\n",
    "trainer = Trainer(\n",
    "    model=model,\n",
    "    args=training_args,\n",
    "    train_dataset=DatasetAdapterForTransformers(dataset.train),\n",
    "    eval_dataset=DatasetAdapterForTransformers(dataset.valid),\n",
    "    data_collator=partial(collate_fn, preprocessor=reference_preprocessor),\n",
    "    compute_metrics=partial(map_compute_metrics, preprocessor=reference_preprocessor),\n",
    "    callbacks=[EarlyStoppingCallback(early_stopping_patience=10)]\n",
    ")\n",
    "\n",
    "tester = Trainer(\n",
    "    model=model,\n",
    "    args=testing_args,\n",
    "    eval_dataset=DatasetAdapterForTransformers(dataset.test),\n",
    "    data_collator=partial(collate_fn, preprocessor=reference_preprocessor),\n",
    "    compute_metrics=partial(map_compute_metrics, preprocessor=reference_preprocessor)\n",
    ")"
   ]
  },
  {
   "cell_type": "markdown",
   "metadata": {},
   "source": [
    "## Train"
   ]
  },
  {
   "cell_type": "code",
   "execution_count": null,
   "metadata": {},
   "outputs": [],
   "source": [
    "def start_train():\n",
    "    accelerator = Accelerator()\n",
    "    try:\n",
    "        print(\"INFO: Trying to resume from previous checkpoint\")\n",
    "        trainer.train(resume_from_checkpoint=False)\n",
    "    except Exception as e:\n",
    "        print(f\"ERROR: Failed to resume from checkpoint - {e}\")\n",
    "        print(\"INFO: Starting training from scratch\")\n",
    "        trainer.train(resume_from_checkpoint=False)"
   ]
  },
  {
   "cell_type": "code",
   "execution_count": null,
   "metadata": {},
   "outputs": [],
   "source": [
    "if ADDITIONAL_GPU:\n",
    "    notebook_launcher(start_train, args=(), num_processes=ADDITIONAL_GPU)\n",
    "else:\n",
    "    start_train()"
   ]
  },
  {
   "cell_type": "markdown",
   "metadata": {},
   "source": [
    "## Evaluate"
   ]
  },
  {
   "cell_type": "markdown",
   "metadata": {},
   "source": [
    "### Auto Evaluation"
   ]
  },
  {
   "cell_type": "code",
   "execution_count": null,
   "metadata": {},
   "outputs": [],
   "source": [
    "trainer.evaluate()"
   ]
  },
  {
   "cell_type": "code",
   "execution_count": null,
   "metadata": {},
   "outputs": [],
   "source": [
    "tester.evaluate()"
   ]
  },
  {
   "cell_type": "markdown",
   "metadata": {},
   "source": [
    "### Manual Evaluation"
   ]
  },
  {
   "cell_type": "code",
   "execution_count": null,
   "metadata": {},
   "outputs": [],
   "source": [
    "checkpoint = 31100"
   ]
  },
  {
   "cell_type": "code",
   "execution_count": null,
   "metadata": {},
   "outputs": [],
   "source": [
    "try:\n",
    "    model = RTDetrForObjectDetection.from_pretrained(f\"{training_args.output_dir}/checkpoint-{checkpoint}/\", torch_dtype=torch.float32, return_dict=True, local_files_only=True)\n",
    "    model.to(device)\n",
    "except Exception:\n",
    "    pass"
   ]
  },
  {
   "cell_type": "code",
   "execution_count": null,
   "metadata": {},
   "outputs": [],
   "source": [
    "class LabelDataset(BaseDataset):\n",
    "    def __init__(self, original_dataset, camera='front'):\n",
    "        self.dataset = original_dataset\n",
    "        self.camera = camera\n",
    "\n",
    "    def __len__(self):\n",
    "        return len(self.dataset)\n",
    "\n",
    "    def __getitem__(self, idx):\n",
    "        item = self.dataset[idx][self.camera]\n",
    "        return item['boxes2d'], item['boxes2d_classes']"
   ]
  },
  {
   "cell_type": "code",
   "execution_count": null,
   "metadata": {},
   "outputs": [],
   "source": [
    "def naive_collate_fn(batch):\n",
    "    return batch"
   ]
  },
  {
   "cell_type": "code",
   "execution_count": null,
   "metadata": {},
   "outputs": [],
   "source": [
    "targets = []\n",
    "predictions = []\n",
    "\n",
    "img_size = [640, 640]\n",
    "original_size = [800, 1280]\n",
    "batch_size = 32\n",
    "\n",
    "raw_data = DataLoader(LabelDataset(dataset.valid), batch_size=batch_size, collate_fn=naive_collate_fn)\n",
    "loader = DataLoader(DatasetAdapterForTransformers(dataset.valid), batch_size=batch_size, collate_fn=partial(collate_fn, preprocessor=reference_preprocessor))\n",
    "for idx, lables, inputs in zip(tqdm(range(len(raw_data))), raw_data, loader):\n",
    "    with torch.no_grad():\n",
    "        outputs = model(pixel_values=inputs['pixel_values'].to(device))\n",
    "\n",
    "    results = reference_preprocessor.post_process_object_detection(\n",
    "        outputs, target_sizes=[original_size for _ in range(len(inputs))], threshold=0.3\n",
    "    )\n",
    "\n",
    "    detections = [sv.Detections.from_transformers(results[i]) for i in range(batch_size)]\n",
    "    annotations = [sv.Detections(\n",
    "        xyxy=lables[i][0].cpu().numpy(),\n",
    "        class_id=lables[i][1].cpu().numpy(),\n",
    "    ) for i in range(batch_size)]\n",
    "\n",
    "    targets.extend(annotations)\n",
    "    predictions.extend(detections)"
   ]
  },
  {
   "cell_type": "code",
   "execution_count": null,
   "metadata": {},
   "outputs": [],
   "source": [
    "len(predictions) == len(targets), len(predictions), len(targets)"
   ]
  },
  {
   "cell_type": "code",
   "execution_count": null,
   "metadata": {},
   "outputs": [],
   "source": [
    "mean_average_precision = sv.MeanAveragePrecision.from_detections(\n",
    "    predictions=predictions,\n",
    "    targets=targets,\n",
    ")\n",
    "\n",
    "print(f\"mAP@0.95: {mean_average_precision.map50_95:.2f}\")\n",
    "print(f\"map50: {mean_average_precision.map50:.2f}\")\n",
    "print(f\"map75: {mean_average_precision.map75:.2f}\")\n",
    "print(f\"per_class_ap50_95: {mean_average_precision.per_class_ap50_95}\")"
   ]
  },
  {
   "cell_type": "code",
   "execution_count": null,
   "metadata": {},
   "outputs": [],
   "source": []
  }
 ],
 "metadata": {
  "kernelspec": {
   "display_name": "ttadapters",
   "language": "python",
   "name": "python3"
  },
  "language_info": {
   "codemirror_mode": {
    "name": "ipython",
    "version": 3
   },
   "file_extension": ".py",
   "mimetype": "text/x-python",
   "name": "python",
   "nbconvert_exporter": "python",
   "pygments_lexer": "ipython3",
   "version": "3.11.13"
  }
 },
 "nbformat": 4,
 "nbformat_minor": 2
}
